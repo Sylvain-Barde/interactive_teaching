{
 "cells": [
  {
   "cell_type": "markdown",
   "metadata": {},
   "source": [
    "Click the button below if you want to see the code behind the widgets. If you do click  and want to go back to the 'no-code' view, scroll down until you find the 'hide code' button."
   ]
  },
  {
   "cell_type": "code",
   "execution_count": 1,
   "metadata": {},
   "outputs": [],
   "source": [
    "\"\"\"\n",
    "MIT License\n",
    "\n",
    "Copyright (c) 2020 Sylvain Barde - University of Kent\n",
    "\n",
    "Permission is hereby granted, free of charge, to any person obtaining a copy\n",
    "of this software and associated documentation files (the \"Software\"), to deal\n",
    "in the Software without restriction, including without limitation the rights\n",
    "to use, copy, modify, merge, publish, distribute, sublicense, and/or sell\n",
    "copies of the Software, and to permit persons to whom the Software is\n",
    "furnished to do so, subject to the following conditions:\n",
    "\n",
    "The above copyright notice and this permission notice shall be included in all\n",
    "copies or substantial portions of the Software.\n",
    "\n",
    "THE SOFTWARE IS PROVIDED \"AS IS\", WITHOUT WARRANTY OF ANY KIND, EXPRESS OR\n",
    "IMPLIED, INCLUDING BUT NOT LIMITED TO THE WARRANTIES OF MERCHANTABILITY,\n",
    "FITNESS FOR A PARTICULAR PURPOSE AND NONINFRINGEMENT. IN NO EVENT SHALL THE\n",
    "AUTHORS OR COPYRIGHT HOLDERS BE LIABLE FOR ANY CLAIM, DAMAGES OR OTHER\n",
    "LIABILITY, WHETHER IN AN ACTION OF CONTRACT, TORT OR OTHERWISE, ARISING FROM,\n",
    "OUT OF OR IN CONNECTION WITH THE SOFTWARE OR THE USE OR OTHER DEALINGS IN THE\n",
    "SOFTWARE.\n",
    "\"\"\"\n",
    "\n",
    "import ipywidgets as widgets\n",
    "import matplotlib.pyplot as plt\n",
    "import numpy as np\n",
    "from matplotlib import rcParams\n",
    "from IPython.display import display, HTML\n",
    "\n",
    "javascript_functions = {False: \"hide()\", True: \"show()\"}\n",
    "button_descriptions  = {False: \"Click to show code\", True: \"Click to hide code\"}\n",
    "\n",
    "def toggle_code(state):\n",
    "    \"\"\"\n",
    "    Toggles the JavaScript show()/hide() function on the div.input element.\n",
    "    \"\"\"\n",
    "\n",
    "    output_string = \"<script>$(\\\"div.input\\\").{}</script>\"\n",
    "    output_args   = (javascript_functions[state],)\n",
    "    output        = output_string.format(*output_args)\n",
    "\n",
    "    display(HTML(output))\n",
    "    \n",
    "def button_action(value):\n",
    "    \"\"\"\n",
    "    Calls the toggle_code function and updates the button description.\n",
    "    \"\"\"\n",
    "    state = value.new\n",
    "\n",
    "    toggle_code(state)\n",
    "\n",
    "    value.owner.description = button_descriptions[state]\n",
    "\n",
    "def compound_interest_widget(xMin_init = 0, xMax_init = 1.1, yMin_init = 0, yMax_init = 3, \n",
    "                  numTermsStr_init = '1', expFlag_init = False):\n",
    "    \n",
    "    # Declare widgets for interactive input\n",
    "    xMin_slider = widgets.FloatSlider(min=0,\n",
    "                                 max=1.1,\n",
    "                                 description=r'Min $x$:',\n",
    "                                 value = xMin_init,\n",
    "                                 continuous_update =False)\n",
    "    xMax_slider = widgets.FloatSlider(min=0,\n",
    "                                 max=1.1,\n",
    "                                 description=r'Max $x$:',\n",
    "                                 value = xMax_init,\n",
    "                                 continuous_update =False)\n",
    "    yMin_slider = widgets.FloatSlider(min=0,\n",
    "                                 max=3,\n",
    "                                 description=r'Min $y$:',\n",
    "                                 value = yMin_init,\n",
    "                                 continuous_update =False)\n",
    "    yMax_slider = widgets.FloatSlider(min=0,\n",
    "                                 max=3,\n",
    "                                 description=r'Max $y$:',\n",
    "                                 value = yMax_init,\n",
    "                                 continuous_update =False)\n",
    "    numTermsStr_text = widgets.Text(value = numTermsStr_init,\n",
    "                                placeholder='Enter numbers separated by commas',\n",
    "                                description='N° terms:',\n",
    "                                disabled=False)\n",
    "    expFlag_check = widgets.Checkbox(value = expFlag_init,\n",
    "                                   description='Include Exponential',\n",
    "                                   disabled=False,\n",
    "                                   indent=True)\n",
    "    \n",
    "    # Link widgets as required\n",
    "    widgets.jslink((xMin_slider,'value'),(xMax_slider,'min'))\n",
    "    widgets.jslink((xMax_slider,'value'),(xMin_slider,'max'))\n",
    "    widgets.jslink((yMin_slider,'value'),(yMax_slider,'min'))\n",
    "    widgets.jslink((yMax_slider,'value'),(yMin_slider,'max'))\n",
    "\n",
    "    def compound_interest_plot(xMin, xMax, yMin, yMax, numTermsStr, expFlag):\n",
    "\n",
    "        numTermsList = numTermsStr.split(',')\n",
    "\n",
    "        if len(numTermsList) > 6:\n",
    "            numTermsList = numTermsList[0:6]\n",
    "\n",
    "        colors = ['b','r','g','m','c','y']\n",
    "\n",
    "        # Create figure, plot compounded functions\n",
    "        fig, ax = plt.subplots(figsize=(20,10))\n",
    "        mrkrSize = 2*rcParams['lines.markersize'] ** 2\n",
    "\n",
    "        for index, item in enumerate(numTermsList):\n",
    "            \n",
    "            # Process entry if item is valid\n",
    "            if not item == '' :\n",
    "                numTerms = int(item)\n",
    "\n",
    "                step = 1/numTerms\n",
    "                rate = 1 + step\n",
    "                K,T = 1,0\n",
    "                ax.scatter(T, K, s=mrkrSize, c='b', alpha=0.6)\n",
    "                col = colors[index]\n",
    "\n",
    "                for n in range(numTerms):\n",
    "                    if n == 0:\n",
    "                        termLabel = r'N$^\\circ$ terms: {:d}'.format(numTerms)\n",
    "                    else:\n",
    "                        termLabel = None\n",
    "                    ax.scatter(T+step, K*rate, s=mrkrSize, c=col, alpha=0.6)\n",
    "                    ax.plot([T,T+step], [K,K], col, linewidth=2, alpha=0.6, label=termLabel)\n",
    "                    ax.plot([T+step,T+step], [0,K*rate], col+'--', linewidth=2, alpha=0.6)\n",
    "                    T+=step\n",
    "                    K*=rate\n",
    "\n",
    "                ax.plot([0,T],[K,K],col+'--',linewidth=1)\n",
    "                ax.annotate(r'Final value = ${:.4f}$'.format(K),[0,K], \n",
    "                            xytext = [0.05,K+0.1], xycoords ='data', fontsize = 25, \n",
    "                            clip_on = True)\n",
    "\n",
    "        # Plot the exponential if requested\n",
    "        if expFlag is True:\n",
    "            x = np.arange(0,1,1/500)\n",
    "            y = np.exp(x)\n",
    "            ax.plot(x, y,'k', linewidth=2, label=r'$\\quad y = a^x$')\n",
    "\n",
    "        # Add legend and format axes to look nice\n",
    "        ax.legend(loc='lower center', frameon=False,prop={'size':20},ncol=6,\n",
    "                   bbox_to_anchor=(0.5, -0.25))\n",
    "\n",
    "        ax.autoscale(enable=True, axis='both', tight=True)\n",
    "        ax.set_ylim(top = yMax, bottom = yMin)\n",
    "        ax.set_xlim(right = xMax, left = xMin)\n",
    "        ax.spines['bottom'].set_position('zero')\n",
    "        ax.spines['top'].set_visible(False)\n",
    "        ax.spines['left'].set_position('zero')\n",
    "        ax.spines['right'].set_visible(False)\n",
    "        ax.set_xlabel(r'$T$', fontdict = {'fontsize': 25},position=(1, 0))\n",
    "        ax.set_ylabel(r'$Assets$', fontdict = {'fontsize': 25},\n",
    "                      position=(0, 1.05), rotation=0)\n",
    "        ax.plot(1, 0, \">k\", transform=ax.get_yaxis_transform(), clip_on=False)\n",
    "        ax.plot(0, 1, \"^k\", transform=ax.get_xaxis_transform(), clip_on=False)\n",
    "        plt.tick_params(labelsize=20)\n",
    "        plt.tight_layout()\n",
    "    \n",
    "    out = widgets.interactive_output(compound_interest_plot, {'xMin': xMin_slider,\n",
    "                                                            'xMax': xMax_slider,\n",
    "                                                            'yMin': yMin_slider,\n",
    "                                                            'yMax': yMax_slider,\n",
    "                                                            'numTermsStr': numTermsStr_text,\n",
    "                                                            'expFlag' : expFlag_check})\n",
    "\n",
    "    output = widgets.VBox([out,\n",
    "                  widgets.HBox([xMin_slider,\n",
    "                               xMax_slider,\n",
    "                               yMin_slider,\n",
    "                               yMax_slider]),\n",
    "                  widgets.HBox([numTermsStr_text, \n",
    "                                expFlag_check])])\n",
    "    display(output)    \n",
    "    "
   ]
  },
  {
   "cell_type": "code",
   "execution_count": 2,
   "metadata": {},
   "outputs": [
    {
     "data": {
      "text/html": [
       "<script>$(\"div.input\").hide()</script>"
      ],
      "text/plain": [
       "<IPython.core.display.HTML object>"
      ]
     },
     "metadata": {},
     "output_type": "display_data"
    },
    {
     "data": {
      "application/vnd.jupyter.widget-view+json": {
       "model_id": "0e9834faccd3447d95b7d8fbca7f479d",
       "version_major": 2,
       "version_minor": 0
      },
      "text/plain": [
       "ToggleButton(value=False, description='Click to show code')"
      ]
     },
     "metadata": {},
     "output_type": "display_data"
    }
   ],
   "source": [
    "state = False\n",
    "toggle_code(state)\n",
    "\n",
    "button = widgets.ToggleButton(state, description = button_descriptions[state])\n",
    "button.observe(button_action, \"value\")\n",
    "\n",
    "display(button)"
   ]
  },
  {
   "cell_type": "markdown",
   "metadata": {},
   "source": [
    "### Deep(er) dive: Where does $e$ come from?\n",
    "\n",
    "As we discussed in the videos, the natural logarithm $y = \\ln x$ and its inverse, the exponential function $y=e^x$ both rely on this 'special' number called $e$. Like $\\pi$, $e$ is a mathematical constant that is irrational, i.e. it cannot be expressed as a ratio, and it's value is approximately 2.71828. \n",
    "\n",
    "The question we raised in the video was essentially as follows\n",
    "1. All logarithms have this nice property that $\\log(xy) = \\log(x) + \\log(y)$. You can pick any base you want and this property remains\n",
    "2. Some bases make very practical sense, like base 10 (our number system is base 10) or base 2 (for computer/software engineering)\n",
    "\n",
    "Given points 1 and 2, why on earth would you pick this strange number as your preferred base? The notebook attempts to answer this while giving you an insight into the history of the concept.\n",
    "\n",
    "#### The problem of compounding interest in finance\n",
    "\n",
    "The number $e$ is named after genius Swiss mathematician Leonhard Euler (1707-1783), who worked a lot with its theoretical properties (Euler in particular proved it was an irrational number). He is the one who popularised the notation $e$ for this constant, which means the guy obviously thought he was a big deal! Euler did not discover $e$, however, that credit should go to Jacob Bernoulli, another giant swiss mathematician, who found out an expression for $e$ in 1683 (long before Euler). The route he used to find the value of $e$ was exactly the one we will use here, and had to do with finding the most profitable strategy for earning interest on a loan.\n",
    "\n",
    "Banking and finance massively expanded in post-renaissance Europe, as larger, more expensive and more risky enterprises were set off, such as the rise of manufacturing, financing shipping expeditions to open new trade routes, etc. But the maths behind finance (especially probability theory) wasn't yet understood, and lending still relied on rules of thumb.\n",
    "\n",
    "Bernoulli essentially started with this setting: suppose you invest in a business or a security that doubles your initial investment after a time $T$. Most examples of this thinking will use 1 year, but actually (a) that's not very realistic and (b) we don't really care how long $T$ is, only that it exists. Even if the annual interest rate is very low, eventually you will double your money!\n",
    "\n",
    "We can plot this below, and it produces a boring diagram. You give away your money, and after $T$ time has passed, you get your money back with 100% interest, so your wealth doubles at that point."
   ]
  },
  {
   "cell_type": "code",
   "execution_count": 3,
   "metadata": {
    "scrolled": false
   },
   "outputs": [
    {
     "data": {
      "application/vnd.jupyter.widget-view+json": {
       "model_id": "7d5acbafe65646b695dbabae327cc06b",
       "version_major": 2,
       "version_minor": 0
      },
      "text/plain": [
       "VBox(children=(Output(), HBox(children=(FloatSlider(value=0.0, continuous_update=False, description='Min $x$:'…"
      ]
     },
     "metadata": {},
     "output_type": "display_data"
    }
   ],
   "source": [
    "compound_interest_widget()"
   ]
  },
  {
   "cell_type": "markdown",
   "metadata": {},
   "source": [
    "Bernoulli then asked this crucial question: ***would it be a more profitable strategy to lend at the same rate for half the time***? In other words, you lend at the same rate, but ask for the loan to be repaid, with interest, at time $T/2$. You then re-lend all of what you received (capital plus interest) on the same terms, again for $T/2$. ***Are you better off?***\n",
    "\n",
    "The answer is yes, and it is easy to see why (diagram below). For every pound you lend initially, you receive £1.5 at the halfway point $T/2$. £1 of this is the repayment of the initial capital, 50p is the interest. Of course, because you lent the money for half the time, you only get half the interest. But crucially, when you re-lend the money again immediately at the same interest rate, you are now lending £1.50, not £1. So for the second half of the diagram, the same interest rate applies to a larger amount of capital! When you get paid back the second time, you receive £2.25: £1.50 of that is the initial capital you lent, 75p of interest."
   ]
  },
  {
   "cell_type": "code",
   "execution_count": 4,
   "metadata": {},
   "outputs": [
    {
     "data": {
      "application/vnd.jupyter.widget-view+json": {
       "model_id": "e85738604cdd450b94ffbaaf9f843b13",
       "version_major": 2,
       "version_minor": 0
      },
      "text/plain": [
       "VBox(children=(Output(), HBox(children=(FloatSlider(value=0.0, continuous_update=False, description='Min $x$:'…"
      ]
     },
     "metadata": {},
     "output_type": "display_data"
    }
   ],
   "source": [
    "compound_interest_widget(numTermsStr_init = '1,2')"
   ]
  },
  {
   "cell_type": "markdown",
   "metadata": {},
   "source": [
    "We can write this down as an equation. Let $A_1$ be the amount you get for each pound invested in a single loan $T$ (our first example). This is easy, you get £1 of capital and £1 of interest:\n",
    "\n",
    "$$A_1 = 1 + 1 = 2$$\n",
    "\n",
    "Let's do the same for when we lend twice over the period $T$, and call it $A_2$:\n",
    "\n",
    "$$A_2 \\quad = \\quad \\left(1+\\frac{1}{2}\\right)\\left(1+\\frac{1}{2}\\right) \\quad = \\quad \\left(1+\\frac{1}{2}\\right)^2 \\quad = \\quad 2.25$$\n",
    "\n",
    "The first $1+1/2$ bracket tells us how much we have to re-invest when the first loan gets paid back (£1.50), the second bracket corresponds to the growth in value from the second loan.\n",
    "\n",
    "Bernoulli probably wasn't the first to figure out that you would benefit from getting some the interest paid early, but was the first to 'do the math'. The obvious question at this point is: ***can we improve on this result by making the loans even shorter and lending more often?***"
   ]
  },
  {
   "cell_type": "code",
   "execution_count": 5,
   "metadata": {},
   "outputs": [
    {
     "data": {
      "application/vnd.jupyter.widget-view+json": {
       "model_id": "ae1129af674a4e0d826fc94656072465",
       "version_major": 2,
       "version_minor": 0
      },
      "text/plain": [
       "VBox(children=(Output(), HBox(children=(FloatSlider(value=0.0, continuous_update=False, description='Min $x$:'…"
      ]
     },
     "metadata": {},
     "output_type": "display_data"
    }
   ],
   "source": [
    "compound_interest_widget(numTermsStr_init = '1,2,4')"
   ]
  },
  {
   "cell_type": "markdown",
   "metadata": {},
   "source": [
    "The diagram above shows what happens when you break $T$ down into four periods. At $T/4$, when the first round of lending is repaid, you only get 25p per pound of capital (you are only lending for 1/4 of the original period), but like before, getting paid some of the interest early so that you can increase the capital you are lending pays off in the long run.\n",
    "\n",
    "Using the same logic as before, the amount you get for breaking up $T$ into 4 successive rounds of lending can be written as:\n",
    "\n",
    "$$A_4 \\quad = \\quad \\left(1+\\frac{1}{4}\\right)^4 \\quad \\approx \\quad 2.4414$$\n",
    "\n",
    "In general, breaking the loan period down into $n$ rounds of lending, each returning $1/n$ of effective interest is given by the following formula:\n",
    "\n",
    "$$A_n \\quad = \\quad \\left(1+\\frac{1}{n}\\right)^n$$\n",
    "\n",
    "You may have noticed, however, that while lending four times has increased the gain (so we are better off), it is less effective than the first time round. When we first split the lending period in two, we were 25p better off. Splitting into two again (so 4 loans) gained us 19.14p. So while this works, there is no 'magic money tree'. \n",
    "\n",
    "Bernoulli noticed this too, and so the ***real*** question that he answered was: what happens to the value of $A_n$ as you keep increasing $n$? Could you keep increasing your gains by lending for increasingly short periods of time, each earning smaller and smaller amounts?"
   ]
  },
  {
   "cell_type": "code",
   "execution_count": 6,
   "metadata": {},
   "outputs": [
    {
     "data": {
      "application/vnd.jupyter.widget-view+json": {
       "model_id": "3544a251c8de4692bffddad9e90311d9",
       "version_major": 2,
       "version_minor": 0
      },
      "text/plain": [
       "VBox(children=(Output(), HBox(children=(FloatSlider(value=0.0, continuous_update=False, description='Min $x$:'…"
      ]
     },
     "metadata": {},
     "output_type": "display_data"
    }
   ],
   "source": [
    "compound_interest_widget(numTermsStr_init = '50',expFlag_init = True)"
   ]
  },
  {
   "cell_type": "markdown",
   "metadata": {},
   "source": [
    "As you can see for the example above, where you slice the initial time period $T$ into 50 successive loans, the step curve you get really looks like it is converging to the exponential function $e^x$. And the value of your capital after a unit amount of time $T$ is starting to look suspiciously close to the number I gave above. This is no surprise. Bernoulli showed that the value of $A_n$ when $n$ tends to infinity is actually $e$. More formally:\n",
    "\n",
    "$$\\mathop\\lim_{n \\to \\infty}A_n \\quad = \\quad \\mathop\\lim_{n \\to \\infty}\\left(1+\\frac{1}{n}\\right)^n \\quad = \\quad e$$\n",
    "\n",
    "So to visualise this in our example, if you have a loan that pays £2 after $T$ time has elapsed for every pound you invest, the maximum gain you can get by compounding the interest continuously instead of paying it in one lump-sum at the end is £2.72.  \n",
    "\n",
    "#### Wrapping up - A natural framework for growth\n",
    "\n",
    "This illustration shows that the exponential function is the natural way of tracking growth when two conditions are met:\n",
    "1. The rate of growth is fixed over time. In our example this was the fixed rate of interest.\n",
    "2. Growth happens continuously over time, and not in discrete jumps that happen at specific points in time. In our example this was the slicing of the loans into shorter and shorter periods of time, and in the limit, into a continuous process.\n",
    "\n",
    "As you an imagine, this has applications in a lot of places: even if a lot of biological or economic growth processes are actually discrete (like a cell dividing into two, or a firm being created), the individual units are so small, and there are so many of them that we can treat the overall process as continuous. The general form of the exponential in those cases is:\n",
    "\n",
    "$$A(t) = A_0 e^{rt}$$\n",
    "\n",
    "Where $A_0$ is the initial value of the quantity that is growing (or decaying if $r<0$), $r$ is the fixed rate of growth or decay (where 10% would be equal to 0.1) and $t$ is the amount of time elapsed. Our example of Mr Bernoulli's derivation simply had a combination of $r$ and $t$ that would be equal to one."
   ]
  },
  {
   "cell_type": "code",
   "execution_count": null,
   "metadata": {},
   "outputs": [],
   "source": []
  }
 ],
 "metadata": {
  "kernelspec": {
   "display_name": "Python 3",
   "language": "python",
   "name": "python3"
  },
  "language_info": {
   "codemirror_mode": {
    "name": "ipython",
    "version": 3
   },
   "file_extension": ".py",
   "mimetype": "text/x-python",
   "name": "python",
   "nbconvert_exporter": "python",
   "pygments_lexer": "ipython3",
   "version": "3.8.3"
  }
 },
 "nbformat": 4,
 "nbformat_minor": 4
}
