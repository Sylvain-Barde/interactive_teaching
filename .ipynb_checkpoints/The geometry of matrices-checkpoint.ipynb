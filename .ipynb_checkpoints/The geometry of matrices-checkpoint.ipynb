{
 "cells": [
  {
   "cell_type": "markdown",
   "metadata": {
    "slideshow": {
     "slide_type": "slide"
    }
   },
   "source": [
    "Click the button below if you want to see the code behind the widgets. If you do click  and want to go back to the 'no-code' view, scroll down to the end of the code to find the 'hide code' button."
   ]
  },
  {
   "cell_type": "code",
   "execution_count": 1,
   "metadata": {},
   "outputs": [],
   "source": [
    "\"\"\"\n",
    "MIT License\n",
    "\n",
    "Copyright (c) 2020 Sylvain Barde - University of Kent\n",
    "\n",
    "Permission is hereby granted, free of charge, to any person obtaining a copy\n",
    "of this software and associated documentation files (the \"Software\"), to deal\n",
    "in the Software without restriction, including without limitation the rights\n",
    "to use, copy, modify, merge, publish, distribute, sublicense, and/or sell\n",
    "copies of the Software, and to permit persons to whom the Software is\n",
    "furnished to do so, subject to the following conditions:\n",
    "\n",
    "The above copyright notice and this permission notice shall be included in all\n",
    "copies or substantial portions of the Software.\n",
    "\n",
    "THE SOFTWARE IS PROVIDED \"AS IS\", WITHOUT WARRANTY OF ANY KIND, EXPRESS OR\n",
    "IMPLIED, INCLUDING BUT NOT LIMITED TO THE WARRANTIES OF MERCHANTABILITY,\n",
    "FITNESS FOR A PARTICULAR PURPOSE AND NONINFRINGEMENT. IN NO EVENT SHALL THE\n",
    "AUTHORS OR COPYRIGHT HOLDERS BE LIABLE FOR ANY CLAIM, DAMAGES OR OTHER\n",
    "LIABILITY, WHETHER IN AN ACTION OF CONTRACT, TORT OR OTHERWISE, ARISING FROM,\n",
    "OUT OF OR IN CONNECTION WITH THE SOFTWARE OR THE USE OR OTHER DEALINGS IN THE\n",
    "SOFTWARE.\n",
    "\"\"\"\n",
    "\n",
    "import ipywidgets as widgets\n",
    "import matplotlib.pyplot as plt\n",
    "import numpy as np\n",
    "from matplotlib import rcParams\n",
    "from IPython.display import display, HTML\n",
    "\n",
    "javascript_functions = {False: \"hide()\", True: \"show()\"}\n",
    "button_descriptions  = {False: \"Click to show code\", True: \"Click to hide code\"}\n",
    "\n",
    "def toggle_code(state):\n",
    "    \"\"\"\n",
    "    Toggles the JavaScript show()/hide() function on the div.input element.\n",
    "    \"\"\"\n",
    "\n",
    "    output_string = \"<script>$(\\\"div.input\\\").{}</script>\"\n",
    "    output_args   = (javascript_functions[state],)\n",
    "    output        = output_string.format(*output_args)\n",
    "\n",
    "    display(HTML(output))\n",
    "    \n",
    "def button_action(value):\n",
    "    \"\"\"\n",
    "    Calls the toggle_code function and updates the button description.\n",
    "    \"\"\"\n",
    "    state = value.new\n",
    "\n",
    "    toggle_code(state)\n",
    "\n",
    "    value.owner.description = button_descriptions[state]\n",
    "\n",
    "def matrix_widget(xMax_init = 10, yMax_init = 10, mode_init = 'A', A_base = [[1,0],[0,1]],\n",
    "                  B_base = [[1,0],[0,1]], D_base = [[3,4,5],[-1,2,-1]], fixScale_init = False):\n",
    "    \n",
    "    # Declare widgets for interactive input\n",
    "    boxLayout = {'width': '175px'}\n",
    "    \n",
    "    style = {'description_width': 'initial'}\n",
    "    xMax_slider = widgets.IntSlider(min=0.1,\n",
    "                                 max=1000,\n",
    "                                 step=1,\n",
    "                                 description=r'Maximum $x$:',\n",
    "                                 value = xMax_init,\n",
    "                                 continuous_update =True)\n",
    "    yMax_slider = widgets.IntSlider(min=0.1,\n",
    "                                 max=1000,\n",
    "                                 step=1,\n",
    "                                 description=r'Maximum $y$:',\n",
    "                                 value = yMax_init,\n",
    "                                 continuous_update =True)\n",
    "    mode_list = widgets.Dropdown(options=['A','B', 'AB', 'BA'],\n",
    "                                value = mode_init,\n",
    "                                description=r'Transformation$:',\n",
    "                                disabled=False)\n",
    "    \n",
    "    a1_box = widgets.FloatText(description= r'$a_{1,1}$:', value = A_base[0][0], \n",
    "                               layout=boxLayout)\n",
    "    a2_box = widgets.FloatText(description= r'$a_{1,2}$:', value = A_base[0][1], \n",
    "                               layout=boxLayout)\n",
    "    a3_box = widgets.FloatText(description= r'$a_{2,1}$:', value = A_base[1][0], \n",
    "                               layout=boxLayout)\n",
    "    a4_box = widgets.FloatText(description= r'$a_{2,2}$:', value = A_base[1][1], \n",
    "                               layout=boxLayout)\n",
    "\n",
    "    b1_box = widgets.FloatText(description= r'$b_{1,1}$:', value = B_base[0][0], \n",
    "                               layout=boxLayout)\n",
    "    b2_box = widgets.FloatText(description= r'$b_{1,2}$:', value = B_base[0][1], \n",
    "                               layout=boxLayout)\n",
    "    b3_box = widgets.FloatText(description= r'$b_{2,1}$:', value = B_base[1][0], \n",
    "                               layout=boxLayout)\n",
    "    b4_box = widgets.FloatText(description= r'$b_{2,2}$:', value = B_base[1][1], \n",
    "                               layout=boxLayout)\n",
    "    \n",
    "    d1_box = widgets.FloatText(description= r'$d_{1,1}$:', value = D_base[0][0], \n",
    "                               layout=boxLayout)\n",
    "    d2_box = widgets.FloatText(description= r'$d_{1,2}$:', value = D_base[0][1], \n",
    "                               layout=boxLayout)\n",
    "    d3_box = widgets.FloatText(description= r'$d_{1,3}$:', value = D_base[0][2], \n",
    "                               layout=boxLayout)\n",
    "    d4_box = widgets.FloatText(description= r'$d_{2,1}$:', value = D_base[1][0], \n",
    "                               layout=boxLayout)\n",
    "    d5_box = widgets.FloatText(description= r'$d_{2,2}$:', value = D_base[1][1], \n",
    "                               layout=boxLayout)\n",
    "    d6_box = widgets.FloatText(description= r'$d_{2,3}$:', value = D_base[1][2], \n",
    "                               layout=boxLayout)\n",
    "    \n",
    "    fixScale_check = widgets.Checkbox(value = fixScale_init,\n",
    "                                   description='Fix 2nd axis',\n",
    "                                   disabled=False,\n",
    "                                   indent=True)\n",
    "    \n",
    "    # Link widgets as required\n",
    "    widgets.jslink((xMax_slider,'value'),(yMax_slider,'value'))\n",
    "\n",
    "    def matrix_plot(xMax, yMax, mode, a1, a2 ,a3 ,a4 , b1, b2, b3, b4, \n",
    "                    d1, d2, d3, d4, d5, d6, fixScale):\n",
    "        \n",
    "        # Package inputs into lists\n",
    "        A_base = [[a1,a2],\n",
    "                  [a3,a4]]\n",
    "        B_base = [[b1,b2],\n",
    "                  [b3,b4]]\n",
    "        D_base = [[d1,d2,d3],\n",
    "                  [d4,d5,d6]]\n",
    "\n",
    "        # Convert lists to Numpy matrices\n",
    "        A = np.asmatrix(A_base)\n",
    "        B = np.asmatrix(B_base)\n",
    "        D = np.asmatrix(D_base)\n",
    "\n",
    "        # Setup tranformation matrix T, get determinant of T\n",
    "        if mode == 'A':\n",
    "            T = A\n",
    "        elif mode == 'B':\n",
    "            T = B\n",
    "        elif mode == 'AB':\n",
    "            T = A*B\n",
    "        elif mode == 'BA':    \n",
    "            T= B*A\n",
    "        Det = np.linalg.det(T)\n",
    "        \n",
    "        # Apply matrix to get transformed data\n",
    "        R = T*D\n",
    "        \n",
    "        # Convert back to array for plotting\n",
    "        Dplot = np.asarray(D_base)\n",
    "        Rplot = np.asarray(R)\n",
    "\n",
    "        # Find scale of x/y axes for both plots. Fix if required\n",
    "        if fixScale is True or Det == 0:\n",
    "            xMaxTrans = xMax\n",
    "            yMaxTrans = yMax\n",
    "            xGridMax = xMax\n",
    "            yGridMax = yMax\n",
    "        else:\n",
    "            xMaxTrans = (abs(Det)**0.5)*xMax\n",
    "            yMaxTrans = (abs(Det)**0.5)*xMax\n",
    "            xGridMax = max(xMax,xMaxTrans)\n",
    "            yGridMax = max(yMax,yMaxTrans)\n",
    "\n",
    "        # Generate grids \n",
    "#         gridStep = np.floor(max(xGridMax,yGridMax)/10)\n",
    "        gridStep = max(xGridMax,yGridMax)/10\n",
    "        NxGrids = int(xGridMax/gridStep)\n",
    "        xGrid = []\n",
    "        xGridTransformed = []\n",
    "        currX = gridStep\n",
    "        for i in range(NxGrids):\n",
    "            for sig in [-1,1]:\n",
    "                line = [[sig*currX,sig*currX],\n",
    "                        [-yGridMax-gridStep/2,yGridMax+gridStep/2]]\n",
    "                lineTrans = T*np.asmatrix(line)\n",
    "\n",
    "                xGrid.append(line)\n",
    "                xGridTransformed.append(np.asarray(lineTrans))\n",
    "\n",
    "            currX += gridStep\n",
    "\n",
    "        NyGrids = int(yGridMax/gridStep)\n",
    "        yGrid = []\n",
    "        yGridTransformed = []\n",
    "        currY = gridStep\n",
    "        for i in range(NyGrids):\n",
    "            for sig in [-1,1]:\n",
    "                line = [[-xGridMax-gridStep/2,xGridMax+gridStep/2],\n",
    "                        [sig*currY,sig*currY]]\n",
    "                lineTrans = T*np.asmatrix(line)\n",
    "\n",
    "                yGrid.append(line)\n",
    "                yGridTransformed.append(np.asarray(lineTrans))\n",
    "\n",
    "            currY += gridStep\n",
    "\n",
    "        # Transform axis for plot\n",
    "        axisTransformed = []\n",
    "        axisStyle = ['g--','b--']\n",
    "        axisLabel = ['Original $x$ axis', 'Original $y$ axis']\n",
    "        xAxis = [[-xGridMax-gridStep/2,xGridMax+gridStep/2],[0,0]]\n",
    "        yAxis = [[0,0], [-yGridMax-gridStep/2,yGridMax+gridStep/2]]\n",
    "        xAxisTrans = T*np.asmatrix(xAxis)\n",
    "        yAxisTrans = T*np.asmatrix(yAxis)\n",
    "        axisTransformed.append(np.asarray(xAxisTrans))\n",
    "        axisTransformed.append(np.asarray(yAxisTrans))\n",
    "\n",
    "        # Create figure\n",
    "        mrkrSize = 2*rcParams['lines.markersize'] ** 2\n",
    "        fig, ax = plt.subplots(nrows=1, ncols=2,figsize=(20,10))\n",
    "\n",
    "        # plot gridlines\n",
    "        for line in xGrid:\n",
    "            ax[0].plot(line[0],line[1],'k',alpha = 0.2)\n",
    "\n",
    "        for line in yGrid:\n",
    "            ax[0].plot(line[0],line[1],'k',alpha = 0.2)\n",
    "\n",
    "        # plot data\n",
    "        ax[0].scatter(Dplot[0,:],Dplot[1,:], s=mrkrSize, c='r',alpha = 0.6,\n",
    "          label = r'Initial data $D$' )\n",
    "        ax[0].plot(Dplot[0,:],Dplot[1,:],'r',alpha = 0.6)\n",
    "        ax[0].fill(Dplot[0,:],Dplot[1,:],'r',alpha = 0.2)\n",
    "\n",
    "        # Add legend and format axes to look nice\n",
    "        ax[0].axis('equal')\n",
    "        ax[0].legend(loc='upper left', frameon=False,prop={'size':20})\n",
    "        ax[0].autoscale(enable=True, axis='both', tight=True)\n",
    "        ax[0].set_ylim(top = yMax, bottom = -yMax)\n",
    "        ax[0].set_xlim(right = xMax, left = -xMax)\n",
    "        ax[0].spines['bottom'].set_position('zero')\n",
    "        ax[0].spines['top'].set_visible(False)\n",
    "        ax[0].spines['left'].set_position('zero')\n",
    "        ax[0].spines['right'].set_visible(False)\n",
    "        ax[0].set_xlabel(r'$x$', fontdict = {'fontsize': 25},position=(1, 0))\n",
    "        ax[0].set_ylabel(r'$y$', fontdict = {'fontsize': 25},position=(0, 1), rotation=0)\n",
    "        ax[0].plot(1, 0, \">k\", transform=ax[0].get_yaxis_transform(), clip_on=False)\n",
    "        ax[0].plot(0, 1, \"^k\", transform=ax[0].get_xaxis_transform(), clip_on=False)\n",
    "        ax[0].tick_params(labelsize=20)\n",
    "\n",
    "        # plot transformed gridlines\n",
    "        for line in xGridTransformed:\n",
    "            ax[1].plot(line[0,:],line[1,:],'k',alpha = 0.2)\n",
    "\n",
    "        for line in yGridTransformed:\n",
    "            ax[1].plot(line[0,:],line[1,:],'k',alpha = 0.2)\n",
    "\n",
    "        for line in axisTransformed:\n",
    "            ax[1].plot(line[0,:],line[1,:],axisStyle.pop(0),alpha = 0.6, \n",
    "                       linewidth=2, label = axisLabel.pop(0))\n",
    "\n",
    "        # Plot transformed data\n",
    "        ax[1].scatter(Rplot[0,:],Rplot[1,:], s=mrkrSize, c='r',alpha = 0.6,\n",
    "          label = r'Transformed data $'+mode+'D$' )\n",
    "        ax[1].plot(Rplot[0,:],Rplot[1,:],'r',alpha = 0.6)\n",
    "        ax[1].fill(Rplot[0,:],Rplot[1,:],'r',alpha = 0.2)\n",
    "\n",
    "        ax[1].annotate(r'$|'+mode + '| = {:.4f}$'.format(Det),[0.75,0], \n",
    "                       xytext = [0.55,0.05], xycoords ='axes fraction', \n",
    "                       fontsize = 25, clip_on = True)\n",
    "\n",
    "        # Add legend and format axes to look nice\n",
    "        ax[1].axis('equal')\n",
    "        ax[1].legend(loc='upper left', frameon=False,prop={'size':20})\n",
    "        ax[1].autoscale(enable=True, axis='both', tight=True)\n",
    "        ax[1].set_ylim(top = yMaxTrans, bottom = -yMaxTrans)\n",
    "        ax[1].set_xlim(right = xMaxTrans, left = -xMaxTrans)\n",
    "        ax[1].spines['bottom'].set_position('zero')\n",
    "        ax[1].spines['top'].set_visible(False)\n",
    "        ax[1].spines['left'].set_position('zero')\n",
    "        ax[1].spines['right'].set_visible(False)\n",
    "        ax[1].set_xlabel(r'$x$', fontdict = {'fontsize': 25},position=(1, 0))\n",
    "        ax[1].set_ylabel(r'$y$', fontdict = {'fontsize': 25},position=(0, 1), rotation=0)\n",
    "        ax[1].plot(1, 0, \">k\", transform=ax[1].get_yaxis_transform(), clip_on=False)\n",
    "        ax[1].plot(0, 1, \"^k\", transform=ax[1].get_xaxis_transform(), clip_on=False)\n",
    "        ax[1].tick_params(labelsize=20)\n",
    "\n",
    "        fig.subplots_adjust(hspace=0.4, wspace=0.6)\n",
    "        plt.tight_layout()\n",
    "    \n",
    "    out = widgets.interactive_output(matrix_plot, {'xMax': xMax_slider,\n",
    "                                                   'yMax': yMax_slider,\n",
    "                                                   'mode': mode_list, \n",
    "                                                   'a1': a1_box,\n",
    "                                                   'a2': a2_box,\n",
    "                                                   'a3': a3_box,\n",
    "                                                   'a4': a4_box,\n",
    "                                                   'b1': b1_box,\n",
    "                                                   'b2': b2_box,\n",
    "                                                   'b3': b3_box,\n",
    "                                                   'b4': b4_box,\n",
    "                                                   'd1': d1_box,\n",
    "                                                   'd2': d2_box,\n",
    "                                                   'd3': d3_box,\n",
    "                                                   'd4': d4_box,\n",
    "                                                   'd5': d5_box,\n",
    "                                                   'd6': d6_box,                                                       \n",
    "                                                   'fixScale': fixScale_check})\n",
    "    \n",
    "    output = widgets.VBox([out,\n",
    "                  widgets.HBox([xMax_slider,\n",
    "                                yMax_slider,\n",
    "                                fixScale_check]),\n",
    "                  widgets.HBox([\n",
    "                        widgets.HBox([widgets.VBox([a1_box,a3_box]),\n",
    "                                      widgets.VBox([a2_box,a4_box])]),\n",
    "                        widgets.HBox([widgets.VBox([b1_box,b3_box]),\n",
    "                                      widgets.VBox([b2_box,b4_box])])\n",
    "                                ]),\n",
    "                        widgets.HBox([widgets.VBox([d1_box,d4_box]),\n",
    "                                      widgets.VBox([d2_box,d5_box]),\n",
    "                                      widgets.VBox([d3_box,d6_box]),\n",
    "                                      mode_list])\n",
    "                          ])\n",
    "    \n",
    "    display(output)\n"
   ]
  },
  {
   "cell_type": "code",
   "execution_count": 2,
   "metadata": {},
   "outputs": [
    {
     "data": {
      "text/html": [
       "<script>$(\"div.input\").hide()</script>"
      ],
      "text/plain": [
       "<IPython.core.display.HTML object>"
      ]
     },
     "metadata": {},
     "output_type": "display_data"
    },
    {
     "data": {
      "application/vnd.jupyter.widget-view+json": {
       "model_id": "beb5930cd336422e8ea89394891d1b5b",
       "version_major": 2,
       "version_minor": 0
      },
      "text/plain": [
       "ToggleButton(value=False, description='Click to show code')"
      ]
     },
     "metadata": {},
     "output_type": "display_data"
    }
   ],
   "source": [
    "state = False\n",
    "toggle_code(state)\n",
    "\n",
    "button = widgets.ToggleButton(state, description = button_descriptions[state])\n",
    "button.observe(button_action, \"value\")\n",
    "\n",
    "display(button)"
   ]
  },
  {
   "cell_type": "markdown",
   "metadata": {},
   "source": [
    "### Deep(er) Dive: The beautiful geometry of matrices\n",
    "\n",
    "As this is the first 'deeper dive' notebook, let me begin by explaining them a bit for you. When you teach (or learn) maths, it often is the case that you don't cover all the angles of a given concept, either because it's not on the curriculum, or because it is a bit too advanced. Unfortunately, it is also often the case that these extra concepts are *really* useful for truly understanding a topic, because they answer the 'why' questions I refer to in the videos. So I've decided not to do the same as everyone else and and show you these deeper concepts, precisely because they give you insights into what is truly happening behind the scenes. Matrices are a perfect place to start. Don't worry, **none of the deeper dives are in the assessment**, and we will not expect you to master this stuff in any way. What we would like you to do is give it a try, so that you can take a peek behind the curtain and maybe, if I get my material right, marvel at the beauty of what is behind.\n",
    "\n",
    "#### Matrices can transform space!!\n",
    "\n",
    "Like everything we have seen until now, matrices have a geometric interpretation. This should not be very surprising: we have seen that matrices are related to systems of equations, and we have also seen that systems of equations have a geometric counterpart in Cartesian space.\n",
    "\n",
    "So matrix algebra (the rather dry stuff we saw in the lecture videos) also has a geometric side. As I said, no real surprise. What is more surprising, as you hopefully will see, is that the geometric interpretation of matrix algebra is very different from what we have seen until now. Matrices open the door to something very deep and rather beautiful: matrices don't just encode locations in $(x,y)$ space (the way a linear function does), they can also encode *transformations of space itself*. This notebook will illustrate this step by step, allowing to visualise this deep property of matrices and also understand the 'dry' algebra a bit better.\n",
    "\n",
    "Let's start with a simple example using the stuff we covered in the videos. Suppose you have a matrix $A$ as defined below and a point with coordinates $x=3$, $y=-1$. These coordinates are gathered into a column vector ${\\rm x}$.\n",
    "\n",
    "$$A=\\left( {\\begin{array}{cc}\n",
    "   \\frac{\\sqrt{2}}{2} & \\frac{\\sqrt{2}}{2} \\\\\n",
    "   -\\frac{\\sqrt{2}}{2} & \\frac{\\sqrt{2}}{2} \\\\\n",
    " \\end{array} } \\right) \\qquad {\\rm x} =\\left( {\\begin{array}{c}\n",
    "   3 \\\\\n",
    "   -1 \\\\\n",
    " \\end{array} } \\right)$$\n",
    "\n",
    "If you think that I've picked the entries of $A$ in a very specific way, you'd be correct, but more on that in a second. Using matrix algebra, we know we can multiply $A$ and ${\\rm x}$. Because the dimensions of $A$ are $2\\times 2$ and ${\\rm x}$ is  $2\\times 1$ the result of the multiplication is also a $2\\times 1$ vector.\n",
    "\n",
    "$$d = A {\\rm x}=\\left( {\\begin{array}{cc}\n",
    "   \\frac{\\sqrt{2}}{2} & \\frac{\\sqrt{2}}{2} \\\\\n",
    "   -\\frac{\\sqrt{2}}{2} & \\frac{\\sqrt{2}}{2} \\\\\n",
    " \\end{array} } \\right) \\left( {\\begin{array}{c}\n",
    "   3 \\\\\n",
    "   -1 \\\\\n",
    " \\end{array} } \\right) = \\left( {\\begin{array}{c}\n",
    "     3\\frac{\\sqrt{2}}{2} - \\frac{\\sqrt{2}}{2}\\\\\n",
    "    -3\\frac{\\sqrt{2}}{2} - \\frac{\\sqrt{2}}{2}\\\\\n",
    " \\end{array} } \\right) = \\left( {\\begin{array}{c}\n",
    "      \\sqrt{2}\\\\\n",
    "    -2\\sqrt{2}\\\\\n",
    " \\end{array} } \\right)$$\n",
    "\n",
    "In the slides, we saw that this matrix equation, $A{\\rm x}=d$, can encode a system of equations. The ${\\rm x}$ vector contains our two unknowns $x$ and $y$, the $d$ vector is the right hand side of the system. Suppose for a moment we didn't know that $x=3$ and $y=-1$, we could write:\n",
    "\n",
    "$$\\left\\{\\begin{aligned}\n",
    "\\frac{\\sqrt{2}}{2}x - \\frac{\\sqrt{2}}{2}y & = \\sqrt{2}\\\\\n",
    "-\\frac{\\sqrt{2}}{2}x + \\frac{\\sqrt{2}}{2}y & = -2\\sqrt{2}\\\\\n",
    "\\end{aligned}\\right.$$\n",
    "\n",
    "In this case, remember that $d$ is the information we have and ${\\rm x}$ is the information we want.\n",
    "\n",
    "So far, you might say that we've not really done any geometry. What we have done is picked a point in $(x,y)$ space, defined by a column vector ${\\rm x}$ and used the matrix $A$ to calculate the coordinates of a new point defined by another column vector $d=A{\\rm x}$. In our examples we picked a specific set of numbers, but hopefully you can see that we could have picked ***any*** number for $x$ or $y$\n",
    "\n",
    "In fact, if we had plenty of time, we could perform this calculation for a set of $N$ points and get a new set of $N$ points. The diagram below shows you what this would look like for 3 points, gathered together into a $2\\times 3$ matrix $D$. \n",
    "\n",
    "$$D=\\left( {\\begin{array}{ccc}\n",
    "   3 & 4 & 5\\\\\n",
    "   -1 & 2 & -1 \\\\\n",
    " \\end{array} } \\right)$$\n",
    "\n",
    "Note that the first column vector in this matrix corresponds to the coordinates for the point we chose above. The second and third column vector contain the coordinates of two more point. The diagram on the left shows you the original coordinates of the 3 points, with the resulting triangle 'colored in' and the diagram on the left shows you the coordinates of the points you get when you multiply by the matrix $A$.\n",
    "\n",
    "- **Note**: in reality, thanks to the dark art of computer programming, the diagram below shows you *more* than 3 points: it calculates the result of the matrix multiplication for all the intersections of the grid lines. It's actually the gridlines that are really important in allowing to 'see' the effect of the matrix.\n"
   ]
  },
  {
   "cell_type": "code",
   "execution_count": 3,
   "metadata": {},
   "outputs": [
    {
     "data": {
      "application/vnd.jupyter.widget-view+json": {
       "model_id": "2b0434d5301f4c2689798f03ef8cf2b2",
       "version_major": 2,
       "version_minor": 0
      },
      "text/plain": [
       "VBox(children=(Output(), HBox(children=(IntSlider(value=10, description='Maximum $x$:', max=1000), IntSlider(v…"
      ]
     },
     "metadata": {},
     "output_type": "display_data"
    }
   ],
   "source": [
    "matrix_widget(A_base = [[0.7071,0.7071],[-0.7071,0.7071]])"
   ]
  },
  {
   "cell_type": "markdown",
   "metadata": {},
   "source": [
    "It should be pretty obvious that the diagram on the right is simply the diagram on the left rotated clockwise by 45°. If you have the courage and you want to check this, feel free to calculate the coordinates of the last two points with matrix multiplication (we already did the first point, use it as an example!) and plot them on a piece of paper. Please also feel free to change the locations of the 3 points in the $D$ matrix: whatever points you try, they will just be rotated clockwise by 45°.\n",
    "\n",
    "Let's stop for a second, step back, and let the implication sink in. The geometric interpretation of the matrix $D$ should be straightforward: it just encodes the coordinate of points in $(x,y)$ space. The geometric interpretation of $A$, however is much deeper: it encodes a ***transformation of space itself***, as is visible from the fact all the original gridlines are affected. \n",
    "\n",
    "As you may have guessed, the numbers I picked for this example were specifically chosen to ensure that $A$ would be a **rotation** matrix. In general, if you want to rotate the space clockwise by an angle $\\theta$, the entries in your matrix are given by the sine and cosine of that angle (don't worry about this is your trigonometry is rusty):\n",
    "\n",
    "$$A=\\left( {\\begin{array}{cc}\n",
    "   \\cos \\theta & \\sin \\theta \\\\\n",
    "   -\\sin \\theta & \\cos \\theta \\\\\n",
    " \\end{array} } \\right)$$\n",
    "\n",
    "As you may be starting to suspect other transformations of space can be carried out by picking the right matrix. A few examples of simple transformations are provided below. Feel free to try these in the diagram above by replacing the relevant entries of $A$. \n",
    "- A **scaling** matrix increases or reduces the size of a unit of space. You can see below that it is just the identity matrix multiplied by a number $a$. If $a>1$, the plot scales up, if $a<1$ it shrinks (use the 'fix 2nd axis' check box to see this).\n",
    "\n",
    "$$A=\\left( {\\begin{array}{cc}\n",
    "   a & 0 \\\\\n",
    "   0 & a \\\\\n",
    " \\end{array} } \\right)$$\n",
    "\n",
    "- A **symmetry** matrix flips the space around a line. In principle you can design one for any line in the $(x,y)$ space, but to keep things simple we'll look at symmetry around the axes. $A$ generates a symmetry around the $y$ axis, and $A'$ around the $x$ axis.\n",
    "\n",
    "$$A=\\left( {\\begin{array}{cc}\n",
    "   -1 & 0 \\\\\n",
    "   0 & 1 \\\\\n",
    " \\end{array} } \\right) \\qquad A'=\\left( {\\begin{array}{cc}\n",
    "   1 & 0 \\\\\n",
    "   0 & -1 \\\\\n",
    " \\end{array} } \\right)$$\n",
    "\n",
    "- **Squeezing/stretching** matrices are a bit like scaling matrices, but the two axes are scaled by different amounts. If either $a=1$ or $b=1$, then you have a **stretch** matrix, if $b=1/a$ you have a squeeze matrix.\n",
    "\n",
    "$$A=\\left( {\\begin{array}{cc}\n",
    "   a & 0 \\\\\n",
    "   0 & b \\\\\n",
    " \\end{array} } \\right)$$\n",
    "\n",
    "- A **Shear** matrix will slant the the diagram to one side by an amount determined by $a$ (the larger $a$ the larger the effect). $A$ will slant the diagram parallel to the $x$ axis, and $A'$ parallel to the $y$ axis.\n",
    "\n",
    "$$A=\\left( {\\begin{array}{cc}\n",
    "   1 & a \\\\\n",
    "   0 & 1 \\\\\n",
    " \\end{array} } \\right) \\qquad A'=\\left( {\\begin{array}{cc}\n",
    "   1 & 0 \\\\\n",
    "   a & 1 \\\\\n",
    " \\end{array} } \\right)$$\n",
    "\n",
    "An important aspect of all these examples is that while the coordinates of the red points are moved around in different ways by the different matrices, intuitively, you should see that using the 'old' grid and old axes you can always recover the original coordinates. This is the idea behind matrix inversion: when you get given a system of equations $A{\\rm x}=d$, $d$ corresponds to a point in the right hand side diagram (the data you *have*), and $x$ is a point in the left hand side diagram (the data you *want*). The inversion of matrix $A$, essentially tells you where the original axes are in the transform ed diagram, allowing you to find the original, pre-transformation coordinates of the point.\n",
    "\n",
    "#### Combining transformations\n",
    "\n",
    "A really powerful aspect of this geometric interpretation of matrices is that its helps you visualise matrix multiplication as the action of combining transformations. This is illustrated in the diagram below, where $A$ is the original 45° rotation and $b$ is a shear matrix parallel to the $x$. The transformation that results from the product the two matrices, $AB$, is simply the rotation followed by the shear. Feel free to combine the simple transformations listed above!\n",
    "\n",
    "This example should help you to visualise two important concepts:\n",
    "\n",
    "1. First, you should be able to appreciate that pretty much ***any*** transformation could be obtained by combining lots of individually simple transformation matrices, so you could generate lots of complex transformations this way.\n",
    "\n",
    "2. Second, this should help you understand why matrix multiplication does not *commute*, in other words why $AB \\ne BA$ (use the drop-down list to try the two different orders). When you have a combination of transformations (say $AB$) applied to some data $D$, i.e you calculate $ABD$, the order in which the transformations are applied is right-to-left. You take $D$, then you apply the transformation $B$ then finally the transformation $A$. The order in which you carry out the transformations matters and in general applying $B$ first then $A$ will give a different result to $A$ first then $B$.\n"
   ]
  },
  {
   "cell_type": "code",
   "execution_count": 4,
   "metadata": {},
   "outputs": [
    {
     "data": {
      "application/vnd.jupyter.widget-view+json": {
       "model_id": "e1b1b0c3d96f44ffa6b90acad24af000",
       "version_major": 2,
       "version_minor": 0
      },
      "text/plain": [
       "VBox(children=(Output(), HBox(children=(IntSlider(value=10, description='Maximum $x$:', max=1000), IntSlider(v…"
      ]
     },
     "metadata": {},
     "output_type": "display_data"
    }
   ],
   "source": [
    "matrix_widget(A_base = [[0.7071,0.7071],[-0.7071,0.7071]], B_base = [[1,1.25],[0,1]],mode_init = 'AB')"
   ]
  },
  {
   "cell_type": "markdown",
   "metadata": {},
   "source": [
    "#### Visualising the determinant.\n",
    "\n",
    "Up until now, most of the the basic examples provided for you to try have displayed $|A|=1$ or $|B|=1$ in the diagrams, so I haven't really had to comment on the role of the determinant of matrices $A$ and $B$. One notable example is the case of the **scaling** matrix, which we will focus on in the diagram below. Just as a quick reminder, this is given by:\n",
    "\n",
    "$$A=\\left( {\\begin{array}{cc}\n",
    "   a & 0 \\\\\n",
    "   0 & a \\\\\n",
    " \\end{array} } \\right)$$\n",
    "\n",
    "The determinant of $A$ is easy to calculate. Using the formula from the lecture material, you can see that $|A|=a^2$. In the case of the diagram below, with $a=2$, the determinant is 4. It should also be clear that this scaling matrix increases the size of the red area. But by how much? Well, by using $a=2$ and scaling the space up, we are doubling every length in the diagram (such as the base and height of the red triangle). Doubling the lengths, however, means quadrupling surfaces: The surface area of the red  triangle in the diagram on the right is four times that of the one on the left. "
   ]
  },
  {
   "cell_type": "code",
   "execution_count": 5,
   "metadata": {},
   "outputs": [
    {
     "data": {
      "application/vnd.jupyter.widget-view+json": {
       "model_id": "16a50842ba45474eaada6a5090a188ea",
       "version_major": 2,
       "version_minor": 0
      },
      "text/plain": [
       "VBox(children=(Output(), HBox(children=(IntSlider(value=10, description='Maximum $x$:', max=1000), IntSlider(v…"
      ]
     },
     "metadata": {},
     "output_type": "display_data"
    }
   ],
   "source": [
    "matrix_widget(A_base = [[2,0],[0,2]], mode_init = 'A', fixScale_init = True)"
   ]
  },
  {
   "cell_type": "markdown",
   "metadata": {},
   "source": [
    "It is no coincidence that the value of the determinant $|A|=4$ corresponds to how much areas are increased by in the right-hand side diagram. In fact, this is precisely what the determinant measures. It is also why we use the vertical bar notation $|A|$ for the determinant, which some of you might remember means **absolute value** for scalars (good old regular numbers). This is because the determinant is a *generalisation* of the concept of absolute value. A scalar $a$ can be thought of as a $1\\times 1$ matrix, and if you multiply an unknown number $x$ by $a$, the absolute value $|a|$ tells you how much this one dimensional number (a length) has changed by. For a $2\\times 2$ matrix $A$, $|A|$ tells us how the 2D area is scaled. For a $3\\times 3$ matrix, $|A|$ tells us how the 3D volume is scaled. The logic continues beyond 3, but at that  point we refer to 'hypervolumes' because we can't visualise the geometry. No need to worry about this, my point was just to show the idea...\n",
    "\n",
    "Try inputting $a=0.5$ to see the opposite effect: the determinant now equal to 0.25 and the red area has shrunk to one quarter of its original size.\n",
    "\n",
    "#### Why you can't invert a matrix if its determinant is equal to 0\n",
    "\n",
    "So the determinant of a transformation tells us how much areas (or volumes if you have more dimensions) are scaled by when you apply the transformation. So what would a 0 determinant mean, from a geometrical point of view? Well, clearly, if we use the logic I talked about, wouldn't this mean that in our $2\\times 2$ example all areas would be shrunk to zero? In fact this is exactly what happens! See the example below: I have picked a matrix $A$ with $|A|=0$ and you can see that the original two-dimensional $(x,y)$ Cartesian space has collapsed to a one-dimensional space: a line. Any point you could have picked anywhere in the original space will get squeezed onto that line. The concept of an *area* or a *surface* does not exist for line, therefore the transformation generated by matrix $A$ squeezes any pre-existing area to zero.\n"
   ]
  },
  {
   "cell_type": "code",
   "execution_count": 6,
   "metadata": {},
   "outputs": [
    {
     "data": {
      "application/vnd.jupyter.widget-view+json": {
       "model_id": "28fb65926e0944bea52ef80c7faaaa93",
       "version_major": 2,
       "version_minor": 0
      },
      "text/plain": [
       "VBox(children=(Output(), HBox(children=(IntSlider(value=10, description='Maximum $x$:', max=1000), IntSlider(v…"
      ]
     },
     "metadata": {},
     "output_type": "display_data"
    }
   ],
   "source": [
    "matrix_widget(A_base = [[0.2,0.3],[0.4,0.6]], mode_init = 'A', fixScale_init = True)"
   ]
  },
  {
   "cell_type": "markdown",
   "metadata": {},
   "source": [
    "If you remember the discussion above, we saw that the geometrical reason why you can 'undo' the multiplication by a matrix $A$ when you do matrix inversion is that you can always use the location of the 'old' axes and grid lines to find the coordinates of the points before the space was transformed. In this case, our 2-dimensional space has collapsed into a 1-dimensional space, and you can no longer do this. In the transformed picture, both the original $x$ and $y$ as well as all the old gridlines get squeezed on top of each other onto the single 1-dimensional line that is our new space. Given that all these lines are now on top of each other, we can't count the grildlines parallel to the old $x$ or $y$ axis to get the coordinates: they don't exist anymore!\n",
    "\n",
    "#### Wrapping up\n",
    "\n",
    "For those of you that have made it this far, I hope the payoff is worth the effort: You should now have a much better understanding of what matrices actually do, and why some of their funny properties (like $AB \\ne BA$) are what they are. As I keep explaining, algebra is useful when you need to calculate things, but often, it is the geometric connection that helps you truly visualise and understand what is really going on.\n"
   ]
  },
  {
   "cell_type": "code",
   "execution_count": null,
   "metadata": {},
   "outputs": [],
   "source": []
  }
 ],
 "metadata": {
  "kernelspec": {
   "display_name": "Python 3 (ipykernel)",
   "language": "python",
   "name": "python3"
  },
  "language_info": {
   "codemirror_mode": {
    "name": "ipython",
    "version": 3
   },
   "file_extension": ".py",
   "mimetype": "text/x-python",
   "name": "python",
   "nbconvert_exporter": "python",
   "pygments_lexer": "ipython3",
   "version": "3.11.4"
  },
  "widgets": {
   "application/vnd.jupyter.widget-state+json": {
    "state": {
     "0015b9b24cec49e4831d6caf1c83ec33": {
      "model_module": "@jupyter-widgets/controls",
      "model_module_version": "2.0.0",
      "model_name": "VBoxModel",
      "state": {
       "children": [
        "IPY_MODEL_c445fbabae1640d181253b51b62909a4",
        "IPY_MODEL_4f0b30a568154e0dae34a02039576fb9"
       ],
       "layout": "IPY_MODEL_8c840ffa714c462299ed1f77ebd487c6"
      }
     },
     "0053e628f1b74a7cb32b49140c108bc2": {
      "model_module": "@jupyter-widgets/controls",
      "model_module_version": "2.0.0",
      "model_name": "FloatTextModel",
      "state": {
       "description": "$a_{1,1}$:",
       "layout": "IPY_MODEL_833f710a3a264f669ef5939093f57149",
       "step": null,
       "style": "IPY_MODEL_88454cebd2de468191978a5ea31a7aef",
       "value": 0.2
      }
     },
     "02354cf89997461cb5d3e39d62345082": {
      "model_module": "@jupyter-widgets/controls",
      "model_module_version": "2.0.0",
      "model_name": "ToggleButtonStyleModel",
      "state": {
       "description_width": "",
       "font_family": null,
       "font_size": null,
       "font_style": null,
       "font_variant": null,
       "font_weight": null,
       "text_color": null,
       "text_decoration": null
      }
     },
     "03beb9d9be0f4980a3c336f4591ec55d": {
      "model_module": "@jupyter-widgets/controls",
      "model_module_version": "2.0.0",
      "model_name": "HBoxModel",
      "state": {
       "children": [
        "IPY_MODEL_33da55d6db9e4a56a58991734a798be9",
        "IPY_MODEL_a62a4dc7879742ae992a80d0d980453c"
       ],
       "layout": "IPY_MODEL_8aedf2214a724840aa8a9fb25be4d295"
      }
     },
     "05210b9b7d714fbfb92eff235322bf18": {
      "model_module": "@jupyter-widgets/controls",
      "model_module_version": "2.0.0",
      "model_name": "HBoxModel",
      "state": {
       "children": [
        "IPY_MODEL_451fd474d0104422b9043744fcb955ce",
        "IPY_MODEL_d1b58fe918b5470d8f0fe1fc2f7ff4a4",
        "IPY_MODEL_d51819511a4642a1818ded202a2415fe",
        "IPY_MODEL_320f0968cc334be3bbcab4442aadaf50"
       ],
       "layout": "IPY_MODEL_4457db2dc6f240578c9cfb238a3ec745"
      }
     },
     "05b083fc3ec140768498eb81feaefdb6": {
      "model_module": "@jupyter-widgets/controls",
      "model_module_version": "2.0.0",
      "model_name": "FloatTextModel",
      "state": {
       "description": "$b_{1,2}$:",
       "layout": "IPY_MODEL_877f47facb0d4a74b58fca111bc6afd7",
       "step": null,
       "style": "IPY_MODEL_7a628d2fef324e948ed928121e741364"
      }
     },
     "05b27f47e1bb4de492603f58f339fd96": {
      "model_module": "@jupyter-widgets/controls",
      "model_module_version": "2.0.0",
      "model_name": "FloatTextModel",
      "state": {
       "description": "$d_{1,2}$:",
       "layout": "IPY_MODEL_fe0a497224334db2b5e3692ad1047973",
       "step": null,
       "style": "IPY_MODEL_3c044c6cc80243c697fa53e357fd5eaf",
       "value": 4
      }
     },
     "0620f08bf3a14fc9b6d212a217b83aaf": {
      "model_module": "@jupyter-widgets/base",
      "model_module_version": "2.0.0",
      "model_name": "LayoutModel",
      "state": {}
     },
     "08290fb31c994c72aefff68df513f7f3": {
      "model_module": "@jupyter-widgets/controls",
      "model_module_version": "2.0.0",
      "model_name": "HBoxModel",
      "state": {
       "children": [
        "IPY_MODEL_b4bdb4b87e9a48248c08f5ca45b1cd7f",
        "IPY_MODEL_800db29d2ee54a419b907940213e1987"
       ],
       "layout": "IPY_MODEL_6b8ac204964d4a2086ccc04679415305"
      }
     },
     "08cb5b0aea0649a99f2153ee5a4161d1": {
      "model_module": "@jupyter-widgets/controls",
      "model_module_version": "2.0.0",
      "model_name": "VBoxModel",
      "state": {
       "children": [
        "IPY_MODEL_05b27f47e1bb4de492603f58f339fd96",
        "IPY_MODEL_6ebdf0d296af4d0e914035dcdf11e7db"
       ],
       "layout": "IPY_MODEL_999749355ec54cf9bc3c2f016128da63"
      }
     },
     "09f2e125b6a24203873c55c4b3a24106": {
      "model_module": "@jupyter-widgets/controls",
      "model_module_version": "2.0.0",
      "model_name": "DescriptionStyleModel",
      "state": {
       "description_width": ""
      }
     },
     "0a5d9c39e4094d1995872121f2e5dca2": {
      "model_module": "@jupyter-widgets/base",
      "model_module_version": "2.0.0",
      "model_name": "LayoutModel",
      "state": {
       "width": "175px"
      }
     },
     "0b6a612c010c45b493cae09502a313f9": {
      "model_module": "@jupyter-widgets/controls",
      "model_module_version": "2.0.0",
      "model_name": "DescriptionStyleModel",
      "state": {
       "description_width": ""
      }
     },
     "0bc2a01b80164edf8b4d3b8f2437f840": {
      "model_module": "@jupyter-widgets/controls",
      "model_module_version": "2.0.0",
      "model_name": "DescriptionStyleModel",
      "state": {
       "description_width": ""
      }
     },
     "0e8e427acfbf4755835e1d00873f2e54": {
      "model_module": "@jupyter-widgets/base",
      "model_module_version": "2.0.0",
      "model_name": "LayoutModel",
      "state": {
       "width": "175px"
      }
     },
     "0fdb981582414ac6b60802fbb7175d08": {
      "model_module": "@jupyter-widgets/controls",
      "model_module_version": "2.0.0",
      "model_name": "VBoxModel",
      "state": {
       "children": [
        "IPY_MODEL_be4f5ed3f52442cab61f5341d7941795",
        "IPY_MODEL_2017344b5f3948f39f85fc8a846ad568"
       ],
       "layout": "IPY_MODEL_b560a148ec8944aa8c08ccf26f80f1eb"
      }
     },
     "1050b36cb99340598228d6057f4f18bb": {
      "model_module": "@jupyter-widgets/controls",
      "model_module_version": "2.0.0",
      "model_name": "FloatTextModel",
      "state": {
       "description": "$d_{1,3}$:",
       "layout": "IPY_MODEL_3e297254b2744561a411ae0d4a24fb7e",
       "step": null,
       "style": "IPY_MODEL_47ae75450da14ad89683bc658f14e7e2",
       "value": 5
      }
     },
     "137faac4b6ca405989483a4b64eb7074": {
      "model_module": "@jupyter-widgets/controls",
      "model_module_version": "2.0.0",
      "model_name": "CheckboxStyleModel",
      "state": {
       "description_width": ""
      }
     },
     "139ea487f97b4db2bddfcc644854fc70": {
      "model_module": "@jupyter-widgets/controls",
      "model_module_version": "2.0.0",
      "model_name": "FloatTextModel",
      "state": {
       "description": "$d_{1,3}$:",
       "layout": "IPY_MODEL_7782fc040bad4182be2ae7714591fec4",
       "step": null,
       "style": "IPY_MODEL_23e2fa947023419a8a7913e20014da6e",
       "value": 5
      }
     },
     "14786d19f2cb4f379567cb76c2ad3d23": {
      "model_module": "@jupyter-widgets/base",
      "model_module_version": "2.0.0",
      "model_name": "LayoutModel",
      "state": {}
     },
     "15424801f07f456e91114f26209b1686": {
      "model_module": "@jupyter-widgets/controls",
      "model_module_version": "2.0.0",
      "model_name": "VBoxModel",
      "state": {
       "children": [
        "IPY_MODEL_553155cc57b64fcda9b71a069a9db4ab",
        "IPY_MODEL_feb873197c37487992562c4558081477"
       ],
       "layout": "IPY_MODEL_ec4b199f44c0420997e17d039d3a6564"
      }
     },
     "16a50842ba45474eaada6a5090a188ea": {
      "model_module": "@jupyter-widgets/controls",
      "model_module_version": "2.0.0",
      "model_name": "VBoxModel",
      "state": {
       "children": [
        "IPY_MODEL_5d0e1a1fee6140c0a9bda85cdace0954",
        "IPY_MODEL_3798a51ad7404559bc155f03f3e19c4f",
        "IPY_MODEL_03beb9d9be0f4980a3c336f4591ec55d",
        "IPY_MODEL_05210b9b7d714fbfb92eff235322bf18"
       ],
       "layout": "IPY_MODEL_9aa470e546a64582b3a215c07161521a"
      }
     },
     "16d50b07e6ae41caa15230203046ec88": {
      "model_module": "@jupyter-widgets/base",
      "model_module_version": "2.0.0",
      "model_name": "LayoutModel",
      "state": {
       "width": "175px"
      }
     },
     "16ec39ef5cc342d49193096b35db7380": {
      "model_module": "@jupyter-widgets/base",
      "model_module_version": "2.0.0",
      "model_name": "LayoutModel",
      "state": {}
     },
     "16fda281f4e74ada9f339b3174e6e1af": {
      "model_module": "@jupyter-widgets/controls",
      "model_module_version": "2.0.0",
      "model_name": "FloatTextModel",
      "state": {
       "description": "$d_{1,1}$:",
       "layout": "IPY_MODEL_a8bd4bef8a7f4bcfac4ffd3f8c665c28",
       "step": null,
       "style": "IPY_MODEL_bd7ec5c54ab74df48188b4d8c11b8833",
       "value": 3
      }
     },
     "17e8c366cd4049e69838ccbc8f07637f": {
      "model_module": "@jupyter-widgets/controls",
      "model_module_version": "2.0.0",
      "model_name": "FloatTextModel",
      "state": {
       "description": "$a_{2,2}$:",
       "layout": "IPY_MODEL_90e8d1a795194f82b76c3e4ad874ea82",
       "step": null,
       "style": "IPY_MODEL_5dfdcb1f65a049768d2cd7340b5643e5",
       "value": 0.7071
      }
     },
     "18693d84fdf74b8097bf4a4d7215e928": {
      "model_module": "@jupyter-widgets/controls",
      "model_module_version": "2.0.0",
      "model_name": "HBoxModel",
      "state": {
       "children": [
        "IPY_MODEL_acf5af8e63b9434ab4677534e852f3dc",
        "IPY_MODEL_e480133c380a4e1db0399e7fc47b362c",
        "IPY_MODEL_86df769dd9ac4d2996b69d76ef3d5f92"
       ],
       "layout": "IPY_MODEL_2a3f1b1b05c24df2b99a999f875fb4fc"
      }
     },
     "18a3bff0d2974ad9836fb7d0ace945b2": {
      "model_module": "@jupyter-widgets/controls",
      "model_module_version": "2.0.0",
      "model_name": "LinkModel",
      "state": {
       "source": [
        "IPY_MODEL_acf5af8e63b9434ab4677534e852f3dc",
        "value"
       ],
       "target": [
        "IPY_MODEL_e480133c380a4e1db0399e7fc47b362c",
        "value"
       ]
      }
     },
     "193498a55ef345418b5efbfd28fdaaeb": {
      "model_module": "@jupyter-widgets/controls",
      "model_module_version": "2.0.0",
      "model_name": "FloatTextModel",
      "state": {
       "description": "$b_{1,1}$:",
       "layout": "IPY_MODEL_ec3323ff26bf4cc6b290fed76bee3abc",
       "step": null,
       "style": "IPY_MODEL_ab61ec647f224d39982a017f298e2b78",
       "value": 1
      }
     },
     "196aa18cb7614b0f83e6a60a8a3b8d78": {
      "model_module": "@jupyter-widgets/controls",
      "model_module_version": "2.0.0",
      "model_name": "VBoxModel",
      "state": {
       "children": [
        "IPY_MODEL_c3b92e63aab44852a43914c83f3b82fb",
        "IPY_MODEL_529d28888cac4c30a2e6f7f77a7796d4"
       ],
       "layout": "IPY_MODEL_0620f08bf3a14fc9b6d212a217b83aaf"
      }
     },
     "1b207fafa76c479a92975ced69942b2f": {
      "model_module": "@jupyter-widgets/controls",
      "model_module_version": "2.0.0",
      "model_name": "FloatTextModel",
      "state": {
       "description": "$b_{2,1}$:",
       "layout": "IPY_MODEL_7aa98b66a1c342df98b2e52b97ad35c0",
       "step": null,
       "style": "IPY_MODEL_2dca8015c0b94b8480993657135816ea"
      }
     },
     "1b4878818a614a6ca21c1624ebf8e6c0": {
      "model_module": "@jupyter-widgets/controls",
      "model_module_version": "2.0.0",
      "model_name": "DescriptionStyleModel",
      "state": {
       "description_width": ""
      }
     },
     "1b4d842e44be4e1c94313f33bbdd7188": {
      "model_module": "@jupyter-widgets/controls",
      "model_module_version": "2.0.0",
      "model_name": "HBoxModel",
      "state": {
       "children": [
        "IPY_MODEL_ab8061c020da4f0ab83ad382de11217e",
        "IPY_MODEL_b1bc68794182461f86cd685c48f7cf0f"
       ],
       "layout": "IPY_MODEL_dd22c976e5f148b88e39a21b72eb64fa"
      }
     },
     "1cf281a2aef741c1b236d95dde67ac89": {
      "model_module": "@jupyter-widgets/controls",
      "model_module_version": "2.0.0",
      "model_name": "CheckboxStyleModel",
      "state": {
       "description_width": ""
      }
     },
     "1ede4b4eeff947c296556310ce52544e": {
      "model_module": "@jupyter-widgets/controls",
      "model_module_version": "2.0.0",
      "model_name": "FloatTextModel",
      "state": {
       "description": "$b_{2,1}$:",
       "layout": "IPY_MODEL_361fbfde2b4e4f7dbb10c4f81afbc339",
       "step": null,
       "style": "IPY_MODEL_7786e1b7a23544c78b34e072f3730be6"
      }
     },
     "1f32131e633d4cce90469a7ba48521a0": {
      "model_module": "@jupyter-widgets/controls",
      "model_module_version": "2.0.0",
      "model_name": "DescriptionStyleModel",
      "state": {
       "description_width": ""
      }
     },
     "1fd4c8006d3845cfab4e1e9e67c0ad59": {
      "model_module": "@jupyter-widgets/base",
      "model_module_version": "2.0.0",
      "model_name": "LayoutModel",
      "state": {}
     },
     "2017344b5f3948f39f85fc8a846ad568": {
      "model_module": "@jupyter-widgets/controls",
      "model_module_version": "2.0.0",
      "model_name": "FloatTextModel",
      "state": {
       "description": "$b_{2,1}$:",
       "layout": "IPY_MODEL_f80a7f21d90c4740a3623cac7452e743",
       "step": null,
       "style": "IPY_MODEL_dd75147cbf5348afb9b7051cbc8ecbb9"
      }
     },
     "2035707567af408085a2f0179ffdd5c2": {
      "model_module": "@jupyter-widgets/controls",
      "model_module_version": "2.0.0",
      "model_name": "SliderStyleModel",
      "state": {
       "description_width": ""
      }
     },
     "22931632635242adb743a0c7450db87d": {
      "model_module": "@jupyter-widgets/controls",
      "model_module_version": "2.0.0",
      "model_name": "LinkModel",
      "state": {
       "source": [
        "IPY_MODEL_d6492dbf11b647d7b4488744fbfa0289",
        "value"
       ],
       "target": [
        "IPY_MODEL_37d52418a358494db6eefb3970472cbe",
        "value"
       ]
      }
     },
     "22eb1e15a6e649e598ed23d9eb07357e": {
      "model_module": "@jupyter-widgets/base",
      "model_module_version": "2.0.0",
      "model_name": "LayoutModel",
      "state": {
       "width": "175px"
      }
     },
     "23727b442d82456fa622e473626f7922": {
      "model_module": "@jupyter-widgets/base",
      "model_module_version": "2.0.0",
      "model_name": "LayoutModel",
      "state": {
       "width": "175px"
      }
     },
     "23e2fa947023419a8a7913e20014da6e": {
      "model_module": "@jupyter-widgets/controls",
      "model_module_version": "2.0.0",
      "model_name": "DescriptionStyleModel",
      "state": {
       "description_width": ""
      }
     },
     "2507d736e0d74d5287e37d70b58cca54": {
      "model_module": "@jupyter-widgets/controls",
      "model_module_version": "2.0.0",
      "model_name": "FloatTextModel",
      "state": {
       "description": "$a_{2,2}$:",
       "layout": "IPY_MODEL_370b6b22d1cc4cc694346c7f27c29e13",
       "step": null,
       "style": "IPY_MODEL_51599d5c50c74e9cacc99cd2d70fe530",
       "value": 0.6
      }
     },
     "26019875e4f64e8a9bf2247d1a71984e": {
      "model_module": "@jupyter-widgets/base",
      "model_module_version": "2.0.0",
      "model_name": "LayoutModel",
      "state": {
       "width": "175px"
      }
     },
     "26ac40dd25504f7e8aca20ee759ece9f": {
      "model_module": "@jupyter-widgets/base",
      "model_module_version": "2.0.0",
      "model_name": "LayoutModel",
      "state": {}
     },
     "27cd4c08f2d04319b1ef8d6d3d4b455e": {
      "model_module": "@jupyter-widgets/base",
      "model_module_version": "2.0.0",
      "model_name": "LayoutModel",
      "state": {}
     },
     "2828073ac0454ef082a4c558ffb4c840": {
      "model_module": "@jupyter-widgets/base",
      "model_module_version": "2.0.0",
      "model_name": "LayoutModel",
      "state": {}
     },
     "283d7f205bec4753853ee8f81587a988": {
      "model_module": "@jupyter-widgets/controls",
      "model_module_version": "2.0.0",
      "model_name": "DescriptionStyleModel",
      "state": {
       "description_width": ""
      }
     },
     "284585461cbb41eaaf75a64afbc61563": {
      "model_module": "@jupyter-widgets/controls",
      "model_module_version": "2.0.0",
      "model_name": "HBoxModel",
      "state": {
       "children": [
        "IPY_MODEL_3b53c520adc84ff1a5ce625c5668a2e0",
        "IPY_MODEL_6b783f7572964343a156c0bf41665309",
        "IPY_MODEL_8252a2330c8a41ae9eac3d4abe191ba9",
        "IPY_MODEL_a17e46fec9ed4963ba6c8bb3e62ac499"
       ],
       "layout": "IPY_MODEL_16ec39ef5cc342d49193096b35db7380"
      }
     },
     "28c73e1d1cc24f07b4069948a97a36bf": {
      "model_module": "@jupyter-widgets/base",
      "model_module_version": "2.0.0",
      "model_name": "LayoutModel",
      "state": {}
     },
     "28d41c8b4e6c45acaa945c047dfa52e2": {
      "model_module": "@jupyter-widgets/controls",
      "model_module_version": "2.0.0",
      "model_name": "DescriptionStyleModel",
      "state": {
       "description_width": ""
      }
     },
     "28fb65926e0944bea52ef80c7faaaa93": {
      "model_module": "@jupyter-widgets/controls",
      "model_module_version": "2.0.0",
      "model_name": "VBoxModel",
      "state": {
       "children": [
        "IPY_MODEL_3c37a8b9d48249c582280038a29f08b7",
        "IPY_MODEL_9d5d9688b3164a2cb6b68a88acc14938",
        "IPY_MODEL_9a1e2338799446519ca8b0086ae848aa",
        "IPY_MODEL_77fda80631644a5f83cf575d6f885d7c"
       ],
       "layout": "IPY_MODEL_14786d19f2cb4f379567cb76c2ad3d23"
      }
     },
     "2906617751154a78b66fe13a0ad7a83c": {
      "model_module": "@jupyter-widgets/base",
      "model_module_version": "2.0.0",
      "model_name": "LayoutModel",
      "state": {
       "width": "175px"
      }
     },
     "297a2462ec22408d917153a36b632f7a": {
      "model_module": "@jupyter-widgets/controls",
      "model_module_version": "2.0.0",
      "model_name": "DescriptionStyleModel",
      "state": {
       "description_width": ""
      }
     },
     "29d18009e1914b22b48a7d390453eb33": {
      "model_module": "@jupyter-widgets/controls",
      "model_module_version": "2.0.0",
      "model_name": "VBoxModel",
      "state": {
       "children": [
        "IPY_MODEL_bdbdce91e44444bfa2ee8de0d11e9ff1",
        "IPY_MODEL_b1b2c75cd7f8408bb17007cc60057163"
       ],
       "layout": "IPY_MODEL_27cd4c08f2d04319b1ef8d6d3d4b455e"
      }
     },
     "2a3f1b1b05c24df2b99a999f875fb4fc": {
      "model_module": "@jupyter-widgets/base",
      "model_module_version": "2.0.0",
      "model_name": "LayoutModel",
      "state": {}
     },
     "2ab1e245853b439a94c55a114c7bc950": {
      "model_module": "@jupyter-widgets/base",
      "model_module_version": "2.0.0",
      "model_name": "LayoutModel",
      "state": {
       "width": "175px"
      }
     },
     "2ab806e182574880abccbab05a0b7205": {
      "model_module": "@jupyter-widgets/controls",
      "model_module_version": "2.0.0",
      "model_name": "DescriptionStyleModel",
      "state": {
       "description_width": ""
      }
     },
     "2b0434d5301f4c2689798f03ef8cf2b2": {
      "model_module": "@jupyter-widgets/controls",
      "model_module_version": "2.0.0",
      "model_name": "VBoxModel",
      "state": {
       "children": [
        "IPY_MODEL_7abc80a5f9254ac3a702b567736f1bd7",
        "IPY_MODEL_18693d84fdf74b8097bf4a4d7215e928",
        "IPY_MODEL_8a23b048764b43f69bffd4c3bf1f7caf",
        "IPY_MODEL_284585461cbb41eaaf75a64afbc61563"
       ],
       "layout": "IPY_MODEL_8a89d0a77b41411c9170de54bd3dacc5"
      }
     },
     "2b47c28ed1424f339a892d269ee1bb97": {
      "model_module": "@jupyter-widgets/controls",
      "model_module_version": "2.0.0",
      "model_name": "IntSliderModel",
      "state": {
       "behavior": "drag-tap",
       "description": "Maximum $y$:",
       "layout": "IPY_MODEL_aaf951c17ddf4acd91bcab159b416775",
       "max": 1000,
       "style": "IPY_MODEL_d744717b2a064214b0aec91c65b407b5",
       "value": 10
      }
     },
     "2bb84bc089ef4202a87d202eb0aca815": {
      "model_module": "@jupyter-widgets/controls",
      "model_module_version": "2.0.0",
      "model_name": "SliderStyleModel",
      "state": {
       "description_width": ""
      }
     },
     "2bbfbfd1e19c4c8fa496f1f99952a77b": {
      "model_module": "@jupyter-widgets/controls",
      "model_module_version": "2.0.0",
      "model_name": "DescriptionStyleModel",
      "state": {
       "description_width": ""
      }
     },
     "2dca8015c0b94b8480993657135816ea": {
      "model_module": "@jupyter-widgets/controls",
      "model_module_version": "2.0.0",
      "model_name": "DescriptionStyleModel",
      "state": {
       "description_width": ""
      }
     },
     "2eea99495d90441ca025e69c35e46dfd": {
      "model_module": "@jupyter-widgets/controls",
      "model_module_version": "2.0.0",
      "model_name": "DescriptionStyleModel",
      "state": {
       "description_width": ""
      }
     },
     "301d163f2061435f9866ff1f970a39bc": {
      "model_module": "@jupyter-widgets/controls",
      "model_module_version": "2.0.0",
      "model_name": "VBoxModel",
      "state": {
       "children": [
        "IPY_MODEL_734b9ec307ed4f498626875dc061556d",
        "IPY_MODEL_b68f7457f78c48baa9b137dc36feb8a8"
       ],
       "layout": "IPY_MODEL_fd36bfeb29ea488dbcd035db612571eb"
      }
     },
     "3169aa2587c643f08ce77e8129745e99": {
      "model_module": "@jupyter-widgets/base",
      "model_module_version": "2.0.0",
      "model_name": "LayoutModel",
      "state": {}
     },
     "31cd8ec8dedc4f8180c3d96f52fba086": {
      "model_module": "@jupyter-widgets/base",
      "model_module_version": "2.0.0",
      "model_name": "LayoutModel",
      "state": {}
     },
     "320f0968cc334be3bbcab4442aadaf50": {
      "model_module": "@jupyter-widgets/controls",
      "model_module_version": "2.0.0",
      "model_name": "DropdownModel",
      "state": {
       "_options_labels": [
        "A",
        "B",
        "AB",
        "BA"
       ],
       "description": "Transformation$:",
       "index": 0,
       "layout": "IPY_MODEL_95df916ad6344afeaa4efc35f12833e3",
       "style": "IPY_MODEL_3ee130e7271847f49bc5ecdf23157a2f"
      }
     },
     "32251dfafe8649e580cd6797efbbe019": {
      "model_module": "@jupyter-widgets/base",
      "model_module_version": "2.0.0",
      "model_name": "LayoutModel",
      "state": {}
     },
     "324fdc2ed9204f33ab94e16f6e4ab48c": {
      "model_module": "@jupyter-widgets/controls",
      "model_module_version": "2.0.0",
      "model_name": "FloatTextModel",
      "state": {
       "description": "$d_{2,1}$:",
       "layout": "IPY_MODEL_3c3c4f31d0944040aae0747ff0c014bd",
       "step": null,
       "style": "IPY_MODEL_cc3779738a8c499e9872085a2b8c36f2",
       "value": -1
      }
     },
     "33415bab2bca46c791f366f13996f9c9": {
      "model_module": "@jupyter-widgets/base",
      "model_module_version": "2.0.0",
      "model_name": "LayoutModel",
      "state": {
       "width": "175px"
      }
     },
     "33da55d6db9e4a56a58991734a798be9": {
      "model_module": "@jupyter-widgets/controls",
      "model_module_version": "2.0.0",
      "model_name": "HBoxModel",
      "state": {
       "children": [
        "IPY_MODEL_15424801f07f456e91114f26209b1686",
        "IPY_MODEL_47c9f5f793e84f5f81e519b8c27240a8"
       ],
       "layout": "IPY_MODEL_9baf8ff9d3d84ced99581e44c8fabfb8"
      }
     },
     "33f4006fdeb04629a0ae0ecb96c7f1b7": {
      "model_module": "@jupyter-widgets/controls",
      "model_module_version": "2.0.0",
      "model_name": "DescriptionStyleModel",
      "state": {
       "description_width": ""
      }
     },
     "342f56d1fa294758ac6943e579c93c47": {
      "model_module": "@jupyter-widgets/controls",
      "model_module_version": "2.0.0",
      "model_name": "VBoxModel",
      "state": {
       "children": [
        "IPY_MODEL_1050b36cb99340598228d6057f4f18bb",
        "IPY_MODEL_76f169b1792b440e8c8f6b9bd6fd9fde"
       ],
       "layout": "IPY_MODEL_e53f30940df74bb086971cebd21ded5e"
      }
     },
     "3563aebaa9254c14838b9b6fc6a79c10": {
      "model_module": "@jupyter-widgets/controls",
      "model_module_version": "2.0.0",
      "model_name": "VBoxModel",
      "state": {
       "children": [
        "IPY_MODEL_8caf289e81584f3ea5d87125d2953d8f",
        "IPY_MODEL_65a314adfdc443c6864e2b252be1c562"
       ],
       "layout": "IPY_MODEL_8e6675e664fa4bb488aaea5cddd84f10"
      }
     },
     "361fbfde2b4e4f7dbb10c4f81afbc339": {
      "model_module": "@jupyter-widgets/base",
      "model_module_version": "2.0.0",
      "model_name": "LayoutModel",
      "state": {
       "width": "175px"
      }
     },
     "36432d1a13834030b6c30485c77c6bc6": {
      "model_module": "@jupyter-widgets/base",
      "model_module_version": "2.0.0",
      "model_name": "LayoutModel",
      "state": {}
     },
     "36691b2816d248b297d995d6e01adb89": {
      "model_module": "@jupyter-widgets/base",
      "model_module_version": "2.0.0",
      "model_name": "LayoutModel",
      "state": {}
     },
     "370b6b22d1cc4cc694346c7f27c29e13": {
      "model_module": "@jupyter-widgets/base",
      "model_module_version": "2.0.0",
      "model_name": "LayoutModel",
      "state": {
       "width": "175px"
      }
     },
     "37522e6fe4cf41cd8adae1eed6ce308c": {
      "model_module": "@jupyter-widgets/base",
      "model_module_version": "2.0.0",
      "model_name": "LayoutModel",
      "state": {
       "width": "175px"
      }
     },
     "3798a51ad7404559bc155f03f3e19c4f": {
      "model_module": "@jupyter-widgets/controls",
      "model_module_version": "2.0.0",
      "model_name": "HBoxModel",
      "state": {
       "children": [
        "IPY_MODEL_7d127db59762434a960f8ab7b8780fe1",
        "IPY_MODEL_7f75b6c2af714cc89ed1e4c32e41e541",
        "IPY_MODEL_96e0ead6115d4121bacd6f3ffb89073d"
       ],
       "layout": "IPY_MODEL_2828073ac0454ef082a4c558ffb4c840"
      }
     },
     "37d52418a358494db6eefb3970472cbe": {
      "model_module": "@jupyter-widgets/controls",
      "model_module_version": "2.0.0",
      "model_name": "IntSliderModel",
      "state": {
       "behavior": "drag-tap",
       "description": "Maximum $y$:",
       "layout": "IPY_MODEL_68817e029998457ba236873383d88873",
       "max": 1000,
       "style": "IPY_MODEL_ccf8e78027ca4ad695164fd33210b632",
       "value": 10
      }
     },
     "3898e1dfe38f47af8f8a006c5a40b8cf": {
      "model_module": "@jupyter-widgets/controls",
      "model_module_version": "2.0.0",
      "model_name": "DescriptionStyleModel",
      "state": {
       "description_width": ""
      }
     },
     "38e3633d9d2743d3a52232f009413029": {
      "model_module": "@jupyter-widgets/base",
      "model_module_version": "2.0.0",
      "model_name": "LayoutModel",
      "state": {}
     },
     "3a44e82abb4a4bf19ee47a1cb15d0a05": {
      "model_module": "@jupyter-widgets/base",
      "model_module_version": "2.0.0",
      "model_name": "LayoutModel",
      "state": {}
     },
     "3ab16bad9bb14e6884a8d274d8adb319": {
      "model_module": "@jupyter-widgets/controls",
      "model_module_version": "2.0.0",
      "model_name": "SliderStyleModel",
      "state": {
       "description_width": ""
      }
     },
     "3b53c520adc84ff1a5ce625c5668a2e0": {
      "model_module": "@jupyter-widgets/controls",
      "model_module_version": "2.0.0",
      "model_name": "VBoxModel",
      "state": {
       "children": [
        "IPY_MODEL_3fd8a12eab8e4da58d819ac3f4512003",
        "IPY_MODEL_61342ba3b2294b8a8dc4880a899dbfcb"
       ],
       "layout": "IPY_MODEL_d2a905ff059745ff80b7ddb294632541"
      }
     },
     "3be241715f03477fb8d6130abaaa48c5": {
      "model_module": "@jupyter-widgets/base",
      "model_module_version": "2.0.0",
      "model_name": "LayoutModel",
      "state": {
       "width": "175px"
      }
     },
     "3c044c6cc80243c697fa53e357fd5eaf": {
      "model_module": "@jupyter-widgets/controls",
      "model_module_version": "2.0.0",
      "model_name": "DescriptionStyleModel",
      "state": {
       "description_width": ""
      }
     },
     "3c32504ee9ea456aa0acca99098ef9a2": {
      "model_module": "@jupyter-widgets/base",
      "model_module_version": "2.0.0",
      "model_name": "LayoutModel",
      "state": {
       "width": "175px"
      }
     },
     "3c37a8b9d48249c582280038a29f08b7": {
      "model_module": "@jupyter-widgets/output",
      "model_module_version": "1.0.0",
      "model_name": "OutputModel",
      "state": {
       "layout": "IPY_MODEL_36432d1a13834030b6c30485c77c6bc6",
       "outputs": [
        {
         "data": {
          "image/png": "iVBORw0KGgoAAAANSUhEUgAAB5sAAAPeCAYAAAAyJ31NAAAAOXRFWHRTb2Z0d2FyZQBNYXRwbG90bGliIHZlcnNpb24zLjcuMSwgaHR0cHM6Ly9tYXRwbG90bGliLm9yZy/bCgiHAAAACXBIWXMAAA9hAAAPYQGoP6dpAADuMklEQVR4nOzdeZyNdf/H8feZfcymyZBJ0UKioUHSnRISolIp45atlUJuxU0bohQt2lASsrYQP9kpKimDsYxEgyjLWJsJM2eWc35/nHtOM2Y7Z+bMXNeceT0fDw/nnOt7Xdf7upx7uc7n+nwvi91utwsAAAAAAAAAAAAAADf4GB0AAAAAAAAAAAAAAFDxUGwGAAAAAAAAAAAAALiNYjMAAAAAAAAAAAAAwG0UmwEAAAAAAAAAAAAAbqPYDAAAAAAAAAAAAABwG8VmAAAAAAAAAAAAAIDbKDYDAAAAAAAAAAAAANxGsRkAAAAAAAAAAAAA4DaKzQAAAAAAAAAAAAAAt1FsBgCgDK1Zs0YNGjTQmjVrjI4CAAAAAIBX4xocAIDyZ7Hb7XajQwAA4I3sdrtuvPFGxcfH64YbbtDPP/8si8VidCwAAAAAALwO1+AAABiDzmYAAMrIqlWrFB8fL0mKj4/XqlWrDE4EAAAAAIB34hocAABj0NkMAEAZyLmjesuWLbLZbPLx8VHTpk25sxoAAAAAAA/jGhwAAOPQ2QwAQBnIuaPaZrNJkmw2G3dWAwAAAABQBrgGBwDAOHQ2AwDgYTl3VG/dulXZ2dnOz319fdWkSRPurAYAAAAAwEO4BgcAwFh0NgMA4GE5d1TnvsiVpOzsbO6sBgAAAADAg7gGBwDAWHQ2AwDgQRc+J+pCPDcKAAAAAADP4BocAADj0dkMAIAHZWRk6NChQwVe5EqO50b98ccfysjIKOdkAAAAAAB4F67BAQAwHp3NAAB42B9//KETJ05Iks6ePatWrVpp/fr1Cg0NlSRVr15dtWrVMjIiAAAAAABegWtwAACMRbEZAIAylJqaqoiICKWkpCg8PNzoOAAAAAAAeC2uwQEAKH9Mow0AAAAAAAAAAAAAcBvFZgAAAAAAAAAAAACA2yg2AwAAAAAAAAAAAADcRrEZAAAAAAAAAAAAAOA2is0AAAAAAAAAAAAAALdRbAYAAAAAAAAAAAAAuI1iMwAAAAAAAAAAAADAbRSbAQAAAAAAAAAAAABuo9gMAAAAAAAAAAAAAHAbxWYAAAAAAAAAAAAAgNsoNgMAAAAAAAAAAAAA3EaxGQAAAAAAAAAAAADgNorNAAAAAAAAAAAAAAC3UWwGAAAAAAAAAAAAALiNYjMAAAAAAAAAAAAAwG0UmwEAAAAAAAAAAAAAbqPYDAAAAAAAAAAAAABwG8VmAAAAAAAAAAAAAIDbKDbDbTNmzJDFYpHFYtHvv/9umm0ZuY/y3A8AAAAAAAAAAABgBhSbvcy6deucBc9Ro0YZHQeVyOTJk53fvdx/fHx8FBERodq1a6t9+/Z68cUXtXv3bqPjAgAAAAAAAAAAoJQoNsPj6PAtO2Y+t9u2bSvwc7vdrtTUVB06dEirVq3S2LFj1aBBA9111106fPhw+YYEAAAAAC/iTbOFlVZFyWkWnC8AAAB4CsVmuK1Pnz6y2+2y2+2qU6eOabYFY+UUm6tWraqdO3c6/2zfvl0//PCD5s6dq0GDBikqKkqS9PXXX6tJkyZKSkoyMDUAAAAAeEZKSoo++OAD3XnnnapTp46qVKmiiIgI1atXTz169NBnn32m7Oxso2MCAAAAgEf5GR0AQMVns9mUmJgoSWrUqJGuu+66fGNuvvlmde/eXa+++qoGDhyo6dOn6/jx47rnnnu0Y8cO+fr6lndsAAAAAPCIjz/+WMOHD9epU6fyfJ6WlqbU1FT99ttvmjt3rho0aKAPP/xQLVu2NCgpAAAAAHgWnc0ASm3Pnj06f/68JKlx48ZFjg0JCdHHH3+stm3bSpJ++eUXzZo1q8wzAgAAAEBZGDp0qB577DGdOnVKfn5+euihh/T555/r559/1vfff5/v+uf222/Xl19+6ZF9l8dsYcxI5p34dwUAAICnUGyuZEaNGuV8Jo8kpaena8KECWrSpInCwsIUFham5s2b6/3331dWVlaB2yjsuT7r1q2TxWJR3759nZ9dccUVzrE5f9atW1fstnJLTEzU2LFj1b59e9WqVUuBgYEKDQ1V3bp11bt3b/3000+lPi+uOHPmjIYPH6769esrODhY1atX1+23364vvvjC5W2U9FhKcm5Lsz935X5ec3HFZkny8fHRCy+84Hy/cOFCj+QAAAAAgPL0wQcf6I033pAkXXbZZdq8ebNmzZqlBx54QM2bN1fLli31yCOPaM2aNZo/f74CAgJktVrVo0ePPNdRAAAAAFBRMY12JZacnKz27dtr+/bteT6Pj49XfHy8Vq1apUWLFsnHx7h7EtatW6fWrVvn+zwjI0NJSUlKSkrSp59+quHDh2vcuHFlliPn7vOjR486P0tPT9fatWu1du1aPfzww7rllluK3EZ5H0t57s/dYrPkmFY7KChI6enp2rhxY6n2DwAAAADl7eDBg3r22WclSaGhofrmm2909dVXFzq+W7dustvt6t69uzIyMtSzZ0/t2LHDeTM4AAAAAFRElbezOStLOnfO8Xcldd9992n37t0aNGiQVq9erS1btmju3Lm69tprJUlLlizR1KlTXd7eDTfcoJ07d2rs2LHOz1auXKmdO3fm+XPDDTe4vM2srCyFhITowQcf1JQpU7Ru3Tpt3bpVK1as0JtvvqnatWtLkl577TVNnz7d5e26IyUlRe3bt3cWmrt166Zly5Zp8+bNmjt3rpo1a6ZPPvlEkyZNKrNjKcm5Lc9zl1Ns9vX1VcOGDV1ax9/fXzVq1JAknTp1StnZ2aXKAAAAAADlaeLEiUpPT5ckjRw5sshCc464uDh16tRJkmMmqq+//jrP8gtnI0tJSdGYMWMUGxurqlWrymKxaMaMGc7xrswWJkknT57U0KFDVa9ePQUHB6tGjRpq166dvvrqq2K3U9w+PDGDWs75MHpWs3PnzqlGjRqyWCy68sorlZmZWeC49PR0tWzZUhaLRYGBgflmGStOaY513rx5zvP9xBNPFDru0KFDzu9MvXr1dO7cuTzLi/t3PXLkiIYPH64mTZooIiJCAQEBuuSSSxQTE6Pu3btrxowZSk1Ndeu4AQAA4KXslUl2tt2+bZvd/uabdnvXrnb7Pfc4/n7zTcfn2dlGJyy1b7/91i7JLsk+cuTIfMtHjhzpXO7v72//9ttv8405deqUvUaNGnZJ9kaNGuVbPn36dOc2Dhw44PZyd8aeOHHCfubMmULXt1qt9nbt2tkl2WvXrm3PysoqVZ6CDBkyxLn+q6++mm95RkaG/Y477nCOMcuxeGJ/rsr5vtSvX9+t9erWres8nrS0tBLvHzCzlJQUuyR7SkqK0VEAAADgITabzR4ZGWmXZA8ODrb/9ddfLq+7cuVK53XQvffem2dZ7mv2vXv32uvUqZPnWlOSffr06c7xrlwjbtu2zR4VFZVvOzl/Hn/88SK3U9w+cmc+duyYvXHjxoXu66677rJnF/DbS+7fMor6M3z48ELPa2mv/XNMnDjRuZ2PPvoo33KbzWbv2rWrXZLdYrHY582b59b2PXGsPXr0cI5btGhRvuXZ2dn2Vq1a2SXZ/fz87Js2bco3pqjz9d1339nDw8OLzbhkyRK3jh0oD1yDAwBQ/ipPZ3N6ujRxojR0qLRwoeO9r6/j74ULHZ+/847jfSUxcOBA3Xbbbfk+j4yMdD4beMeOHUpJSSnnZP+oVq2aqlatWujygIAATZgwQZJjCjNPP/PKarU6u34bNWqk//73v/nG+Pv7a9q0afL39y9yW+V9LOW1v2PHjik5OVmS61No5zhz5owkx5RzQUFBJdo/AAAAAJS3Xbt26fTp05KkW2+9VRERES6v27ZtW1WpUkWS9MMPPxQ6rmvXrjp8+LAGDhyo1atXa/PmzZo3b56uueYal/d15swZdejQQSdOnJAk9ejRQ8uXL9fmzZs1f/583XTTTfroo480ZcoUl7dZlJLOoGaGWc1y9OvXT5dffrkk6ZVXXlFGRkae5c8884y+/PJLSdKECRMUFxfn1vY9cayTJk1SnTp1JEmPPvqojh07lmf5hAkTtH79ekmOznN3ZpizWq2Ki4tTamqqwsLCNGzYMC1fvlxbtmzRTz/9pM8++0yDBw/WZZdd5tZxAwAAwHtVjmc222zSpEmOonLNmtIVV+RdHh0tnT4tLVjgeP/005KBzykuLz169Ch0WdOmTZ2vDxw4oOuvv74cEhXParUqOTlZZ8+elc1mkyTZ7Xbn8u3bt+fJXlpbtmxxFkR79+5d6POra9WqpTvuuENLly51edvlfSxltb+EhATna3eKzVlZWfrrr78kyTmdNgAAAABUBNu3b3e+btKkiVvr+vr6qnHjxtq4caNOnDihI0eOKDo6Ot+4xMRErVixQu3atXN+5u4126hRo5yFyDfeeEPPPPNMnm117dpV999/vxYvXuzWdgsTHx+vVatW5bmxvUmTJmrfvr0aNGig5ORkTZo0Kd/0z9dff73+/PPPAm+Ybt++vQYMGKDOnTtr9erVGj16tHr16iVfX1+PZL5QYGCgXnrpJT366KM6ePCgPvnkE/Xr10+S9M477+jtt9+WJA0ePDjP+XSVJ441PDxcs2bN0m233aaTJ0+qb9++WrZsmSwWixISEvTSSy9Jklq2bKnhw4e7lW/Dhg06cuSIJGnu3Lnq3LlznuU33nijHnzwQU2YMEHnz593a9sAAADwTt5fUZWknTulFSschebIyILHREY6li9f7hhfCdSvX7/QZZG5ztPff/9dHnEKde7cOY0bN06NGzdWSEiIateurYYNGyomJkYxMTGKjY11jj158qRH970z13ehuDuBmzdvXuz2yvtYymN/uTui3Sk2b9u2zfm8LnfusgYAAAAAo+W+frrkkkvcXj/3DbenTp0qcEyfPn3yFJrdlZ6erpkzZ0pyFHyHDBmSb4yvr68+/PBDj800VdIZ1Iye1exCffr0Ub169SRJr776qjIyMrRw4ULnOXzggQf05ptvlmjbnjrWli1basSIEZKkFStW6P3331daWpp69OihjIwMZ0Ha3aJ87i7pW2+9tdBxfn5+Cg8Pd2vbAAAA8E6Vo7N57Vrp/Pn8Hc0XioyUjhyRvvlGcnM64IooZ9quguTu4M3Ozi6POAX6/fff1aZNGx04cMCl8WlpaR7df05XsyRVr169yLHFdeeW97GU1/5KWmzOPV1caX5AAQAAAFAya/av0ep9q4sdd3nE5Xqq+VN5Pvtg0wc6lHKo2HXbXdVOt195u/N9ela6Rn470qV8T97wpGpXre18vyN5h+bsmFPseoF+gXq59csu7aOkct+UHRIS4vb6uddJTU0tcExRs5G5YsuWLc6ibq9evWSxWAocV6NGDbVv394j3c2emkGtvGcCu5Cvr69efvllxcXF6Y8//tCTTz6pOXPmyGaz6dZbb9WsWbMKnfnMXaU51pEjR2rVqlXatGmThg0bpm+++Ua7d++WJH3wwQfOqbbdUbNmTefr6dOn6+mnn3Z7GwAAAKhcvL/YnJUlbdwoXXSRa+MjI6Uff5QGDpT8vP/0mF3Pnj114MABWSwW9e3bV3Fxcbr22msVFRWlwMBASZLNZnPeqZv7gswTcm+vsAvzgsYWpLyPpbz2l1NsjoyM1KWXXuryep988okkxzOvO3bsWKJ9AwAAACi5tMw0/ZX+V7HjIoPzzxB2NuOsS+umZea/qdWV9SQp2573xufM7EyX1g3y80yXblHCwsKcr8+ePev2+rnXKaw7tFGjRu4HyyUxMdH5urjCbLNmzTxSbC7NDGrnzp3Tu+++q/nz52vXrl1F3vju6VnNCvLggw/qtdde07Zt2zRt2jRJUsOGDbV48WLnNXVJeepY/fz8NGfOHF1//fU6d+6cFi1aJEmKi4vTQw89VKJsLVu21JVXXqn9+/dr8ODBmjNnju699161atVKzZo1U0BAQIm2CwAAAO/l/dVUq1XKzJRc/T/DAQGO8VYrxWaD/frrr87u1xEjRuiVV14pcFzu7mNPy30xnJyc7JxGqyDHjx8vdFl5H0t57e/8+fNKSkqS5F5X89KlS51TlPfs2TPPndMAAAAAykewf7CqBlUtdlxoQGiBn7mybrB/cL7PXFlPknwteaf/9ff1d2ndQL/SFQJdcfHFFztf55522FXJyckFbiu3i1y9ab4Q7szUFRUVVap95SjpDGpGz2pWEIvFoscee0xPPeXo6q9evbqWL19e5BTYrvD0sV599dUaPny4XnzxRUmOabonT55c4nz+/v5asmSJunbtqt27dys+Pl7x8fGSpODgYLVq1Uo9e/ZUt27dyuy52QAAAKhYvL+aGhgo+ftL6emujc/IkIKCHOuhRIrrAHbVrl27nK/j4uIKHbd582aP7K8gMTExztfx8fG65ZZbCh2bc/FVEE8di6vntrzO3fbt253TfLlabD558qQee+wxSY5nUQ0fPrxUGQAAAACUzO1X3p5nimt3XDittquC/IL0ervXS7RuoxqN1Khd6bp9PSX39U9CQoJb62ZnZ2vHjh2SHEXe6OjoAsdVpkKe0bOaFeS3337TyJH/TPl+7ty5Unc0S54/1rNnz2r69OnO96dOndLWrVvVpk2bEmds0KCBdu7cqSVLlmjJkiVav3699u3bp7S0NK1YsUIrVqzQW2+9pWXLlhV7IwMAAAC8n2ceMGNmfn7STTdJrnZwnjkj/etfdDWXQlDQP1OWWa3WEm8nKyvL+fr8+fOFjpsyZUqJ91Gcpk2bOu8mnzVrVqEXeYcPH9aqVasK3Y6njsXVc1te587d5zUnJyerQ4cOOnr0qCTprbfeUt26dUuVAQAAAADK23XXXeecCeu7775zPhvZFWvWrHFep7Vs2bJM8kl5O6OLmolLkk6cOFFmOYpz4cxc06ZNU7t27VSrVq08xd2ynNXsQsePH1eHDh108uRJZ+f5uXPnCp01zFVlcawDBw7U/v37JTmmd7fb7erdu3epz5evr6+6dOmiadOmKSkpSUeOHNG0adOcU7Jv2bJFTzzxRKn2AQAAAO/g/cVmSWrbVqpSRTp9uuhxp087xpXi7k8oz5TI+/btK/F2chchZ86cWeCYyZMnO59JVBYCAwPVt29fSY7C6oQJE/KNycrK0mOPPaaMjIxCt+OpY3H13JbXuXO12Gy32zV//nw1b95cW7ZskSQ9/PDDzunIAAAAAKAisVgs6tmzpyTHNMdTp051ed333nvP+bpPnz6ejubUsGFD5+viZrUqyxnDimOGWc1yO3funDp16qT9+/crNDRUq1atUpcuXSRJH374oQ4dOlTibXv6WBcsWKAZM2ZIcnyXPv/8c0nSn3/+qX79+pU4Z0Fq1qyphx9+WBs3blSTJk0kSV9//XW5TGkOAAAAc6scxeaYGKljR+no0cILzqdPO5Z37OgYjxKLjY11duC++OKLWrVqlfbu3aukpCQlJSW5fCESGxur6667TpKjMPrvf/9bS5cu1datW7V48WI98MADevLJJ3XzzTeX2bFI0ksvvaRatWpJkv773//q3//+t1asWKGtW7dq/vz5+te//qXly5frhhtuKPNjcfXclte5yyk2WywW2Ww2JSYmKjExUTt27ND69ev1xRdfaPDgwapXr566d++uQ4cOyWKxaMyYMZo2bVqp9g0AAAAARnr66aed3aijR49WUlJSsevMnz9fS5culeSYqrhz585llq9Zs2aKiIiQVPRMXcnJyVq5cmWZ5SiOGWY1y53lgQce0ObNm+Xn56fPP/9cTZo00ejRo2WxWGS1WjV69OhSbT9HaY/1yJEjevzxxyVJV155pd5991116NBBAwYMkCR9/vnnmjVrVomzFsbf31+tWrWS5Diev/76y+P7AAAAQMVSOYrNPj5S//7S/fdLKSlSYqJ05Ih08qTj78REx+f33y89+aRjPEosLCxMgwYNkiRt3bpV7du31zXXXKO6deuqbt26+vnnn13ajsVi0axZs5xTf82bN0+dO3dW06ZN1aVLF3355ZeKiYnRF198UWbHIkkRERFasWKFLrnkEmeOjh07qmnTpurevbvi4+PVt29fPfnkk2V+LK6e2/I4dznFZcnRudysWTPFxMQoJiZGjRs31m233aYHH3xQ77zzjpKSkmSxWHTPPffo559/1gsvvFDi/QIAAACAGVxxxRUaP368JMdzc9u2bavt27cXOv7zzz9X7969JUkBAQGaNWuWfMrw94egoCD16tVLkuP68a233so3xmaz6YknnlB6enqZ5SiOGWY1y9GvXz8tX77cuc+OHTtKkho1aqT777/fmXHv3r0l2r6njtVut6tPnz46ffq0fH19NXv2bIWFhUmSxo8frwYNGkiSBgwYoIMHD7qV8fvvvy/yxomMjAytX79ekhQaGqqoqCi3tg8AAADvU3mqqkFB0tNPSxMmSF27Ot5nZzv+7trV8fnTT0u5npGDknvttdc0depU3XLLLYqMjJSvr2+JtnP99ddr27Zt6tevn2rXri1/f39FRkaqefPmeuONN7Rp06Y8U0uXlYYNG2rXrl0aNmyY6tatq8DAQFWrVk2tW7fW3Llz9cknn5Tbsbh6bsv63O3du7fQO7HDwsJUu3ZtxcbGqlevXpo6daqSkpK0aNGiIjvAAQAAAKAiGTRokJ5++mlJ0qFDh9SsWTP16tVLX375peLj4/Xjjz/qk08+0e23365u3bopIyNDAQEB+vTTT51TEZelUaNGOW+cfvbZZ/XQQw9p5cqV2rp1qz7//HPdcsstWrx4sZo3b+5cx2KxlHmu3Mwyq9moUaOcM3C9+OKLevTRR/Mt9/HxUXZ2tl588cUS7cNTxzpx4kStXr1akvTcc8/ppptuci4LDg7W7NmzFRAQoNTUVPXs2VM2m83ljGvXrtU111yj2267TRMmTHB+XzZs2KDp06frlltu0datWyVJjz76qPz8/Nw9DQAAAPA29soqM9NuP3vW8TcAAGUkJSXFLsmekpJidBQAAACUkcmTJ9sjIyPtkor8U79+ffu6desK3c7IkSOdY10xffp05/gDBw4UOGbbtm32qKioQjP16dPHPm3aNOf7Y8eOubUPVzN/++23znHffvttnmUJCQn2iy66qNCMMTEx9iNHjjjfjxw5skTnojAff/yxc93evXsXOi4uLs4uyW6xWOwJCQlu7SNHaY91x44d9sDAQLske/Pmze2Zhfyu9dprrzm38eqrr+ZbXtj5yv3vWdSf++67z56WllaicwCUJa7BAQAof5Wns/lCfn5SSIjjbwAAAAAAgBLq16+f9u3bp/fee08dOnTQZZddpqCgIIWGhuqqq65SXFyc5s2bp507dzqfd1teGjdurF9++UXPPPNMgTN1TZ8+Xampqc7xOc95Lk9Gzmq2bNky9evXT5J0++23a+rUqYWOHTlypHx9fWW32/X888+XaH+lOVar1aoePXrIarUqJCREs2fPLrSzeOjQoc7v2siRI7VlyxaX8g0bNkzLli3Tf/7zH7Vo0UKXX365goKCFBQUpDp16qhbt25aunSpFixYoKCgoBKdAwAAAHgXi91utxsdAgAAb5WamqqIiAilpKQoPDzc6DgAAABAPo8++qimTZumWrVq6Y8//jA6DgCUGNfgAACUv8rb2QwAAAAAAFDJpaWlafHixZKkFi1aGJwGAAAAQEVDsRkAAAAAAMBL7du3T4VNapedna3+/fvr5MmTkqTevXuXZzQAAAAAXoAHFgMAAAAAAHipMWPGaNOmTYqLi9ONN96o6tWrKy0tTTt27NDUqVO1detWSVLbtm3VqVMng9MCAAAAqGgoNgMAAAAAAHix3bt3a+TIkYUuv/nmm/XZZ5/JYrGUYyoAAAAA3oBiMwAAAAAAgJcaMWKE6tWrp9WrV+vgwYM6ceKEMjMzdfHFF6tZs2bq1q2b4uLi5OPDk9YAAAAAuM9iL+zBPQAAoNRSU1MVERGhlJQUhYeHGx0HAAAAAACvxTU4AADlj9tWAQAAAAAAAAAAAABuo9gMAAAAAAAAAAAAAHAbxWYAAAAAAAAAAAAAgNsoNgMAAAAAAAAAAAAA3EaxGQAAAAAAAAAAAADgNorNAAAAAAAAAAAAAAC3UWwGAAAAAAAAAAAAALiNYjMAAAAAAAAAAAAAwG0UmwEAAAAAAAAAAAAAbqPYDAAAAAAAAAAAAABwG8VmAAAAAAAAAAAAAIDbKDYDAAAAAAAAAAAAANxGsRkAAAAAAAAAAAAA4DaKzQAAAAAAAAAAAAAAt1FsBgAAAAAAAAAAAAC4jWIzAAAAAAAAAAAAAMBtFJsBAAAAAAAAAAAAAG6j2AwAAAAAAFABzZgxQxaLRRaLRb///nuF3YcnVJScZsH5AgAAgKdQbAYAAAAAACillJQUffDBB7rzzjtVp04dValSRREREapXr5569Oihzz77TNnZ2UbHBAAAAACP8jM6AAAAAAAAQEX28ccfa/jw4Tp16lSez9PS0pSamqrffvtNc+fOVYMGDfThhx+qZcuWBiUFAAAAAM+y2O12u9EhAADwVqmpqYqIiFBKSorCw8ONjgMAAAAPGzp0qN544w1Jkp+fn+Li4nT33Xerdu3aysjI0J49ezRv3jytXbtWkhQYGKjZs2era9euRsb2OjNmzFDfvn0lSQcOHFCdOnWMDQTAEFyDAwBQ/uhsBgAAAAAAKIEPPvjAWWi+7LLLtGTJEjVu3DjPmJYtW+qRRx7RZ599pl69eslqtapHjx66+uqrdf311xuQGgAAAAA8h2c2AwAAAAAAuOngwYN69tlnJUmhoaH65ptv8hWac+vWrZtmzpwpScrIyFDPnj3FZHMAAAAAKjqKzQAAAAAAAG6aOHGi0tPTJUkjR47U1VdfXew6cXFx6tSpkyQpMTFRX3/9dZ7lo0aNksVikcVikSSlpKRozJgxio2NVdWqVWWxWDRjxgzn+BkzZjjH//7774Xu9+TJkxo6dKjq1aun4OBg1ahRQ+3atdNXX31V7HaK28eFmdPT0zVhwgQ1adJEYWFhCgsLU/PmzfX+++8rKyur0IyJiYkaO3as2rdvr1q1aikwMFChoaGqW7euevfurZ9++qnQdT2lVq1aslgsatu2bbFjd+/eLX9/f1ksFr3++utu7ac0xzpv3jzn+X7iiScKHXfo0CHnd6ZevXo6d+5cnuXF/bseOXJEw4cPV5MmTRQREaGAgABdcskliomJUffu3TVjxgylpqa6ddwAAADwTkyjDQAAAAAA4Aa73a5PP/1UkhQcHKzHHnvM5XUHDRqkpUuXSpKmT5+uu+66q8Bxv/32m+64444ii8iu2L59u9q1a6cTJ044P0tPT9eaNWu0Zs0aPf7447rppptKtY8cycnJat++vbZv357n8/j4eMXHx2vVqlVatGiRfHzy9j6sW7dOrVu3zre9jIwMJSUlKSkpSZ9++qmGDx+ucePGeSRrQW688UYtXLhQmzdvlt1udxbQCzJkyBBlZWWpTp06Gjx4sMv7KO2xdu/eXUuXLtWcOXP00Ucf6c4779Q999yTZ4zNZlOvXr2UkpIiPz8/zZkzRyEhIS5n/P7779W5c+d8xeTk5GQlJycrMTFR8+fPV7Vq1dS5c2eXtwsAAADvRLEZAAAAAADADbt27dLp06clSbfeeqsiIiJcXrdt27aqUqWKzp8/rx9++KHQcV27dtXhw4c1cOBA3X333brooov022+/qXbt2i7v68yZM+rQoYOz0NyjRw899NBDioqKUlJSkt555x199NFH+YrDJXXfffdp9+7dGjRokO666y5FRkZqz549GjNmjHbv3q0lS5Zo6tSp+Tpys7KyFBISok6dOqlNmzaqX7++wsPDdfz4ce3atUvvvvuuDh48qNdee0316tVT3759PZL3Qi1atNDChQuVmpqqvXv36pprrilw3LJly7RixQpJ0vjx4xUYGOjyPjxxrJMmTdKGDRv0+++/69FHH9WNN96oSy65xLl8woQJWr9+vSRH5/kNN9zgcj6r1aq4uDilpqYqLCxM/fv3V+vWrVW9enVlZmbq4MGD2rhxoxYsWODyNgEAAODdKDYDAAAAAAC4IXdxtkmTJm6t6+vrq8aNG2vjxo06ceKEjhw5oujo6HzjEhMTtWLFCrVr1875WdOmTd3a16hRo3Ts2DFJ0htvvKFnnnkmz7a6du2q+++/X4sXL3Zru4XJ6V6+7bbbnJ81adJE7du3V4MGDZScnKxJkyblKzZff/31+vPPP1W1atV822zfvr0GDBigzp07a/Xq1Ro9erR69eolX19fj2TOrUWLFs7XmzdvLrDYnJWV5TyPN998sx544AG39uGJYw0PD9esWbN022236eTJk+rbt6+WLVsmi8WihIQEvfTSS5Kkli1bavjw4W7l27Bhg44cOSJJmjt3br7O5RtvvFEPPvigJkyYoPPnz7u1bQAAAHgnntkMAAAAAADghpMnTzpf5+4odVWNGjWcr0+dOlXgmD59+uQpNLsrPT1dM2fOlOQo+A4ZMiTfGF9fX3344YcKCgoq8X5yGzhwYJ5Cc47IyEhnh+6OHTuUkpKSZ3m1atUKLL7mCAgI0IQJEyRJBw8e1LZt2zyS90LNmjWTn5+jLyM+Pr7AMZMmTdKvv/4qi8Wit99+2+19eOpYW7ZsqREjRkiSVqxYoffff19paWnq0aOHMjIynAVpd4vyOTcnSI6u/cL4+fkpPDzcrW0DAADAO9HZDAAAAABAJbRmjbR6dfHjLr9ceuqpvJ998IF06FDx67ZrJ91++z/v09OlkSNdy/fkk1LuGaN37JDmzCl+vcBA6eWXXdtHSf3999/O1+48C7egdS58Lm6OHj16uB8sly1btjiLur169Sr0+cM1atRQ+/btPdLdXFTm3F3ZBw4c0PXXX1/oWKvVquTkZJ09e1Y2m02S4znZObZv3+52l7crgoOD1ahRI23durXAYvPp06c1evRoSdJDDz3k1vTUhSnNsY4cOVKrVq3Spk2bNGzYMH3zzTfavXu3JOmDDz5QnTp13M5Ts2ZN5+vp06fr6aefdnsbAAAAqFwoNgMAAAAAUAmlpUl//VX8uMjI/J+dPevaumlp+T9zZT1Jys7O+z4z07V1PdSkW6SwsDDn67Nnz7q9fu51CusObdSokfvBcklMTHS+Lq4w26xZM48Um+vXr1/osshcX6Tcxfoc586d07vvvqv58+dr165dyr7wC5BL7s5yT2vRooW2bt2qbdu2KTs7O09n8KhRo3T69GlVqVJFr776aon34alj9fPz05w5c3T99dfr3LlzWrRokSQpLi5ODz30UImytWzZUldeeaX279+vwYMHa86cObr33nvVqlUrNWvWTAEBASXaLgAAALwXxWYAAAAAACqh4GCpiNl8nUJDC/7MlXWDg/N/5sp6knTh7L/+/q6tGxjo2vZL4+KLL3a+zj3tsKuSk5ML3FZuF110kfvBcjlz5ozzdfXq1YscGxUVVap95ahSpUqhy3x8/nmS24XF1d9//11t2rTRgQMHXNpPWkF3MXhIixYtNGnSJJ0/f167du1yFv13796tyZMnS5KGDh2qWrVqlWj7nj7Wq6++WsOHD9eLL74oyTFNd07OkvD399eSJUvUtWtX7d69W/Hx8c4u7+DgYLVq1Uo9e/ZUt27dyuS52QAAAKh4KDYDAAAAAFAJ3X573imu3XHhtNquCgqSXn+9ZOs2auT4YwaNGzd2vk5ISHBr3ezsbO3YsUOSo8gbHR1d4LjKVMjr2bOnDhw4IIvFor59+youLk7XXnutoqKiFPi/uwdsNpvznOSeZtrTWrRo4XwdHx/vLDYPGTJEWVlZio6O1tChQ0u8fU8f69mzZzV9+nTn+1OnTmnr1q1q06ZNiTM2aNBAO3fu1JIlS7RkyRKtX79e+/btU1pamlasWKEVK1borbfe0rJly4q9kQEAAADez6f4IQAAAAAAAMhx3XXXOaeF/u6775zPRnbFmjVrdP78eUmOKYvLSu7O6OPHjxc59sSJE2WWozi//vqrfvjhB0nSiBEjNG3aNLVr1061atVyFl+lvJ3aZalu3brObvPNmzdLkrPAKkmvvvpqiZ7TLZXNsQ4cOFD79++X5Jje3W63q3fv3qU+X76+vurSpYumTZumpKQkHTlyRNOmTXNOyb5lyxY98cQTpdoHAAAAvAPFZpOx2Wyy2WxGx8jHjLnMmEkyZy4yuc6MucyYSTJnLjNmMisznisyuc6MucyYSTJnLjK5zoy5zJgJQPmzWCzq2bOnJMc0x1OnTnV53ffee8/5uk+fPp6O5tSwYUPn65yiaWGKW16Wdu3a5XwdFxdX6LjyzNi8eXNJjs7mrKwsDRkyRJLUpEkT9erVq8Tb9fSxLliwQDNmzJDk+C59/vnnkqQ///xT/fr1K3HOgtSsWVMPP/ywNm7cqCZNmkiSvv766zKd0hwAAAAVA8VmE7HZbEpISFBCQoKpfsAyYy4zZpLMmYtMrjNjLjNmksyZy4yZzMqM54pMrjNjLjNmksyZi0yuM2MuM2YCYJynn37a2Y06evRoJSUlFbvO/PnztXTpUkmOqYo7d+5cZvmaNWumiIgISdKsWbMKnY45OTlZK1euLLMcxcnKynK+zun4LsiUKVPKI46kf6bS3rFjhyZOnKjdu3dLkt5++21ZLJYSb9eTx3rkyBE9/vjjkqQrr7xS7777rjp06KABAwZIkj7//HPNmjWrxFkL4+/vr1atWklyHM9ff/3l8X0AAACgYqHYDAAAAAAA4KYrrrhC48ePl+R4bm7btm21ffv2Qsd//vnn6t27tyQpICBAs2bNko9P2f0sExQU5OzC3bp1q9566618Y2w2m5544gmlp6eXWY7i1K1b1/l65syZBY6ZPHmyFi1aVE6J/ik2Z2Zm6rnnnpMk3X///br11ltLtV1PHavdblefPn10+vRp+fr6avbs2QoLC5MkjR8/Xg0aNJAkDRgwQAcPHnQr4/fff1/kjRMZGRlav369JCk0NFRRUVFubR8AAADex8/oAAAAAAAAABXRoEGDtH//fr3zzjs6dOiQmjVrpu7du+vuu+9W7dq1lZmZqV9//VVz587V2rVrJTkKzZ9++qlzKuKyNGrUKH3xxRc6duyYnn32WSUkJKhnz56KiopSUlKS3nnnHf34449q3ry5Nm3aJEml6twtidjYWF133XVKTEzU5MmT9ddff6lHjx6qWbOm/vjjD82ePVtffvmlbr75Zm3YsKFcMt14442yWCyy2+3KzMxUQECA88aC0vDUsU6cOFGrV6+WJD333HO66aabnMuCg4M1e/ZstWjRQqmpqerZs6fWrVvn8o0Na9eu1ZgxY3TLLbeoU6dOatSokaKiopSWlqa9e/dqypQp2rp1qyTp0UcflZ8fPy0CAABUdvw/QgAAAAAAgBKaOHGi6tevr+eff16nT5/WrFmzCp2+uH79+poyZYpzGuKyFhkZqRUrVqhdu3Y6ceKE5syZozlz5uQZ06dPH91yyy3OYnNQUFC5ZMthsVg0a9YstWnTRmfOnNG8efM0b968PGNiYmL0xRdfKDo6ulwyRUREqH79+s7ps59++mldeeWVpd6uJ451586dGjFihCTHs6VfeumlfGNiY2P18ssva/jw4fr+++/1+uuvO9dxhc1m0/r1650dzAW57777NG7cOJe3CQAAAO/FNNoAAAAAAACl0K9fP+3bt0/vvfeeOnTooMsuu0xBQUEKDQ3VVVddpbi4OM2bN087d+4st0JzjsaNG+uXX37RM888o7p16yowMFDVqlVT69atNXfuXE2fPl2pqanO8TnPeS5P119/vbZt26Z+/fqpdu3a8vf3V2RkpJo3b6433nhDmzZtUs2aNcs1U/Xq1SVJUVFRev755z223dIcq9VqVY8ePWS1WhUSEqLZs2cX2lk8dOhQ53dt5MiR2rJli0v5hg0bpmXLluk///mPWrRoocsvv1xBQUEKCgpSnTp11K1bNy1dulQLFiwo9xsTAAAAYE50NgMAAAAAAJRS1apVNWDAAA0YMKDE2xg1apRGjRrl8vg+ffqoT58+xY6rVq2a3njjDb3xxhsFLk9MTJQk1apVK18Bsbh9uJr5tttuk91uL3T55ZdfrsmTJxe5jaLWd/VcuCI+Pt7Z1Tt69GiPF+BLeqyBgYHasWOHS/vw8fHRunXrCl1e2PmqUqWKOnbsqI4dO7q0HwAAAIDOZgAAAAAAgEoqLS1NixcvliS1aNHC4DTmMGzYMEnSddddp8cff9zgNAAAuCYrK0tWq9XoGAAqIYrNAAAAAAAAXmrfvn2FdgRnZ2erf//+OnnypCSpd+/e5RnNlD7++GNnR/D7778vX19fYwMBAOCio0ePateuXUpOTjY6CoBKhmm0AQAAAAAAvNSYMWO0adMmxcXF6cYbb1T16tWVlpamHTt2aOrUqdq6daskqW3bturUqZPBacvf+fPndeTIEf39999asmSJxo4dK0l64oknyv352gAAlFRmZqZOnjwpu92u4OBgo+MAqGQoNgMAKqzjx49r06ZNzj8//fSTUlJSJDm6MmbMmOHW9lasWKGPPvpImzZt0okTJxQVFaXmzZvr8ccfV4cOHcrgCAAAAICyt3v3bo0cObLQ5TfffLM+++wzWSyWckxlDnPmzMk3VXbz5s319ttvG5QIMK/c1+Dx8fGKj4/XqVOnJHENDhjt2LFjstlsCg0NVXh4uNFxAFQyFJsBABVWjRo1PLIdu92ufv366aOPPsrz+eHDh/XVV1/pq6++0uOPP64pU6ZUyh/gAAAAUHGNGDFC9erV0+rVq3Xw4EGdOHFCmZmZuvjii9WsWTN169ZNcXFx8vGpnE9ay+nsDgwMVJ06dfTggw9q6NChdIUBBeAaHDCn8+fPa8+ePYqIiFDNmjWNjgOgEqLYDADwCrVq1VKtWrX0008/ub3uCy+84LzIjY2N1bBhw3TVVVdp3759Gj9+vBISEvTRRx8pKirKOa0eAAAAUBFcc801eu655/Tcc88ZHcWUJk+erMmTJxsdA6hwLrvsMl177bVatWqV2+tyDQ541s6dO3Xs2DHZ7Xa6mgEYonLetgoA8AovvfSSlixZomPHjungwYMl+gEtKSlJ48ePlyQ1a9ZMGzZsUFxcnG644QbFxcXphx9+ULNmzSRJr7/+uvbt2+fRYwAAAAAAoCLIfQ1+6NAhffjhh25vg2twwLPOnz+v/fv3S5KuvfZag9MAqKwoNgMAKqzRo0erc+fOpZrK6+2331ZWVpYk6b333ss3XV6VKlX03nvvSZKysrI0ceLEEu8LAAAAAICKimtwwHx27typ7OxsXXzxxapVq5bRcQBUUhSbAQCVlt1u1+LFiyVJ9evXV4sWLQoc16JFC11zzTWSpEWLFslut5dbRgAAAAAAvAHX4IBn5e5qjomJMTgNgMqMYjMAoNI6cOCADh8+LElq1apVkWNzlv/555/6/fffyzoaAAAAAABehWtwwLPoagZgFhSbAQCV1u7du52v69evX+TY3MtzrwcAAAAAAIrHNTjgOXQ1AzATP6MDeAubzeaRbeRsxxPb8xQz5jJjJsmcucjkOjPmMmMmyZy5cmeSHNNzFZft4MGDztfR0dFFjr/00kvzrOfqcec+T2Y8V2QqnBkzSebMZcZMkjlzkcl1ZsxVVpl8fLgHGAAAeL8//vjD+bq4LszLLruswPUAONDVDMBMKDZ7gM1mU0JCgke2s2fPHud7s/zoZMZcZswkmTMXmVxnxlxmzCSZM5fNZnPe0SlJp0+fLva/m3MfQ3JycpHjjx075ny9d+/eQsdmZGQoIyPD+f7cuXOSpO3btys0NLTogygnZv33I5NrzJjLjJkkc+Yik+vMmKusMsXGxpri+AAAAMrS33//7Xxd3PVxSEiI8/XZs2cLHWe1WmW1Wp3vU1NTS5EQqBjoagZgNhSbAQCVVu6isL+/f5FjAwICnK/T09MLHTd9+nRNnTq19OEAAAAAAPAiua+lc19jFyQwMND5Oi0trdBx48aN0+jRo0sfDqhA6GoGYDYUmz3Ax8dHsbGxpd5O7qn4zNTdYMZcZswkmTMXmVxnxlxmzCSZM5fNZtORI0ec7yMjI4v97+Y6deo4X19++eVFjs/d2XzllVcWOvadd97R+PHjne9TU1NVu3ZtNW7cWOHh4cUdRrkw679fDjIVzYy5zJhJMmcuMrnOjLnKKpMZjg0AAKCsBQUFOV/nvvm7ILm7lYODgwsdN2LECA0ZMsT5PjU1Nc8U3IC3oasZgBlRbPYQT//Q5OPjY6ofncyYy4yZJHPmIpPrzJjLjJkkc+bKncNisRSbKyIiwvn6/PnzRY7PfSd1eHh4oWODg4PzXAib8TxJ5sxFJteZMZcZM0nmzEUm15kxlxkzAQAAVARhYWHO10VNjS3980gqqegptwMDA/N0QQPe7ueff1ZmZqaioqLoagZgGhSbAQCVVu7/U/7nn38WOfaPP/5wvuYuaQAAAAAA3MM1OFA6KSkp+umnn2S323XrrbcaHQcAnLgVHwBQaTVo0MD5+tdffy1ybO7l1157bZllAgAAAADAG3ENDpTO+vXrlZWVpaioqDyPhgMAo1FsBgBUWldccYWio6MlOf4Pe1G+++47SdKll17K/6EHAAAAAMBNXIMDJZeSkqJdu3ZJklq2bGlwGgDIi2IzAKDSslgsuueeeyQ57pr+6aefChz3008/Oe+qvueee2SxWMotIwAAAAAA3oBrcKDkcrqaL7nkErr9AZgOxWYAQKU2ePBg+fn5SZIGDhyotLS0PMvT0tI0cOBASZKfn58GDx5c3hEBAAAAAPAKXIMD7qOrGYDZ+RkdAACAkvrhhx+UlJQkSbLZbNqxY4dzWVJSkmbMmJFnfJ8+ffJto169enr22Wf12muvafPmzbr55pv13//+V1dddZX27dun119/XQkJCZKkoUOHqm7dumV2PAAAAEBlcOjQIb3yyitas2aNDh8+LKvVKkn66quv1KVLF2PDeZEZM2aob9++kqQDBw6U6VTE5bkvGCf3NbgknTx50vmaa3Cg7NDVDMDsKDYDACqsjz/+WDNnzixw2YYNG7Rhw4Y8nxV0oStJr7zyio4fP65PPvlECQkJiouLyzfmkUce0dixY0udGQAAABXX77//riuuuKLU27Hb7R5IUzEdOnRITZs2zVOkArxNcnKyrr76ap09e1aS9MEHH+jJJ58sdr3JkycXOM5isSgsLExVq1ZV/fr11bx5c/373/8u96IT1+BA+aOrGUBFwDTaAIBKz8fHR9OmTdPSpUt1zz33KDo6WgEBAYqOjtY999yjZcuW6eOPP5aPD/+zCQAAAJTG2LFjdfLkSfn5+en111/Xxo0btXPnTu3cuVNt27Y1Oh5MbMaMGbJYLLJYLPr999+NjlOkF1980VlolpRnFq6ibNu2rcDP7Xa7UlNTdejQIa1atUpjx45VgwYNdNddd+nw4cOeiFyuuAYHXEdXM4CKgM5mAECFNWPGDOc0XTabzTnVVmxsbIkuSu+8807deeednowIAAAAL3LppZdq586dhS5v3769jhw5oujoaK1cubIck1Uca9askSR16dJFw4YNMzgN4HmJiYn65JNPJEkhISE6d+6c28XmqlWr6vvvv3d+brPZ9Pfff+vQoUP66aefNG/ePJ04cUJff/21mjRpog0bNujqq6/2+LFcKPc1uCdwDQ4Uja5mABUFxWYAAAAAAAAX+Pv767rrrityuSvjKrOcLsx69eoZnAQoG88++6yys7PVunVrXXrppZo9e7YSExNlt9tlsVgKXc9msykxMVGS1KhRowL/O+Tmm29W9+7d9eqrr2rgwIGaPn26jh8/rnvuuUc7duyQr69vmR0XgPJHVzOAioK5SAAAAAAAAFAuMjIyJP1TmAe8yapVq7Ry5UpZLBZNmDBBDRs2lCT9/fffOnDgQJHr7tmzR+fPn5ckNW7cuMixISEh+vjjj51Tz//yyy+aNWuWB44AgFmcPn3aeQMKXc0AzI5iMwAAAAAAgAFGjRrlfAat5Jguc8yYMYqNjVXVqlVlsVjyTFmbmJiosWPHqn379qpVq5YCAwMVGhqqunXrqnfv3vrpp5/c2l96eromTJigJk2aKCwsTGFhYWrevLnef/99ZWVlFbmtI0eOaPjw4WrSpIkiIiIUEBCgSy65RDExMerevbtmzJih1NRUSXmftZtj9OjRzs8sFov69OmTbx8ZGRmaNGmSWrduraioKOc+7rzzTs2ePVs2m80j5/bCsampqRo1apRiYmIUGhqqGjVq6M4779SPP/6YZx/Hjx/XCy+8oIYNGyokJEQXX3yx7rnnHufjfYqzadMmPfbYY6pXr55CQ0MVEhKi+vXr66mnntJvv/1W7PpnzpzR8OHDVb9+fQUHB6t69eq6/fbb9cUXX7i0f3d4Yl8l/f6uW7dOFotFffv2dX52xRVX5Pn+WCwWrVu3rtT7Ko3s7Gw9++yzkqTu3buradOmebqTi5tKO/fzmosrNkuO5x6/8MILzvcLFy50MzEAM/vqq6905MgRhYeH09UMwPSYRhsAAAAAAMBgv/32m+644w79/vvvBS5ft26dWrdune/zjIwMJSUlKSkpSZ9++qmGDx+ucePGFbu/5ORktW/fXtu3b8/zeXx8vOLj47Vq1SotWrRIPj75+xS+//57de7c2VlMzr3N5ORkJSYmav78+apWrZo6d+5cbJaCHDx4UB07dtTu3bvz7WP58uVavny5PvzwQy1evFiRkZFFbqu4c5vbH3/8odtvv1179+51fnbu3DktX75cq1at0rx58/TAAw9ox44duvPOO53TgkvS+fPn9X//939auXKlli1bpjZt2hS4j6ysLA0aNEiTJ0/Ot2zPnj3as2ePpk6dqg8++ECPPfZYgdv45ZdfdPvtt+vo0aPOz9LT07V27VqtXbtWDz/8sG655ZZij9cVntiXp7+/ZtlXbp988ol27typwMBAvfLKK5Lk7GyWHMXmLl26FLq+u8VmyTGtdlBQkNLT07Vx48YS5QZgPidPntS2bduUnZ2tf/3rX0bHAYBiUWwGAAAAAABlJytLslqlwEDJj58hCtO1a1cdPnxYAwcO1N13362LLrpIv/32m2rXri3JUaAMCQlRp06d1KZNG9WvX1/h4eE6fvy4du3apXfffVcHDx7Ua6+9pnr16uXpAi3Ifffdp927d2vQoEG66667FBkZqT179mjMmDHavXu3lixZoqlTp+qJJ57Is57ValVcXJxSU1MVFham/v37q3Xr1qpevboyMzN18OBBbdy4UQsWLHCu06VLFzVr1kySFBMTI0nq37+/nnzySeeYiy66yPn67NmzatOmjfbv3+9c/+GHH1Z0dLQOHDig999/X+vXr9cPP/ygzp076/vvvy/yWbXFndvcHnjgAf35558aMWKEOnTooCpVquiHH37QyJEjlZqaqkceeUTNmjVT586dlZaWpldeeUWtWrWSv7+/VqxYoVdeeUVWq1V9+/bVb7/9poCAgHz7eOSRR/Tpp59Kkjp27KgePXqoXr16slgs2rZtmyZOnKhdu3bp8ccf1yWXXKK77rorz/opKSlq3769s/jbrVs39e7dW9WrV9fevXv11ltvOQufpeWpfZXm+3vDDTdo586dWrx4sbOTd+XKlYqOjs6zjyuuuKLU+yqps2fP6qWXXpIkDRgwQHXq1JEk1alTRyEhITp37pzLnc2+vr55itRF8ff3V40aNXTw4EGdOnVK2dnZPLcZ8AKLFy9WVlaWoqOjdcMNNxgdBwCKxVUeAAAAAADwLJtN2rlTWrtW2rhRysyU/P2lm26S2raVYmKkAjpmK7PExEStWLFC7dq1c37WtGlT5+vrr79ef/75p6pWrZpv3fbt22vAgAHq3LmzVq9erdGjR6tXr15FFp1yupdvu+0252dNmjRR+/bt1aBBAyUnJ2vSpEn5is0bNmzQkSNHJElz587N17l844036sEHH9SECROcz5+tWrVqvtzVq1fPM8VwbqNHj3YWml944QWNGTMmzzm5//771bNnT82ZM0cbN27URx99pP79+xd6rMWd29y2bdum9evX68Ybb3R+1qxZM9WrV0+dOnXS33//rRtvvFF2u12bNm3SVVdd5RzXvHlzVatWTU899ZQOHTqkpUuX6t57782z/QULFjgLzVOnTtWjjz6aZ3mzZs300EMPqVOnTvrmm280aNAgdezYUX65btR4+eWX9eeff0qSXn31VY0YMSLPcXXt2lWdO3fWqlWrCj0nrvLUvkrz/Q0JCdF1112nzZs3O9epV6+es6DryX2V1Pjx43Xs2DFddNFFev75552fWywWXXvttdq8eXOxxeacWQbq1q2r4OBgl/edc0OD3W5XZmYmxWaggjt69Kg2bdokHx8fdejQweg4AOASruwAAAAAAIDnpKdLEydKQ4dKCxc63vv6Ov5euNDx+TvvON7DqU+fPnmKoReqVq1agcWzHAEBAZowYYIkxxTUuafkLcjAgQPzFJpzREZGOjs9d+zYoZSUlDzLjx075nx96623Frp9Pz8/hYeHF5mhIFarVR9//LEkqUGDBho1alS+MRaLRZMmTdLFF18sSXr//feL3GZx5za3wYMH5yk057jzzjudndAnTpzQ2LFj8xSac/Tt21dBQUGSHNONXyhn2uZ77703X6E5R1BQkPOYfv/99zzPIrZarZo+fbokqVGjRvrvf/+bb31/f39NmzZN/v7+RR1qsTy5L09/f82yL0k6fPiw3nzzTUnS888/n6dLX5Lzpop9+/Y5b8C40LFjx5ScnCzJ9Sm0c5w5c0aSFBoa6vzuAai4Zs+erVOnTik0NJSuZgAVBsVmAAAAAADgGTabNGmSo6gcESE1bChFR0vVqjn+btjQ8fmCBdLkyY7xkCT16NHDrfFWq1WHDh3SL7/8osTERCUmJsputzuXX/gsZnf2l7vr98CBA3mW1axZ0/k6pxDpSVu2bNFff/0lyVEkLqxLMzw8XA8++KAkxzOFcz9P+ELunNu4uLhClzVq1EiSo9ids+8LBQcHq27dupLk7M7OcfjwYW3ZskWSCl0/x7XXXqtq1apJUp5n8W7ZssVZXOzdu3eBz9SWpFq1aumOO+4och/FKct9lfb7a6Z9Pf/88zp//rxq166tAQMG5FueMyW2zWbTrl27CtxGQkKC87U7xeasrCznf15q1KjhRmoAZnT06FHn/07ceeedBqcBANdRbAYAAAAAAJ6xc6e0YoVUs6YUGVnwmMhIx/Llyx3jIemfQmZRzp07p3Hjxqlx48YKCQlR7dq11bBhQ8XExCgmJkaxsbHOsSdPnixyW/Xr1y90WWSuf7u///47z7KWLVvqyiuvlOToAm7evLnGjRunH3/8URkZGcUeQ3ESExOdrwvqMM4t9/Lc613IlXObo169eoUuy+mWrVatWr7u1YLGXXjuck8D3b17d1ksliL/5Pwb5u4mz/1s5OI63po3b17k8uJ4el+e/P6aZV8JCQmaNWuWJMc044GBgfnG5H7+cmFTaefurnan2Lxt2zZlZWVJKv7fCID5zZ49W1lZWbr00kvVunVro+MAgMt4ZjMAAAAAAPCMtWul8+elK64oelxkpHTkiPTNN5KbU8Z6q6KKl5JjOuU2bdrk6zQuTFpaWpHLq1SpUuiy3B2s2dnZeZb5+/tryZIl6tq1q3bv3q34+HjFx8dLcnT1tmrVSj179lS3bt1K9OzY06dPO18X16l5ySWXFLjehYo7t7m5cl6KGpN73IXn7vjx4y7nyC331Ms5ncaS47nXRSltp6sn9+Xp769Z9vXss8/KZrOpadOm6t69e4FjyrLY/MMPPzhfuzpVPABzyt3V3KVLF2PDAICbKDYDAAAAAIDSy8qSNm6UXC3sRUZKP/4oDRwo+fHzRHGF2Z49e+rAgQOyWCzq27ev4uLidO211yoqKsrZTWmz2ZzbyT1NsKc1aNBAO3fu1JIlS7RkyRKtX79e+/btU1pamlasWKEVK1borbfe0rJly4otUhbFYrEUudzVYyxJ0bss5C4+z5kzx+WO69zF8tzH7Knz48r6pd1XeX5/y2tfS5Ys0TfffCPJMeV4YdOM51ZcsTkyMlKXXnqpyxk++eQTSY6bQDp27OjyegDMh65mABUZV3MAAAAAAKD0rFYpM1MKCHBtfECAY7zVSrG5GL/++quzg3HEiBF65ZVXChyXuxO1rPn6+qpLly7O7qujR49q+fLlmjRpkrZs2aItW7boiSee0FdffeXWdnNP4X3s2LEip7VOTk4ucD2zuvjii52vLRaLrrvuOre3kfs4k5OTizw/Je2k9vS+yvP7W177ysrK0rBhw9xer6Bi8/nz55WUlCTJva7mpUuXOqc679mzZ57nqQOoWOhqBlDRcTUHAAAAAABKLzBQ8veX0tNdG5+RIQUFOdZDkXbt2uV8HRcXV+i43M8ELm81a9bUww8/rJ49e6pFixbaunWrvv76a6WlpSk4ONjl7eQuwP7888+69dZbCx27adOmAtczq9zPCV61alWh0y4XJSYmxvk6Pj5et9xyS6Fjc6Y3LylP7ctT39/iuqs9ua/ifPTRR/r1119lsVj0wQcfFDtV+6effqrly5fr9OnTOnz4cJ7u5e3bt8tms0lyvdh88uRJPfbYY5KkgIAADR8+vIRHAsAM6GoGUNEVP78LAAAAAABAcfz8pJtuklztGDxzRvrXv+hqdkFWVpbzde7n915oypQp5RGnSP7+/mrVqpUkR+6//vrLrfWbNm2qqlWrSpJmzpyZ77nHOf7++299/vnnkhzTeleErs6rr75aDRo0kCTNnz9fhw4dcnsbTZs2dRY2Z82aVegU0IcPH9aqVatKHtaD+/LU9zcoKMj52mq1lum+ipKamqpRo0ZJcnQg9u/fX3FxcUX+ueOOO5zrX9jd7O7zmpOTk9WhQwcdPXpUkvTWW2+pbt26JT4eAMaiqxmAN6DYDAAAAAAAPKNtW6lKFen06aLHnT7tGNemTfnkquByF5JmzpxZ4JjJkydr0aJFZZ7l+++/d075W5CMjAytX79ekhQaGqqoqCi3th8YGKhHH31UkqNLdfTo0fnG2O12DRgwQCdPnpQkDRgwwK19GOmFF16QJKWnp+u+++7TiRMnCh1rtVo1adIkpeeaLSAwMFB9+/aV5ChSTpgwId96WVlZeuyxx5SRkVGqrJ7al6e+v7lvKNi3b1+Z7qsor776qk6cOCGLxeIsOhcn9xTkJS022+12zZ8/X82bN3cWph5++GE99dRTrocHYDp0NQPwBtw+DAAAAAAAPCMmRurYUVqwwPG+oOfonj4tHT0q3X+/YzyKFRsbq+uuu06JiYmaPHmy/vrrL/Xo0UM1a9bUH3/8odmzZ+vLL7/UzTffrA0bNpRplrVr12rMmDG65ZZb1KlTJzVq1EhRUVFKS0vT3r17NWXKFG3dulWS9Oijj8qvBJ3rL730khYuXKj9+/drzJgxSkxM1MMPP6zo6GgdOHBA77//vtatWydJuummm/T444978hDLVPfu3bVy5UrNnDlTW7ZsUYMGDfTEE0+oVatWioqK0rlz57Rv3z59//33WrhwoU6fPq1evXrl2cZLL72kzz//XH/++af++9//atu2berVq5eqV6+uvXv36q233lJ8fLxuuOGGUk+l7Yl9eer7Gxsbq6CgIKWnp+vFF1+Un5+f6tSpIx8fRy/NpZdeWub/WTl48KDeeecdSdL999+vRo0aubSeK8Vmi8Uim82mxMRESZLNZtOZM2d0/PhxbdiwQUuXLnXe6GGxWPTyyy87b14AUDHR1QzAW1BsBgAAAAAAnuHjI/Xv73i9fLl05Iij4BwQ4HhG8+nTUkiIo9D85JOO8SiWxWLRrFmz1KZNG505c0bz5s3TvHnz8oyJiYnRF198oejo6DLPY7PZtH79emcHc0Huu+8+jRs3rkTbDwsL09q1a9WxY0f9+uuv+uqrr/TVV1/lG3fzzTfr//7v/+Tr61ui/Rhl2rRpqlGjht58802dPHlSr7zyil555ZUCx4aEhOQ7voiICK1YsUK33367jh07VuD3oW/fvrr11ludnckl5Yl9eer7GxYWpkGDBmn8+PHaunWr2rdvn2f5t99+q9tuu61M/7MyYsQIpaenu9XVLElXXHGF/P39lZmZmafYnLu4bLfb1axZsyK3Y7FYdPfdd+v555/XDTfc4HZ+AOZCVzMAb8FVHQAAAAAA8JygIOnpp6UJE6SuXR3vs7Mdf3ft6vj86aelwECjk1Yo119/vbZt26Z+/fqpdu3a8vf3V2RkpJo3b6433nhDmzZtKpfnFg8bNkzLli3Tf/7zH7Vo0UKXX365goKCFBQUpDp16qhbt25aunSpFixYkOcZu+6qU6eOtm/frvfff1+tWrXSxRdfLH9/f9WoUUMdOnTQrFmz9N133ymyoO55k/P19dXrr7+uX375Rc8884xiY2N10UUXydfXV2FhYWrYsKF69OihmTNn6ujRowoODs63jYYNG2rXrl0aNmyY6tatq8DAQFWrVk2tW7fW3Llz9cknn3gsryf25anv72uvvaapU6fqlltuUWRkZIE3GpTVf1bi4+M1f/58SdKDDz6ohg0buryur6+vrrrqKknSnj17nNOO7927t9BnS4eFhal27dqKjY1Vr169NHXqVCUlJWnRokUUmgEvQFczAG9isdvtdqNDwMFmsykhIUGSY2ogH5Pc4W3GXGbMJJkzF5lcZ8ZcZswkmTOXGTNJUmpqqiIiIpSSkqLw8HCj40gy57kik+vMmMuMmSRz5iKT68yYy4yZgAohK0uyWh3F5RJMqQwAgKvMeA0OFGTChAn6+eefdemllzqn5weAioqrPAAAAAAAUHb8/CgyAwAA/A9dzQC8DbfiAwAAAAAAAAAAlIOpU6cqIyODZzUD8BoUmwEAAAAAAAAAAMrYoUOHtGHDBqWkpKhTp05GxwEAj6DYDAAAAAAAAAAAUMY+/PBDZWVl6dJLL9Udd9xhdBwA8AiKzQAAAAAAAAAAAGXo0KFD2rx5syTpwQcfNDgNAHiOn9EBvIXNZvPINnK244nteYoZc5kxk2TOXGRynRlzmTGTZM5cZswkKU8ms+Qy47kik+vMmMuMmSRz5iKT68yYq6wy+fhwDzAAAADg7d544w2dP39ederUUefOnY2OAwAeQ7HZA2w2mxISEjyynT179jjfm+VHJzPmMmMmyZy5yOQ6M+YyYybJnLnMmEmSzp49K0navn27QkNDDU7jYMZzRSbXmTGXGTNJ5sxFJteZMVdZZYqNjTXF8QEAAAAoG/v27VN8fLyysrJ09913Gx0HADyKXzQAAAAAAAAAAADKyMSJE5WVlaXo6Gg98MADRscBAI+is9kDfHx8FBsbW+rt5J6Kz0zdDWbMZcZMkjlzkcl1ZsxlxkySOXOZMZMkpaamSpIaN26s8PBwg9M4mPFckcl1ZsxlxkySOXORyXVmzFVWmcxwbAAAAADKxr59+5zPau7Ro4fBaQDA8yg2e4inf2jy8fEx1Y9OZsxlxkySOXORyXVmzGXGTJI5c5HJdWbMRSbXmTGXGTNJ5sxFJteZMZcZMwEAAAAwr9xdzQ8++KDRcQDA4/h1BAAAAAAAAAAAwMPoagZQGVBsBgAAAAAAAAAA8DC6mgFUBhSbAQAAAAAAAAAAPIiuZgCVBcVmAAAAAAAAAAAAD6KrGUBlQbEZAAAAAAAAAADAQ+hqBlCZUGwGAAAAAAAAAADwELqaAVQmFJsBAAAAAAAAAAA84Ndff9XGjRsl0dUMoHKg2AwAAAAAAAAAAOABr732ms6fP6+IiAi6mgFUChSbAQAAAAAAAAAASunXX3/V1q1bJUkPPfSQwWkAoHxQbAYAAAAAAAAAACil1157TVlZWapZs6b69OljdBwAKBcUmwEAAAAAAAAAAEohd1dzz549DU4DAOWHYjMAAAAAAAAAAEAp0NUMoLKi2AwAAAAAAAAAAFBCdDUDqMwoNgMAAAAAAAAAAJQQXc0AKjOKzQAAAAAAAAAAACVAVzOAyo5iMwAAAAAAAAAAQAnQ1QygsqPYDAAAAAAAAAAA4Ca6mgGAYjMAAAAAAAAAAIDbxo4dS1czgErPz+gAAAAAAAAAAAAAFcnOnTv1888/y26369///rfRcQDAMHQ2AwAAAAAAAAAAuOHll19WVlaWqlWrpkceecToOABgGIrNAAAAAAAAAAAALtq5c6e2bdsmSerdu7exYQDAYBSbAQAAAAAAAAAAXPT8888rKytLNWrUUP/+/Y2OAwCG4pnNAAAAAAAAAAAALti6dau2bdumrKwsde/e3eg4AGA4OpsBAAAAAAAAAABc8OKLLyorK0tRUVF6+umnjY4DAIaj2AwAAAAAAAAAAFCMrVu3aufOnZJ4VjMA5KDYDAAAAAAAAAAAUIzcXc1DhgwxOg4AmALFZgAAAAAAAAAAgCLQ1QwABaPYDAAAAAAAAAAAUAS6mgGgYBSbAQAAAAAAAAAACkFXMwAUjmIzAAAAAAAAAABAIehqBoDCUWwGAAAAAAAAAAAoAF3NAFA0is0AAAAAAAAAAAAFoKsZAIrmZ3QAb2Gz2TyyjZzteGJ7nmLGXGbMJJkzF5lcZ8ZcZswkmTOXGTNJypPJLLnMeK7I5Doz5jJjJsmcucjkOjPmKqtMPj7cAwwAAACYEV3NAFA8is0eYLPZlJCQ4JHt7Nmzx/neLD86mTGXGTNJ5sxFJteZMZcZM0nmzGXGTJJ09uxZSdL27dsVGhpqcBoHM54rMrnOjLnMmEkyZy4yuc6MucoqU2xsrCmODwAAAEBedDUDQPH4RQMAAAAAAAAAACAXupoBwDV0NnuAj4+PYmNjS72d3FPxmam7wYy5zJhJMmcuMrnOjLnMmEkyZy4zZpKk1NRUSVLjxo0VHh5ucBoHM54rMrnOjLnMmEkyZy4yuc6MucoqkxmODQAAAEBedDUDgGsoNnuIp39o8vHxMdWPTmbMZcZMkjlzkcl1ZsxlxkySOXORyXVmzEUm15kxlxkzSebMRSbXmTGXGTMBAAAA8Kyff/7Z+ehMupoBoGj8OgIAAAAAAAAAAPA/I0aMUGZmpsLCwuhqBoBiUGwGAAAAAAAAAACQo6v5l19+kURXMwC4gmIzAAAAAAAAAACAHF3N2dnZioyM1HPPPWd0HAAwPYrNAAAAAAAAAACg0tuwYYO2b98uu91OVzMAuIhiMwAAAAAAAAAAqPSGDh0qm82msLAwupoBwEUUmwEAAAAAAAAAQKW2YcMG7dmzR5LUs2dPg9MAQMVBsRkAAAAAAAAAAFRqOV3NVatW1csvv2x0HACoMCg2AwAAAAAAAACASouuZgAoOYrNAAAAAAAAAACg0qKrGQBKjmIzAAAAAAAAAAColOhqBoDSodgMAAAAAAAAAAAqJbqaAaB0KDYDAAAAAAAAAIBKh65mACg9is0AAAAAAAAAAKDSoasZAEqPYjMAAAAAAAAAAKhU6GoGAM+g2AwAAAAAAAAAACqVwYMHKzs7m65mACglP6MDAAAAAAAAAAAAlJf169dr7969stlsiouLMzoOAFRodDYDAAAAAAAAAIBKY8iQIbLZbIqIiNC4ceOMjgMAFRrFZgAAAAAAAAAAUCmsX79eSUlJkqQePXoYnAYAKj6KzQAAAAAAAAAAoFLI3dX8+uuvGx0HACo8is0AAAAAAAAAAMDr0dUMAJ5HsRkAAAAAAAAAAHg9upoBwPMoNgMAAAAAAAAAAK9GVzMAlA2KzQAAAAAAAAAAwKvR1QwAZYNiMwAAAAAAAAAA8Fp0NQNA2aHYDAAAAAAAAAAAvBZdzQBQdig2AwAAAAAAAAAAr7R27Vrt3btXEl3NAFAWKDYDAAAAAAAAAACvNHjwYGVnZyskJISuZgAoAxSbAQAAAAAAAACA11m7dq0OHDggSYqLizM4DQB4J4rNAAAAAAAAAADA6wwePFg2m01hYWGaOHGi0XEAwCtRbAYAAAAAAAAAAF5l5cqV2rdvnySpe/fuBqcBAO9FsRkAAAAAAAAAAHiVQYMGyWazKTg4mK5mAChDFJsBAAAAAAAAAIDXWLlypQ4dOiRJevDBBw1OAwDezc/oAN7CZrN5ZBs52/HE9jzFjLnMmEkyZy4yuc6MucyYSTJnLjNmkpQnk1lymfFckcl1ZsxlxkySOXORyXVmzFVWmXx8uAcYAAAA8KRBgwbJbrcrJCREkydPNjoOAHg1is0eYLPZlJCQ4JHt7Nmzx/neLD86mTGXGTNJ5sxFJteZMZcZM0nmzGXGTJJ09uxZSdL27dsVGhpqcBoHM54rMrnOjLnMmEkyZy4yuc6MucoqU2xsrCmODwAAAPAGdDUDQPniFw0AAAAAAAAAAOAV6GoGgPJFZ7MH+Pj4KDY2ttTbyT0Vn5m6G8yYy4yZJHPmIpPrzJjLjJkkc+YyYyZJSk1NlSQ1btxY4eHhBqdxMOO5IpPrzJjLjJkkc+Yik+vMmKusMpnh2AAAAABvQFczAJQ/is0e4ukfmnx8fEz1o5MZc5kxk2TOXGRynRlzmTGTZM5cZHKdGXORyXVmzGXGTJI5c5HJdWbMZcZMAAAAABzoagaA8sevIwAAAAAAAAAAoEKjqxkAjEGxGQAAAAAAAAAAVGh0NQOAMSg2AwAAAAAAAACACouuZgAwDsVmAAAAAAAAAABQYdHVDADGodgMAAAAAAAAAAAqJLqaAcBYFJsBAAAAAAAAAECFRFczABiLYjMAAAAAAAAAAKhw6GoGAONRbAYAAAAAAAAAABXOk08+SVczABjMz+gAAAAAAAAAAAAA7li6dKn+/PNP2e123XvvvUbHAYBKi85mAAAAAAAAAABQoQwcOFB2u11VqlTRxx9/bHQcAKi0KDYDAAAAAAAAAIAKY+nSpTp8+LAk6f777zc4DQBUbhSbAQAAAAAAAABAhdG/f3/ZbDZVqVJF06ZNMzoOAFRqFJsBAAAAAAAAAECFsHjxYh09elSSdNdddxmcBgBAsRkAAAAAAAAAAFQIAwcOlCQFBQVp1qxZBqcBAFBsBgAAAAAAAAAAppe7q7lLly7GhgEASKLYDAAAAAAAAAAAKgC6mgHAfCg2AwAAAAAAAAAAU6OrGQDMiWIzAAAAAAAAAAAwNbqaAcCcKDYDAAAAAAAAAADToqsZAMyLYjMAAAAAAAAAADAtupoBwLwoNgMAAAAAAAAAAFOiqxkAzI1iMwAAAAAAAAAAMCW6mgHA3Cg2AwAAAAAAAAAA06GrGQDMj2IzAAAAAAAAAAAwFbudrmYAqAgoNgMAAAAAAAAAAFN5+eUfdfjwA7Lbr6SrGQBMzM/oAAAAAAAAAAAAADmsVunNN3fKbq8vH58GmjjxEaMjAQAKQWczAAAAAAAAAAAwjdde+1FnzzrKF02bShdfbHAgAEChKDYDAAAAAAAAAABTyOlqliRfXx8tXEhXMwCYGcVmAAAAAAAAAABgChd2NUdHGxwIAFAkis0AAAAAAAAAAMBwdDUDQMVDsRkAAAAAAAAAABiOrmYAqHgoNgMAAAAAAAAAAEPR1QwAFRPFZgAAAAAAAAAAYCi6mgGgYvIzOoC3sNlsHtlGznY8sT1PMWMuM2aSzJmLTK4zYy4zZpLMmcuMmSTlyWSWXGY8V2RynRlzmTGTZM5cZHKdGXOVVSYfH+4BBgAAACZN+q8slpvl41OXrmYAqEAoNnuAzWZTQkKCR7azZ88e53uz/OhkxlxmzCSZMxeZXGfGXGbMJJkzlxkzSdLZs2clSdu3b1doaKjBaRzMeK7I5Doz5jJjJsmcucjkOjPmKqtMsbGxpjg+AAAAwCgLFizQqVMbJW3UnXc+ruhois0AUFHwiwYAAAAAAAAAADDMwIEDJUlBQYFavHiSwWkAAO6gs9kDfHx8FBsbW+rt5J6Kz0zdDWbMZcZMkjlzkcl1ZsxlxkySOXOZMZMkpaamSpIaN26s8PBwg9M4mPFckcl1ZsxlxkySOXORyXVmzFVWmcxwbAAAAIBRFixYoOPHj0uSOnfubHAaAIC7KDZ7iKd/aPLx8THVj05mzGXGTJI5c5HJdWbMZcZMkjlzkcl1ZsxFJteZMZcZM0nmzEUm15kxlxkzAQAAABWV1Sr17Rsvm+0aBQX9rs8++8zoSAAAN1FsBgAAAAAAAAAA5e7ll9fp77+vlPS0Gjc+aXQcAEAJcCs+AAAAAAAAAAAoV1ar9Pbbv0iSfH0tWrDgOYMTAQBKgmIzAAAAAAAAAAAoVy+/vE5paY7JV2NiMhUdbXAgAECJUGwGAAAAAAAAAADl5sKu5qVLnzQ4EQCgpCg2AwAAAAAAAACAckNXMwB4D4rNAAAAAAAAAACgXNDVDADehWIzAAAAAAAAAAAoF3Q1A4B3odgMAAAAAAAAAADKHF3NAOB9KDYDAAAAAAAAAIAyN3v2QqWn75VEVzMAeAs/owMAAAAAAAAAAADv99xz/WWxnJS//zVaufIXo+MAADyAzmYAAAAAAAAAAFCmPvvsM508eVKS1KlTfVWvbnAgAIBHUGwGAAAAAAAAAABlatCgQZKkgIAALVy40OA0AABPodgMAAAAAAAAAADKzKuvrtaJE9Gy26WOHTsaHQcA4EE8sxkAAAAAAAAAAJQJq1UaO/Y32e395ef3pz7//GWjIwEAPIjOZgAAAAAAAAAAUCZGjlyrtDRH39t1110iP1rgAMCrUGwGAAAAAAAAAAAeZ7VK77zzqyTJx8eipUufNDgRAMDTKDYDAAAAAAAAAACPGzlyrdLT/SVJDRumKzra4EAAAI+j2AwAAAAAAAAAADzqwq7mFSsGGpwIAFAWeDoCAAAAAAAAAADwqBdeWKX0dD9JdjVsaKWrGQC8FJ3NAAAAAAAAAADAY6xW6b339kiiqxkAvB3FZgAAAAAAAAAA4DEvvLBKVmuAJKl+/fN0NQOAF6PYDAAAAAAAAAAAPGbSpAWSHF3Nq1cPNjYMAKBM8cxmAAAAAAAAAADgETNnztT58x9JqqUmTR6iqxkAvBydzQAAAAAAAAAAwCMGDx4sSfL3T1Z8/DhjwwAAyhzFZgBApWexWFz6c9tttxkdFQAAAACACo1rcO82c+ZM/fXXX5KkNm3aGBsGAFAumEYbAAAAAAAAAACUitUqDRgwQ5JF/v5+WrFihdGRAADlgGIzAAD/079/fz355JOFLg8JCSnHNAAAAAAAeC+uwb3PCy+s0tmzcZJaqUWLg0bHAQCUE4rNAAD8T/Xq1XXdddcZHQMAAAAAAK/HNbh3sVql997bIylAPj7Rmj9/lNGRAADlhGc2AwAAAAAAAACAEnvhhVWyWgMkSfXrn1d0tMGBAADlhmIzAAAAAAAAAAAoEatVevfdPZIkHx+LVq8ebGwgAEC5otgMAAAAAAAAAABKZMSI5crIcHQ116t3lq5mAKhkKDYDAPA/X3zxha655hoFBwcrLCxMdevWVe/evfXtt98aHQ0AAAAAAK/CNbh3sFqlDz5IkiRZLBatXTvE4EQAgPLmZ3QAb2Gz2TyyjZzteGJ7nmLGXGbMJJkzF5lcZ8ZcZswkmTOXJzL98ssved4nJSUpKSlJn376qe655x5Nnz5dERERbue6MJ/RvPXfz9PMmEkyZy4zZpLMmYtMrjNjrrLK5OPDPcAAAKDyKeoavEuXLpoxY4bb1+Aof7m7mq+5hq5mAKiMKDZ7gM1mU0JCgke2s2fPHud7s/zoZMZcZswkmTMXmVxnxlxmzCSZM1dpMgUFBenWW29V8+bNVadOHQUHB+vMmTPaunWrFixYoJSUFC1evFi33367Jk2aJD+/wv/nMyMjQxkZGc73586dkyRt375doaGhJTgyz/O2f7+yYsZMkjlzmTGTZM5cZHKdGXOVVabY2FhTHB8AAEB5qFKliu6++261bdtW9evXV2hoqE6cOKH169drypQpOnXqlBYtWqR77rlHq1evlr+/f6HbslqtslqtzvepqanlcQj4n3+6mgPoagaASoxiMwCg0lu+fLnCwsLyfd6iRQt169ZNgwYN0p49e7R161Z9+eWXiouLK3Rb06dP19SpU8syLgAAAAAAFdbhw4dVtWrVfJ+3a9dOAwcOVMeOHZWQkKD169dr8uTJGjRoUKHbGjdunEaPHl2GaVGUceMWKiPDcTMAXc0AUHlZ7Ha73egQ3sBT02jndEibqbvBjLnMmEkyZy4yuc6MucyYSTJnrrLMtH//fjVo0ECZmZm66qqrtHfv3kLHFnRXde3atXXmzBmFh4d7LFNpVLZ/v5IyYybJnLnMmEkyZy4yuc6MucoqkxmODQAAwCz279+va6+9VhkZGbr66qv122+/FTq2oGvwyy67TCkpKaa5BvdmERERSk0Nlo/P3frjj48oNgNAJUVns4d4+ocmHx8fU/3oZMZcZswkmTMXmVxnxlxmzCSZM1dZZbr66qt1xx13aOnSpdq3b5+OHTum6EKuoIKDgxUcHFzmmUrLjLnI5Doz5jJjJsmcucjkOjPmMmMmAAAAb3LllVeqXbt2Wrp0qZKSknTkyJFCr8EDAwMVGBhYzgkhSdOmTfvftOWpat16P4VmAKjE+HUEAAAXNGjQwPn68OHDBiYBAAAAAMC7cQ1ufkOGOJ7P7OfnpzVr1hicBgBgJIrNAAC4gKdOAAAAAABQPrgGN7c335yn1NSzkqRWrVoZnAYAYDSKzQAAuOCXX35xvi5s+i4AAAAAAFB6XIObl9UqPffcSUlj5Ot7C13NAACKzQAAFGf//v1avXq1JMezoy699FKDEwEAAAAA4J24Bje3YcO+VkZGgKSLVbduF6PjAABMgGIzAKBSW7JkibKysgpdnpycrK5duyozM1OS9NRTT5VXNAAAAAAAvArX4BWb1SpNnrxfkmSxSGvXDjE4EQDADPyMDgAAgJEGDhyozMxM3X///brppptUp04dBQcH6+TJk1q3bp2mTJmiU6dOSZJatmzJhS4AAAAAACXENXjFNmzY18rMDJQk1a2bKmY4BwBIFJsBANCRI0f03nvv6b333it0zP3336+PP/5YgYGB5ZgMAAAAAADvwjV4xfRPV3OgLBbp22+HGh0JAGASFJsBAJXazJkztX79em3cuFH79+/XyZMnlZqaqtDQUF122WX617/+pd69e+umm24yOioAAAAAABUa1+AV17PP/h9dzQCAAlFsBgBUaq1atVKrVq2MjgEAAAAAgNfjGrxislqlKVMOSAqSRFczACAvH6MDAAAAAAAAAAAAc3r22f9TVpaj0HzVVX/R1QwAyINiMwAAAAAAAAAAyMdmk6ZMSXK+/+67/xqYBgBgRhSbAQAAAAAAAABAPlOmTFJW1quSftDVV5+mqxkAkA/PbAYAAAAAAAAAAPkMHTpU0nn5+MzV3r3ZRscBAJgQnc0AAAAAAAAAACCPSZMm6fz585Kkm266SRaLwYEAAKZEsRkAAAAAAAAAADhlZkrPPjtCkuTj46MffvjB4EQAALNiGm0AAAAAAAAAAOA0ZMj/KS3tOUkrdOONNqPjAABMjM5mAAAAAAAAAAAgSbJapSlTDkiqKilOX3653uBEAAAzo9gMAAAAAAAAAAAkSc8++3/KygqSJF111V+KjjY4EADA1Cg2AwAAAAAAAACAXF3NDt99918D0wAAKgKKzQAAAAAAAAAAgK5mAIDbKDYDAAAAAAAAAFDJ0dUMACgJis0AAAAAAAAAAFRydDUDAEqCYjMAAAAAAAAAAJWY1SpNnrzf+Z6uZgCAqyg2AwAAAAAAAABQiQ0ZskjZ2cGSpCuuOE1XMwDAZRSbAQAAAAAAAACoxKZN6ydpraRM/fDDCKPjAAAqEIrNAAAAAAAAAABUUu+9956s1mRJX+iGG76gqxkA4BaKzQAAAAAAAAAAVFLDhg2TJFksFm3atN7gNACAioZiMwAAAAAAAAAAldC7776n9PR0SVLz5s0NTgMAqIgoNgMAAAAAAAAAUMmknrPqPy/9JekOSYH66aefDE4EAKiI/IwOAAAAAAAAAAAAytdDQz6SLaK6FHKfLou4weg4AIAKis5mAAAAAAAAAAAqkdRzVn29OtPxxs+uRYsGGBsIAFBhUWwGAAAAAAAAAKASeWjIR7Jnh0iSLq52UE3qXWJwIgBARUWxGQAAAAAAAACASiJPV7PsWjXvaUPzAAAqNp7Z7CE2m80j28jZjie25ylmzGXGTJI5c5HJdWbMZcZMkjlzmTGTpDyZzJLLjOeKTK4zYy4zZpLMmYtMrjNjrrLK5OPDPcAAAAAoP3Q1AwA8iWKzB9hsNiUkJHhkO3v27HG+N8uPTmbMZcZMkjlzkcl1ZsxlxkySOXOZMZMknT17VpK0fft2hYaGGpzGwYznikyuM2MuM2aSzJmLTK4zY66yyhQbG2uK4wMAAID3+6erOUB0NQMAPIFfNAAAAAAAAAAAqAToagYAeBqdzR7g4+Oj2NjYUm8n91R8ZupuMGMuM2aSzJmLTK4zYy4zZpLMmcuMmSQpNTVVktS4cWOFh4cbnMbBjOeKTK4zYy4zZpLMmYtMrjNjrrLKZIZjAwAAgPejqxkAUBYoNnuIp39o8vHxMdWPTmbMZcZMkjlzkcl1ZsxlxkySOXORyXVmzEUm15kxlxkzSebMRSbXmTGXGTMBAAAArhj13mjZL/5FOtlGF0cepasZAOARFJsBAAAAAAAAAPByk0a9JflbpSvX6LuvfjM6DgDAS1BsBgAAAAAAAADAi02cOFFWq1WySk3966vB5TWNjgQA8BLM+wYAAAAAAAAAgBcbPny48/XmzZsNTAIA8DYUmwEAAAAAAAAA8FJ9npoua8YdkoLVtGlTo+MAALwMxWYAAAAAAAAAALxQ6jmrPl1+RqrZSQp9Rd99R1czAMCzKDYDAAAAAAAAAOCFug+eInt2iOQnRV59TFWqGJ0IAOBtKDYDAAAAAAAAAOBlUs9ZtXxt9v/e2bX6s/8YmgcA4J0oNgMAAAAAAAAA4GWcXc2SIiMPqEm9SwxOBADwRhSbAQAAAAAAAADwInQ1AwDKC8VmAAAAAAAAAAC8yL/pagYAlBOKzQAAAAAAAAAAeInUc1YtXZP1v3d0NQMAyhbFZgAAAAAAAAAAvET3pydLtlBJ0kUX0dUMAChbFJsBAAAAAAAAAPACNrtNy7cvkXzPS7Jrzed0NQMAyhbFZgAAAAAAAAAAvMCbb7wp+65vpJDnVKPO/9HVDAAoc35GBwAAAAAAAAAAAKX3/PPPS5mSEtN11LbU6DgAgEqAzmYAAAAAAAAAACq48ePHKzMzU5IUExMji8VicCIAQGVAsRkAAAAAAAAAgArs7PlMjXj+Z0lhkqQdO3YYGwgAUGkwjTYAAAAAAAAAABXYAwPek63GHVJqa11Z40ej4wAAKhE6mwEAAAAAAAAAqKBSz1m14lu75CvpIj99sfQtoyMBACoRis0AAAAAAAAAAFRQ3QZ+INlCJUlVq+5Xk3qXGJwIAFCZUGwGAAAAAAAAAKACcnY1S5LsWvvFEEPzAAAqH4rNAAAAAAAAAABUQHQ1AwCMRrEZAAAAAAAAAIAKhq5mAIAZUGwGAAAAAAAAAKCCoasZAGAGFJsBAAAAAAAAAKhA6GoGAJgFxWYAAAAAAAAAACqQx0a/KPk4is10NQMAjORndAAAAAAAAAAAAOC6hZPfli6zSBffqm/mzDY6DgCgEqOzGQAAAAAAAACACmL8+PHKOpsl7c5Uw4xjiq1LVzMAwDgUmwEAAAAAAAAAqCBeeOEF5+vEbYkGJgEAgGIzAAAAAAAAAAAVwuDBHyozM1SSFBMTY3AaAAAoNgMAAAAAAAAAYHqp56x6Z+FZKXys5BOn7dt3GB0JAAD5GR0AAAAAAAAAAAAU7YGn3pcsoVJVKeLyWrJYjE4EAADFZo+x2Wwe2UbOdjyxPU8xYy4zZpLMmYtMrjNjLjNmksyZy4yZJOXJZJZcZjxXZHKdGXOZMZNkzlxkcp0Zc5VVJh8fJpwCAABA0VLPWbVqfc47u75Z8IyRcQAAcKLY7AE2m00JCQke2c6ePXuc783yo5MZc5kxk2TOXGRynRlzmTGTZM5cZswkSWfPnpUkbd++XaGhoQancTDjuSKT68yYy4yZJHPmIpPrzJirrDLFxsaa4vgAAABgXvc/+a5kC5ckhUckqUm9SwxOBACAA8VmAAAAAAAAAADMJitLslqVmiWt+S7n5kS7vv3yWUNjAQCQG8VmD/Dx8VFsbGypt5N7Kj4zdTeYMZcZM0nmzEUm15kxlxkzSebMZcZMkpSamipJaty4scLDww1O42DGc0Um15kxlxkzSebMRSbXmTFXWWUyw7EBAADAJGw2aedOae1aaeNGKTNTXfcFSbbWkqSw8N/oagYAmArFZg/x9A9NPj4+pvrRyYy5zJhJMmcuMrnOjLnMmEkyZy4yuc6MucjkOjPmMmMmyZy5yOQ6M+YyYyYAAAB4ifR0adIkacUK6fx56aKLlOoXqNV/N/vfALvW3RvtGBcUZGhUAAByUGwGAAAAAAAAAMBINpuj0LxwoVSzpnTFFZKkrvFpkj1MkhTmu01NvkmULvKRnn5a4uZHAIAJ8L9GAAAAAAAAAAAYaedOR0dzzZpSZKQkKd2erdV/1/rfALvWtfRzLF++3DEeAAAToNgMAAAAAAAAAICR1q51TJ39v0KzJI2L/1nyHS/VnKOIoO/UJDjTsfzcOembbwwMCwDAPyg2AwAAAAAAAABglKwsaeNG6aKL8ny8ZFui2u/JlrZ8rwOtA/5ZEBkp/fijYz0AAAzGM5sBAAAAAAAAADCK1SplZkoB/xSU3/3uOz3xv9d/BYXqInvgP+MDAhzjrVbJj5/4AQDGorMZAAAAAAAAAACjBAZK/v5SRoYkyZrtp6Bff3cu/ql797zjMzIc4wMDBQCA0Sg2AwAAAAAAAABgFD8/6aabpDNnJEmPbDwme0AzyVJPO4KiJIsl7/gzZ6R//YuuZgCAKVBsBgAAAAAAAADASG3bSlWqKPXkGd1y6LAUYJGqVNd/7u+Rd9zp01KVKlKbNsbkBADgAhSbAQAAAAAAAAAwUkyM1LGj+m1NleR4dvN3oSG6OuT8P2NOn5aOHpU6dnSMBwDABCg2AwAAAAAAAABgJB8fpfZ6WK1O/vW/D+x65voI6eRJ6cgRKTFRSkmR7r9fevJJyYef9gEA5sBDHQAAAAAAAAAAMFi/x19Tq1xdzU+E2aTMbCkoSOra1TF1dkwMhWYAgKlQbAYAAAAAAAAAwECp56xqtepbOabQtuuZddOlq6Ikq1UKDJT8+CkfAGBO3AIFAAAAAAAAAICB+vUaJeezmi+qqibX1HQUmENCKDQDAEyNYjMAAAAAAAAAAAb5p6tZkux6ZvVHhuYBAMAdFJsBAAAAAAAAADDIk31eUL6uZgAAKgjm3wAAAAAAAAAAwCC3rHhDqlJdSr9Mz6z+zOg4AAC4hc5mAAAAAAAAAAAM8PZ//iOdlXTiuDZH/U5XMwCgwqHYDAAAAAAAAACAAUImTnS8sEtTfzthaBYAAEqCYjMAAAAAAAAAAOXstSeHyP6/1zsuuUSyWAzNAwBASVBsBgAAAAAAAACgHKWes+qiT36ULPUlVdEHR44YHQkAgBKh2AwAAAAAAAAAQDl6vMdIyT9AqhKlH6Jup6sZAFBhUWwGAAAAAAAAAKCcpJ6zqvXadY43Frv+8/0UQ/MAAFAaFJsBAAAAAAAAACgnj/77RUkBkqT1VauqyTU1jQ0EAEApUGwGAAAAAAAAAKAcpJ6zqu033/3vnV3PrvnI0DwAAJQWxWYAAAAAAAAAAMrBY7m7miPoagYAVHwUmwEAAAAAAAAAKGOp56xqk7ureS1dzQCAio9iMwAAAAAAAAAAZYyuZgCAN6LYDAAAUNFkZUlpaY6/AQAAAACm9/d5upoBAN7Jz+gAAAAAcIHNJu3cKa1eLa1Y4Sg0V6sm/etfUtu2UkyM5MN9hAAAAABgRq8PfVyXVUmSrLW1PjRaT9DVDADwEhSbAQAAzC49XZo0yVFkPnfOUVT293d8vnCh4/OOHaX+/aWgIKPTAgAAAAAucNmkTyWLpJBTGrtlidFxAADwGNpfAAAAzMxmcxSaFy6UIiKkhg2lqCipalUpOtrxPiJCWrBAmjzZMR4AAAAAYBrjBwxwvLBLCcFRurJGtLGBAOD/2bvzMLnqMn34d3c6+wYBZBdkCUTkh42A4oIKOgM6iArDjOACoyg6oggCKuCCioqoIG4giDiO77iBG4ggsi8aIUYkJBJEdpEl0CQhnTTV7x9NFwlkqSRVfb7d/flcFxfnVJ0+fVelU+nnPPV8C5pIsxkAoGQ339w3ubzxxsmUKcs/ZsqUvvt//eu+4wEAAChCb28y+etfr+9/64EHKkwDAM1nGe0mqTVhiqhWq9XP04zzNUuJuUrMlJSZS6bGlZirxExJmblKzJRkmUyl5CrxuZJpJS69tG/p7C23THp7U3vqvyT1/ydJ1l03uffe5Le/7fv85gFUzHP1DCXmkqlxJeZqVaZ2n7cOADBkHfrGT2T39h2S2p2ZscHYpK2t6kgA0FSazU1Qq9UyY8aMppxnzpw59f1SLjqVmKvETEmZuWRqXIm5SsyUlJmrxExJMn/+/CTJzJkzM2HChIrT9CnxuZJpBXp6+qaa29uThx6q51o4d26eGDUqM5K0L32hYsSIvunml7886Ri4X/OKeK6Wo8RcMjWuxFytytTZ2VnE4wMAoLm6FnRn99/9Jhk3JVmybj5zy5VVRwKApnNFAwCgVEuW9DWcR46s3zS2qyubPPxwnvfAA2l78slljx85su/4JUsGOCgAAADPdNhBJyYZlSS5cv11sv4GLscDMPSYbG6C9vb2dHZ2rvV5ll6Kr6TphhJzlZgpKTOXTI0rMVeJmZIyc5WYKUm6urqSJDvttFMmTZpUcZo+JT5XMq1AT0+y/vrJokV9/0/S+/DDebijI2lvz9ZtbWl/6vYkyeLFyZgxyW67Dfhkc79S/vySMnPJ1LgSc7UqUwmPDQCA5upa0J09f3dV+prNvfnwZWdVHQkAWkKzuUmafaGpvb29qItOJeYqMVNSZi6ZGldirhIzJWXmkqlxJeaSaTlGjUpe+tLk/POTTTdNarX0Pvxw2p5qeLU/9FDaN9ro6eMffTTZf/++rxtglT9XK1BiLpkaV2KuEjMBAFCeww46MXv2TzVPXifv2W7jihMBQGu4OgIAULK99krGjUseeSSZNy9ZsiS9bW1JrZa2efP6pp+TvvvHjUv23LPavAAAAMPc01PNialmAIY6zWYAgJLtuGOyzz7J/fcnd96Z1GqZP3lylowcmTz5ZPLww32N5vvv7ztuxx2rTgwAADCsLfNZzZPXyc6mmgEYwjSbAQBK1t6evPe9yRvfmDzwQPLII1nY25uFI0cm8+cnf/5z8thjfctnv+99fccDAABQCVPNAAw3PrMZAKB0Y8Ykr3lNcs01yT33pLutLbVFi5KFC5ONN04+/elk1101mgEAACr2zrccn9f4rGYAhhHNZgCAwWDGjGTChPS++c3JpptmSU9Pct11Sa2W9PZqNAMAAFSst7c3r7n+7KTjeUnPBFPNAAwLrkoCAJSupyf505+S7u5k++2TESOS0aPTu8MOfbfdeGPVCQEAAIa9Lx5xRPLQY8mSP+Xaje72Wc0ADAuazQAApZs1q+/zmceNSzbb7Onbt98+Wbw4ueWW5IknqssHAABAJn/9630bC5Lv/fWOasMAwADRbAYAKN2NNz491dzW9vTtG2yQTJnS12ieObO6fAAAAMPcKe9/f317xgYbLFu7AcAQptkMAFCypZfQnjbt2fdPm2YpbQAAgAp1LejO5G/+LsmkJMm3Hnig2kAAMIA0mwEASraiJbT7TZtmKW0AAIAKveugE5Nx6yejd8r1U15tqhmAYUWzGQCgZCtaQrufpbQBAAAq07WgO3v97qq+nZG9+eD1/1ttIAAYYJrNAAClWtUS2v0spQ0AAFCJdx10YpJRSZIrJ09O59SNqw0EAANMsxkAoFSrWkK7n6W0AQAABtwyU83pzTG/+3aleQCgCprNAAClWtUS2v0spQ0AADBwenqSBQty2EEn5Omp5nVMNQMwLHVUHQAAgOVodAntftOmJdOn9zWoX/KSlscDAAAYVmq15Oabk8suS66/Pl3dPdnz8vvT12zuzYcv/VbVCQGgEiabAQBK1OgS2v0spQ0AANAaixYlp52WHHNMcv75yaJFOWz2ktSnmseOyc4X/6jvOAAYZjSbAQBK1OgS2v0spQ0AANB8tVryjW/0NZknT0522CFdG26aPe9/6KkDevPh3TdKfvrT5Jvf7DseAIYRzWYAgNKs7hLa/aZN6/uaG29sWTQAAIBh5eabk4svTjbeuO8NvkmO+9PVScfCJMmV48Zl543G9d3/61/3HQ8Aw4hmMwBAaVZ3Ce1+ltIGAABorssuSxYurDeak+SFN85KFt+cjJ2Z4/51q74bp0xJFixIfve7ioICQDU0mwEASrO6S2j3s5Q2AABA8/T0JNdfn6y7bv2mUy6/vG9jYXLTY4uy09ills2eMiW57rq+rwOAYUKzGQCgJGu6hHY/S2kDAAA0R3d3smRJMmpU/aa/3XZbffvMd7xj2eNHjeo7vrt7oBICQOU0mwEASrKmS2j3s5Q2AABAc4wenYwc2VdjJXn3pf/MC9K3nPYFY8Y8eyWqxYv7jh89eqCTAkBlNJsBAEqypkto97OUNgAAQHN0dCS7757Mm5euJ9vy6OMTMnLMDrl9xKvyq4Pf8ezj581LXvrSvq8DgGFCsxkAoBRru4R2P0tpAwAANMdeeyXjxuWgax/IHovuTjqSyzbaMB0jepc97pFH+lao2nPPanICQEU0mwEASrG2S2j3s5Q2AABAc+y4Y7pes3fGPTQhI1PL7R3r59uvXm/ZYx55JLn//mSffZIdd6wmJwBURLMZAKAUa7uEdj9LaQMAADRHe3vecv1DfVPNSS4b256dH70reeih5L77kr/8JXnssWT//ZP3vS9pd8kdgOHFv3wAACVo1hLa/SylDQAAsNa6FnRn/DV3Pz3V/M6XJGPGJE8+2ff/Aw5IvvjF5IMfTEaPrjouAAy4jqoDAACQ5i2h3W/atOTaa59eSnvs2LU/JwAAwDBz0Ds+m72fmmr+7ZQJOeXTH+57s3B3d19zucMldgCGN5PNAAAlaNYS2v0spQ0AALBWuhZ0Z9yVd9Snms++6At9d3R0JOPHazQDQDSbAQCq1+wltPtZShsAAGCNHfSOzz79Wc1TJmbn7TauOBEAlEezGQCgas1eQrvftGnJ4sVPL6UNAABAQxY/uTjjfn/l05/VfNHnq44EAEXSbAYAqFqzl9DuZyltAACANfK5Yz+SPR65Khk7I7/beL6pZgBYAc1mAIAqtWoJ7X6W0gYAAFhtt3z5Kxm5MLn9wfm5+k8/qzoOABSro+oAQ0WtVmvKOfrP04zzNUuJuUrMlJSZS6bGlZirxExJmblKzJRkmUyl5CrxuRrWmf7yl7Q9/ngydmx6N9kkWcX3Wu1c222XtmuuSW65Jb0LFiRjxzYj9dplGiAl5pKpcSXmalWm9nbvAQYAKMlJRx+dPZ7avmmTTTJ21LhK8wBAyTSbm6BWq2XGjBlNOc+cOXPq+6VcdCoxV4mZkjJzydS4EnOVmCkpM1eJmZJk/vz5SZKZM2dmwoQJFafpU+JzNZwzrfeLX2T8P/6Rx7faKvP++tfGct1552rl2ri3NyPvuScP//jHWbDjjmuVd4WZCvvzS8rMJVPjSszVqkydnZ1FPD4AAJJFi3rzly+fn72S3J7kt/fcU3UkACiaKxoAAFXp6cnYv/41Wbw4C5/3vJZ9m4VbbpksXpxxt97asu8BAAAwFOz/1k9kj7FbJCN2zh+e86Kkra3qSABQNJPNTdDe3p7Ozs61Ps/SS/GVNN1QYq4SMyVl5pKpcSXmKjFTUmauEjMlSVdXV5Jkp512yqRJkypO06fE52rYZvrzn9M2dmyyySZZ7xWvaOgixjK5ttuusVxTpqTtzjuTxx/PZttv3/SltEv880vKzCVT40rM1apMJTw2AACSrgXdGX/lHRk5opbbJ26Rr1/77aojAUDxNJubpNkXmtrb24u66FRirhIzJWXmkqlxJeYqMVNSZi6ZGldirmGZacaMZPHiZIcd0jZiROtybbhhst56yRNPpO3mm5OXvGRNEzcv0wApMZdMjSsxV4mZAABojre847PZZ9HdSZLLpkzIKdusV3EiACifqyMAAFXo6Un+9KekuzuZNq3132/atL7vdeONrf9eAAAAg0x9qjm13N6xfs7+9ReqjgQAg4JmMwBAFWbNSubPT8aNSzbbrPXfb9q0vinqW25Jnnii9d8PAABgEHnLOz6bPZaaau6cunHFiQBgcNBsBgCowo039k0ab799Q5/VvNY22CCZMqWv0TxzZuu/HwAAwCBhqhkA1pxmMwDAQBvoJbT7WUobAADgWQ5aZqp5oqlmAFgNms0AAANtoJfQ7mcpbQAAgGV0LejOuKWmmr990eerjgQAg4pmMwArdPbZZ6etrS1tbW3ZZJNNVutrDz300PrXHnzwwS1KCIPUQC+h3c9S2gAAUCT1dwV6epIFC3Loe49dZqp55+1MNQPA6uioOgAA5XrpS19a377//vtzzz33ZLMGpjCnT5+e8847L0kybty4fOELPusI6qpaQrvftGnJ9Ol9De+XvGTgvz8AAPAs6u8BUqslN9+cXHZZcv31yZIlGXHZzzNy7LjcPuIF+favTq46IQAMOiabAVihadOmZZ111qnv/+EPf1jl1/T29uYDH/hAent7kyTHHXdcQwUyDBtVLaHdz1LaAABQHPX3AFi0KDnttOSYY5Lzz08WLcpJf/pT9pif5MGFmb5wena++Ed9xwEADdNsBmCF2tra8uIXv7i+30ix+/3vfz833HBDkuS5z31ujjnmmJblg0GpqiW0+1lKGwAAiqP+brFaLfnGN/qazJMnJzvskGyySf5y550ZmeT2JJe/9s3JT3+afPObfccDAA3RbAZgpXbffff69qqK3fnz5+cjH/lIff+UU07J2LFjW5YNBp2ql9DuN21aX4Ybb6wuAwAAsAz1dwvdfHNy8cXJxhv3vfk2yXGX3ZI9nrr7pjFjkvXW67v/17/uOx4AaIhmMwArtXSx+8c//jG1lby797Of/Wzuu+++JMnLX/7y/Md//EfL88GgUvUS2v0spQ0AAMVRf7fQZZclCxfWG81dT7bljoeel5Ejdsnt2Ty/fdvb+o6bMiVZsCD53e8qDAsAg4tmMwAr9eIXvzjt7X3/XDz++OOZPXv2co+7/fbb85WvfCVJ0t7entNPP33AMsKgUfUS2v0spQ0AAMVRf7dIT09y/fXJuuvWb/rP3z+cPZ68Oxk7Nr/b4KXL1mdTpiTXXdf3dQDAKmk2A7BSkydPzrSllvtd0VJeRx11VLq7u5Mkhx56aHbeeecByQeDRilLaPezlDYAABRF/d0i3d3JkiXJqFFJ+qaar3ysM1eOmZpbOzbMWf+63rLHjxrVd/xTzzEAsHKazQCs0qo+N+qSSy7JL37xiyTJpEmT8tnPfnbAssGgUcoS2v0spQ0AAMVRf7fA6NHJyJF99U+S/f44Pwvb1stPxr0oZ6+zXnYe94wJ5sWL+44fPbqCsAAw+Gg2A7BKKyt2e3p6cuSRR9b3TzjhhGy44YYDFQ0Gj1KW0O5nKW0AACiO+rsFOjqS3XdP5s1L15NtueLRFz51R2+uekXHs4+fNy956Uv7vg4AWCXNZgBW6aUvfWl9+89//nN9ua4k+drXvpZbb701SbLNNtvkgx/84IDng+KVtoR2P0tpAwBAUdTfLbLXXsm4cdnvhnlJ78QkyfgRM7Pz2CXLHvfII32rUe25ZwUhAWBw0mwGYJW22267rLvuukmSJUuWZMaMGUmSefPm5aSTTqof9+UvfzmjnvoMJGAppS2h3c9S2gAAUJQV1d8PPvhgPvWpT9WPU3+vph13TNdr9s4V83d96obeXPXyEcse88gjyf33J/vsk+y444BHBIDBSrMZgFVqa2vLS17ykvr+9OnTkyRf//rX89hjjyVJXvva12bfffetJB8Ur7QltPv1L6W9aJGltAEAoAArqr+PP/74PProo0nU32ukvT373bjg6anm3Jid592ZPPRQct99yV/+kjz2WLL//sn73pe0u2wOAI3yryYADVn6c6OmT5+e2bNn5+c//3mSpKOjI6eddlpFyaBwpS6h3W/atL5ms6W0AQCgCM/83OYZM2bknHPOSaL+XlNPLO7OFX/onwTvzVXv2D4ZMyZ58sm+/x9wQPLFLyYf/GAyenSlWQFgsOmoOgAAg8PSxe7vf//73HLLLent7U2SvPe9783zn//8qqJB2UpdQrvftGnJtdc+vZT22LFVJwIAgGHtmfX3Bz7wgdRqtSTq7zX1sU99JFnvf5Oe12X8kknZ+aSv9r0xuLu7r7nc4TI5AKwp/4oC0JAXv/jFaW9vT61Wy9y5c+u3r7vuuvnkJz9ZXTAoXf8S2jvsUNYS2v2euZT2Ukv2AQAAA2/p+vu2227LbbfdliSZMmWK+nsNnXbyaX0bU87L7Xc+0Lfd0aHJDABNYBltABoyceLE7LDDDs+6/VOf+lSmTJlSQSIYBEpfQrufpbQBAKAYK6q/TzrpJPX3Gjj++OPr21tO2jIbTnhOhWkAYOjRbAagYUsv5ZUkW221VQ4//PCK0sAgUPoS2v2mTUsWL356KW0AAKBSz6y/d9hhB/X3GliyJDn55C/U9++4444K0wDA0KTZDEDDXvziFy+zf/TRR2fEiBEVpYFBoH8J7e23L3MJ7X7PXEobAACo1DPr79NOO039vQZe/45Tk3GfSbJHtthi66rjAMCQpNkMQMMuv/zy+vYrX/nKZxW/Q8Fdd92VD3/4w5k2bVrGjx+fKVOmZLfddsupp56ahQsXVh2PwWSwLKHdz1LaAABQjKXr7/322y+vec1rKkzTGq2uv7sWdOfS65Ksv26y0Vty9bWz1z40APAsHVUHAGBwmDVrVn7wgx8kSUaOHJkjjzyy2kAtcOGFF+bggw/OY489Vr9t4cKFmT59eqZPn56zzz47F110UbbaaqsKUzJoDJYltPtNm5Zce+3TS2mPHVt1IgAAGJaWrr9HjRqVU089teJEzTcQ9fcbDvtS0rtekmT8urOz+aYuhQNAK5hsBqAhRx99dGq1WpLkqKOOyuabb15xouaaOXNmDjzwwDz22GOZMGFCPvvZz+a6667LZZddlsMOOyxJMmfOnLz+9a/P/PnzK07LoDBYltDuZyltAAAowjPr72222abiRM01EPV314LuXHndqKf2enP1zz/SpPQAwDN5OxcAq3Teeefl4osvTpI897nPzQknnJA5c+ZUnKq5jjzyyCxcuDAdHR255JJLsvvuu9fv23PPPbPtttvm2GOPzezZs/PlL385H//4xytMS/EG2xLa/aZNS6ZP72uUv+QlVacBAIBh55n194knnlhxouYbiPr7Pz9wRtK7aZJk/PjZ6dx2o6blBwCWZbIZgJX6//6//y+HH354ff/MM8/MuHHjKkzUfNOnT88VV1yRJHnnO9+5TKHb7+ijj860p5qGp512WpYsWTKQERlsBtsS2v2mTUsWL356KW0AAGDAqL/7NKP+vvb3ppoBYKBoNgOwjIsvvjhvfOMb8/rXvz5bb711DjrooCxatChJ37uP995774oTNt/Pfvaz+vahhx663GPa29vz9re/PUkyb968enEMyzXYltDuZyltoADd3d3p7e2tOgYAtJz6u4X1d++EJMn48XNMNQPACjSr/tZsBmAZF110UX7+85/noosuyt/+9rf67fvvv39OPfXUCpO1ztVXX50kGT9+fF70ohet8LhXvvKV9e1rrrmm5bkYpAbrEtr9pk3razbfeGPVSYBh6O67784WW2yRF7/4xfnNb36j6QzAkKb+bn793bWge6m93lz1s+NWOyMADAfNrL81mwFYxowZM5L0vZN40003zWte85r8+Mc/zo9+9KOMGDGi4nStceuttyZJttlmm3R0dKzwuO233/5ZXwPPMliX0O5nKW2gQg8++GAeeOCB3Hjjjdl77701nQEY0tTfza+/3/KBM+rb48fPyc5TTTUDwPI0s/5e8b/oAAxL/e8yHi4WLVqUhx56KEmy2Soag+uuu27Gjx+fBQsW5O677x6IeAxG/Uto77DD4FpCu98zl9J+yUuqTgQMQ7VaLUly0003Ze+9986uu+6aT3/60/mXf/mXtA3G11YAWA7194qtaf19zV++2rfRtsRUMwA0oBn1d0PN5t7e3jz++ONrnpSG1Gq1zJ8/P0nS1dWV9vYyBs9LzFVipqTMXDI1rsRcJWZKysy1ppn6C90kGT16dLq6ulZ6/NixY7NgwYI89thjyz22u7s73d1PL9vV/+/nqs47kIbSn18rrVGmnp7k97/vm2zeYou+/7ci11MTx13z57fmuXre85KbbkquuSZ5/vMby1TYn19SZi6ZGldirhIzDTXzn/G6+eSTTyZJ/Z3Wu+66a04++eS85jWvqSLegFGDAzAUNbv+TpatwT/72c8msx9Lkqy73unZZqP3FFWLA0BJmll/t/U2MA/d1dWVyZMnr2FcAAAAaI5p06Zl1qxZVcdoKTU4AAAAVWu0/m5osnnixIl57LHH1joUK1er1XLdddfl9a9/fe68886ss846VUdK0pdr5syZSZKddtqpiAmOEjMlZeYqNZOf9caUmCkpM9eaZnrooYey9dZbJ0ne/OY359xzz13p8VtvvXUeeuihTJs2LTfccMOz7n/mZPP999+f3XbbLbNmzcqmm27a6MNpqaH059dKa5Tp+99Prrwy2X77ZM89W5dr7ty+XNts07rn6txz+ya1Dz002XXXVWbyut4YmRpXYq5Sf9aHkj/96U955Stf+azb29vbU6vV6u+sHurU4AOnq6srm2++ee6+++5MmjSp6jjQMn7WKUGz6+/k6Rr8c5/7fL7xja/Xby+pBodW8LrOcOFnvXWaWX831Gxua2vzhzgAarVaxo8fnySZNGlSMc95rVbLhAkTkvTlKuVCX2mZkjJzlZrJz3pjSsyUlJlrTTONGjWqvt3d3b3Kn8cnnlq+ePLkyav1sztx4kQ/6ysxJDL19CRz5iS1WtLZmTz1tS3JNXZsX64JE1r3XO20UzJ9ejJ7drLXXqvM5HW9MTI1rsRcpf6sDyUTnvHaOWLEiDz55JN50YteNKw+s1kNPvD8nWa48LNOlVpVf3ct6M43vjclyWuSXJlkSVE1OLSS13WGCz/rzdfM+rv6KzYAUKExY8Zk/fXXT5Lcc889Kz123rx5WbBgQZJk8803b3k2BplZs/o+o3ncuGSzzapOs/amTUsWL05uuSV56iIPwEDpf3PBzjvvnIsvvji///3v86//+q/DotEMAENVq+rv/Q77UjJl02TjAzJp40ObExYAholm1N+azQAMe9OmTUuSzJ07Nz09PSs8bvbs2c/6Gqi78caku7tvCe2h0AzZYINkypRk0aLkqaWMAVrtOc95TjbaaKO86EUv0mQGgCGo2fV314LuXHHdUxPTI3vzf/93eHOCAsAQ18z6W7O5MKNGjcphhx2W0aNHVx0FWsrPOiV5+ctfniRZsGBBbrzxxhUed+WVV9a3X/aylzV07v6fcT/rQ1xPT/KnP/U1m4fSGxGmTetrNq/k70U/r+sMF37WW2uzzTbL3//+d01mBszo0aPziU98wt9phjw/65Si2fX3fod9KemdmCQZP35OdpnWt8qUn3WGOq/rDBd+1lunmfW3ZnNhRo0alfe85z3+4jDk+VmnJG984xvr2+eee+5yj6nVavne976XJFlnnXXy6le/uqFzazYPE0NtCe1+q7GUttd1hgs/6603evRoTWYGzOjRo/PJT37S32mGPD/rlKKZ9fcyU83pzVU/O04NzrDhdZ3hws96azWr/tZsBmDY22233fKKV7wiSXLOOefk+uuvf9YxX/rSl3LrrbcmST74wQ9m5MiRA5qRwg21JbT7WUobAABoombW38+cat556kYtSg0ArIxmMwAkOf300zN27Nj09PTkX/7lX/K5z30uN9xwQy6//PK85z3vybHHHpskmTp1ao4++uiK01KUobqEdr/VWEobAABgVZpRfy9vqhkAqEZH1QEAoASdnZ354Q9/mLe+9a3p6urKxz72sWcdM3Xq1Fx44YWZOHFiBQkp1lBdQrvftGnJtdc+vZT22LFVJwIAAAaxZtTffVPN6yUx1QwAVTPZDABP2XffffPnP/85H/rQhzJ16tSMGzcu66yzTnbZZZd84QtfyIwZM7LNNttUHZPSDNUltPtZShsAAGiytam/TTUDQFk0mwsxf/78XHXVVfmf//mffOQjH8lWW22Vtra2tLW1Zcstt1zt891yyy05/PDDs80222Ts2LHZYIMNsscee+TMM89MT09P8x8ANNGrXvWq+s//qv6DZttiiy3y5S9/OXPmzMmCBQsyb968TJ8+Pccee2zGjRvX8HnuuuuufPjDH84uu+xSP+9uu+2WU089NQsXLmxVfAbaUF9Cu99yltJe+rV4xIgR2WWXXbLLLrtkxIgRy9z3qle9qrrcsAr//Oc/86tf/Sof//jHs88++2T99dev/+wecsghq32+iy++OG9+85uz2WabZfTo0dlss83y5je/ORdffHHzwwNrpb8GP/XUU3PggQfmec97nhqcYUn9TZXWtP7+wElHJutfn7QtqU81q8EZyhp9nVZ/UzL199BmGe1C7Lvvvrniiiuacq5zzjkn//3f/53u7u76bYsWLcrVV1+dq6++Ot/97nfzq1/9Kuutt15Tvh8Ay7rwwgtz8MEH57HHHqvf9uijj2b69OmZPn16zj777Fx00UXZaqutKkxJUwz1JbT7WUqbIWrDDTdsynl6e3tz+OGH56yzzlrm9nvvvTcXXHBBLrjggrz73e/Ot771LRfroRBqcIDB67xTvpVMTLLVpfnDL+aowQEGAfX30KbZXIje3t769sSJE/PiF784N9xwQ+bPn79a5/nNb36Td7/73anVatlwww1z/PHH58UvfnEeeeSRfPvb387555+fG264IW9+85tz+eWXp73dcDvl2mWXXXLuuedWHQNWy8yZM3PggQdm4cKFmTBhQj70oQ/l05/+dH7xi1/kl7/8Zb797W9nzpw5ef3rX5/p06dnwoQJVUdmbfQvob3DDkNzCe1+z1xK+yUvqd/13ve+N4cffnhuvfXWJMm0adOW+f1i/PjxAx4X1sTmm2+eadOm5ZJLLlntrz3hhBPqhW5nZ2eOPfbYbL311rn99ttzyimnZMaMGTnrrLOywQYb5DOf+UyzowNrYOkafN11180uu+yS66+/Xg3OsKX+ZrA4/vjj+zYeT7Z8bL0smfdPNTjDxnvf+968733vW+H96m8GC/X30KPZXIiDDjoo73rXuzJhwoRsvvnm6ezszFZbbbVahW5PT0/e//73p1arZdKkSbn22muz9dZb1+/fe++989///d/5xje+kauuuirf//738/a3v70VDweaYvz48XnBC15QdQxYLUceeWQWLlyYjo6OXHLJJdlhhx3y6U9/Oq985Suz7777Ztttt82xxx6b2bNn58tf/nI+/vGPVx2ZNTVcltDuN21aMn16X4N9qWbzc57znLzgBS/IkiVLkiQveMELXEhn0Pj4xz+eXXfdNbvuums23HDD/P3vf8/znve81TrH3Llzc8oppyTpu1B/1VVXZexT0/+77rpr3vCGN+SVr3xl/vjHP+YLX/hCDj300GV+RweqcdBBB+Xd7353dtttt/pngm655ZZqcIYt9TeDxcknn1zfvuOOO/LqV79aDc6w0V9/w2Ck/h7aXAksxLvf/e4cdNBB2Xzzzdf4HBdccEHmzp2bJPnoRz+63L9EX/ziF7PuuuvWtwFonunTp9eXY3znO9+Z3Xff/VnHHH300Zn2VGPytNNOqzfoGISGyxLa/aZNSxYvfnopbRgCPvWpT+Xf/u3f1mo5r6985Sv1z2M944wz6oVuv3HjxuWMM85I0teYOu2009b4ewHN01+D9zea14QaHGBg7f+205O8LsmYbLnllmpwgEFE/T20aTYPIT/72c/q2yv6QPVx48blwAMPTJL85S9/yW233TYAyQCGh6Vfhw899NDlHtPe3l6faJk3b17TPiuQCvQvob399kN7Ce1+z1xKG0hvb29+/vOfJ0m23377vGSpqf+lveQlL8l2222XpO/fiqWX7wUGLzU4wMDpWtCd869ekmzyhmTCZ3PLLXeowQGGEfV32TSbh5Crr746SbLddttlo402WuFxr3zlK+vb11xzTctzAQwX/a/D48ePz4te9KIVHud1eAgYbkto95s2ra/ZfOONVSeBItxxxx259957kyz72r48/fffc889+fvf/97qaMAAUIMDDJw3HPalpHdi0pGM3/yujBunBgcYTtTfZdNsHiLmz5+fe+65J0nfuzpWZun7b7311pbmgrUxe/bs7Lrrrpk4cWLGjBmTzTbbLPvtt1++973vWfaIIvW/pm6zzTbp6OhY4XFeh4eA4baEdr+lltIe89RNP/7xj7P99tvnpS99aV7xildk6tSpecc73pHLL7+80qgwEJZ+Dfc7OAwvanCGGvU3Jeta0J0rrxv11F5vrv75R5KowRl+fvzjH2e77bbL2LFjM3HixGy77bbqb4YN9XfZNJuHiHvuuae+HMBmq7jovfTnQt99990tzQVr44EHHsgf//jHzJ8/P93d3bn33nvzi1/8Iu94xzvywhe+0D8UFGXRokV56KGHkqz6dXjdddfN+PHjk3gdHrSG2xLa/ZZaSnunp26aNWtWbrvttixevDhPPPFEbr/99nzve9/LnnvumTe96U157LHHKo0MrbT0a7jfwWF4UYMz1Ki/KVl9qjnJ+PGz07ntRmpwhqVZs2blr3/9axYtWpT58+dn7ty56m+GDfV32Vb8li8Glccff7y+PWHChJUe2//LVdL3bmwoTXt7e/baa6+87nWvy0477ZT11lsvjz/+eG666aaceeaZufXWWzNr1qy8+tWvzh/+8Ic897nPrToyrNbrcNL3WrxgwQKvw4PRcF1Cu9+0acn06dl95Mg8b//9s9dee2Xq1Km55557Mm/evNx3330588wz8/DDD+dnP/tZ9ttvv1x66aUZOXJk1cmh6fwODsOXv/8MFepvSreiqWY1OMPJuHHj8oY3vCF77bVXtt9++0yYMCEPPvhgrrzyynzrW99SfzMs+P27bJrNQ8SiRYvq26NGjVrJkcno0aPr20888UTLMsGaOv/887POOus86/ZXvOIVed/73pfDDjss5513Xh544IEceeSROf/88wc+JDzD6rwOJ0+/FnsdHoSG6xLa/aZNS669Np9/+9sz+owzkrFjU6vVMmPGjCRJZ2dnPvCBD2SfffbJjBkzcuWVV+ab3/xmPvCBD1QcHJrP7+AwfPn7z1Ch/qZ0+77ri0nvBkmS8ePnpHPbjZKowRle7r333uW+Vr/2ta/NEUccof5mWPD7d9kso70aenp60tbWttb/ffe73216tjFjxtS3Fy9evNJju7u769tjx45tehaGh7X5+zBixIjssssu2WWXXZb792F5vzz1GzlyZM4+++z65y5ccMEFuffee1v0KKFxq/M6nDz9Wux1eBAarkto93tqKe3RtVoyc+ZyD9lwww3zk5/8pP7L/xlnnDGQCWHA+B0cWksNDn1a+XdB/U3JuhZ056rr+19ve3PVz46r36cGZzhZ2Wu1+pvhwu/fZdNsHiImTpxY317VsgALFiyobzeyzAyUpqOjI+985zvr+1deeWWFaaDP6rwOJ0+/FnsdHmSG+xLa/aZNSxYt6mu8r8BWW22V1772tUmSuXPn5r777huodDBg/A4Ow5e//wwX6m+qtN9Sn9U8bvzs7Dx1o/p9anB4mvqb4cDv32WzjPZq6OjoyK233rrW59l4442bkGZZS38g+j333LPSY5f+QPSlPygdVsfa/H2o1Wr1r91zzz3X6BzPf/7z69veWU0JxowZk/XXXz8PPfTQKl+H582bV/+lx+vwIDPcl9Du99RS2rnlluSJJ5Kllida2vOf//xceOGFSfpeqzfZZJOBTAkt53dwaC01OPSp+u+C+psq1HpruWLOZUn7G5La6Fz9s48sc78aHJal/mao8/t32TSbV1P/0kGlmTBhQjbffPPcfffdmT179kqPXfr+acN5Kou1tqZ/H2q1Wv2zEiZPnrxG5+jt7V2jr4NWmjZtWq6++urMnTs3PT096ehY/j+zXocHsf4ltHfYYXguod3vqaW0s2hR31Lau+223MO8VjPULX3x3e/g0BpqcOhT5d8Fv9NRhRNPODGZ/btk6+szeexLs/PUw591jBocnua1mqFO/V02y2gPIS9/+cuTJHPmzMk//vGPFR639JJHL3vZy1qeC1ph1qxZ9W3v1KMU/a/DCxYsyI0rWV7Y6/AgZQntZTWwlLbXaoa65z3vefWf7VUtK3rVVVclSTbddNNsueWWrY4GDAA1OMOF3+mowsknn5wsTHLzE5l3w6XLPUYNDk/zWs1Qp/4um2bzEPLGN76xvv3d7353uccsXLgwP/rRj5L0vRNk6tSpA5AMmqunpyff+c536vt77LFHhWngaUu/Dp977rnLPaZWq+V73/tekmSdddbJq1/96oGIRjNYQntZ06Ylixc/vZT2M/ztb3/LpZf2XRTaaqutsummmw50Qmi5tra27Lfffkn63jl9ww03LPe4G264of7O6v322y9tw3llBBhC1OAMB+pvqnD88cfXt7fccssV/u6kBoc+6m+GA/V32TSbh5A3velN2XrrrZMkn/vc53L77bc/65hjjjkm8+bNq29DaS6//PI8+uijK7x/yZIlede73lX/B2Pffff1uQsUY7fddssrXvGKJMk555yT66+//lnHfOlLX6p/3toHP/jBjBw5ckAzshb6l9DefvvhvYR2kl9edVV61l132aW0l/LAAw/kgAMOyJIlS5Ik//3f/11FTBgQRx55ZH3JxiOOOKL+USH9nnjiiRxxxBFJ+j5z88gjjxzoiECLqMEZ7NTflGj+wiU5+XN/TjIhSXLHHXes8Fg1OMPBL3/5y/T09KzwfvU3w4n6u1w+s7kQc+fOzVVXXZW77rorSTJz5szMnz8/STJ//vxnvUt67733zkYbbbTMbSNHjsxXv/rV7Lvvvunq6srLXvaynHDCCdltt90yb968fPvb385Pf/rTJH3LzLztbW9r/QOD1XTeeeflDW94Q97whjfkVa96VbbbbrtMmjQp8+fPz4033pgzzzyzXiQ85znPyemnn15xYljW6aefnpe97GV54okn8i//8i856qijkvQt3/LLX/4yZ511VpJk6tSpOfroo6uMyuqwhPYyjvjiF7Okpyef2G677Fmrpe0nP8mcXXbJo48+mvPPPz9nnnlmHn744SR9v3ModinVNddck7lz59b3H3roofr23Llzn/U7+Nvf/vZnnWPq1Kn58Ic/nM9//vP54x//mJe97GU57rjjsvXWW+f222/PF77whcyYMSNJX6Np2223bc2DAVbL3Llzc8011yxzmxqc4Ub9TYn2fdcXk03+Lel6bTaa+NtVHq8GZ6g74ogjsmTJkuy///7Zfffds+WWW2bs2LF56KGHcsUVV+Rb3/qW+ptBYXXr70MOOeRZ51B/l0uzuRDXXHNN3vnOdy73vocffjiHHnroMrddfvnlzyp0k+R1r3tdvvWtb+X9739/Hnjggfq7OJa222675YILLsiIESOaEx6abP78+fnBD36QH/zgBys8Zscdd8z//d//5XnPe94AJoNV6+zszA9/+MO89a1vTVdXV0466aQkfVMA/aZOnZoLL7wwEydOrComjerpSZYsSW6+2RLaz3Dfgw/mkw8+mN4kPdddlw8nWfSMY/bff/+cffbZGT16dAUJYdXOPvvsnHfeecu979prr8211167zG3LazYnyWc/+9n885//zHe+853MmDEj//mf//msY975znfmM5/5zNqHBprimmuueVad3U8NznCi/qYkXQu6c8V1o5IRSdYdlYsu/fYqv0YNznBw33335YwzzsgZZ5yxwmPU35Rudevv5TWbE/V3qTSbh6DDDjssu+++e7761a/msssuy3333Zfx48dn2rRpOfjgg/Oud72rvtQAlOa4447LC1/4wlx//fWZNWtWHnzwwTzyyCMZPXp0Ntxww+yyyy454IAD8qY3vcnFGoq177775s9//nNOP/30/OIXv8jtt9+eyZMnZ9ttt82///u/5/3vf3/GjRtXdUxWpFbray5femly8cV9Def585Pe3uRlL+v7/zBfRvu8T34yV950U67/85+z+OabM/GJJ7Lzk0/mzx0d2XLcuLxshx3yjsMPz+5vfWvS7lNbGPra29tzzjnnZP/9989ZZ52V6dOn56GHHsr666+fXXfdNe95z3uyzz77VB0TaBE1OIOV+pvS7HfYl5Le9ZIk48fPSefUDRv6OjU4Q9l5552XK6+8Mtdff33+9re/5aGHHkpXV1cmTJiQzTffPC996Uvzjne8I7vvvnvVUWFAqL/L1Nbb29tbdQj61Gq1+oh/Z2dn2gu5OFtirhIzJWXmkqlxJeYqMVNSZq4SMyVJV1dXJk+enMceeyyTJk2qOk6SMp+rYjItWpR84xvJxRentmBBZrS3JyNGZOc770zb44/3TTXvuWdywAFJRe8WrtVqmTFnTpKkc7vtqnuuuruTH/84ueii9D7ySO6eNCkPbrFFOseNS/ujj/ZNge+zT/Le9yZjxlQSsZifq6XI1LgSc5WYCQBgKOha0J3JO5yR9E5M0psbL31jdp767BUlVnmeAmtwABjqXB0BAEj6Jpq/8Y3k/POTyZOTHXZINtggY0eMSEaNSqZMSdZbL/nd75Kf/KTv+OGqVutrNF9+efKc5yQTJmRMb2/aJk5MNtmk77mbPDn56U+Tb35zeD9XAADAKvVNNfctcz1+/Jw1ajQDANXQbAYASPqWzr744mTjjfsay08Z9+ijfc3Sddbpa6Cuv35y3XXJ3LmVRa3c3LnJ9df3PRcbbJCMHp22J5/MuMcee/qYKVP6nstf/7rvuQUAAFiO+mc1J0l6c9XPjqs0DwCwenxoUJPUmjCxU6vV6udpxvmapcRcJWZKyswlU+NKzFVipqTMXCVmSrJMplJylfhcFZHp0kuTBQuSLbdMentT6+1N7cknM/bRR9Nbq6V38uS+z2ueODH55z+TP/wh2WabAY9ZxHP1+98nTzzR10zu7U3vOuukd8GCjJ03L7WlP6Fl3XWTe+9NfvvbZMcdBzxmEc/VM8jUuBJztSqT5bgBgOHsmZ/VbKoZAAYXzeYmWPqz29b2PHOe+gzGpJyLTiXmKjFTUmYumRpXYq4SMyVl5ioxU5LMnz8/STJz5sxMmDCh4jR9SnyuKs/U09M31dzenjz0UF+m3t48cN99WWfhwtRGjsx9S5Ykjz7ad/yIEcm11yYvfGHf9gCq1WqZc+ed9f0Bf66efLJvsru9vf58jGhvz/hFi1J76KH86YEH0tax1K+YI0b0TTe//OVJx8D+6ln5z9VyyNS4EnO1KpPPfwYAhitTzQAw+Gk2AwAsWdLXcB45cpmbpzz+eJJk4ZQpybhxyx7/5JN9S2uPGTOAQdM3Xd3V1bf9nOckbW0D+/0XLeprII8alYwdmyRZMmZMnhgzJmOfWkr7ifXWe/r4kSP7ntslSwa82QwAAJTtrccdk7RvmTxpqhkABitX/Jqgvb09nZ2da32epZfiK2m6ocRcJWZKyswlU+NKzFVipqTMXCVmSpKup5qCO+20UyZNmlRxmj4lPleVZ+rp6fv84UWL+v6fvsnmWc99btrnzcsWW2+d5y3953fffX1N5n32qWRaN081cyt7rv7nf/qeq0026cvU25vb5s9Pb09Ppj73uWl/qgmdJFm8uO+52m23ap6rp/hZX7ESMyVl5mpVphIeGwBAFX55zhnJVqOS8a/K1f97XtVxAIA1oNncJM2+0NTe3l7URacSc5WYKSkzl0yNKzFXiZmSMnPJ1LgSc1WaadSo5KUvTc4/P9l00/rNSyZMyKMTJuR5kyalfekJ4kcfTfbfv+/rKlDic7Vwgw36Mo0d67laBZkaV2KuEjMBAAxGxx9/fLIoyazFee7Ws9O5ralmABiMXB0BAEiSvfbqWyr7kUdWftwjj/Qdt+eeA5OrRJ4rAABgLZ188sn17Tvn3llhEgBgbWg2AwAkyY479i2Lff/9K26iPvJI3/377NN3/HDluQIAANbCe97zlSSTkyRbbrllpVkAgLVjGW0AgCRpb0/e+96+7V//Orn33mTEiGTkyL7PHZ43Lxk/vm9J6Pe9r+/44cpzBQAArKGuBd0566Ink0mfTR6/Mn/724+qjgQArAXNZgCAfmPGJB/8YN+yz7/9bV8jtaen7/YDDui7fccdNU8TzxUAALBG9n3nqUn7+sk6yYRNNk1bW9WJAIC1odkMALC09vZkp536GqUvf3myZEmy227JqFFVJyuP5woAAFgNXQu6c9UNo5/a681Vvziu0jwAwNozagIAsCIdHcnYsX3/Z+U8VwAAwCq84bAvJb0TkyTjxt+azm03qjgRALC2NJsBAAAAAGiprgXdufK6/lWQenPNzz9aaR4AoDk0mwEAAAAAaKn9lppqHj9+jqlmABgiNJsBAAAAAGiZrgXduWKpqearfuazmgFgqNBsBgAAAACgZZ451bzzVFPNADBUaDYDwFq6/PLL09bWVv/vV7/61Sq/5txzz13ma84666wBSAoAAAADa9GS7lwxfeFTe2s/1awGB4CyaDYDwFp69atfnb322qu+/4lPfGKlx19yySV597vfXd8/8cQTl9kHAACAoeLjnzwx6fhCstH/ZcLk6Ws91awGB4CyaDYDQBOcfPLJ9e2bbropP//5z5d73J/+9KcccMAB6enpSZL813/9V0466aQByQgAAAAD7YsnfzGZ3ZP86Yrc9ftTm3JONTgAlEOzGQCaYLfddst+++1X3//kJz+Z3t7eZY6566678vrXvz6PP/54kmSfffbJmWeeOaA5AQAAYKAcf/zx9e0tN9ky645dtynnVYMDQDk0mwGgST7zmc+kvb3vn9Y//elP+dnPfla/79FHH83rXve63HfffUmSXXfdNT/+8Y/T0dFRRVQAAABoqe7u5OSTn27u3nHHHU09vxocAMqg2QwATfKCF7wgb3nLW+r7S7+z+uCDD84tt9ySJNl6663zq1/9KuPHj68kJwAAALTa6w/9QjL508mIt2Xzzf9f08+vBgeAMmg2A0ATfepTn8rIkSOTJH/+85/r76y+5pprkiQbbLBBLr744jznOc+pKiIAAAC0VNeC7lx23Yhkcnuy8Utz+dU3tOT7qMEBoHqazQDQRFtvvXX+67/+q75/+OGH17fHjRuXX/3qV9lmm22qiAYAAAADYr/DvpT0TkySjJ84J1tvMbYl30cNDgDV02wGgCb7+Mc/njFjxiRJFi1alCRpb2/Pj370o+y2225VRgMAAICW6lrQnSuuG/XUXm+u+tlxLf1+anAAqJZmMwA02SabbJLdd999mdtOOeWUvP71r68oEQAAAAyMZaaax8/JzlM3aun3U4MDQLU0mwGgyU4++eRcfvnly9z28MMPV5QGAAAABsZATzUnanAAqJpmMwA00fe+970cf/zxz7r9a1/7Wh555JEKEgEAAMDAGOipZjU4AFRPsxkAmuTSSy/Nu971rvr+Rz/60Wy66aZJkscffzyf//znq4oGAAAALTXQU81qcAAog2YzADTBjBkzsv/++2fJkiVJkkMPPTQnn3xyjj766PoxX/va13L//fdXFREAAABa5k2HnzJgU81qcAAoh2YzAKylO++8M69//evz+OOPJ0n+9V//NWeddVaS5O1vf3v9uCeeeCKf/vSnK8kIAAAArfS7az6ZbPy9ZNSDLZ1qVoMDQFk0mwFgLTzyyCPZe++96++W7uzszE9+8pN0dHQkSUaOHLnM8WeffXbuuOOOAc8JAAAArXL88ccnf68lN12XjSZ9o2VTzWpwACiPZjMArKFFixblDW94Q2bPnp0k2WKLLXLhhRdmwoQJzzp2yy23TJIsWbIkn/jEJwYyJgAAALTUySef3LexJLn/xvta8j3U4ABQJs1mAFgDtVotBx98cK699tokybrrrptf//rX2XjjjZd7/DHHHFPf/t///d/MmjVrQHICAABAK334wyfUt5/73Oe25HuowQGgXJrNALAGPvjBD+b8889PkowePTo///nPM23atBUe/5a3vCXbbLNNkr4i+YQTTljhsQAAADAYdC3ozpe+MzkZ8c4kG+XOO+9syfdRgwNAuTSbAWA1nXLKKfna176WJGlra8v3vve9vOIVr1jp14wYMSIf//jH6/sXXHBBpk+f3tKcAAAA0Er7HfblZOKkZJNdM3mLg1vyPdTgAFA2zWYAWE3HHntsent709vbm1qtlgMPPLChr3vb295W/7re3t7suuuuLU4KAAAArdG1oDtXXDeyb6etN5df+uGWfB81OACUTbMZAAAAAIDVst9hX056JyZJxo+fnc5tN6o4EQBQBc1mAAAAAAAatsxUc3pz9c8/UmkeAKA6HVUHGCpqtVpTztF/nmacr1lKzFVipqTMXDI1rsRcJWZKysxVYqYky2QqJVeJz5VMjSsxV4mZkjJzydS4EnO1KlN7u/cAAwCDy36HfSnpXS9JMn78HFPNADCMaTY3Qa1Wy4wZM5pynjlz5tT3S7noVGKuEjMlZeaSqXEl5ioxU1JmrhIzJcn8+fOTJDNnzsyECRMqTtOnxOdKpsaVmKvETEmZuWRqXIm5WpWps7OziMcHANCIvqnmUU/t9eaqnx1XaR4AoFquaAAAAAAA0JC+qeb+z2qek52nmmoGgOHMZHMTtLe3p7Ozc63Ps/RSfCVNN5SYq8RMSZm5ZGpciblKzJSUmavETEnS1dWVJNlpp50yadKkitP0KfG5kqlxJeYqMVNSZi6ZGldirlZlKuGxAQA0wlQzAPBMms1N0uwLTe3t7UVddCoxV4mZkjJzydS4EnOVmCkpM5dMjSsxl0yNKzFXiZmSMnPJ1LgSc5WYCQBgoHzks0cnG/0+eeT1Gd/xmKlmAECzGQAAAACAVfvm576ejEiyxY2ZefW9VccBAArgrfgAAAAAAKzU8ccf37fxZLJlbYtsveHG1QYCAIqg2QwAAAAAwAr19iYnn3xyff+OO+6oMA0AUBLNZgAAAAAAVujfDj4t6Xhvks2z5ZZbVpwGACiJz2wGAAAAAGC5uhZ056LrepKNd0rm/7/88Y/vqToSAFAQk80AAAAAACzXfod9KemdmLQl4zeak/XWa6s6EgBQEM1mAAAAAACepWtBd664btRTe7256mfHVZoHACiPZjMAAAAAAM9Sn2pOMn78nOw8daOKEwEApdFsBgAAAABgGaaaAYBGaDYDAAAAALCMN73nK6aaAYBV0mwGAAAAAKCua0F3fndNx1N7ppoBgBXTbAYAAAAAoG7pqeYJE0w1AwArptkMAAAAAECSpLe3N7+b/T/J2LuT9ObKC0w1AwAr1rHqQwAAAAAAGA5OOumkZMasZPNZWX/TXbLz1MOrjgQAFEyzGQAAAACAJE81m2tJ7kwe/Pv0quMAAIWzjDYAAAAAAPnUpz6VWq2WJNlmm20qTgMADAaazQAAAAAAw1zXgu588nP3JdkqSXLbbbdVGwgAGBQsow0AAAAAMMy9+fDTkw13TubvnA3H31B1HABgkDDZDAAAAAAwjHUt6M5l1zx1qXhCb3592eeqDQQADBqazQAAAAAAw9ibDz89qU1MkkyYOCed225UcSIAYLDQbAYAAAAAGKaWmWpOb6664LhK8wAAg4tmMwAAAADAMPXm95621FTzX001AwCrRbMZAAAAAGAY6lrQncuuHvHUXm+uPP/YSvMAAIOPZjMAAAAAwDB0wPu+usxU885TTTUDAKtHsxkAAAAAYJjpWtCdS696+rOaTTUDAGtCsxkAAAAAYJh576ePTcY8kCSZOOk2U80AwBrpqDoAAAAAAAAD6/++9LVko1qyyXa5+gdXVB0HABikNJsBAAAAAIaRz3zmM6n11JJ7kqnje7PT1qaaAYA1YxltAAAAAIBh5JOf/GR9e87sOdUFAQAGPc1mAAAAAIBh4rDDz8yTT26bJNluu+0qTgMADHaazQAAAAAAw0DXgu6cffH8ZP0jk9Efzl/+MrvqSADAIOczmwEAAAAAhoED3vfVpHdSMi6ZuFEtHa4OAwBrya8TTVKr1Zpyjv7zNON8zVJirhIzJWXmkqlxJeYqMVNSZq4SMyVZJlMpuUp8rmRqXIm5SsyUlJlLpsaVmKtVmdrbLTgFALRe14LuXHpV/+8dvbnip8dUmgcAGBo0m5ugVqtlxowZTTnPnDlz6vulXHQqMVeJmZIyc8nUuBJzlZgpKTNXiZmSZP78+UmSmTNnZsKECRWn6VPicyVT40rMVWKmpMxcMjWuxFytytTZ2VnE4wMAhrYD3vfVpDYpSTJx0m3ZeepGFScCAIYCVzQAAAAAAIYwU80AQKuYbG6C9vb2dHZ2rvV5ll6Kr6TphhJzlZgpKTOXTI0rMVeJmZIyc5WYKUm6urqSJDvttFMmTZpUcZo+JT5XMjWuxFwlZkrKzCVT40rM1apMJTw2AGBo+/f3n5HUJiYx1QwANJdmc5M0+0JTe3t7URedSsxVYqakzFwyNa7EXCVmSsrMJVPjSswlU+NKzFVipqTMXDI1rsRcJWYCAFiZrgXdueSKtqf2TDUDAM3l6ggAAAAAwBDVN9U8IUkyefJcU80AQFNpNgMAAAAADEHdPd25ZPqtT+315nc/+XCleQCAoccy2gAAAAAAQ9BXvvSVZN53ks2vyJS8ODtPPbzqSADAEKPZDAAAAAAwBH38xI8nS5Lc/7fc3X1z1XEAgCHIMtoAAAAAAEPMKaeckiVLliRJdnzBjhk3clzFiQCAoUizGQAAAABgCFm0qDfHH/+j+v6f//znCtMAAEOZZbQBAAAAAIaQN77vK+lZ97Cka+9st+Ufq44DAAxhJpsBAAAAAIaIrgXd+c3lvcnYJBtulvMv+v+qjgQADGGazQAAAAAAQ8SBR3w9qU1Ikqyzzu15/lbrVpwIABjKNJsBAAAAAIaA+lRzkqQ3v/vJ0ZXmAQCGPs1mAAAAAIAh4JlTzZ3bblRxIgBgqNNsBgAAAAAY5Ew1AwBV0GwGAAAAABjk/mOZqea/mWoGAAaEZjMAAAAAwCDWtaA7Fy811XzZj4+qNA8AMHxoNgMAAAAADGJv/8jnl5lq3nmqqWYAYGB0VB0AAAAAAIA1d+FPPpM8d6Nk4b/lsh9/ouo4AMAwYrIZAAAAAGCQ+tKXvpSef/Qkf7gn242/3FQzADCgNJsBAAAAAAapj33sY/Xt2TfMrjAJADAcaTYDAAAAAAxCn/zkN7N48ZIkyQtf+MJqwwAAw5JmMwAAAADAINO1oDsnnflEMuaTSXbJjBkzqo4EAAxDHVUHAAAAAABg9Rx05LfSO2p88pzxWX/Ca6uOAwAMUyabAQAAAAAGka4F3bnosief2uvNby74QKV5AIDhS7MZAAAAAGAQOejIb6X3yfFJkilT7sjOUzeqOBEAMFxpNgMAAAAADBLPnGq+9IcfqjQPADC8aTYDAAAAAAwSppoBgJJoNgMAAAAADAKmmgGA0mg2AwAAAAAMAqaaAYDSaDYDAAAAABRuYXd3LrpsyVN7ppoBgDJ0VB0AAAAAAICV+8rXT03vemcki1+fKSPWN9UMABRBsxkAAAAAoHCf/tink+7uZP3v5Ja//aPqOAAASSyjDQAAAABQtNNOOy3d3d1Jkhdt8aJsNHHDihMBAPTRbAYAAAAAKFRPT3LccR+r7//xj3+sMA0AwLIsow0AAAAAUKi3vP/bWTzihCQXZdddn6w6DgDAMjSbm6RWqzXlHP3nacb5mqXEXCVmSsrMJVPjSsxVYqakzFwlZkqyTKZScpX4XMnUuBJzlZgpKTOXTI0rMVerMrW3W3AKAFi+rgXd+ekljycbrJd0vzU/veBdVUcCAFiGZnMT1Gq1zJgxoynnmTNnTn2/lItOJeYqMVNSZi6ZGldirhIzJWXmKjFTksyfPz9JMnPmzEyYMKHiNH1KfK5kalyJuUrMlJSZS6bGlZirVZk6OzuLeHwAQHkOPuqs9D45Pkmy/qZ/z+abupwLAJTFFQ0AAAAAgMJ0LejOhZcueWqvN5f835FVxgEAWC5vhWuC9vb2dHZ2rvV5ll6Kr6TphhJzlZgpKTOXTI0rMVeJmZIyc5WYKUm6urqSJDvttFMmTZpUcZo+JT5XMjWuxFwlZkrKzCVT40rM1apMJTw2AKA8y0w1r//3dG67UcWJAACeTbO5SZp9oam9vb2oi04l5ioxU1JmLpkaV2KuEjMlZeaSqXEl5pKpcSXmKjFTUmYumRpXYq4SMwEAQ8/TU82jYqoZACiZqyMAAAAAAAV561JTzeutf6epZgCgWJrNAAAAAACF6FrQnV8t/VnN/98HK80DALAyms0AAAAAAIV45lTzzlNNNQMA5dJsBgAAAAAoxEXTP5NMuTpp6zHVDAAUT7MZAAAAAKAAZ5xxRp6c8c/kzv/NttufY6oZACieZjMAAAAAQAGOPfbYJEnbo23568U3VZwGAGDVNJsBAAAAACr21a+ekUWLFiVJdtttt4rTAAA0RrMZAAAAAKBC3d3J0Uc/nOTVSUbmhhtuqDoSAEBDOqoOAAAAAAAwnH34w79IT8/GSf4jW2+9R9VxAAAaZrIZAAAAAKAi3d3Jt751R33/qqs+WVkWAIDVpdkMAAAAAFCRvqnmMUmSrbd+NJtsUnEgAIDVoNkMAAAAAFCBZ081H1dhGgCA1afZDAAAAABQAVPNAMBgp9kMAAAAADDATDUDAEOBZjMAAAAAwAAz1QwADAWazQAAAAAAA8hUMwAwVGg2AwAAAAAMoG9+86z09FybpMdUMwAwqHVUHQAAAAAAYDg5/vgPJVmYtrbf5g9/eKTqOAAAa8xkMwAAAADAAPnGN76RhQsXJkle+tLnZ8qUigMBAKwFzWYAAAAAgAFyzDHHJEna29tzzTXXVJwGAGDtaDYDAAAAAAyAD33ogixc+Ioko7P77rtXHQcAYK1pNgMAAAAAtFh3d/K1r92V5E1JPptLLzXVDAAMfprNAAAAAAAt9uEP/zI9PWOSJFtvvSRjx1YcCACgCTSbAQAAAABaqLs7+da3/lbfv/rqj1SYBgCgeTSbARj2XvWqV6Wtra2h/wAAAGB1HXvshfWp5qlTu7LxxhUHqoj6GwCGHs1mAAAAAIAW6e5OvvnN25MkbW3JFVccU3EiAIDm6ag6AACUYpdddsm5555bdQwAAACGkGOP/VWWLBmdJNl22+E71bw09TcADB2azQDwlPHjx+cFL3hB1TEAAAAYIvo+q/mOJKPS1pZcfrmp5kT9DQBDiWW0AQAAAABa4KMf/XUWLx6VJNluuwXZZJOKAwEANJlmMwAAAABAC5x55llJutPW1pbLLjuq6jgAAE1nGW0AAAAAgCY755xzsnDhz5Jcmhe96B2mmgGAIclkMwA8Zfbs2dl1110zceLEjBkzJptttln222+/fO9738uSJUuqjgcAAMAgctRRfZPMHR3dmT796xWnKYv6GwCGDpPNTVKr1Zpyjv7zNON8zVJirhIzJWXmkqlxJeYqMVNSZq61ydTb25skeeCBB/LAAw/Ub7/33ntz77335he/+EU+//nP58c//nGmTZu22rmema9qQ+3Pr1VKzJSUmavETEmZuWRqXIm5WpWpvd17gAFgqDnnnHPS1dWVJHnlK19ZcZryrKz+/sIXvpCf/OQnq11/AwDV0GxuglqtlhkzZjTlPHPmzKnvl3LRqcRcJWZKyswlU+NKzFVipqTMXGuTaeHChdl1113zspe9LFOnTs3kyZOzcOHCzJ49Oz/96U/z97//Pbfeemv22GOPfO9738tGG220wnMtXrw4ixcvru8vWLAgSTJz5sxMmDBhDR5Z8w21P79WKTFTUmauEjMlZeaSqXEl5mpVps7OziIeHwDQHN3dyRFHXJxkXDo6Fue3v/1t1ZGK0d7enr322iuve93rstNOO2W99dbL448/nptuuilnnnlmbr311syaNSuvfvWr84c//CHPfe5zV3q+7u7udHd31/f7G/wAwMDRbAZg2PviF7+YiRMnPuv2zs7O/Pu//3s+85nP5Fe/+lUeeeSRnHrqqTn11FNXeK5zzz033/72t1sZFwAAgIJ99KO/zhNPvCbJy9PZObvqOEU5//zzs8466zzr9le84hV53/vel8MOOyznnXdeHnjggRx55JE5//zzV3q+z33uc/nUpz7VorQAQCM0m5ugvb09nZ2da32epZfiK2m6ocRcJWZKyswlU+NKzFVipqSaXD09PRk9evRan+ecc87JIYccslpf89Of/jT/7//9v8yZMydXXHFFnvOc52TTTTdd7rGnn356TjnllPp+V1dXtthii+y0006ZNGnS2kRvmhJ/rmRqXIm5SsyUlJlLpsaVmKtVmUp4bABAc3R3J1//+twko9LWNjY/+9k3q4602np6ejJy5Mi1Ps+55577rPp7eY3mfiNHjszZZ5+d3//+95k9e3YuuOCC3HvvvSusv5Pkox/9aP2zsZO+GnzzzTdf2+gAwGrQbG6SZl9oam9vL+qiU4m5SsyUlJlLpsaVmKvETMnA52rm6+zqnmvUqFF517velWOOOSZJcvXVV+eggw5a7rFjx47N2LFjl/l+a/p9W6nEXDI1rsRcJWZKyswlU+NKzFViJgCgHB/96K+zePGoJMl2283PJptUHGiQ6ejoyDvf+c56/X3llVeusP5OktGjRzfljekAwJrTbAZgUOjo6Mitt966wvtrtVr9/mnTpq2wAbDxxhuv0fd//vOfX9++99571+gcAAAADF3LTjW35bLLjlrl15RoVfV3o9TfADA8aDYDMGhsv/32K7yvVqvliSeeqB/X7Gmz3t7epp4PAACAoeWEEy4ZMlPNK6u/W039DQCDi3XfAKABs2bNqm9vMpivGAAAANB03d3JGWfMSZK0tw/eqeYSqL8BYHDRbAaAVejp6cl3vvOd+v4ee+xRYRoAAABKc8IJl6S7u2+qefvtFw7qqeYqqb8BYPDRbAZgWLv88svz6KOPrvD+JUuW5F3veldmz56dJNl3332z+eabD1A6AAAASvfMqeZLLz2y2kCFUn8DwNDkM5sBGNbOO++8vOENb8gb3vCGvOpVr8p2222XSZMmZf78+bnxxhtz5pln5tZbb02SPOc5z8npp59ecWIAAABK8tWv/jTd3T1JRplqXgn1NwAMTZrNAAx78+fPzw9+8IP84Ac/WOExO+64Y/7v//4vz3ve8wYwGQAAAKU7+eR3JVmUESNem9/+9hdVxyma+hsAhh7NZgCGteOOOy4vfOELc/3112fWrFl58MEH88gjj2T06NHZcMMNs8suu+SAAw7Im970powYMaLquAAAABTkvPPOqy8N/ZrXLM7GG1ebp2TqbwAYmjSbARjWpk2blmnTpuXII4+sOgoAAACDTH8tOXLkyFx88cXVhimc+hsAhqb2qgMAAAAAAAw2X/jCBXn00SeTJHvuuWfFaQAAqmGyGQAAAABgNXR3J5/4xD1JTs6IEVfn17/+YdWRAAAqodkMAAAAALAaTjjh0nR3j0qSbL/97mlrqzgQAEBFLKMNAAAAANCg7u7kjDPmJEna29ty6aVHVhsIAKBCJpsBAAAAABr0iU9cVp9q3mGHJ7LxxhUHAgCokMlmAAAAAIAGdHcnp58+O0nfVPNvfvPBihMBAFRLsxkAAAAAoAGf+MRlWbRoZJJkhx0WmWoGAIY9zWYAAAAAgFXo7k6++tWnp5ovvviIihMBAFRPsxkAAAAAYBVOOumKPPFE31Tz//t/S7LJJhUHAgAogGYzAAAAAMBK9PYmp59+Q5JkxIi2XHjh+ypOBABQBs1mAAAAAICV+NGPfpiFCz+ZtrafZOedu0w1AwA8paPqAAAAAAAAJfvABz6QtrYlGTXq6vzhD5dUHQcAoBgmmwEAAAAAVuCHP/xhHnrooSTJPvvsU3EaAICyaDYDAAAAACzH4sXJ+9//8STJqFGjcv7551ecCACgLJbRBgAAAABYjk996oo89NCRaWu7Lnvt1Vt1HACA4phsBgAAAAB4hu7u5CtfmZVkRNrb98hZZ32/6kgAAMXRbAYAAAAAeIaTTroiTzzRtzDkjjsuySabVBwIAKBAms0AAAAAAEt5eqo5GTGiLRde+L6KEwEAlEmzGQAAAABgKaaaAQAao9kMAAAAAPAUU80AAI3TbAYAAAAAeIqpZgCAxmk2AwAAAADEVDMAwOrSbAYAAAAASPL5z1+VRYtMNQMANKqj6gBDRa1Wa8o5+s/TjPM1S4m5SsyUlJlLpsaVmKvETEmZuUrMlGSZTKXkKvG5kqlxJeYqMVNSZi6ZGldirlZlam/3HmAAKMW3vnVw2tq2yYgRr8uFFx5TdRwAgOJpNjdBrVbLjBkzmnKeOXPm1PdLuehUYq4SMyVl5pKpcSXmKjFTUmauEjMlyfz585MkM2fOzIQJEypO06fE50qmxpWYq8RMSZm5ZGpciblalamzs7OIxwcAw91Pf/rTPPjg/Wlruz9vetOGppoBABrgigYAAAAAMOwdccQRSZLRo0fnRz/6v4rTAAAMDiabm6C9vT2dnZ1rfZ6ll+IrabqhxFwlZkrKzCVT40rMVWKmpMxcJWZKkq6uriTJTjvtlEmTJlWcpk+Jz5VMjSsxV4mZkjJzydS4EnO1KlMJjw0Ahruf/OSXefDBB5Mk//Zv/1ZxGgCAwUOzuUmafaGpvb29qItOJeYqMVNSZi6ZGldirhIzJWXmkqlxJeaSqXEl5ioxU1JmLpkaV2KuEjMBAGunuzv5r/+6N7XaOzJmzGX54Q9/WHUkAIBBQ7MZAAAAABi2Pve56zJ//ogkL86OO76k6jgAAIOKt+IDAAAAAMNSd3fy5S/fnCQZMaI9F1zwrooTAQAMLprNAAAAAMCw1DfV3HeJ9EUv6s3GG1ccCABgkNFsBgAAAACGHVPNAABrT7MZAAAAABh2Pv/5paeaY6oZAGANaDYDAAAAAMNKd3fypS89PdV8/vnvrDgRAMDgpNkMAAAAAAwrz5xq3mSTigMBAAxSms0AAAAAwLBhqhkAoHk0mwEAAACAYeOii36ehQv/J8k/TTUDAKyljqoDAAAAAAAMlA9+8Ii0td2fceP+nMsu66o6DgDAoGayGQAAAAAYFn7+85/n/vvvT5K86U37Zfz4igMBAAxyms0AAAAAwLBwxBFHJEnGjBmT//mf/6k4DQDA4KfZDAAAAAAMeUtPNb/xjW+sNgwAwBCh2QwAAAAADHmmmgEAmk+zGQAAAAAY0kw1AwC0hmYzAAAAADCkmWoGAGgNzWYAAAAAYMgy1QwA0DqazQAAAADAkGWqGQCgdTSbAQAAAIAhyVQzAEBraTYDAAAAAEOSqWYAgNbSbAYAAAAAhpwLL7ww//jHP5KYagYAaBXNZgAAAABgyOmfah4/frypZgCAFtFsBgAAAACGlAsvvDD33ntvkmT//fevOA0AwNCl2QwAAAAADClHHHFEent7M27cuJxzzjlVxwEAGLI0mwEAAACAIeM3v/lN7rvvvrS1tZlqBgBoMc1mAAAAAGDI+MAHPpAkmTBhgqlmAIAW02wGAAAAAIaE3/zmN7nrrruSJAceeGDFaQAAhj7NZgAAAABgSPjABz6Q3t7ejB8/Pt/85jerjgMAMORpNgMAAAAAg56pZgCAgafZDAAAAAAMeqaaAQAGnmYzAAAAADComWoGAKiGZjMAAAAAMKiZagYAqIZmMwAAAAAwaJlqBgCoTkfVAYaKWq3WlHP0n6cZ52uWEnOVmCkpM5dMjSsxV4mZkjJzlZgpyTKZSslV4nMlU+NKzFVipqTMXDI1rsRcrcrU3u49wACwNkw1AwBUR7O5CWq1WmbMmNGU88yZM6e+X8pFpxJzlZgpKTOXTI0rMVeJmZIyc5WYKUnmz5+fJJk5c2YmTJhQcZo+JT5XMjWuxFwlZkrKzCVT40rM1apMnZ2dRTw+ABiMTDUDAFTLFQ0AAAAAYFAy1QwAUC2TzU3Q3t6ezs7OtT7P0kvxlTTdUGKuEjMlZeaSqXEl5ioxU1JmrhIzJUlXV1eSZKeddsqkSZMqTtOnxOdKpsaVmKvETEmZuWRqXIm5WpWphMcGAIORqWYAgOppNjdJsy80tbe3F3XRqcRcJWZKyswlU+NKzFVipqTMXDI1rsRcMjWuxFwlZkrKzCVT40rMVWImABiuTDUDAFTP1REAAAAAYFAx1QwAUAaTzQAAAADAoHL00Uenra0t48aNM9UMAFAhk80AAAAAwKBx2WWX5e9//3uS5G1ve1u1YQAAhjnNZgAAAABg0DjyyCNTq9UyceLEnHbaaVXHAQAY1jSbAQAAAIBB4Yorrsgdd9yRJHnLW95ScRoAADSbAQAAAIBBof+zmidNmmSqGQCgAJrNAAAAAEDxrrzyysydOzdJ8o53vKPiNAAAJJrNAAAAAMAgcNRRR6VWq2Xy5Mn5whe+UHUcAACi2QwAAAAAFG7pqeaDDz644jQAAPTTbAYAAAAAimaqGQCgTJrNAAAAAECxTDUDAJRLsxkAAAAAKJapZgCAcmk2AwAAAABFMtUMAFA2zWYAAAAAoEimmgEAyqbZDAAAAAAUx1QzAED5NJsBAAAAgOKYagYAKJ9mMwAAAABQlGuvvTZ/+9vf0tbWlre+9a1VxwEAYAU0mwEAAACAohxzzDFJkvXWWy+f//znK04DAMCKaDYDAAAAAMW49tprM2fOnCTJ2972torTAACwMprNAAAAAEAxjjnmmNRqtayzzjo56aSTqo4DAMBKaDYDAAAAAEUw1QwAMLhoNgMAAAAARTDVDAAwuGg2AwAAAACVM9UMADD4aDYDAAAAAJUz1QwAMPhoNgMAAAAAlTLVDAAwOGk2AwAAAACVMtUMADA4aTYDAAAAAJUx1QwAMHhpNgMAAAAAlTn++OPT29trqhkAYBDSbAYAAAAAKvH73/8+s2fPzogRI/Kud72r6jgAAKwmzWYAAAAAoBIf/ehH8+STT2bKlCk5/vjjq44DAMBq0mwGAAAAAAbc73//+8yaNStJ8o53vKPiNAAArAnNZgAAAABgwJ100klpa2vL+uuvn4997GNVxwEAYA10VB1gqKjVak05R/95mnG+ZikxV4mZkjJzydS4EnOVmCkpM1eJmZIsk6mUXCU+VzI1rsRcJWZKyswlU+NKzNWqTO3t3gMMwPBz00035eabb05bW1sOO+ywquMAALCGNJuboFarZcaMGU05z5w5c+r7pVx0KjFXiZmSMnPJ1LgSc5WYKSkzV4mZkmT+/PlJkpkzZ2bChAkVp+lT4nMlU+NKzFVipqTMXDI1rsRcrcrU2dlZxOMDgIF04oknpqenJxtssEGOOuqoquMAALCGXNEAAAAAAAZM/1Rz4rOaAQAGO5PNTdDe3p7Ozs61Ps/SS/GVNN1QYq4SMyVl5pKpcSXmKjFTUmauEjMlSVdXV5Jkp512yqRJkypO06fE50qmxpWYq8RMSZm5ZGpciblalamExwYAA8lUMwDA0KHZ3CTNvtDU3t5e1EWnEnOVmCkpM5dMjSsxV4mZkjJzydS4EnPJ1LgSc5WYKSkzl0yNKzFXiZkAYDAx1QwAMLS4OgIAAAAADAhTzQAAQ4tmMwAAAADQcqaaAQCGHs1mAAAAAKDlTDUDAAw9ms0AAAAAQEuZagYAGJo0mwEAAACAljLVDAAwNGk2AwAAAAAtY6oZAGDo0mwGAAAAAFrGVDMAwNCl2QwAAAAAtISpZgCAoU2zGQAAAABoiY9//OOmmgEAhjDNZgAAAACg6W6++ebceuutGTFiRA455JCq4wAA0AKazQAAAABA05100kmp1WrZdNNN86EPfajqOAAAtIBmMwAAAADQVDfffHP+9Kc/JfFZzQAAQ5lmMwAAAADQVJ/97GfT09OTDTfcMO9973urjgMAQItoNgMAAAAATTN79uzMmjUrY8aMyX/9139VHQcAgBbSbAYAAAAAmubzn/98enp6sskmm+Td73531XEAAGghzWYAAAAAoClmz56dm266KUnytre9reI0AAC0mmYzAAAAANAU/VPNG2+8cQ455JCq4wAA0GKazQAAAADAWjPVDAAw/Gg2AwAAAABrzVQzAMDwo9kMAAAAAKwVU80AAMOTZjMAAAAAsFZMNQMADE+azQAAAADAGjPVDAAwfGk2AwAAAABrzFQzAMDwpdkMAAAAAKyRv/71r6aaAQCGsY6qAwAAAAAAg9MZZ5yRkSNHmmoGABimTDYDAAAAAKvt9ttvzx//+Me0t7fnne98Z9VxAACogGYzAAAAALDaTjvttPT09GSTTTbJgQceWHUcAAAqoNkMAAAAAKyW/qnmJDn44IMrTgMAQFU0mwEAAACA1WKqGQCARLMZAAAAAFgNppoBAOin2QwAAAAANMxUMwAA/TSbAQAAAICGmGoGAGBpms0AAAAAQENMNQMAsLSOqgMMFbVarSnn6D9PM87XLCXmKjFTUmYumRpXYq4SMyVl5ioxU5JlMpWSq8TnSqbGlZirxExJmblkalyJuVqVqb3de4ABGBxMNQMA8EyazU1Qq9UyY8aMppxnzpw59f1SLjqVmKvETEmZuWRqXIm5SsyUlJmrxExJMn/+/CTJzJkzM2HChIrT9CnxuZKpcSXmKjFTUmYumRpXYq5WZers7Czi8QHAqphqBgDgmVzRAAAAAABW6q677sqtt96ajo4OU80AANSZbG6C9vb2dHZ2rvV5ll6Kr6TphhJzlZgpKTOXTI0rMVeJmZIyc5WYKUm6urqSJDvttFMmTZpUcZo+JT5XMjWuxFwlZkrKzCVT40rM1apMJTw2AFiVM888M729vdl2221NNQMAUKfZ3CTNvtDU3t5e1EWnEnOVmCkpM5dMjSsxV4mZkjJzydS4EnPJ1LgSc5WYKSkzl0yNKzFXiZkAoNXuuuuu+mc1azQDALA0V0cAAAAAgBX69re/nZ6enmy66ab5t3/7t6rjAABQEM1mAAAAAGC57r///vz1r3/NuHHj8p//+Z9VxwEAoDCazQAAAADAcn3/+9/Pk08+ma222iqve93rqo4DAEBhNJsBAAAAgGe5//77c+ONNyZJ3vjGN1YbBgCAImk2AwAAAADP8v3vf7/+Wc2vfvWrq44DAECBNJsBAAAAgGWYagYAoBGazQAAAADAMkw1AwDQCM1mAAAAAKDOVDMAAI3SbAYAAAAA6kw1AwDQKM1mAAAAACCJqWYAAFaPZjMAAAAAkMRUMwAAq0ezGQAAAAAw1QwAwGrTbAYAAAAATDUDALDaNJsBAAAAYJgz1QwAwJrQbAYAAACAYc5UMwAAa0KzGQAAAACGsX/+85+mmgEAWCMdVQcAAAAAAKrzy1/+MpMmTcq6665rqhkAgNVishkAAAAAhqmHHnoof/rTnzJixIgccMABVccBAGCQ0WwGAAAAgGHq5z//eXp6erLJJptk1113rToOAACDjGYzAAAAAAxDjz32WG655ZYkyd57711xGgAABiOf2QwAAAAAw9CVV16ZddddN1tttZWpZgAA1ojJZgAAAAAYZpaeat5rr70qTgMAwGCl2QwAAAAAw8yVV16Znp6ebLTRRpk2bVrVcQAAGKQ0mwEAAABgGFl6qvnlL395xWkAABjMNJsBGLTmz5+fq666Kqeeemr+4z/+I/vuu2922WWXjBgxIltuueVqn++WW27J4Ycfnm222SZjx47NBhtskD322CNnnnlmenp6mv8AAAAAKmCqmTWxdA1+4IEH5nnPe17a2trS1tamBgeAYayj6gAAsKb23XffXHHFFU051znnnJP//u//Tnd3d/22RYsW5eqrr87VV1+d7373u/nVr36V9dZbrynfDwAAoAqmmllTanAAYHlMNgMwaPX29ta311lnnbz4xS/O2LFjV/s8v/nNb/Lud7873d3d2XDDDfPVr341v//97/PrX/86b37zm5MkN9xwQ9785jenVqs1LT8AAMBAM9XMmlq6Bl933XXz2te+NhMmTFjt86jBAWBo0WwGYNA66KCD8r//+7+57bbb8vDDD+frX/96Jk+evFrn6Onpyfvf//7UarVMmjQp1157bY444ojstttu2XvvvfPTn/4073vf+5IkV111Vb7//e+34qEAAAC0nKlm1sbSNfgjjzySSy65ZLUnj9XgADD0aDYDMGi9+93vzkEHHZRtttlmjc9xwQUXZO7cuUmSj370o9l6662fdcwXv/jFrLvuuvVtAACAwchUM2tDDQ4ALI9mMwDD2s9+9rP69iGHHLLcY8aNG5cDDzwwSfKXv/wlt9122wAkAwAAaB5TzZRADQ4AQ49mMwDD2tVXX50k2W677bLRRhut8LhXvvKV9e1rrrmm5bkAAACa6dprrzXVTOXU4AAw9Gg2AzBszZ8/P/fcc0+SZPvtt1/psUvff+utt7Y0FwAAQDMtXLgwjz32WDbccMNlmngwkNTgADA0dVQdYKio1WpNOUf/eZpxvmYpMVeJmZIyc8nUuBJzlZgpKTNXf6be3t4kSW9v7yqz3XXXXfXjN91005Uev+mmmy7zdY0+7qWfp9Keq/7tEsjUuBJzlZgpKTOXTI0rMVerMrW3ew8wAK11880358knn8zmm2+eqVOnVh2HYeqee+6p1+CbbbbZSo/dfPPN69t33313S3MBAGtHs7kJarVaZsyY0ZTzzJkzp75fykWnEnOVmCkpM5dMjSsxV4mZkjJz9Wfq6elJkixevHiVr839n1eWJAsWLFjp8YsWLapv33vvvSs8dvHixVm8ePEy502SmTNnZsKECat+IAOg5D+/fjKtWIm5SsyUlJlLpsaVmKtVmTo7O4t4fAAMTQsXLszf/va3JMmOO+5YcRqGs8cff7y+var6ePz48fXt+fPnr/C47u7udHd31/e7urrWIiEAsCY0mwEYtpZuCo8cOXKlx44aNaq+vXQh+0znnntuvv3tb699OAAAgCbon2peb731VjlNCq209Ju4l66xl2f06NH17SeeeGKFx33uc5/Lpz71qbUPBwCsMc3mJmhvb09nZ+dan2fppfhKmm4oMVeJmZIyc8nUuBJzlZgpWb1cPT09yxSJa+qcc87JIYccsspMHR19/7SNGjVqla/N/VPQSTJlypSVHr90cfuc5zxnhceefvrpOeWUU+r7XV1d2WKLLbLTTjtl0qRJK80zUEr8uZKpcSXmKjFTUmYumRpXYq5WZSrhsQEwNJlqHn56enpW+WbqRpx77rkrrcHXxJgxY+rbS7/5e3mWfpP32LFjV3jcRz/60Rx11FH1/a6urmWW4AYAWk+zuUmafaGpvb29qItOJeYqMVNSZi6ZGldirhIzJY3naubr46rO1d7enra2tiRJW1vbKo+fPHlyfXvBggUrPX7pZvPEiRNXeOzYsWOXKYQH+5/fQJKpcSXmKjFTUmYumRpXYq4SMwHAiphqpiQTJ06sb69saezk6Y+kSla+5Pbo0aOb8gZ3AGDNaTYD0FIdHR259dZb1/o8G2+8cRPSLGvpiy333HPPSo+9++6769veJQ0AAJTOVPPwpAYHAAaaZjMALbf99ttXHWG5JkyYkM033zx33313Zs+evdJjl75/2rRprY4GAACwVkw1D19qcABgIFn3DYBh7eUvf3mSZM6cOfnHP/6xwuOuvPLK+vbLXvaylucCAABYU6aaKZUaHACGHs1mAIa1N77xjfXt7373u8s9ZuHChfnRj36UJHn+85+fqVOnDkAyAACANWOqmVKpwQFg6NFsBmBYe9Ob3pStt946SfK5z30ut99++7OOOeaYYzJv3rz6NgAAQKlMNVMyNTgADD0+sxmAQWvu3Lm55pprkiS1Wi133XVXnnjiiSTJ/Pnzn/Uu6b333jsbbbTRMreNHDkyX/3qV7Pvvvumq6srL3vZy3LCCSdkt912y7x58/Ltb387P/3pT5P0Lff1tre9rfUPDAAAYA09/PDD2WSTTVKr1Uw101RL1+D95s+fX/+/GhwAhifNZgAGrWuuuSaHHnrocu97+OGHn3Xf5Zdf/qxCN0le97rX5Vvf+lbe//7354EHHsgRRxzxrGN22223XHDBBRkxYkRzwgMAADTZkiVL8tBDD2XChAnZdtttq47DEKMGBwCWxzLaAJDksMMOy4033pjDDjssW221VcaMGZP11lsvL3/5y/PNb34z1157bdZff/2qYwIAAKzQP/7xj9RqtUyYMCGTJk2qOg6skBocAIYOk80ADFqHHHJIDjnkkCR9y2jPmDEjSdLZ2Zn29tV/P9ULXvCCnHXWWc2MCAAAMCB6e3vrn3O78cYbV5yGoWjpGrwZ1OAAMDRoNgMAAADAINfW1pYddtgh8+bNM9UMAMCAsYw2AAAAAAwBI0aMsPQwAAADSrMZAAAAAAAAgNWm2QwAAAAAAADAatNsBgAAAAAAAGC1aTYDAAAAAAAAsNo0mwEAAAAAAABYbZrNAAAAAAAAAKy2tt7e3t6qQ/C0Wq2WJGlvL+t9ACXmKjFTUmYumRpXYq4SMyVl5ioxU1dXVyZPnpzHHnsskyZNqjpOXYnPlUyNKzFXiZmSMnPJ1LgSc5WYCQCAPqXW4AAwlHVUHYBllXrRqsRcJWZKyswlU+NKzFVipqTMXCVmKlWJz5VMjSsxV4mZkjJzydS4EnOVmAkAAACgKq6UAAAAAAAAALDaNJsBAAAAAAAAWG2azQAAAAAAAACsNs1mAAAAAAAAAFabZjMAAAAAAAAAq02zGQAAAAAAAIDVptkMAAAAAAAAwGrTbAYAAAAAAABgtWk2AwAAAAAAALDaNJsBAAAAAAAAWG2azQAAAAAAAACsNs1mAAAAAAAAAFabZjMAAAAAABTmkEMOSVtbW9ra2nLFFVfIAkCRNJsBAAAAAGAI+8QnPlFvFre1tWWPPfaoOlJxrrvuurznPe/J85///EyePDmTJk3K85///Lz73e/OtddeO6gztPKxDcbMQHO19fb29lYdAgCGqq6urkyePDmPPfZYJk2aVHUcAAAAGLKGWg1+yCGH5LzzzkuSXH755XnVq161Rue59957M3Xq1CxcuLB+2+TJk/Poo48OeJYSLViwIB/4wAfyne98Z6XHHXrooTnjjDMyfvz4QZOhlY9tMGYGWqOj6gAAAAAAAEBrfOxjH1um0Zwkjz32WO68885sscUWFaUqw5NPPpk3v/nNueSSS+q3jR07NjvssEM6Ojoya9asdHV1JUnOPffc3HvvvbnooosyYsSI4jO08rENxsxA61hGGwAAAAAAhqCbbrop//M//5MkedGLXpT111+/ft+f//znqmIV48QTT1ymsXnYYYflnnvuyfTp03P99dfnvvvuy4knnli//5JLLsnHP/7xQZGhlY9tMGYGWkezGQAAAAAAhqCjjjoq/Z+k+cUvfjE77LBD/b7h3my+77778pWvfKW+/7a3vS1nnXVWpkyZUr9t/PjxOemkk3LCCSfUb/vyl7+c++67r+gMrXxsgzEz0FqazQAAAAAAMMRccMEFufLKK5Mkr3vd6/LqV79as3kpp512WhYtWpQkGTduXE477bQVHnviiSdm8803T5IsWrQop59+etEZWvnYBmNmoLU0mwEAAAAAYAhZsmRJjjvuuCRJe3t7vvCFLySJZvNSLrjggvr2gQceuMwE7TONGjUqhx56aH3//PPPLzpDKx/bYMwMtJZmMwAAAAAADCFf+9rXcttttyVJDjnkkLzgBS9Ismyz+bbbbssTTzxRSb6qzZkzJ3Pnzq3v77333qv8mn322ae+PXfu3MyZM6fIDK18bIMxM9B6ms0AAAAAADBEPPLII/n0pz+dJBk7dmxOOumk+n39TeckefLJJ3PLLbcMeL4SzJw5c5n93XfffZVfs/POO2fUqFH1/bWdDG9VhlY+tsGYGWg9zWYAAAAAABgiPvWpT2XevHlJkg996EPZdNNN6/ett9562XDDDev7w7VBd+utt9a3R40aVf/835V55nFLn6OkDK18bIMxM9B6ms0AAAAAADAE3HbbbfnmN7+ZJNlggw3qn9u8tKo+t/m73/1u2tramv7fd7/73dXO8ve//72+vdlmm6Wtra2hr3vuc5+73HOsiVZlaOVjG4yZgdbTbAYAAAAAgCHgwx/+cJYsWZIkOfHEEzNp0qRnHVNVs7kkjz/+eH178uTJDX/d0s/n0ucoKUMrH9tgzAy0XkfVAQAAAAAAgLVzxRVX5Be/+EWSZJtttsnhhx++3OOqajZvuumm+dd//deWnHd1zZ8/v749ZsyYhr9u7Nixyz3HmmhVhlY+tsGYGWg9zWYAAAAAABjEarVajjrqqPr+5z73uYwcOXK5x77gBS+obz/88MO57777sskmm7Q842tf+9q89rWvbfn3aURPT099u6Oj8TbJ0sf2T5CXlqGVj20wZgZazzLaAAAAAAAwiJ133nmZMWNGkuQlL3lJDjjggBUeu/Rkc5LMnDmzpdlKNG7cuPr2okWLGv66pY8dP358kRla+dgGY2ag9TSbAQAAAABgkFqwYEFOOOGE+v4Xv/jFlR6/zjrrLDPJPBw/t3nChAn17SeeeKLhr1u4cOFyz1FShlY+tsGYGWg9y2gDAAAAAMAgdcopp+S+++5LkrS1teWNb3zjKr/m0UcfrW8Px2bz+uuvX9++//77G/66f/zjH/Xt9dZbr8gMrXxsgzEz0HqazQAAAAAAMAjde++9OfXUU+v7vb29efjhh1frHAPVbL700kvzpf+/vbt3jWKLwwD8GwjREJN0gsqChSRaaRVBwQ/WP0CiRYoUWylpjaCktLG6Vqm0UFFbLSzEKhG1EV3URsXOsIQgKolgwCBzC7lLwvUjRzLZnfV5YMgcmDn7nnJ4M2f++Wfd552YmEj+FvTQ0FDz/MOHD/Hly5dVWzn/zOzsbPN89+7dSb+5URmKXFsZMwPFUzYDAAAAAEAJTU5OrtpK+E+8efMmvn79Gt3d3euU6scajUbcv39/3ecdHR1NvmfPnj2rxs+fP48DBw788p5GoxHv37//6RztkqHItZUxM1A832wGAAAAAICSqdfrcePGjYiI6O7ujnfv3kWe52s66vV6c57l5eV49epVq5bREsPDw7Fp06bm+NGjR7+95+HDh83zzZs3x/DwcFtmKHJtZcwMFE/ZDAAAAAAAJXPmzJnI8zwiIk6dOhWVSmXN9w4ODq4av3jxYl2z/UitVltzGZ5y1Gq15CxbtmyJarXaHN+6deu396y8plqtRm9vb/LvbkSGItdWxsxA8ZTNAAAAAABQInfu3IkHDx5ERERPT09MTk4m3d/b2xvbt29vjjfqu83tZGVJ/fLly7h79+5Pr63X63Hv3r0f3tuOGYpcWxkzA8VSNgMAAAAAQEksLy/HuXPnmuPx8fHYtm1b8jxDQ0PN87+xbD558mTs3bu3OT59+nS8fv36f9fNzc3F2NhYfPv2LSIi9u3bFydOnPjpvDMzM5FlWfO4du3ahmcoat6yZgaK1dXqAAAAAAAAwNpMTU3F27dvI+L7G8ori+cUg4ODMT09HRF/Z9mcZVlcuXIlDh8+HEtLSzE3Nxf79++P8fHxOHToUHR1dcWTJ09iamoq5ufnI+L7W+SXL1+OLMvaOkORaytjZqBYWf7fRx0AgHW3uLgYAwMDsbCwEP39/a2OAwAAAB2r057Ba7VaXL9+PSIipqen48iRI/Hx48fYtWtXfPr0KSIizp8/HxcvXvyj+S9duhQTExPN8fz8fGzdunXNWTrF7du3Y2xsLJaWln55XU9PT9y8eTNGRkZ+ed3MzEwcPXq0Ob569epvt3le7wxFz1vWzEAxbKMNAAAAAAAlcOHChWbR3NfXF2fPnv3juVZuox3xd77dHBExMjISz549i2PHjv3wDdksy6JarcbTp08LKzaLylDk2sqYGSiGN5sBoECd9l/VAAAA0K467Rm8nd4mbqcsRZqdnY3Hjx9Ho9GIiIgdO3bEwYMHo1KplD5DkWsrY2Zg/fhmMwAAAAAA8NerVCoxOjrakRmKXFsZMwPrxzbaAAAAAAAAACRTNgMAAAAAAACQTNkMAAAAAAAAQDJlMwAAAAAAAADJlM0AAAAAAAAAJFM2AwAAAAAAAJCsq9UBAAAAAACA1Y4fPx47d+6MiGj+lQWAdpPleZ63OgQAdKrFxcUYGBiIhYWF6O/vb3UcAAAA6FiewQFg49lGGwAAAAAAAIBkymYAAAAAAAAAkimbAQAAAAAAAEimbAYAAAAAAAAgmbIZAAAAAAAAgGTKZgAAAAAAAACSKZsBAAAAAAAASKZsBgAAAAAAACCZshkAAAAAAACAZMpmAAAAAAAAAJIpmwEAAAAAAABIpmwGAAAAAAAAIJmyGQAAAAAAAIBkymYAAAAAAAAAkimbAQAAAAAAAEimbAYAAAAAAAAgmbIZAAAAAAAAgGTKZgAAAAAAAACSKZsBAAAAAAAASKZsBgAAAAAAACCZshkAAAAAAACAZMpmAAAAAAAAAJIpmwEAAAAAAABIpmwGAAAAAAAAIJmyGQAAAAAAAIBkymYAAAAAAAAAkimbAQAAAAAAAEimbAYAAAAAAAAgmbIZAAAAAAAAgGTKZgAAAAAAAACSKZsBAAAAAAAASKZsBgAAAAAAACCZshkAAAAAAACAZMpmAAAAAAAAAJIpmwEAAAAAAABIpmwGAAAAAAAAIJmyGQAAAAAAAIBkymYAAAAAAAAAkimbAQAAAAAAAEiW5XmetzoEAHSqPM/j8+fP0dfXF1mWtToOAAAAdCzP4ACw8ZTNAAAAAAAAACSzjTYAAAAAAAAAyZTNAAAAAAAAACRTNgMAAAAAAACQTNkMAAAAAAAAQDJlMwAAAAAAAADJlM0AAAAAAAAAJFM2AwAAAAAAAJDsXybA5Iq9jIuJAAAAAElFTkSuQmCC",
          "text/plain": "<Figure size 2000x1000 with 2 Axes>"
         },
         "metadata": {},
         "output_type": "display_data"
        }
       ]
      }
     },
     "3c3aba14f61345dbbc90c5d2becf5c3b": {
      "model_module": "@jupyter-widgets/controls",
      "model_module_version": "2.0.0",
      "model_name": "DescriptionStyleModel",
      "state": {
       "description_width": ""
      }
     },
     "3c3c4f31d0944040aae0747ff0c014bd": {
      "model_module": "@jupyter-widgets/base",
      "model_module_version": "2.0.0",
      "model_name": "LayoutModel",
      "state": {
       "width": "175px"
      }
     },
     "3c4dc85a5af540bba5576bceadb05ae9": {
      "model_module": "@jupyter-widgets/base",
      "model_module_version": "2.0.0",
      "model_name": "LayoutModel",
      "state": {}
     },
     "3c6eeb2381a84b5d96c1c629cf80e78c": {
      "model_module": "@jupyter-widgets/controls",
      "model_module_version": "2.0.0",
      "model_name": "FloatTextModel",
      "state": {
       "description": "$a_{2,1}$:",
       "layout": "IPY_MODEL_558bd8b625e64947add23775ffc12014",
       "step": null,
       "style": "IPY_MODEL_a5e337e25d1e4982acf90bdf5dbdc12e",
       "value": 0.4
      }
     },
     "3c94696c304147e2ad9bc6875a83d0da": {
      "model_module": "@jupyter-widgets/controls",
      "model_module_version": "2.0.0",
      "model_name": "DescriptionStyleModel",
      "state": {
       "description_width": ""
      }
     },
     "3e1c2af7a5b64fc9bb8f8fb1a699ef14": {
      "model_module": "@jupyter-widgets/controls",
      "model_module_version": "2.0.0",
      "model_name": "CheckboxModel",
      "state": {
       "description": "Fix 2nd axis",
       "disabled": false,
       "layout": "IPY_MODEL_b987cafdd23a498b97c9edfae8b48141",
       "style": "IPY_MODEL_137faac4b6ca405989483a4b64eb7074",
       "value": true
      }
     },
     "3e297254b2744561a411ae0d4a24fb7e": {
      "model_module": "@jupyter-widgets/base",
      "model_module_version": "2.0.0",
      "model_name": "LayoutModel",
      "state": {
       "width": "175px"
      }
     },
     "3e475834beee498ca26ac00b826dfcc9": {
      "model_module": "@jupyter-widgets/controls",
      "model_module_version": "2.0.0",
      "model_name": "DescriptionStyleModel",
      "state": {
       "description_width": ""
      }
     },
     "3ee130e7271847f49bc5ecdf23157a2f": {
      "model_module": "@jupyter-widgets/controls",
      "model_module_version": "2.0.0",
      "model_name": "DescriptionStyleModel",
      "state": {
       "description_width": ""
      }
     },
     "3fd8a12eab8e4da58d819ac3f4512003": {
      "model_module": "@jupyter-widgets/controls",
      "model_module_version": "2.0.0",
      "model_name": "FloatTextModel",
      "state": {
       "description": "$d_{1,1}$:",
       "layout": "IPY_MODEL_5ba7b55912954d52bc92a6990ac91491",
       "step": null,
       "style": "IPY_MODEL_0bc2a01b80164edf8b4d3b8f2437f840",
       "value": 3
      }
     },
     "413b8664cc1e4542b0205eadc0d2d261": {
      "model_module": "@jupyter-widgets/controls",
      "model_module_version": "2.0.0",
      "model_name": "DescriptionStyleModel",
      "state": {
       "description_width": ""
      }
     },
     "420bb3101b3b4b5790807ae5af326764": {
      "model_module": "@jupyter-widgets/controls",
      "model_module_version": "2.0.0",
      "model_name": "DescriptionStyleModel",
      "state": {
       "description_width": ""
      }
     },
     "4432d02b406a49918152e1869b71eed9": {
      "model_module": "@jupyter-widgets/controls",
      "model_module_version": "2.0.0",
      "model_name": "FloatTextModel",
      "state": {
       "description": "$d_{1,2}$:",
       "layout": "IPY_MODEL_23727b442d82456fa622e473626f7922",
       "step": null,
       "style": "IPY_MODEL_1b4878818a614a6ca21c1624ebf8e6c0",
       "value": 4
      }
     },
     "4457db2dc6f240578c9cfb238a3ec745": {
      "model_module": "@jupyter-widgets/base",
      "model_module_version": "2.0.0",
      "model_name": "LayoutModel",
      "state": {}
     },
     "44d8b192c8b44fac958449720467106a": {
      "model_module": "@jupyter-widgets/controls",
      "model_module_version": "2.0.0",
      "model_name": "FloatTextModel",
      "state": {
       "description": "$d_{2,2}$:",
       "layout": "IPY_MODEL_f7e33f74c72a48299b09480e70682171",
       "step": null,
       "style": "IPY_MODEL_c95b61d241144d63be2daaed112393d8",
       "value": 2
      }
     },
     "451fd474d0104422b9043744fcb955ce": {
      "model_module": "@jupyter-widgets/controls",
      "model_module_version": "2.0.0",
      "model_name": "VBoxModel",
      "state": {
       "children": [
        "IPY_MODEL_e0c6e967776b4d2f9b194b55d642e3ed",
        "IPY_MODEL_e1528c631a8342f8817f20624e64f961"
       ],
       "layout": "IPY_MODEL_52cb6d90ad7e49fb9f29fc3070b44d3f"
      }
     },
     "4589b3bd29b4431fb2163c3f8e734677": {
      "model_module": "@jupyter-widgets/controls",
      "model_module_version": "2.0.0",
      "model_name": "FloatTextModel",
      "state": {
       "description": "$d_{2,1}$:",
       "layout": "IPY_MODEL_616771a4526f4153bd545390021286d9",
       "step": null,
       "style": "IPY_MODEL_28d41c8b4e6c45acaa945c047dfa52e2",
       "value": -1
      }
     },
     "459ad980e4dc4fed9d14b6765d91ffcb": {
      "model_module": "@jupyter-widgets/controls",
      "model_module_version": "2.0.0",
      "model_name": "IntSliderModel",
      "state": {
       "behavior": "drag-tap",
       "description": "Maximum $x$:",
       "layout": "IPY_MODEL_f0b0921fff5e4df294f1d7a128c4900f",
       "max": 1000,
       "style": "IPY_MODEL_db2608e08a4d48f7a25ba66d9280b2df",
       "value": 10
      }
     },
     "45ebdda744954c80a3f4698e39a29525": {
      "model_module": "@jupyter-widgets/base",
      "model_module_version": "2.0.0",
      "model_name": "LayoutModel",
      "state": {
       "width": "175px"
      }
     },
     "47ae75450da14ad89683bc658f14e7e2": {
      "model_module": "@jupyter-widgets/controls",
      "model_module_version": "2.0.0",
      "model_name": "DescriptionStyleModel",
      "state": {
       "description_width": ""
      }
     },
     "47c9f5f793e84f5f81e519b8c27240a8": {
      "model_module": "@jupyter-widgets/controls",
      "model_module_version": "2.0.0",
      "model_name": "VBoxModel",
      "state": {
       "children": [
        "IPY_MODEL_ddfb585632e441bba6b1756826e0b7cf",
        "IPY_MODEL_71c2304837e249238e65781a9a4c4651"
       ],
       "layout": "IPY_MODEL_7c71f4699f834995b83cfb4bbb2ba99b"
      }
     },
     "4995d1152a6c4df484e36beed17ffd65": {
      "model_module": "@jupyter-widgets/controls",
      "model_module_version": "2.0.0",
      "model_name": "DescriptionStyleModel",
      "state": {
       "description_width": ""
      }
     },
     "49bbf58df5174b6583f89250a4a0042b": {
      "model_module": "@jupyter-widgets/controls",
      "model_module_version": "2.0.0",
      "model_name": "FloatTextModel",
      "state": {
       "description": "$a_{2,1}$:",
       "layout": "IPY_MODEL_ad7970908ed04f198b8355bbd9b4d32b",
       "step": null,
       "style": "IPY_MODEL_4e05976c8f2e4d75b4c71369f1baee78",
       "value": -0.7071
      }
     },
     "4a36ae9ae05b471aa891c53f307519d9": {
      "model_module": "@jupyter-widgets/base",
      "model_module_version": "2.0.0",
      "model_name": "LayoutModel",
      "state": {
       "width": "175px"
      }
     },
     "4a80d5bf623c42b49a2c2d816802d107": {
      "model_module": "@jupyter-widgets/base",
      "model_module_version": "2.0.0",
      "model_name": "LayoutModel",
      "state": {}
     },
     "4c00603c58764b1faab3b882c958f0b6": {
      "model_module": "@jupyter-widgets/controls",
      "model_module_version": "2.0.0",
      "model_name": "HBoxModel",
      "state": {
       "children": [
        "IPY_MODEL_196aa18cb7614b0f83e6a60a8a3b8d78",
        "IPY_MODEL_c09e91a6d7e549319ed87c9e9a6b8536"
       ],
       "layout": "IPY_MODEL_26ac40dd25504f7e8aca20ee759ece9f"
      }
     },
     "4e05976c8f2e4d75b4c71369f1baee78": {
      "model_module": "@jupyter-widgets/controls",
      "model_module_version": "2.0.0",
      "model_name": "DescriptionStyleModel",
      "state": {
       "description_width": ""
      }
     },
     "4f0b30a568154e0dae34a02039576fb9": {
      "model_module": "@jupyter-widgets/controls",
      "model_module_version": "2.0.0",
      "model_name": "FloatTextModel",
      "state": {
       "description": "$a_{2,2}$:",
       "layout": "IPY_MODEL_59354294f8774236b7627a85396579ba",
       "step": null,
       "style": "IPY_MODEL_413b8664cc1e4542b0205eadc0d2d261",
       "value": 0.7071
      }
     },
     "50bb216ada5846d8bfd5f42ed81dca44": {
      "model_module": "@jupyter-widgets/controls",
      "model_module_version": "2.0.0",
      "model_name": "DescriptionStyleModel",
      "state": {
       "description_width": ""
      }
     },
     "510e006e384e4ebf9433713812ce9147": {
      "model_module": "@jupyter-widgets/controls",
      "model_module_version": "2.0.0",
      "model_name": "FloatTextModel",
      "state": {
       "description": "$a_{1,2}$:",
       "layout": "IPY_MODEL_16d50b07e6ae41caa15230203046ec88",
       "step": null,
       "style": "IPY_MODEL_96aa1b6b5a544ee98f8df61d8f45a21f",
       "value": 0.3
      }
     },
     "51599d5c50c74e9cacc99cd2d70fe530": {
      "model_module": "@jupyter-widgets/controls",
      "model_module_version": "2.0.0",
      "model_name": "DescriptionStyleModel",
      "state": {
       "description_width": ""
      }
     },
     "515becc8b33b4466b81967ed1622be5f": {
      "model_module": "@jupyter-widgets/base",
      "model_module_version": "2.0.0",
      "model_name": "LayoutModel",
      "state": {
       "width": "175px"
      }
     },
     "529d28888cac4c30a2e6f7f77a7796d4": {
      "model_module": "@jupyter-widgets/controls",
      "model_module_version": "2.0.0",
      "model_name": "FloatTextModel",
      "state": {
       "description": "$a_{2,1}$:",
       "layout": "IPY_MODEL_fb3a8c65594d4e5e930f67cc4676c06e",
       "step": null,
       "style": "IPY_MODEL_2eea99495d90441ca025e69c35e46dfd",
       "value": -0.7071
      }
     },
     "52cb6d90ad7e49fb9f29fc3070b44d3f": {
      "model_module": "@jupyter-widgets/base",
      "model_module_version": "2.0.0",
      "model_name": "LayoutModel",
      "state": {}
     },
     "5481b638bfc947a9b311f6e268e7e797": {
      "model_module": "@jupyter-widgets/controls",
      "model_module_version": "2.0.0",
      "model_name": "FloatTextModel",
      "state": {
       "description": "$b_{1,2}$:",
       "layout": "IPY_MODEL_515becc8b33b4466b81967ed1622be5f",
       "step": null,
       "style": "IPY_MODEL_9b43ce4f2d3a43f887cbdc09bb133e7f"
      }
     },
     "5519d4f881674681a6540b582e18fd40": {
      "model_module": "@jupyter-widgets/base",
      "model_module_version": "2.0.0",
      "model_name": "LayoutModel",
      "state": {
       "width": "175px"
      }
     },
     "553155cc57b64fcda9b71a069a9db4ab": {
      "model_module": "@jupyter-widgets/controls",
      "model_module_version": "2.0.0",
      "model_name": "FloatTextModel",
      "state": {
       "description": "$a_{1,1}$:",
       "layout": "IPY_MODEL_ea15a2b37006464a9c0e4ecc328789ae",
       "step": null,
       "style": "IPY_MODEL_800659ea46094bee80c55511ab995b85",
       "value": 2
      }
     },
     "555d1ce59e1e474896403bc53d2bc565": {
      "model_module": "@jupyter-widgets/controls",
      "model_module_version": "2.0.0",
      "model_name": "DescriptionStyleModel",
      "state": {
       "description_width": ""
      }
     },
     "558bd8b625e64947add23775ffc12014": {
      "model_module": "@jupyter-widgets/base",
      "model_module_version": "2.0.0",
      "model_name": "LayoutModel",
      "state": {
       "width": "175px"
      }
     },
     "574250250e3f47848eff8b9957366694": {
      "model_module": "@jupyter-widgets/base",
      "model_module_version": "2.0.0",
      "model_name": "LayoutModel",
      "state": {
       "width": "175px"
      }
     },
     "58da1cd09c024c9cb47946a79d7daedc": {
      "model_module": "@jupyter-widgets/base",
      "model_module_version": "2.0.0",
      "model_name": "LayoutModel",
      "state": {}
     },
     "59354294f8774236b7627a85396579ba": {
      "model_module": "@jupyter-widgets/base",
      "model_module_version": "2.0.0",
      "model_name": "LayoutModel",
      "state": {
       "width": "175px"
      }
     },
     "5b5d08045af34353a9a6cfa021fb2e2e": {
      "model_module": "@jupyter-widgets/controls",
      "model_module_version": "2.0.0",
      "model_name": "FloatTextModel",
      "state": {
       "description": "$d_{2,2}$:",
       "layout": "IPY_MODEL_7311ab65760a4d14970e9021ac358298",
       "step": null,
       "style": "IPY_MODEL_fe6cc587ebb34e238960713a8bcf8dd9",
       "value": 2
      }
     },
     "5ba7b55912954d52bc92a6990ac91491": {
      "model_module": "@jupyter-widgets/base",
      "model_module_version": "2.0.0",
      "model_name": "LayoutModel",
      "state": {
       "width": "175px"
      }
     },
     "5d0e1a1fee6140c0a9bda85cdace0954": {
      "model_module": "@jupyter-widgets/output",
      "model_module_version": "1.0.0",
      "model_name": "OutputModel",
      "state": {
       "layout": "IPY_MODEL_4a80d5bf623c42b49a2c2d816802d107",
       "outputs": [
        {
         "data": {
          "image/png": "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",
          "text/plain": "<Figure size 2000x1000 with 2 Axes>"
         },
         "metadata": {},
         "output_type": "display_data"
        }
       ]
      }
     },
     "5d755b7b8b764429ab87bd967063c175": {
      "model_module": "@jupyter-widgets/controls",
      "model_module_version": "2.0.0",
      "model_name": "FloatTextModel",
      "state": {
       "description": "$d_{1,2}$:",
       "layout": "IPY_MODEL_6ce01379011e45388b93bfd68ddc8da2",
       "step": null,
       "style": "IPY_MODEL_ebb5f2807a42436a941c53292ae08aa0",
       "value": 4
      }
     },
     "5dfdcb1f65a049768d2cd7340b5643e5": {
      "model_module": "@jupyter-widgets/controls",
      "model_module_version": "2.0.0",
      "model_name": "DescriptionStyleModel",
      "state": {
       "description_width": ""
      }
     },
     "600282c31e534222bdf7363177dcc01c": {
      "model_module": "@jupyter-widgets/base",
      "model_module_version": "2.0.0",
      "model_name": "LayoutModel",
      "state": {}
     },
     "61342ba3b2294b8a8dc4880a899dbfcb": {
      "model_module": "@jupyter-widgets/controls",
      "model_module_version": "2.0.0",
      "model_name": "FloatTextModel",
      "state": {
       "description": "$d_{2,1}$:",
       "layout": "IPY_MODEL_e02fc9e5c8b145a1b0a982b5b7d2e7c1",
       "step": null,
       "style": "IPY_MODEL_cfab559b33754b71be6e01ba3dca1078",
       "value": -1
      }
     },
     "6137204b3c534091a33a58bd3a373738": {
      "model_module": "@jupyter-widgets/controls",
      "model_module_version": "2.0.0",
      "model_name": "FloatTextModel",
      "state": {
       "description": "$d_{1,2}$:",
       "layout": "IPY_MODEL_26019875e4f64e8a9bf2247d1a71984e",
       "step": null,
       "style": "IPY_MODEL_874fdfdc7d474d9fb5b2814492b82daf",
       "value": 4
      }
     },
     "616771a4526f4153bd545390021286d9": {
      "model_module": "@jupyter-widgets/base",
      "model_module_version": "2.0.0",
      "model_name": "LayoutModel",
      "state": {
       "width": "175px"
      }
     },
     "640c6ac1fe5a4ef0b2989c1895dad069": {
      "model_module": "@jupyter-widgets/base",
      "model_module_version": "2.0.0",
      "model_name": "LayoutModel",
      "state": {}
     },
     "6415f0704ca14f248877914a8d8c19b9": {
      "model_module": "@jupyter-widgets/base",
      "model_module_version": "2.0.0",
      "model_name": "LayoutModel",
      "state": {}
     },
     "65a314adfdc443c6864e2b252be1c562": {
      "model_module": "@jupyter-widgets/controls",
      "model_module_version": "2.0.0",
      "model_name": "FloatTextModel",
      "state": {
       "description": "$b_{2,1}$:",
       "layout": "IPY_MODEL_5519d4f881674681a6540b582e18fd40",
       "step": null,
       "style": "IPY_MODEL_297a2462ec22408d917153a36b632f7a"
      }
     },
     "68817e029998457ba236873383d88873": {
      "model_module": "@jupyter-widgets/base",
      "model_module_version": "2.0.0",
      "model_name": "LayoutModel",
      "state": {}
     },
     "6acdd8d9359341169032a2487570bf17": {
      "model_module": "@jupyter-widgets/controls",
      "model_module_version": "2.0.0",
      "model_name": "HBoxModel",
      "state": {
       "children": [
        "IPY_MODEL_efdf9cc60a89498ca3c85890a027ad31",
        "IPY_MODEL_0015b9b24cec49e4831d6caf1c83ec33"
       ],
       "layout": "IPY_MODEL_9b0f8d49b6fb41408ec7eb661ca4ae90"
      }
     },
     "6b783f7572964343a156c0bf41665309": {
      "model_module": "@jupyter-widgets/controls",
      "model_module_version": "2.0.0",
      "model_name": "VBoxModel",
      "state": {
       "children": [
        "IPY_MODEL_4432d02b406a49918152e1869b71eed9",
        "IPY_MODEL_c3b84055b5ac4532a88020eaab386b58"
       ],
       "layout": "IPY_MODEL_28c73e1d1cc24f07b4069948a97a36bf"
      }
     },
     "6b8ac204964d4a2086ccc04679415305": {
      "model_module": "@jupyter-widgets/base",
      "model_module_version": "2.0.0",
      "model_name": "LayoutModel",
      "state": {}
     },
     "6be040cdd1b04f659d68b7d7f8f92a47": {
      "model_module": "@jupyter-widgets/controls",
      "model_module_version": "2.0.0",
      "model_name": "LinkModel",
      "state": {
       "source": [
        "IPY_MODEL_459ad980e4dc4fed9d14b6765d91ffcb",
        "value"
       ],
       "target": [
        "IPY_MODEL_2b47c28ed1424f339a892d269ee1bb97",
        "value"
       ]
      }
     },
     "6ce01379011e45388b93bfd68ddc8da2": {
      "model_module": "@jupyter-widgets/base",
      "model_module_version": "2.0.0",
      "model_name": "LayoutModel",
      "state": {
       "width": "175px"
      }
     },
     "6e34ec731e1141bb95e1e050711a73f3": {
      "model_module": "@jupyter-widgets/base",
      "model_module_version": "2.0.0",
      "model_name": "LayoutModel",
      "state": {}
     },
     "6e41dd787a5f43e5bd947638523852ed": {
      "model_module": "@jupyter-widgets/controls",
      "model_module_version": "2.0.0",
      "model_name": "DescriptionStyleModel",
      "state": {
       "description_width": ""
      }
     },
     "6e8cb592dc7a47cc81a418e28ef9fe15": {
      "model_module": "@jupyter-widgets/base",
      "model_module_version": "2.0.0",
      "model_name": "LayoutModel",
      "state": {}
     },
     "6ebdf0d296af4d0e914035dcdf11e7db": {
      "model_module": "@jupyter-widgets/controls",
      "model_module_version": "2.0.0",
      "model_name": "FloatTextModel",
      "state": {
       "description": "$d_{2,2}$:",
       "layout": "IPY_MODEL_b7b75072742247d4a202342d9838d0c5",
       "step": null,
       "style": "IPY_MODEL_70a11750b41047fbb07f97e633bfc8b0",
       "value": 2
      }
     },
     "6edb2401a78f49eeaca166e9fb981a84": {
      "model_module": "@jupyter-widgets/controls",
      "model_module_version": "2.0.0",
      "model_name": "HBoxModel",
      "state": {
       "children": [
        "IPY_MODEL_6acdd8d9359341169032a2487570bf17",
        "IPY_MODEL_88fe11b0d01c4c4abdf82ac88991e5b3"
       ],
       "layout": "IPY_MODEL_92a65fcc2c4842c1a2a0519f72c4501f"
      }
     },
     "6f658c3b249f4a2da99741273b5c0fe7": {
      "model_module": "@jupyter-widgets/base",
      "model_module_version": "2.0.0",
      "model_name": "LayoutModel",
      "state": {}
     },
     "708a0ad969c74282a72d3a791c07a135": {
      "model_module": "@jupyter-widgets/base",
      "model_module_version": "2.0.0",
      "model_name": "LayoutModel",
      "state": {}
     },
     "70a11750b41047fbb07f97e633bfc8b0": {
      "model_module": "@jupyter-widgets/controls",
      "model_module_version": "2.0.0",
      "model_name": "DescriptionStyleModel",
      "state": {
       "description_width": ""
      }
     },
     "71c2304837e249238e65781a9a4c4651": {
      "model_module": "@jupyter-widgets/controls",
      "model_module_version": "2.0.0",
      "model_name": "FloatTextModel",
      "state": {
       "description": "$a_{2,2}$:",
       "layout": "IPY_MODEL_2906617751154a78b66fe13a0ad7a83c",
       "step": null,
       "style": "IPY_MODEL_1f32131e633d4cce90469a7ba48521a0",
       "value": 2
      }
     },
     "7311ab65760a4d14970e9021ac358298": {
      "model_module": "@jupyter-widgets/base",
      "model_module_version": "2.0.0",
      "model_name": "LayoutModel",
      "state": {
       "width": "175px"
      }
     },
     "734b9ec307ed4f498626875dc061556d": {
      "model_module": "@jupyter-widgets/controls",
      "model_module_version": "2.0.0",
      "model_name": "FloatTextModel",
      "state": {
       "description": "$d_{1,3}$:",
       "layout": "IPY_MODEL_0a5d9c39e4094d1995872121f2e5dca2",
       "step": null,
       "style": "IPY_MODEL_3898e1dfe38f47af8f8a006c5a40b8cf",
       "value": 5
      }
     },
     "736a98e0ad3e4f4da9a687188e004f67": {
      "model_module": "@jupyter-widgets/controls",
      "model_module_version": "2.0.0",
      "model_name": "SliderStyleModel",
      "state": {
       "description_width": ""
      }
     },
     "737801bf9dc844bfbfee2a5085bc6f3e": {
      "model_module": "@jupyter-widgets/controls",
      "model_module_version": "2.0.0",
      "model_name": "DescriptionStyleModel",
      "state": {
       "description_width": ""
      }
     },
     "742d5bdec3d846d58048048f1c05d6c1": {
      "model_module": "@jupyter-widgets/output",
      "model_module_version": "1.0.0",
      "model_name": "OutputModel",
      "state": {
       "layout": "IPY_MODEL_937581df7f8a46198a66a06b333dfb4d",
       "outputs": [
        {
         "data": {
          "image/png": "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",
          "text/plain": "<Figure size 2000x1000 with 2 Axes>"
         },
         "metadata": {},
         "output_type": "display_data"
        }
       ]
      }
     },
     "744614b654d6431b91fe699ac43670b4": {
      "model_module": "@jupyter-widgets/base",
      "model_module_version": "2.0.0",
      "model_name": "LayoutModel",
      "state": {}
     },
     "751937226f554ff59a312a3cdb05a527": {
      "model_module": "@jupyter-widgets/controls",
      "model_module_version": "2.0.0",
      "model_name": "VBoxModel",
      "state": {
       "children": [
        "IPY_MODEL_16fda281f4e74ada9f339b3174e6e1af",
        "IPY_MODEL_324fdc2ed9204f33ab94e16f6e4ab48c"
       ],
       "layout": "IPY_MODEL_9564d7e62af646e2b88e36f859e5a99f"
      }
     },
     "766fa6b7e42f4e59a3dfbe85cdfeb431": {
      "model_module": "@jupyter-widgets/base",
      "model_module_version": "2.0.0",
      "model_name": "LayoutModel",
      "state": {}
     },
     "76f169b1792b440e8c8f6b9bd6fd9fde": {
      "model_module": "@jupyter-widgets/controls",
      "model_module_version": "2.0.0",
      "model_name": "FloatTextModel",
      "state": {
       "description": "$d_{2,3}$:",
       "layout": "IPY_MODEL_cb64bd76f3974f0bace1f8ac32c06167",
       "step": null,
       "style": "IPY_MODEL_420bb3101b3b4b5790807ae5af326764",
       "value": -1
      }
     },
     "7782fc040bad4182be2ae7714591fec4": {
      "model_module": "@jupyter-widgets/base",
      "model_module_version": "2.0.0",
      "model_name": "LayoutModel",
      "state": {
       "width": "175px"
      }
     },
     "7786e1b7a23544c78b34e072f3730be6": {
      "model_module": "@jupyter-widgets/controls",
      "model_module_version": "2.0.0",
      "model_name": "DescriptionStyleModel",
      "state": {
       "description_width": ""
      }
     },
     "77fda80631644a5f83cf575d6f885d7c": {
      "model_module": "@jupyter-widgets/controls",
      "model_module_version": "2.0.0",
      "model_name": "HBoxModel",
      "state": {
       "children": [
        "IPY_MODEL_af52cdff2e2d4c759cc26fc7d36a7887",
        "IPY_MODEL_786a9043712a4b5bba0ebd1501009e12",
        "IPY_MODEL_342f56d1fa294758ac6943e579c93c47",
        "IPY_MODEL_cac52b55f70b42d2baefd13055cbbf11"
       ],
       "layout": "IPY_MODEL_32251dfafe8649e580cd6797efbbe019"
      }
     },
     "786a9043712a4b5bba0ebd1501009e12": {
      "model_module": "@jupyter-widgets/controls",
      "model_module_version": "2.0.0",
      "model_name": "VBoxModel",
      "state": {
       "children": [
        "IPY_MODEL_5d755b7b8b764429ab87bd967063c175",
        "IPY_MODEL_5b5d08045af34353a9a6cfa021fb2e2e"
       ],
       "layout": "IPY_MODEL_58da1cd09c024c9cb47946a79d7daedc"
      }
     },
     "78bbe5641b724450b7b74273dab27b13": {
      "model_module": "@jupyter-widgets/controls",
      "model_module_version": "2.0.0",
      "model_name": "FloatTextModel",
      "state": {
       "description": "$b_{2,2}$:",
       "layout": "IPY_MODEL_3c32504ee9ea456aa0acca99098ef9a2",
       "step": null,
       "style": "IPY_MODEL_2ab806e182574880abccbab05a0b7205",
       "value": 1
      }
     },
     "79adce284c49407cb400b77a7753d9c9": {
      "model_module": "@jupyter-widgets/controls",
      "model_module_version": "2.0.0",
      "model_name": "DescriptionStyleModel",
      "state": {
       "description_width": ""
      }
     },
     "79f8f017eba246a6971c3d60cc8cb22a": {
      "model_module": "@jupyter-widgets/controls",
      "model_module_version": "2.0.0",
      "model_name": "CheckboxStyleModel",
      "state": {
       "description_width": ""
      }
     },
     "7a628d2fef324e948ed928121e741364": {
      "model_module": "@jupyter-widgets/controls",
      "model_module_version": "2.0.0",
      "model_name": "DescriptionStyleModel",
      "state": {
       "description_width": ""
      }
     },
     "7aa98b66a1c342df98b2e52b97ad35c0": {
      "model_module": "@jupyter-widgets/base",
      "model_module_version": "2.0.0",
      "model_name": "LayoutModel",
      "state": {
       "width": "175px"
      }
     },
     "7abc80a5f9254ac3a702b567736f1bd7": {
      "model_module": "@jupyter-widgets/output",
      "model_module_version": "1.0.0",
      "model_name": "OutputModel",
      "state": {
       "layout": "IPY_MODEL_d010415de1ec4641ab24c5928da1f3b9",
       "outputs": [
        {
         "data": {
          "image/png": "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",
          "text/plain": "<Figure size 2000x1000 with 2 Axes>"
         },
         "metadata": {},
         "output_type": "display_data"
        }
       ]
      }
     },
     "7bebca17e14c4c14a1ea7920e9e16b82": {
      "model_module": "@jupyter-widgets/base",
      "model_module_version": "2.0.0",
      "model_name": "LayoutModel",
      "state": {}
     },
     "7c06544cbdb1428393bccc348c1ab3bc": {
      "model_module": "@jupyter-widgets/base",
      "model_module_version": "2.0.0",
      "model_name": "LayoutModel",
      "state": {
       "width": "175px"
      }
     },
     "7c71f4699f834995b83cfb4bbb2ba99b": {
      "model_module": "@jupyter-widgets/base",
      "model_module_version": "2.0.0",
      "model_name": "LayoutModel",
      "state": {}
     },
     "7d127db59762434a960f8ab7b8780fe1": {
      "model_module": "@jupyter-widgets/controls",
      "model_module_version": "2.0.0",
      "model_name": "IntSliderModel",
      "state": {
       "behavior": "drag-tap",
       "description": "Maximum $x$:",
       "layout": "IPY_MODEL_996ad501d86c4296b07d20aaa53317b8",
       "max": 1000,
       "style": "IPY_MODEL_2bb84bc089ef4202a87d202eb0aca815",
       "value": 10
      }
     },
     "7f75b6c2af714cc89ed1e4c32e41e541": {
      "model_module": "@jupyter-widgets/controls",
      "model_module_version": "2.0.0",
      "model_name": "IntSliderModel",
      "state": {
       "behavior": "drag-tap",
       "description": "Maximum $y$:",
       "layout": "IPY_MODEL_996a1869b7e341d1a1af4bbcfd8e9a78",
       "max": 1000,
       "style": "IPY_MODEL_c4d1461bc6514277b66d5048e4190877",
       "value": 10
      }
     },
     "800659ea46094bee80c55511ab995b85": {
      "model_module": "@jupyter-widgets/controls",
      "model_module_version": "2.0.0",
      "model_name": "DescriptionStyleModel",
      "state": {
       "description_width": ""
      }
     },
     "800db29d2ee54a419b907940213e1987": {
      "model_module": "@jupyter-widgets/controls",
      "model_module_version": "2.0.0",
      "model_name": "VBoxModel",
      "state": {
       "children": [
        "IPY_MODEL_05b083fc3ec140768498eb81feaefdb6",
        "IPY_MODEL_f62ec2ff080a448bbd129485f1e70e1c"
       ],
       "layout": "IPY_MODEL_b6396a5048c74cc5a87542731e835200"
      }
     },
     "80fa1a40005f4769b1837fbbf1a2f91e": {
      "model_module": "@jupyter-widgets/controls",
      "model_module_version": "2.0.0",
      "model_name": "FloatTextModel",
      "state": {
       "description": "$b_{1,2}$:",
       "layout": "IPY_MODEL_7c06544cbdb1428393bccc348c1ab3bc",
       "step": null,
       "style": "IPY_MODEL_a7ecb43ad84b461183e2eb2585c9241f"
      }
     },
     "817129c4836f462ca604412465e48720": {
      "model_module": "@jupyter-widgets/base",
      "model_module_version": "2.0.0",
      "model_name": "LayoutModel",
      "state": {
       "width": "175px"
      }
     },
     "8252a2330c8a41ae9eac3d4abe191ba9": {
      "model_module": "@jupyter-widgets/controls",
      "model_module_version": "2.0.0",
      "model_name": "VBoxModel",
      "state": {
       "children": [
        "IPY_MODEL_fd47d8370f7a4eb1bd6ad9710e6fcde9",
        "IPY_MODEL_9f2fe2f418e3459f96447c39797847ed"
       ],
       "layout": "IPY_MODEL_1fd4c8006d3845cfab4e1e9e67c0ad59"
      }
     },
     "833f710a3a264f669ef5939093f57149": {
      "model_module": "@jupyter-widgets/base",
      "model_module_version": "2.0.0",
      "model_name": "LayoutModel",
      "state": {
       "width": "175px"
      }
     },
     "86df769dd9ac4d2996b69d76ef3d5f92": {
      "model_module": "@jupyter-widgets/controls",
      "model_module_version": "2.0.0",
      "model_name": "CheckboxModel",
      "state": {
       "description": "Fix 2nd axis",
       "disabled": false,
       "layout": "IPY_MODEL_3a44e82abb4a4bf19ee47a1cb15d0a05",
       "style": "IPY_MODEL_79f8f017eba246a6971c3d60cc8cb22a",
       "value": false
      }
     },
     "874fdfdc7d474d9fb5b2814492b82daf": {
      "model_module": "@jupyter-widgets/controls",
      "model_module_version": "2.0.0",
      "model_name": "DescriptionStyleModel",
      "state": {
       "description_width": ""
      }
     },
     "877f47facb0d4a74b58fca111bc6afd7": {
      "model_module": "@jupyter-widgets/base",
      "model_module_version": "2.0.0",
      "model_name": "LayoutModel",
      "state": {
       "width": "175px"
      }
     },
     "88454cebd2de468191978a5ea31a7aef": {
      "model_module": "@jupyter-widgets/controls",
      "model_module_version": "2.0.0",
      "model_name": "DescriptionStyleModel",
      "state": {
       "description_width": ""
      }
     },
     "88fe11b0d01c4c4abdf82ac88991e5b3": {
      "model_module": "@jupyter-widgets/controls",
      "model_module_version": "2.0.0",
      "model_name": "HBoxModel",
      "state": {
       "children": [
        "IPY_MODEL_0fdb981582414ac6b60802fbb7175d08",
        "IPY_MODEL_29d18009e1914b22b48a7d390453eb33"
       ],
       "layout": "IPY_MODEL_b66e630662784c529f04a6b1a2c684f9"
      }
     },
     "8a23b048764b43f69bffd4c3bf1f7caf": {
      "model_module": "@jupyter-widgets/controls",
      "model_module_version": "2.0.0",
      "model_name": "HBoxModel",
      "state": {
       "children": [
        "IPY_MODEL_4c00603c58764b1faab3b882c958f0b6",
        "IPY_MODEL_08290fb31c994c72aefff68df513f7f3"
       ],
       "layout": "IPY_MODEL_baf4056cf6844c0b88b7f817badcc35a"
      }
     },
     "8a89d0a77b41411c9170de54bd3dacc5": {
      "model_module": "@jupyter-widgets/base",
      "model_module_version": "2.0.0",
      "model_name": "LayoutModel",
      "state": {}
     },
     "8aedf2214a724840aa8a9fb25be4d295": {
      "model_module": "@jupyter-widgets/base",
      "model_module_version": "2.0.0",
      "model_name": "LayoutModel",
      "state": {}
     },
     "8c840ffa714c462299ed1f77ebd487c6": {
      "model_module": "@jupyter-widgets/base",
      "model_module_version": "2.0.0",
      "model_name": "LayoutModel",
      "state": {}
     },
     "8caf289e81584f3ea5d87125d2953d8f": {
      "model_module": "@jupyter-widgets/controls",
      "model_module_version": "2.0.0",
      "model_name": "FloatTextModel",
      "state": {
       "description": "$b_{1,1}$:",
       "layout": "IPY_MODEL_c84598d056e84ad4b156888edacc53e9",
       "step": null,
       "style": "IPY_MODEL_cd1100b9f78f459e889a7759349e8997",
       "value": 1
      }
     },
     "8cc48ceef7f34102ae8bde2f78aba7c8": {
      "model_module": "@jupyter-widgets/controls",
      "model_module_version": "2.0.0",
      "model_name": "FloatTextModel",
      "state": {
       "description": "$b_{2,2}$:",
       "layout": "IPY_MODEL_4a36ae9ae05b471aa891c53f307519d9",
       "step": null,
       "style": "IPY_MODEL_6e41dd787a5f43e5bd947638523852ed",
       "value": 1
      }
     },
     "8d3d50d8d41945bc9543b8ec91a19029": {
      "model_module": "@jupyter-widgets/controls",
      "model_module_version": "2.0.0",
      "model_name": "FloatTextModel",
      "state": {
       "description": "$a_{1,2}$:",
       "layout": "IPY_MODEL_d81964bdbb4743bc979eab95af7158db",
       "step": null,
       "style": "IPY_MODEL_555d1ce59e1e474896403bc53d2bc565",
       "value": 0.7071
      }
     },
     "8e6675e664fa4bb488aaea5cddd84f10": {
      "model_module": "@jupyter-widgets/base",
      "model_module_version": "2.0.0",
      "model_name": "LayoutModel",
      "state": {}
     },
     "8ef9ac58420d475488806d678adaf4ef": {
      "model_module": "@jupyter-widgets/controls",
      "model_module_version": "2.0.0",
      "model_name": "CheckboxStyleModel",
      "state": {
       "description_width": ""
      }
     },
     "9064701643d4432ea7d8282bd54be0fa": {
      "model_module": "@jupyter-widgets/controls",
      "model_module_version": "2.0.0",
      "model_name": "HBoxModel",
      "state": {
       "children": [
        "IPY_MODEL_751937226f554ff59a312a3cdb05a527",
        "IPY_MODEL_08cb5b0aea0649a99f2153ee5a4161d1",
        "IPY_MODEL_301d163f2061435f9866ff1f970a39bc",
        "IPY_MODEL_e6f62072964c44458843662c72df584a"
       ],
       "layout": "IPY_MODEL_3169aa2587c643f08ce77e8129745e99"
      }
     },
     "90e8d1a795194f82b76c3e4ad874ea82": {
      "model_module": "@jupyter-widgets/base",
      "model_module_version": "2.0.0",
      "model_name": "LayoutModel",
      "state": {
       "width": "175px"
      }
     },
     "92a65fcc2c4842c1a2a0519f72c4501f": {
      "model_module": "@jupyter-widgets/base",
      "model_module_version": "2.0.0",
      "model_name": "LayoutModel",
      "state": {}
     },
     "937581df7f8a46198a66a06b333dfb4d": {
      "model_module": "@jupyter-widgets/base",
      "model_module_version": "2.0.0",
      "model_name": "LayoutModel",
      "state": {}
     },
     "949a47dcd5e74f379c99bd3a0b681735": {
      "model_module": "@jupyter-widgets/base",
      "model_module_version": "2.0.0",
      "model_name": "LayoutModel",
      "state": {}
     },
     "9564d7e62af646e2b88e36f859e5a99f": {
      "model_module": "@jupyter-widgets/base",
      "model_module_version": "2.0.0",
      "model_name": "LayoutModel",
      "state": {}
     },
     "95df916ad6344afeaa4efc35f12833e3": {
      "model_module": "@jupyter-widgets/base",
      "model_module_version": "2.0.0",
      "model_name": "LayoutModel",
      "state": {}
     },
     "96aa1b6b5a544ee98f8df61d8f45a21f": {
      "model_module": "@jupyter-widgets/controls",
      "model_module_version": "2.0.0",
      "model_name": "DescriptionStyleModel",
      "state": {
       "description_width": ""
      }
     },
     "96e0ead6115d4121bacd6f3ffb89073d": {
      "model_module": "@jupyter-widgets/controls",
      "model_module_version": "2.0.0",
      "model_name": "CheckboxModel",
      "state": {
       "description": "Fix 2nd axis",
       "disabled": false,
       "layout": "IPY_MODEL_6e8cb592dc7a47cc81a418e28ef9fe15",
       "style": "IPY_MODEL_1cf281a2aef741c1b236d95dde67ac89",
       "value": true
      }
     },
     "996a1869b7e341d1a1af4bbcfd8e9a78": {
      "model_module": "@jupyter-widgets/base",
      "model_module_version": "2.0.0",
      "model_name": "LayoutModel",
      "state": {}
     },
     "996ad501d86c4296b07d20aaa53317b8": {
      "model_module": "@jupyter-widgets/base",
      "model_module_version": "2.0.0",
      "model_name": "LayoutModel",
      "state": {}
     },
     "999749355ec54cf9bc3c2f016128da63": {
      "model_module": "@jupyter-widgets/base",
      "model_module_version": "2.0.0",
      "model_name": "LayoutModel",
      "state": {}
     },
     "9a1e2338799446519ca8b0086ae848aa": {
      "model_module": "@jupyter-widgets/controls",
      "model_module_version": "2.0.0",
      "model_name": "HBoxModel",
      "state": {
       "children": [
        "IPY_MODEL_eb383e356bdf4cb6984615fd2e3aa34e",
        "IPY_MODEL_1b4d842e44be4e1c94313f33bbdd7188"
       ],
       "layout": "IPY_MODEL_6f658c3b249f4a2da99741273b5c0fe7"
      }
     },
     "9aa470e546a64582b3a215c07161521a": {
      "model_module": "@jupyter-widgets/base",
      "model_module_version": "2.0.0",
      "model_name": "LayoutModel",
      "state": {}
     },
     "9b0f8d49b6fb41408ec7eb661ca4ae90": {
      "model_module": "@jupyter-widgets/base",
      "model_module_version": "2.0.0",
      "model_name": "LayoutModel",
      "state": {}
     },
     "9b43ce4f2d3a43f887cbdc09bb133e7f": {
      "model_module": "@jupyter-widgets/controls",
      "model_module_version": "2.0.0",
      "model_name": "DescriptionStyleModel",
      "state": {
       "description_width": ""
      }
     },
     "9baf8ff9d3d84ced99581e44c8fabfb8": {
      "model_module": "@jupyter-widgets/base",
      "model_module_version": "2.0.0",
      "model_name": "LayoutModel",
      "state": {}
     },
     "9bd52befa74b4c2c8a2fa43e4ba6a0f9": {
      "model_module": "@jupyter-widgets/controls",
      "model_module_version": "2.0.0",
      "model_name": "VBoxModel",
      "state": {
       "children": [
        "IPY_MODEL_510e006e384e4ebf9433713812ce9147",
        "IPY_MODEL_2507d736e0d74d5287e37d70b58cca54"
       ],
       "layout": "IPY_MODEL_d24f4c47eee84874b78d9879cf801633"
      }
     },
     "9d5d9688b3164a2cb6b68a88acc14938": {
      "model_module": "@jupyter-widgets/controls",
      "model_module_version": "2.0.0",
      "model_name": "HBoxModel",
      "state": {
       "children": [
        "IPY_MODEL_459ad980e4dc4fed9d14b6765d91ffcb",
        "IPY_MODEL_2b47c28ed1424f339a892d269ee1bb97",
        "IPY_MODEL_3e1c2af7a5b64fc9bb8f8fb1a699ef14"
       ],
       "layout": "IPY_MODEL_744614b654d6431b91fe699ac43670b4"
      }
     },
     "9e87d7a16d484900aa118161d7e7bb24": {
      "model_module": "@jupyter-widgets/controls",
      "model_module_version": "2.0.0",
      "model_name": "LinkModel",
      "state": {
       "source": [
        "IPY_MODEL_7d127db59762434a960f8ab7b8780fe1",
        "value"
       ],
       "target": [
        "IPY_MODEL_7f75b6c2af714cc89ed1e4c32e41e541",
        "value"
       ]
      }
     },
     "9f2fe2f418e3459f96447c39797847ed": {
      "model_module": "@jupyter-widgets/controls",
      "model_module_version": "2.0.0",
      "model_name": "FloatTextModel",
      "state": {
       "description": "$d_{2,3}$:",
       "layout": "IPY_MODEL_a78f7aeb837f483f80a350b6b46095ce",
       "step": null,
       "style": "IPY_MODEL_b5af4e69a9b44699aee59ab5ddb55ccd",
       "value": -1
      }
     },
     "a17e46fec9ed4963ba6c8bb3e62ac499": {
      "model_module": "@jupyter-widgets/controls",
      "model_module_version": "2.0.0",
      "model_name": "DropdownModel",
      "state": {
       "_options_labels": [
        "A",
        "B",
        "AB",
        "BA"
       ],
       "description": "Transformation$:",
       "index": 0,
       "layout": "IPY_MODEL_38e3633d9d2743d3a52232f009413029",
       "style": "IPY_MODEL_f347a61d7d574a3785e24deacc809600"
      }
     },
     "a5e337e25d1e4982acf90bdf5dbdc12e": {
      "model_module": "@jupyter-widgets/controls",
      "model_module_version": "2.0.0",
      "model_name": "DescriptionStyleModel",
      "state": {
       "description_width": ""
      }
     },
     "a62a4dc7879742ae992a80d0d980453c": {
      "model_module": "@jupyter-widgets/controls",
      "model_module_version": "2.0.0",
      "model_name": "HBoxModel",
      "state": {
       "children": [
        "IPY_MODEL_3563aebaa9254c14838b9b6fc6a79c10",
        "IPY_MODEL_d7e5707c92534f27a3e297603e93b1be"
       ],
       "layout": "IPY_MODEL_36691b2816d248b297d995d6e01adb89"
      }
     },
     "a6cad9cb6e6b40b5bd7eb59876876151": {
      "model_module": "@jupyter-widgets/base",
      "model_module_version": "2.0.0",
      "model_name": "LayoutModel",
      "state": {}
     },
     "a76c433505db48c68bd9edb0f1436ca6": {
      "model_module": "@jupyter-widgets/base",
      "model_module_version": "2.0.0",
      "model_name": "LayoutModel",
      "state": {}
     },
     "a78f7aeb837f483f80a350b6b46095ce": {
      "model_module": "@jupyter-widgets/base",
      "model_module_version": "2.0.0",
      "model_name": "LayoutModel",
      "state": {
       "width": "175px"
      }
     },
     "a7ecb43ad84b461183e2eb2585c9241f": {
      "model_module": "@jupyter-widgets/controls",
      "model_module_version": "2.0.0",
      "model_name": "DescriptionStyleModel",
      "state": {
       "description_width": ""
      }
     },
     "a8bd4bef8a7f4bcfac4ffd3f8c665c28": {
      "model_module": "@jupyter-widgets/base",
      "model_module_version": "2.0.0",
      "model_name": "LayoutModel",
      "state": {
       "width": "175px"
      }
     },
     "aaf951c17ddf4acd91bcab159b416775": {
      "model_module": "@jupyter-widgets/base",
      "model_module_version": "2.0.0",
      "model_name": "LayoutModel",
      "state": {}
     },
     "ab155896c17a4dc49cd677866f27bb08": {
      "model_module": "@jupyter-widgets/controls",
      "model_module_version": "2.0.0",
      "model_name": "DescriptionStyleModel",
      "state": {
       "description_width": ""
      }
     },
     "ab61ec647f224d39982a017f298e2b78": {
      "model_module": "@jupyter-widgets/controls",
      "model_module_version": "2.0.0",
      "model_name": "DescriptionStyleModel",
      "state": {
       "description_width": ""
      }
     },
     "ab8061c020da4f0ab83ad382de11217e": {
      "model_module": "@jupyter-widgets/controls",
      "model_module_version": "2.0.0",
      "model_name": "VBoxModel",
      "state": {
       "children": [
        "IPY_MODEL_c7a3847c25fa40379bf2e0545f791ff4",
        "IPY_MODEL_1b207fafa76c479a92975ced69942b2f"
       ],
       "layout": "IPY_MODEL_d34a0ddf01e94953a47babf91bc99a05"
      }
     },
     "ac240e1f6e794eb2acfd8230f642e529": {
      "model_module": "@jupyter-widgets/base",
      "model_module_version": "2.0.0",
      "model_name": "LayoutModel",
      "state": {}
     },
     "acf5af8e63b9434ab4677534e852f3dc": {
      "model_module": "@jupyter-widgets/controls",
      "model_module_version": "2.0.0",
      "model_name": "IntSliderModel",
      "state": {
       "behavior": "drag-tap",
       "description": "Maximum $x$:",
       "layout": "IPY_MODEL_beb814197fe04175958f700f57749281",
       "max": 1000,
       "style": "IPY_MODEL_736a98e0ad3e4f4da9a687188e004f67",
       "value": 10
      }
     },
     "ad180e6fe40c4317900d67642b980d5b": {
      "model_module": "@jupyter-widgets/controls",
      "model_module_version": "2.0.0",
      "model_name": "FloatTextModel",
      "state": {
       "description": "$a_{1,1}$:",
       "layout": "IPY_MODEL_37522e6fe4cf41cd8adae1eed6ce308c",
       "step": null,
       "style": "IPY_MODEL_283d7f205bec4753853ee8f81587a988",
       "value": 0.7071
      }
     },
     "ad7970908ed04f198b8355bbd9b4d32b": {
      "model_module": "@jupyter-widgets/base",
      "model_module_version": "2.0.0",
      "model_name": "LayoutModel",
      "state": {
       "width": "175px"
      }
     },
     "af52cdff2e2d4c759cc26fc7d36a7887": {
      "model_module": "@jupyter-widgets/controls",
      "model_module_version": "2.0.0",
      "model_name": "VBoxModel",
      "state": {
       "children": [
        "IPY_MODEL_e56f297f29e344bfaa3304d7f773690a",
        "IPY_MODEL_4589b3bd29b4431fb2163c3f8e734677"
       ],
       "layout": "IPY_MODEL_ac240e1f6e794eb2acfd8230f642e529"
      }
     },
     "af6a322981ec40658348f81c31f77cc5": {
      "model_module": "@jupyter-widgets/controls",
      "model_module_version": "2.0.0",
      "model_name": "HBoxModel",
      "state": {
       "children": [
        "IPY_MODEL_d6492dbf11b647d7b4488744fbfa0289",
        "IPY_MODEL_37d52418a358494db6eefb3970472cbe",
        "IPY_MODEL_cf4d2698cc474cdcba13f53595ceeb97"
       ],
       "layout": "IPY_MODEL_e19a794f2bfa4d81855a0d0698c66b64"
      }
     },
     "afb2b02b552f4ffc9c88191ce1e00d71": {
      "model_module": "@jupyter-widgets/controls",
      "model_module_version": "2.0.0",
      "model_name": "VBoxModel",
      "state": {
       "children": [
        "IPY_MODEL_0053e628f1b74a7cb32b49140c108bc2",
        "IPY_MODEL_3c6eeb2381a84b5d96c1c629cf80e78c"
       ],
       "layout": "IPY_MODEL_949a47dcd5e74f379c99bd3a0b681735"
      }
     },
     "b1b2c75cd7f8408bb17007cc60057163": {
      "model_module": "@jupyter-widgets/controls",
      "model_module_version": "2.0.0",
      "model_name": "FloatTextModel",
      "state": {
       "description": "$b_{2,2}$:",
       "layout": "IPY_MODEL_45ebdda744954c80a3f4698e39a29525",
       "step": null,
       "style": "IPY_MODEL_3c3aba14f61345dbbc90c5d2becf5c3b",
       "value": 1
      }
     },
     "b1bc68794182461f86cd685c48f7cf0f": {
      "model_module": "@jupyter-widgets/controls",
      "model_module_version": "2.0.0",
      "model_name": "VBoxModel",
      "state": {
       "children": [
        "IPY_MODEL_80fa1a40005f4769b1837fbbf1a2f91e",
        "IPY_MODEL_8cc48ceef7f34102ae8bde2f78aba7c8"
       ],
       "layout": "IPY_MODEL_640c6ac1fe5a4ef0b2989c1895dad069"
      }
     },
     "b1f1453832984d38a8e31db7f4e87994": {
      "model_module": "@jupyter-widgets/base",
      "model_module_version": "2.0.0",
      "model_name": "LayoutModel",
      "state": {
       "width": "175px"
      }
     },
     "b4bdb4b87e9a48248c08f5ca45b1cd7f": {
      "model_module": "@jupyter-widgets/controls",
      "model_module_version": "2.0.0",
      "model_name": "VBoxModel",
      "state": {
       "children": [
        "IPY_MODEL_193498a55ef345418b5efbfd28fdaaeb",
        "IPY_MODEL_1ede4b4eeff947c296556310ce52544e"
       ],
       "layout": "IPY_MODEL_3c4dc85a5af540bba5576bceadb05ae9"
      }
     },
     "b560a148ec8944aa8c08ccf26f80f1eb": {
      "model_module": "@jupyter-widgets/base",
      "model_module_version": "2.0.0",
      "model_name": "LayoutModel",
      "state": {}
     },
     "b5af4e69a9b44699aee59ab5ddb55ccd": {
      "model_module": "@jupyter-widgets/controls",
      "model_module_version": "2.0.0",
      "model_name": "DescriptionStyleModel",
      "state": {
       "description_width": ""
      }
     },
     "b6396a5048c74cc5a87542731e835200": {
      "model_module": "@jupyter-widgets/base",
      "model_module_version": "2.0.0",
      "model_name": "LayoutModel",
      "state": {}
     },
     "b66e630662784c529f04a6b1a2c684f9": {
      "model_module": "@jupyter-widgets/base",
      "model_module_version": "2.0.0",
      "model_name": "LayoutModel",
      "state": {}
     },
     "b68f7457f78c48baa9b137dc36feb8a8": {
      "model_module": "@jupyter-widgets/controls",
      "model_module_version": "2.0.0",
      "model_name": "FloatTextModel",
      "state": {
       "description": "$d_{2,3}$:",
       "layout": "IPY_MODEL_df6e1d5ccd434b09b07d6e0a2232dbd4",
       "step": null,
       "style": "IPY_MODEL_fd7f43ef5f654926b1b2bd31312377f2",
       "value": -1
      }
     },
     "b7b75072742247d4a202342d9838d0c5": {
      "model_module": "@jupyter-widgets/base",
      "model_module_version": "2.0.0",
      "model_name": "LayoutModel",
      "state": {
       "width": "175px"
      }
     },
     "b90a3d2872a94835a7fd1c554c15a26e": {
      "model_module": "@jupyter-widgets/base",
      "model_module_version": "2.0.0",
      "model_name": "LayoutModel",
      "state": {}
     },
     "b987cafdd23a498b97c9edfae8b48141": {
      "model_module": "@jupyter-widgets/base",
      "model_module_version": "2.0.0",
      "model_name": "LayoutModel",
      "state": {}
     },
     "baf4056cf6844c0b88b7f817badcc35a": {
      "model_module": "@jupyter-widgets/base",
      "model_module_version": "2.0.0",
      "model_name": "LayoutModel",
      "state": {}
     },
     "bbb7ffbe82484ed08498c7d0343e3b84": {
      "model_module": "@jupyter-widgets/base",
      "model_module_version": "2.0.0",
      "model_name": "LayoutModel",
      "state": {
       "width": "175px"
      }
     },
     "bd7ec5c54ab74df48188b4d8c11b8833": {
      "model_module": "@jupyter-widgets/controls",
      "model_module_version": "2.0.0",
      "model_name": "DescriptionStyleModel",
      "state": {
       "description_width": ""
      }
     },
     "bd84b772055344c1b99aebf3a8c65f5c": {
      "model_module": "@jupyter-widgets/controls",
      "model_module_version": "2.0.0",
      "model_name": "DescriptionStyleModel",
      "state": {
       "description_width": ""
      }
     },
     "bdbdce91e44444bfa2ee8de0d11e9ff1": {
      "model_module": "@jupyter-widgets/controls",
      "model_module_version": "2.0.0",
      "model_name": "FloatTextModel",
      "state": {
       "description": "$b_{1,2}$:",
       "layout": "IPY_MODEL_33415bab2bca46c791f366f13996f9c9",
       "step": null,
       "style": "IPY_MODEL_50bb216ada5846d8bfd5f42ed81dca44",
       "value": 1.25
      }
     },
     "be4f5ed3f52442cab61f5341d7941795": {
      "model_module": "@jupyter-widgets/controls",
      "model_module_version": "2.0.0",
      "model_name": "FloatTextModel",
      "state": {
       "description": "$b_{1,1}$:",
       "layout": "IPY_MODEL_2ab1e245853b439a94c55a114c7bc950",
       "step": null,
       "style": "IPY_MODEL_3c94696c304147e2ad9bc6875a83d0da",
       "value": 1
      }
     },
     "be9a462705cf48ae863f42f7f0b9c27e": {
      "model_module": "@jupyter-widgets/controls",
      "model_module_version": "2.0.0",
      "model_name": "DescriptionStyleModel",
      "state": {
       "description_width": ""
      }
     },
     "beb5930cd336422e8ea89394891d1b5b": {
      "model_module": "@jupyter-widgets/controls",
      "model_module_version": "2.0.0",
      "model_name": "ToggleButtonModel",
      "state": {
       "description": "Click to show code",
       "layout": "IPY_MODEL_e1a2e5620c3a46a186ac18e540324323",
       "style": "IPY_MODEL_02354cf89997461cb5d3e39d62345082",
       "tooltip": null
      }
     },
     "beb814197fe04175958f700f57749281": {
      "model_module": "@jupyter-widgets/base",
      "model_module_version": "2.0.0",
      "model_name": "LayoutModel",
      "state": {}
     },
     "c09e91a6d7e549319ed87c9e9a6b8536": {
      "model_module": "@jupyter-widgets/controls",
      "model_module_version": "2.0.0",
      "model_name": "VBoxModel",
      "state": {
       "children": [
        "IPY_MODEL_8d3d50d8d41945bc9543b8ec91a19029",
        "IPY_MODEL_17e8c366cd4049e69838ccbc8f07637f"
       ],
       "layout": "IPY_MODEL_31cd8ec8dedc4f8180c3d96f52fba086"
      }
     },
     "c370dba9f0344380a24edc44437b48b2": {
      "model_module": "@jupyter-widgets/base",
      "model_module_version": "2.0.0",
      "model_name": "LayoutModel",
      "state": {
       "width": "175px"
      }
     },
     "c3b84055b5ac4532a88020eaab386b58": {
      "model_module": "@jupyter-widgets/controls",
      "model_module_version": "2.0.0",
      "model_name": "FloatTextModel",
      "state": {
       "description": "$d_{2,2}$:",
       "layout": "IPY_MODEL_c370dba9f0344380a24edc44437b48b2",
       "step": null,
       "style": "IPY_MODEL_bd84b772055344c1b99aebf3a8c65f5c",
       "value": 2
      }
     },
     "c3b92e63aab44852a43914c83f3b82fb": {
      "model_module": "@jupyter-widgets/controls",
      "model_module_version": "2.0.0",
      "model_name": "FloatTextModel",
      "state": {
       "description": "$a_{1,1}$:",
       "layout": "IPY_MODEL_0e8e427acfbf4755835e1d00873f2e54",
       "step": null,
       "style": "IPY_MODEL_79adce284c49407cb400b77a7753d9c9",
       "value": 0.7071
      }
     },
     "c445fbabae1640d181253b51b62909a4": {
      "model_module": "@jupyter-widgets/controls",
      "model_module_version": "2.0.0",
      "model_name": "FloatTextModel",
      "state": {
       "description": "$a_{1,2}$:",
       "layout": "IPY_MODEL_ff05ef2954ba4dfca4dbfa51cd006f37",
       "step": null,
       "style": "IPY_MODEL_ab155896c17a4dc49cd677866f27bb08",
       "value": 0.7071
      }
     },
     "c4c279a55ba44d168484ac9842157342": {
      "model_module": "@jupyter-widgets/controls",
      "model_module_version": "2.0.0",
      "model_name": "DescriptionStyleModel",
      "state": {
       "description_width": ""
      }
     },
     "c4d1461bc6514277b66d5048e4190877": {
      "model_module": "@jupyter-widgets/controls",
      "model_module_version": "2.0.0",
      "model_name": "SliderStyleModel",
      "state": {
       "description_width": ""
      }
     },
     "c7a3847c25fa40379bf2e0545f791ff4": {
      "model_module": "@jupyter-widgets/controls",
      "model_module_version": "2.0.0",
      "model_name": "FloatTextModel",
      "state": {
       "description": "$b_{1,1}$:",
       "layout": "IPY_MODEL_e88e40f98679479e80425720763f09d3",
       "step": null,
       "style": "IPY_MODEL_33f4006fdeb04629a0ae0ecb96c7f1b7",
       "value": 1
      }
     },
     "c84598d056e84ad4b156888edacc53e9": {
      "model_module": "@jupyter-widgets/base",
      "model_module_version": "2.0.0",
      "model_name": "LayoutModel",
      "state": {
       "width": "175px"
      }
     },
     "c95b61d241144d63be2daaed112393d8": {
      "model_module": "@jupyter-widgets/controls",
      "model_module_version": "2.0.0",
      "model_name": "DescriptionStyleModel",
      "state": {
       "description_width": ""
      }
     },
     "cac52b55f70b42d2baefd13055cbbf11": {
      "model_module": "@jupyter-widgets/controls",
      "model_module_version": "2.0.0",
      "model_name": "DropdownModel",
      "state": {
       "_options_labels": [
        "A",
        "B",
        "AB",
        "BA"
       ],
       "description": "Transformation$:",
       "index": 0,
       "layout": "IPY_MODEL_6415f0704ca14f248877914a8d8c19b9",
       "style": "IPY_MODEL_eb9538102efc413dad9023b5d2de2a1b"
      }
     },
     "cb64bd76f3974f0bace1f8ac32c06167": {
      "model_module": "@jupyter-widgets/base",
      "model_module_version": "2.0.0",
      "model_name": "LayoutModel",
      "state": {
       "width": "175px"
      }
     },
     "cc22d9d3af194571a33d24a6fa3fd446": {
      "model_module": "@jupyter-widgets/base",
      "model_module_version": "2.0.0",
      "model_name": "LayoutModel",
      "state": {}
     },
     "cc3779738a8c499e9872085a2b8c36f2": {
      "model_module": "@jupyter-widgets/controls",
      "model_module_version": "2.0.0",
      "model_name": "DescriptionStyleModel",
      "state": {
       "description_width": ""
      }
     },
     "ccf8e78027ca4ad695164fd33210b632": {
      "model_module": "@jupyter-widgets/controls",
      "model_module_version": "2.0.0",
      "model_name": "SliderStyleModel",
      "state": {
       "description_width": ""
      }
     },
     "cd1100b9f78f459e889a7759349e8997": {
      "model_module": "@jupyter-widgets/controls",
      "model_module_version": "2.0.0",
      "model_name": "DescriptionStyleModel",
      "state": {
       "description_width": ""
      }
     },
     "cf4d2698cc474cdcba13f53595ceeb97": {
      "model_module": "@jupyter-widgets/controls",
      "model_module_version": "2.0.0",
      "model_name": "CheckboxModel",
      "state": {
       "description": "Fix 2nd axis",
       "disabled": false,
       "layout": "IPY_MODEL_708a0ad969c74282a72d3a791c07a135",
       "style": "IPY_MODEL_8ef9ac58420d475488806d678adaf4ef",
       "value": false
      }
     },
     "cfab559b33754b71be6e01ba3dca1078": {
      "model_module": "@jupyter-widgets/controls",
      "model_module_version": "2.0.0",
      "model_name": "DescriptionStyleModel",
      "state": {
       "description_width": ""
      }
     },
     "d010415de1ec4641ab24c5928da1f3b9": {
      "model_module": "@jupyter-widgets/base",
      "model_module_version": "2.0.0",
      "model_name": "LayoutModel",
      "state": {}
     },
     "d1b58fe918b5470d8f0fe1fc2f7ff4a4": {
      "model_module": "@jupyter-widgets/controls",
      "model_module_version": "2.0.0",
      "model_name": "VBoxModel",
      "state": {
       "children": [
        "IPY_MODEL_6137204b3c534091a33a58bd3a373738",
        "IPY_MODEL_44d8b192c8b44fac958449720467106a"
       ],
       "layout": "IPY_MODEL_cc22d9d3af194571a33d24a6fa3fd446"
      }
     },
     "d24f4c47eee84874b78d9879cf801633": {
      "model_module": "@jupyter-widgets/base",
      "model_module_version": "2.0.0",
      "model_name": "LayoutModel",
      "state": {}
     },
     "d2a905ff059745ff80b7ddb294632541": {
      "model_module": "@jupyter-widgets/base",
      "model_module_version": "2.0.0",
      "model_name": "LayoutModel",
      "state": {}
     },
     "d34a0ddf01e94953a47babf91bc99a05": {
      "model_module": "@jupyter-widgets/base",
      "model_module_version": "2.0.0",
      "model_name": "LayoutModel",
      "state": {}
     },
     "d51819511a4642a1818ded202a2415fe": {
      "model_module": "@jupyter-widgets/controls",
      "model_module_version": "2.0.0",
      "model_name": "VBoxModel",
      "state": {
       "children": [
        "IPY_MODEL_139ea487f97b4db2bddfcc644854fc70",
        "IPY_MODEL_ee2c1870b8ba434582c8fe5c7acee4e8"
       ],
       "layout": "IPY_MODEL_6e34ec731e1141bb95e1e050711a73f3"
      }
     },
     "d6492dbf11b647d7b4488744fbfa0289": {
      "model_module": "@jupyter-widgets/controls",
      "model_module_version": "2.0.0",
      "model_name": "IntSliderModel",
      "state": {
       "behavior": "drag-tap",
       "description": "Maximum $x$:",
       "layout": "IPY_MODEL_b90a3d2872a94835a7fd1c554c15a26e",
       "max": 1000,
       "style": "IPY_MODEL_2035707567af408085a2f0179ffdd5c2",
       "value": 10
      }
     },
     "d744717b2a064214b0aec91c65b407b5": {
      "model_module": "@jupyter-widgets/controls",
      "model_module_version": "2.0.0",
      "model_name": "SliderStyleModel",
      "state": {
       "description_width": ""
      }
     },
     "d7e5707c92534f27a3e297603e93b1be": {
      "model_module": "@jupyter-widgets/controls",
      "model_module_version": "2.0.0",
      "model_name": "VBoxModel",
      "state": {
       "children": [
        "IPY_MODEL_5481b638bfc947a9b311f6e268e7e797",
        "IPY_MODEL_78bbe5641b724450b7b74273dab27b13"
       ],
       "layout": "IPY_MODEL_f2e18793c3b048668bfae6938df5b922"
      }
     },
     "d81964bdbb4743bc979eab95af7158db": {
      "model_module": "@jupyter-widgets/base",
      "model_module_version": "2.0.0",
      "model_name": "LayoutModel",
      "state": {
       "width": "175px"
      }
     },
     "db2608e08a4d48f7a25ba66d9280b2df": {
      "model_module": "@jupyter-widgets/controls",
      "model_module_version": "2.0.0",
      "model_name": "SliderStyleModel",
      "state": {
       "description_width": ""
      }
     },
     "dd22c976e5f148b88e39a21b72eb64fa": {
      "model_module": "@jupyter-widgets/base",
      "model_module_version": "2.0.0",
      "model_name": "LayoutModel",
      "state": {}
     },
     "dd75147cbf5348afb9b7051cbc8ecbb9": {
      "model_module": "@jupyter-widgets/controls",
      "model_module_version": "2.0.0",
      "model_name": "DescriptionStyleModel",
      "state": {
       "description_width": ""
      }
     },
     "ddfb585632e441bba6b1756826e0b7cf": {
      "model_module": "@jupyter-widgets/controls",
      "model_module_version": "2.0.0",
      "model_name": "FloatTextModel",
      "state": {
       "description": "$a_{1,2}$:",
       "layout": "IPY_MODEL_b1f1453832984d38a8e31db7f4e87994",
       "step": null,
       "style": "IPY_MODEL_0b6a612c010c45b493cae09502a313f9"
      }
     },
     "df6e1d5ccd434b09b07d6e0a2232dbd4": {
      "model_module": "@jupyter-widgets/base",
      "model_module_version": "2.0.0",
      "model_name": "LayoutModel",
      "state": {
       "width": "175px"
      }
     },
     "e02fc9e5c8b145a1b0a982b5b7d2e7c1": {
      "model_module": "@jupyter-widgets/base",
      "model_module_version": "2.0.0",
      "model_name": "LayoutModel",
      "state": {
       "width": "175px"
      }
     },
     "e039571839a5440faa4b69c8ee1b4720": {
      "model_module": "@jupyter-widgets/base",
      "model_module_version": "2.0.0",
      "model_name": "LayoutModel",
      "state": {
       "width": "175px"
      }
     },
     "e0c6e967776b4d2f9b194b55d642e3ed": {
      "model_module": "@jupyter-widgets/controls",
      "model_module_version": "2.0.0",
      "model_name": "FloatTextModel",
      "state": {
       "description": "$d_{1,1}$:",
       "layout": "IPY_MODEL_817129c4836f462ca604412465e48720",
       "step": null,
       "style": "IPY_MODEL_09f2e125b6a24203873c55c4b3a24106",
       "value": 3
      }
     },
     "e1528c631a8342f8817f20624e64f961": {
      "model_module": "@jupyter-widgets/controls",
      "model_module_version": "2.0.0",
      "model_name": "FloatTextModel",
      "state": {
       "description": "$d_{2,1}$:",
       "layout": "IPY_MODEL_3be241715f03477fb8d6130abaaa48c5",
       "step": null,
       "style": "IPY_MODEL_3e475834beee498ca26ac00b826dfcc9",
       "value": -1
      }
     },
     "e19a794f2bfa4d81855a0d0698c66b64": {
      "model_module": "@jupyter-widgets/base",
      "model_module_version": "2.0.0",
      "model_name": "LayoutModel",
      "state": {}
     },
     "e1a2e5620c3a46a186ac18e540324323": {
      "model_module": "@jupyter-widgets/base",
      "model_module_version": "2.0.0",
      "model_name": "LayoutModel",
      "state": {}
     },
     "e1b1b0c3d96f44ffa6b90acad24af000": {
      "model_module": "@jupyter-widgets/controls",
      "model_module_version": "2.0.0",
      "model_name": "VBoxModel",
      "state": {
       "children": [
        "IPY_MODEL_742d5bdec3d846d58048048f1c05d6c1",
        "IPY_MODEL_af6a322981ec40658348f81c31f77cc5",
        "IPY_MODEL_6edb2401a78f49eeaca166e9fb981a84",
        "IPY_MODEL_9064701643d4432ea7d8282bd54be0fa"
       ],
       "layout": "IPY_MODEL_a76c433505db48c68bd9edb0f1436ca6"
      }
     },
     "e480133c380a4e1db0399e7fc47b362c": {
      "model_module": "@jupyter-widgets/controls",
      "model_module_version": "2.0.0",
      "model_name": "IntSliderModel",
      "state": {
       "behavior": "drag-tap",
       "description": "Maximum $y$:",
       "layout": "IPY_MODEL_766fa6b7e42f4e59a3dfbe85cdfeb431",
       "max": 1000,
       "style": "IPY_MODEL_3ab16bad9bb14e6884a8d274d8adb319",
       "value": 10
      }
     },
     "e53f30940df74bb086971cebd21ded5e": {
      "model_module": "@jupyter-widgets/base",
      "model_module_version": "2.0.0",
      "model_name": "LayoutModel",
      "state": {}
     },
     "e56f297f29e344bfaa3304d7f773690a": {
      "model_module": "@jupyter-widgets/controls",
      "model_module_version": "2.0.0",
      "model_name": "FloatTextModel",
      "state": {
       "description": "$d_{1,1}$:",
       "layout": "IPY_MODEL_bbb7ffbe82484ed08498c7d0343e3b84",
       "step": null,
       "style": "IPY_MODEL_c4c279a55ba44d168484ac9842157342",
       "value": 3
      }
     },
     "e6f62072964c44458843662c72df584a": {
      "model_module": "@jupyter-widgets/controls",
      "model_module_version": "2.0.0",
      "model_name": "DropdownModel",
      "state": {
       "_options_labels": [
        "A",
        "B",
        "AB",
        "BA"
       ],
       "description": "Transformation$:",
       "index": 2,
       "layout": "IPY_MODEL_a6cad9cb6e6b40b5bd7eb59876876151",
       "style": "IPY_MODEL_737801bf9dc844bfbfee2a5085bc6f3e"
      }
     },
     "e88e40f98679479e80425720763f09d3": {
      "model_module": "@jupyter-widgets/base",
      "model_module_version": "2.0.0",
      "model_name": "LayoutModel",
      "state": {
       "width": "175px"
      }
     },
     "ea15a2b37006464a9c0e4ecc328789ae": {
      "model_module": "@jupyter-widgets/base",
      "model_module_version": "2.0.0",
      "model_name": "LayoutModel",
      "state": {
       "width": "175px"
      }
     },
     "eb383e356bdf4cb6984615fd2e3aa34e": {
      "model_module": "@jupyter-widgets/controls",
      "model_module_version": "2.0.0",
      "model_name": "HBoxModel",
      "state": {
       "children": [
        "IPY_MODEL_afb2b02b552f4ffc9c88191ce1e00d71",
        "IPY_MODEL_9bd52befa74b4c2c8a2fa43e4ba6a0f9"
       ],
       "layout": "IPY_MODEL_7bebca17e14c4c14a1ea7920e9e16b82"
      }
     },
     "eb9538102efc413dad9023b5d2de2a1b": {
      "model_module": "@jupyter-widgets/controls",
      "model_module_version": "2.0.0",
      "model_name": "DescriptionStyleModel",
      "state": {
       "description_width": ""
      }
     },
     "ebb5f2807a42436a941c53292ae08aa0": {
      "model_module": "@jupyter-widgets/controls",
      "model_module_version": "2.0.0",
      "model_name": "DescriptionStyleModel",
      "state": {
       "description_width": ""
      }
     },
     "ec3323ff26bf4cc6b290fed76bee3abc": {
      "model_module": "@jupyter-widgets/base",
      "model_module_version": "2.0.0",
      "model_name": "LayoutModel",
      "state": {
       "width": "175px"
      }
     },
     "ec4b199f44c0420997e17d039d3a6564": {
      "model_module": "@jupyter-widgets/base",
      "model_module_version": "2.0.0",
      "model_name": "LayoutModel",
      "state": {}
     },
     "ee2c1870b8ba434582c8fe5c7acee4e8": {
      "model_module": "@jupyter-widgets/controls",
      "model_module_version": "2.0.0",
      "model_name": "FloatTextModel",
      "state": {
       "description": "$d_{2,3}$:",
       "layout": "IPY_MODEL_f4ef06b4b15045cabeb7adb363f3981d",
       "step": null,
       "style": "IPY_MODEL_2bbfbfd1e19c4c8fa496f1f99952a77b",
       "value": -1
      }
     },
     "efdf9cc60a89498ca3c85890a027ad31": {
      "model_module": "@jupyter-widgets/controls",
      "model_module_version": "2.0.0",
      "model_name": "VBoxModel",
      "state": {
       "children": [
        "IPY_MODEL_ad180e6fe40c4317900d67642b980d5b",
        "IPY_MODEL_49bbf58df5174b6583f89250a4a0042b"
       ],
       "layout": "IPY_MODEL_600282c31e534222bdf7363177dcc01c"
      }
     },
     "f0b0921fff5e4df294f1d7a128c4900f": {
      "model_module": "@jupyter-widgets/base",
      "model_module_version": "2.0.0",
      "model_name": "LayoutModel",
      "state": {}
     },
     "f2e18793c3b048668bfae6938df5b922": {
      "model_module": "@jupyter-widgets/base",
      "model_module_version": "2.0.0",
      "model_name": "LayoutModel",
      "state": {}
     },
     "f347a61d7d574a3785e24deacc809600": {
      "model_module": "@jupyter-widgets/controls",
      "model_module_version": "2.0.0",
      "model_name": "DescriptionStyleModel",
      "state": {
       "description_width": ""
      }
     },
     "f4ef06b4b15045cabeb7adb363f3981d": {
      "model_module": "@jupyter-widgets/base",
      "model_module_version": "2.0.0",
      "model_name": "LayoutModel",
      "state": {
       "width": "175px"
      }
     },
     "f62ec2ff080a448bbd129485f1e70e1c": {
      "model_module": "@jupyter-widgets/controls",
      "model_module_version": "2.0.0",
      "model_name": "FloatTextModel",
      "state": {
       "description": "$b_{2,2}$:",
       "layout": "IPY_MODEL_22eb1e15a6e649e598ed23d9eb07357e",
       "step": null,
       "style": "IPY_MODEL_be9a462705cf48ae863f42f7f0b9c27e",
       "value": 1
      }
     },
     "f7e33f74c72a48299b09480e70682171": {
      "model_module": "@jupyter-widgets/base",
      "model_module_version": "2.0.0",
      "model_name": "LayoutModel",
      "state": {
       "width": "175px"
      }
     },
     "f80a7f21d90c4740a3623cac7452e743": {
      "model_module": "@jupyter-widgets/base",
      "model_module_version": "2.0.0",
      "model_name": "LayoutModel",
      "state": {
       "width": "175px"
      }
     },
     "faf3f363813a4ff1b18bd1a1b75d9b90": {
      "model_module": "@jupyter-widgets/controls",
      "model_module_version": "2.0.0",
      "model_name": "DescriptionStyleModel",
      "state": {
       "description_width": ""
      }
     },
     "fb3a8c65594d4e5e930f67cc4676c06e": {
      "model_module": "@jupyter-widgets/base",
      "model_module_version": "2.0.0",
      "model_name": "LayoutModel",
      "state": {
       "width": "175px"
      }
     },
     "fd36bfeb29ea488dbcd035db612571eb": {
      "model_module": "@jupyter-widgets/base",
      "model_module_version": "2.0.0",
      "model_name": "LayoutModel",
      "state": {}
     },
     "fd47d8370f7a4eb1bd6ad9710e6fcde9": {
      "model_module": "@jupyter-widgets/controls",
      "model_module_version": "2.0.0",
      "model_name": "FloatTextModel",
      "state": {
       "description": "$d_{1,3}$:",
       "layout": "IPY_MODEL_e039571839a5440faa4b69c8ee1b4720",
       "step": null,
       "style": "IPY_MODEL_faf3f363813a4ff1b18bd1a1b75d9b90",
       "value": 5
      }
     },
     "fd7f43ef5f654926b1b2bd31312377f2": {
      "model_module": "@jupyter-widgets/controls",
      "model_module_version": "2.0.0",
      "model_name": "DescriptionStyleModel",
      "state": {
       "description_width": ""
      }
     },
     "fe0a497224334db2b5e3692ad1047973": {
      "model_module": "@jupyter-widgets/base",
      "model_module_version": "2.0.0",
      "model_name": "LayoutModel",
      "state": {
       "width": "175px"
      }
     },
     "fe6cc587ebb34e238960713a8bcf8dd9": {
      "model_module": "@jupyter-widgets/controls",
      "model_module_version": "2.0.0",
      "model_name": "DescriptionStyleModel",
      "state": {
       "description_width": ""
      }
     },
     "feb873197c37487992562c4558081477": {
      "model_module": "@jupyter-widgets/controls",
      "model_module_version": "2.0.0",
      "model_name": "FloatTextModel",
      "state": {
       "description": "$a_{2,1}$:",
       "layout": "IPY_MODEL_574250250e3f47848eff8b9957366694",
       "step": null,
       "style": "IPY_MODEL_4995d1152a6c4df484e36beed17ffd65"
      }
     },
     "ff05ef2954ba4dfca4dbfa51cd006f37": {
      "model_module": "@jupyter-widgets/base",
      "model_module_version": "2.0.0",
      "model_name": "LayoutModel",
      "state": {
       "width": "175px"
      }
     }
    },
    "version_major": 2,
    "version_minor": 0
   }
  }
 },
 "nbformat": 4,
 "nbformat_minor": 4
}
