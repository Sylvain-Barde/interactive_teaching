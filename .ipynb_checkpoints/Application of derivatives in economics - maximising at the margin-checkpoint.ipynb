{
 "cells": [
  {
   "cell_type": "markdown",
   "metadata": {},
   "source": [
    "Click the button below if you want to see the code behind the widgets. If you do click  and want to go back to the 'no-code' view, scroll down until you find the 'hide code' button."
   ]
  },
  {
   "cell_type": "code",
   "execution_count": 1,
   "metadata": {},
   "outputs": [],
   "source": [
    "\"\"\"\n",
    "MIT License\n",
    "\n",
    "Copyright (c) 2020 Sylvain Barde - University of Kent\n",
    "\n",
    "Permission is hereby granted, free of charge, to any person obtaining a copy\n",
    "of this software and associated documentation files (the \"Software\"), to deal\n",
    "in the Software without restriction, including without limitation the rights\n",
    "to use, copy, modify, merge, publish, distribute, sublicense, and/or sell\n",
    "copies of the Software, and to permit persons to whom the Software is\n",
    "furnished to do so, subject to the following conditions:\n",
    "\n",
    "The above copyright notice and this permission notice shall be included in all\n",
    "copies or substantial portions of the Software.\n",
    "\n",
    "THE SOFTWARE IS PROVIDED \"AS IS\", WITHOUT WARRANTY OF ANY KIND, EXPRESS OR\n",
    "IMPLIED, INCLUDING BUT NOT LIMITED TO THE WARRANTIES OF MERCHANTABILITY,\n",
    "FITNESS FOR A PARTICULAR PURPOSE AND NONINFRINGEMENT. IN NO EVENT SHALL THE\n",
    "AUTHORS OR COPYRIGHT HOLDERS BE LIABLE FOR ANY CLAIM, DAMAGES OR OTHER\n",
    "LIABILITY, WHETHER IN AN ACTION OF CONTRACT, TORT OR OTHERWISE, ARISING FROM,\n",
    "OUT OF OR IN CONNECTION WITH THE SOFTWARE OR THE USE OR OTHER DEALINGS IN THE\n",
    "SOFTWARE.\n",
    "\"\"\"\n",
    "\n",
    "import ipywidgets as widgets\n",
    "import matplotlib.pyplot as plt\n",
    "import numpy as np\n",
    "from matplotlib import rcParams\n",
    "from IPython.display import display, HTML\n",
    "\n",
    "javascript_functions = {False: \"hide()\", True: \"show()\"}\n",
    "button_descriptions  = {False: \"Click to show code\", True: \"Click to hide code\"}\n",
    "\n",
    "def toggle_code(state):\n",
    "    \"\"\"\n",
    "    Toggles the JavaScript show()/hide() function on the div.input element.\n",
    "    \"\"\"\n",
    "\n",
    "    output_string = \"<script>$(\\\"div.input\\\").{}</script>\"\n",
    "    output_args   = (javascript_functions[state],)\n",
    "    output        = output_string.format(*output_args)\n",
    "\n",
    "    display(HTML(output))\n",
    "    \n",
    "def button_action(value):\n",
    "    \"\"\"\n",
    "    Calls the toggle_code function and updates the button description.\n",
    "    \"\"\"\n",
    "    state = value.new\n",
    "\n",
    "    toggle_code(state)\n",
    "\n",
    "    value.owner.description = button_descriptions[state]\n",
    "\n",
    "def profit_widget(Qmax_init = 8,  a_d_init = 2, b_d_init = 5, c_d_init = 50, \n",
    "                   a_s_init = 1, b_s_init = -4, c_s_init = 10, d_s_init = 0, \n",
    "                   revFlag_init = True, cstFlag_init = True):\n",
    "\n",
    "    # Declare widgets for interactive input\n",
    "    Qmax_slider = widgets.IntSlider(min= 5,\n",
    "                                 max=50,\n",
    "                                 step=1,\n",
    "                                 description=r'Maximum $Q$:',\n",
    "                                 value = Qmax_init,\n",
    "                                 continuous_update =False)\n",
    "    a_d_slider = widgets.FloatSlider(min=0,\n",
    "                                 max=10,\n",
    "                                 description= r'$a_d$:',\n",
    "                                 value = a_d_init,\n",
    "                                 continuous_update =False)\n",
    "    b_d_slider = widgets.FloatSlider(min=-50,\n",
    "                                 max=50,\n",
    "                                 description= r'$b_d$:',\n",
    "                                 value=b_d_init,\n",
    "                                 continuous_update =False)\n",
    "    c_d_slider = widgets.FloatSlider(min=-100,\n",
    "                                 max=100,\n",
    "                                 description= r'$c_d$:',\n",
    "                                 value = c_d_init,\n",
    "                                 continuous_update =False)\n",
    "    a_s_slider = widgets.FloatSlider(min=0,\n",
    "                                 max=10,\n",
    "                                 description= r'$a_s$:',\n",
    "                                 value = a_s_init,\n",
    "                                 continuous_update =False)\n",
    "    b_s_slider = widgets.FloatSlider(min=-50,\n",
    "                                 max=50,\n",
    "                                 description= r'$b_s$:',\n",
    "                                 value=b_s_init,\n",
    "                                 continuous_update =False)\n",
    "    c_s_slider = widgets.FloatSlider(min=-100,\n",
    "                                 max=100,\n",
    "                                 description= r'$c_s$:',\n",
    "                                 value = c_s_init,\n",
    "                                 continuous_update =False)\n",
    "    d_s_slider = widgets.FloatSlider(min=-100,\n",
    "                                 max=100,\n",
    "                                 description= r'$d_s$:',\n",
    "                                 value = d_s_init,\n",
    "                                 continuous_update =False)\n",
    "    revFlag_check = widgets.Checkbox(value = revFlag_init,\n",
    "                                   description='Show revenue',\n",
    "                                   disabled=False,\n",
    "                                   indent=True)\n",
    "    cstFlag_check = widgets.Checkbox(value = cstFlag_init,\n",
    "                                   description='Show costs',\n",
    "                                   disabled=False,\n",
    "                                   indent=True)\n",
    "    \n",
    "    # Link widgets as required\n",
    "\n",
    "\n",
    "    def profit_plot(Qmax, a_d, b_d, c_d, a_s, b_s, c_s, d_s, revFlag, cstFlag):\n",
    "\n",
    "        # create a quantity vector\n",
    "        Q = np.arange(-1e-3,Qmax,(Qmax-1e-3)/500)\n",
    "\n",
    "        # Calculate Revenue vectors\n",
    "        TR = lambda Q: -a_d*Q**3 + b_d*Q**2 + c_d*Q\n",
    "        AR = lambda Q: -a_d*Q**2 + b_d*Q + c_d\n",
    "        mR = lambda Q: -3*a_d*Q**2 + 2*b_d*Q + c_d\n",
    "\n",
    "        # Calculate Cost vectors\n",
    "        TC = lambda Q: a_s*Q**3 + b_s*Q**2 + c_s*Q + d_s\n",
    "        AC = lambda Q: a_s*Q**2 + b_s*Q + c_s + d_s/Q\n",
    "        mC = lambda Q: 3*a_s*Q**2 + 2*b_s*Q + c_s\n",
    "\n",
    "        # Function labels\n",
    "        sig = []\n",
    "        for param in [b_d, c_d, b_s, c_s, d_s]:\n",
    "            if param >= 0:\n",
    "                sig.append('+')\n",
    "            else:\n",
    "                sig.append('-')\n",
    "\n",
    "        lblTR = r'$TR = -{:.0f}Q^3 {:s} {:.0f}Q^2 {:s} {:.0f}Q$'\n",
    "        lblAR = r'$AR = -{:.0f}Q^2 {:s} {:.0f}Q {:s} {:.0f}$'\n",
    "        lblmR = r'$mR = -{:.0f}Q^2 {:s} {:.0f}Q {:s} {:.0f}$'\n",
    "\n",
    "        lblTC = r'$TC = {:.0f}Q^3 {:s} {:.0f}Q^2 {:s} {:.0f}Q {:s} {:.0f}$'\n",
    "        lblAC = r'$AC = {:.0f}Q^2 {:s} {:.0f}Q {:s} {:.0f} {:s} {:.0f}/Q$'\n",
    "        lblmC = r'$mC = {:.0f}Q^2 {:s} {:.0f}Q {:s} {:.0f}$'\n",
    "\n",
    "        # find profit-maximising point\n",
    "        Qval = Q[np.argmax(TR(Q)-TC(Q))]\n",
    "        PiMax = TR(Qval) - TC(Qval)\n",
    "        Pmax = max(max(AR(Q)),max(AC(Q)),max(mR(Q)),max(mC(Q)))\n",
    "        TRmax = max(max(TR(Q)),max(TC(Q)))\n",
    "\n",
    "        # Create figure\n",
    "        mrkrSize = 2*rcParams['lines.markersize'] ** 2\n",
    "        fig, ax = plt.subplots(nrows=1, ncols=2,figsize=(20,10))\n",
    "\n",
    "        # Plot revenue if requested\n",
    "        if revFlag is True:\n",
    "            ax[0].plot(Q, AR(Q),'b', linewidth=2, alpha=0.6,\n",
    "              label=lblAR.format(\n",
    "                      a_d, sig[0], abs(b_d), sig[1], abs(c_d) ))\n",
    "            ax[0].plot(Q, mR(Q),'b--', linewidth=2, alpha=0.6,\n",
    "              label=lblmR.format(\n",
    "                      3*a_d, sig[0], abs(2*b_d), sig[1], abs(c_d) ))\n",
    "\n",
    "        # Plot Cost if requested\n",
    "        if cstFlag is True:\n",
    "            ax[0].plot(Q, AC(Q),'r', linewidth=2, alpha=0.6,\n",
    "              label = lblAC.format(\n",
    "                      a_s, sig[2], abs(b_s), sig[3], abs(c_s), sig[4], abs(d_s)))\n",
    "            ax[0].plot(Q, mC(Q),'r--', linewidth=2, alpha=0.6,\n",
    "              label=lblmC.format(\n",
    "                      3*a_s, sig[2], abs(2*b_s), sig[3], abs(c_s) ))\n",
    "\n",
    "        if revFlag is True and cstFlag is True:\n",
    "            # Plot profits\n",
    "            ax[0].fill([0,Qval,Qval,0],[AC(Qval),AC(Qval),AR(Qval),AR(Qval)],'g',alpha = 0.2,\n",
    "                        label = r'$\\Pi = (AR-AC) \\times Q$')\n",
    "            ax[0].scatter([Qval, Qval, Qval],\n",
    "                          [AR(Qval),mR(Qval),AC(Qval)],\n",
    "                          s=mrkrSize, c='k', alpha=0.6, label='Max profits')\n",
    "            ax[0].plot([Qval,Qval],[0,AR(Qval)],'k--',linewidth=1)    \n",
    "            ax[0].plot([0,Qval],[AR(Qval),AR(Qval)],'k--',linewidth=1)\n",
    "            ax[0].plot([0,Qval],[AC(Qval),AC(Qval)],'k--',linewidth=1)\n",
    "\n",
    "        # Add legend and format axes to look nice\n",
    "        if revFlag is True or cstFlag is True:\n",
    "            ax[0].legend(loc='upper center', frameon=False,prop={'size':20})\n",
    "        ax[0].autoscale(enable=True, axis='both', tight=True)\n",
    "        ax[0].set_ylim(top = Pmax, bottom = 0)\n",
    "        ax[0].set_xlim(right = Qmax, left = 0)\n",
    "        ax[0].spines['top'].set_visible(False)\n",
    "        ax[0].spines['right'].set_visible(False)\n",
    "        ax[0].set_xlabel(r'$Q$', fontdict = {'fontsize': 25},position=(1, 0))\n",
    "        ax[0].set_ylabel(r'$£$', fontdict = {'fontsize': 25},position=(0, 1), rotation=0)\n",
    "        ax[0].plot(1, 0, \">k\", transform=ax[0].get_yaxis_transform(), clip_on=False)\n",
    "        ax[0].plot(0, 1, \"^k\", transform=ax[0].get_xaxis_transform(), clip_on=False)\n",
    "        ax[0].tick_params(labelsize=20)\n",
    "\n",
    "        # Plot Total revenue\n",
    "        if revFlag is True:\n",
    "            ax[1].plot(Q, TR(Q),'b', linewidth=2, alpha=0.6,\n",
    "              label=lblTR.format(\n",
    "                      a_d, sig[0], abs(b_d), sig[1], abs(c_d) ))\n",
    "\n",
    "        # Plot Cost if requested\n",
    "        if cstFlag is True:\n",
    "            ax[1].plot(Q, TC(Q),'r', linewidth=2, alpha=0.6,\n",
    "              label = lblTC.format(\n",
    "                      a_s, sig[2], abs(b_s), sig[3], abs(c_s), sig[4], abs(d_s)))\n",
    "\n",
    "        if revFlag is True and cstFlag is True:\n",
    "            # Plot profits\n",
    "            ax[1].plot(Q, TR(Q) - TC(Q),'g', linewidth=2, alpha=0.6,\n",
    "                        label=r'$\\Pi = TR -TC$')\n",
    "\n",
    "            # Add markers for the optimal points, with dotted lines\n",
    "            ax[1].scatter([Qval,Qval,Qval], \n",
    "                         [TR(Qval),TC(Qval),PiMax], \n",
    "                         s=mrkrSize, c='k', alpha=0.6, label='Max profits')\n",
    "            ax[1].plot([Qval,Qval],[0,TR(Qval)],'k--',linewidth=1)\n",
    "            ax[1].plot([Qval,Qval],[0,TR(Qval)],'k--',linewidth=1)\n",
    "\n",
    "            # Add parallel slope lines\n",
    "            dQ = Qmax*0.1\n",
    "            ax[1].plot([Qval-dQ,Qval+dQ],\n",
    "                      [PiMax,PiMax],\n",
    "                      'k--',linewidth=1)\n",
    "            ax[1].plot([Qval-dQ,Qval+dQ],\n",
    "                      [TC(Qval)-dQ*mC(Qval),TC(Qval)+dQ*mC(Qval)],\n",
    "                      'k--',linewidth=1)\n",
    "            ax[1].plot([Qval-dQ,Qval+dQ],\n",
    "                      [TR(Qval)-dQ*mR(Qval),TR(Qval)+dQ*mR(Qval)],\n",
    "                      'k--',linewidth=1)\n",
    "\n",
    "        # Add legend and format axes to look nice\n",
    "        if revFlag is True or cstFlag is True:\n",
    "            ax[1].legend(loc='upper center', frameon=False,prop={'size':20})\n",
    "        ax[1].autoscale(enable=True, axis='both', tight=True)\n",
    "        ax[1].set_ylim(top = TRmax, bottom = 0)\n",
    "        ax[1].set_xlim(right = Qmax, left = 0)\n",
    "        ax[1].spines['top'].set_visible(False)\n",
    "        ax[1].spines['right'].set_visible(False)\n",
    "        ax[1].set_xlabel(r'$Q$', fontdict = {'fontsize': 25},position=(1, 0))\n",
    "        ax[1].set_ylabel(r'$£$', fontdict = {'fontsize': 25},position=(0, 1), rotation=0)\n",
    "        ax[1].plot(1, 0, \">k\", transform=ax[1].get_yaxis_transform(), clip_on=False)\n",
    "        ax[1].plot(0, 1, \"^k\", transform=ax[1].get_xaxis_transform(), clip_on=False)\n",
    "        ax[1].tick_params(labelsize=20)  \n",
    "\n",
    "        plt.tight_layout()\n",
    "    \n",
    "    out = widgets.interactive_output(profit_plot, {'Qmax': Qmax_slider,\n",
    "                                                   'a_d': a_d_slider,\n",
    "                                                   'b_d': b_d_slider,\n",
    "                                                   'c_d': c_d_slider,\n",
    "                                                   'a_s': a_s_slider,\n",
    "                                                   'b_s': b_s_slider,\n",
    "                                                   'c_s': c_s_slider,\n",
    "                                                   'd_s': d_s_slider,\n",
    "                                               'revFlag': revFlag_check,\n",
    "                                               'cstFlag': cstFlag_check})\n",
    "    \n",
    "    output = widgets.VBox([out,\n",
    "                  widgets.HBox([Qmax_slider,\n",
    "                               revFlag_check,\n",
    "                               cstFlag_check]),\n",
    "                  widgets.HBox([a_d_slider, \n",
    "                                b_d_slider,\n",
    "                                c_d_slider]),\n",
    "                  widgets.HBox([a_s_slider, \n",
    "                                b_s_slider,\n",
    "                                c_s_slider,\n",
    "                                d_s_slider])])\n",
    "    display(output)    \n",
    "    "
   ]
  },
  {
   "cell_type": "code",
   "execution_count": 2,
   "metadata": {},
   "outputs": [
    {
     "data": {
      "text/html": [
       "<script>$(\"div.input\").hide()</script>"
      ],
      "text/plain": [
       "<IPython.core.display.HTML object>"
      ]
     },
     "metadata": {},
     "output_type": "display_data"
    },
    {
     "data": {
      "application/vnd.jupyter.widget-view+json": {
       "model_id": "2dfd756b0963486180f162bf273b93d6",
       "version_major": 2,
       "version_minor": 0
      },
      "text/plain": [
       "ToggleButton(value=False, description='Click to show code')"
      ]
     },
     "metadata": {},
     "output_type": "display_data"
    }
   ],
   "source": [
    "state = False\n",
    "toggle_code(state)\n",
    "\n",
    "button = widgets.ToggleButton(state, description = button_descriptions[state])\n",
    "button.observe(button_action, \"value\")\n",
    "\n",
    "display(button)"
   ]
  },
  {
   "cell_type": "markdown",
   "metadata": {},
   "source": [
    "### Maximisation at the margin: using derivatives in economics\n",
    "\n",
    "Finding the maximum (or minimum) of a function is a common task in economics, as it is standard to assume that the behaviour of individual agents (firms, households, policy makers, etc.) is to find the maximum or minimum of a particular quantity that they care about. So for firms, this will typically be profits, while households are assumed to maximise their satisfaction. Policy makers might want to minimise inflation, or maximise social welfare, etc.\n",
    "\n",
    "This purpose of this particular notebook is therefore to illustrate how this is done in a very simple profit-maximisation example. This will also give us the opportunity to go over the specific notation used in economics, as well as some of the thinking behind the use of derivatives in economics.\n",
    "\n",
    "As I just said, we are going to look at a profit maximisation problem, and in order to make things simple, we are going to assume a monopoly, i.e. there is a single firm supplying a market. This means that the demand curve facing the firm is simply the demand curve for the entire market. So the goal of the monopolist is to maximise its profits $\\Pi$, which is simply the difference between the total revenue achieved by selling a quantity $Q$ and the total cost of producing that quantity.\n",
    "\n",
    "$$\\Pi \\; = \\; TR(Q) \\; - \\; TC(Q)$$\n",
    "\n",
    "In order to calculate the profit function, we therefore need a total revenue function and a total cost function. Let's start by looking at revenue.\n",
    "\n",
    "\n",
    "#### The revenue side\n",
    "\n",
    "We've already looked at one example of total revenue ($TR$) and average revenue ($AR$) in the notebook that covered applications of quadratic functions in economics. In that notebook, we saw that the U-shaped total revenue curve emerged as the product of two linear factors, quantity $Q$ and the (linear) demand curve, which also happens to be the average revenue ($AR$) curve.\n",
    "\n",
    "The example below extends this a bit but the general picture stays the same. The $AR$ curve is actually the inverse demand curve on the market, and total revenue is simply obtained by multiplying it by quantity Q. The specific equation I've picked for the $AR$ curve is:\n",
    "\n",
    "$$AR \\; = \\; -2Q^2 + 5Q +50$$\n",
    "\n",
    "The widget will allow you to play around with whatever numbers you want, but I'll stick with these for my explanations. If we multiply this by $Q$ we get the $TR$ curve, which is displayed in the right hand side diagram. We can assume here that quantity is measured in thousands of units.\n",
    "\n",
    "$$TR \\; = \\;AR\\;\\times\\;Q\\;=\\; -2Q^3 + 5Q^2 +50Q$$\n",
    "\n",
    "The first way in which this diagram is different than the one in the total revenue notebook you saw before is that total revenue is now a cubic equation (we have a $Q^3$ term), and no longer a quadratic. We still retain the overall inverse U-shape of total revenue, but this allows more flexibility. In this example total revenue grows relatively slowly initially, but falls very fast after the maximum.\n",
    "\n",
    "The second way in which the diagram is different is that we have an extra curve! This is labeled $mR$ for **marginal revenue**. The economic idea behind marginal revenue is that it is the extra revenue generated by selling one more unit of the good. From a mathematical point of view, as long as the original quantity is large (say thousands of units), so that this one-unit increase is comparatively small, then marginal revenue is essentially the first derivative of total revenue:\n",
    "\n",
    "$$mR \\; = \\; \\frac{{\\rm d}TR}{{\\rm d}Q} \\;=\\; -6Q^2 + 10Q + 50$$"
   ]
  },
  {
   "cell_type": "code",
   "execution_count": 3,
   "metadata": {
    "scrolled": false
   },
   "outputs": [
    {
     "data": {
      "application/vnd.jupyter.widget-view+json": {
       "model_id": "9bbb3b365d094ceda0b6f6e1e155e8de",
       "version_major": 2,
       "version_minor": 0
      },
      "text/plain": [
       "VBox(children=(Output(), HBox(children=(IntSlider(value=8, continuous_update=False, description='Maximum $Q$:'…"
      ]
     },
     "metadata": {},
     "output_type": "display_data"
    }
   ],
   "source": [
    "profit_widget(cstFlag_init = False)"
   ]
  },
  {
   "cell_type": "markdown",
   "metadata": {},
   "source": [
    "#### The cost side\n",
    "\n",
    "Now that we have the revenue side sorted out, let's turn to the production costs. The various curves used are shown in the diagram below. Here, we start with the total production costs $TC$, for which I've chosen the following function:\n",
    "\n",
    "$$TC \\; =\\; Q^3 - 4Q^2 +10Q$$\n",
    "\n",
    "Again, the numbers in the widgets can be moved around, but these work well for the purposes of the illustration. The $TC$ curve, shown on the right-hand side shows costs that grow slowly to start with but pick up sharply past a certain point. This can be explained by looking at the average cost of production $AC$, visible on the left. The equation for $AC$ can be obtained by dividing total cost by the quantity produced:\n",
    "\n",
    "$$AC \\; = \\frac{TC}{Q} \\; =\\; Q^2 - 4Q + 10$$\n",
    "\n",
    "As you can see, the average costs $AC$ initially fall as the quantity produced increases, which is why the growth in total costs is initially so slow: while production costs will increase as you increase production, this is partially offset by the fact that the cost per unit is falling. This U-shaped feature of the $AC$ curve is very common: setting up a production plant has some big up-front costs: you may need to have a factory, purchase machinery, do some R&D to develop an attractive and competitive product, protect your intellectual property by paying for a patent, etc. All these expenses only need to happen once, so the more your produce, the more you can spread these costs over the volume of production. This is known as increasing returns to scale and explains why a product that is mass-produced is cheaper than a product manufactured in small volumes. \n",
    "\n",
    "This only last so long, however: past a certain point, increasing production will lead to increasing average costs, and the total cost curve will become very steep. As for the revenue diagrams above, we can also calculate the **marginal cost** of production $mC$ which is the increase in total costs resulting from the production of one more unit. As above, this is the first derivative of Total Cost with respect to quantity $Q$.\n",
    "\n",
    "$$mC \\; = \\frac{{\\rm d}TC}{{\\rm d}Q} \\; =\\; 3Q^2 - 8Q + 10$$"
   ]
  },
  {
   "cell_type": "code",
   "execution_count": 4,
   "metadata": {},
   "outputs": [
    {
     "data": {
      "application/vnd.jupyter.widget-view+json": {
       "model_id": "6bc4917a88b3432b901356bf81fec877",
       "version_major": 2,
       "version_minor": 0
      },
      "text/plain": [
       "VBox(children=(Output(), HBox(children=(IntSlider(value=8, continuous_update=False, description='Maximum $Q$:'…"
      ]
     },
     "metadata": {},
     "output_type": "display_data"
    }
   ],
   "source": [
    "profit_widget(revFlag_init = False)"
   ]
  },
  {
   "cell_type": "markdown",
   "metadata": {},
   "source": [
    "Now that we have the revenue and cost information we need, we have all we need to find the level of output $Q$ that will maximise profits for this monopolist. There are two ways of doing this, which are equivalent and lead to the same solution. One of them, however, illustrates the way economists often look at these problems.\n",
    "\n",
    "#### Finding the profit-maximising quantity using the profit function\n",
    "\n",
    "The first approach is to find the profit function, then differentiate it to get the first and second order conditions. We know that profits is simply the difference between total revenue and total cost.\n",
    "\n",
    "$$\\Pi \\; = \\; TR \\; - \\; TC$$\n",
    "\n",
    "By replacing $TR$ and $TC$ by the values above, we can obtain the equation for the profit function:\n",
    "\n",
    "$$\\begin{aligned}\n",
    "\\Pi & \\; = \\; -2Q^3 + 5Q^2 +50Q - \\left( Q^3 - 4Q^2 +10Q\\right) \\\\\n",
    "\\Pi & \\; = \\; -2Q^3 + 5Q^2 +50Q -  Q^3 + 4Q^2 - 10Q \\\\\n",
    "\\Pi & \\; = \\; -3Q^3 + 9Q^2 + 40Q\\\\\n",
    "\\end{aligned}$$\n",
    "\n",
    "This function is shown in green in the right-hand side diagram. To find the quantity that maximises profits, we need to take the derivative with respect to $Q$, and set it for zero:\n",
    "\n",
    "$$\\frac{{\\rm d}\\Pi}{{\\rm d}Q} \\; =\\; -9Q^2 + 18Q + 40 \\; =\\; 0$$\n",
    "\n",
    "Finding the roots of the quadratic will give us the turning points, one of which (we hope) is a maximum\n",
    "\n",
    "$$-9Q^2 + 18Q + 40 \\; =\\; 0$$\n",
    "\n",
    "The discriminant of the quadratic is $18^2 + 4 \\; \\times \\; 9 \\; \\times \\;40 = 1764 = 42^2$, so we have two solutions:\n",
    "\n",
    "$$\\left\\{\n",
    "\\begin{aligned}\n",
    "Q_1 &\\; = \\; \\frac{18-42}{18} = \\frac{-24}{18} = \\frac{-4}{3} \\\\\n",
    "Q_2 &\\; = \\; \\frac{18+42}{18} = \\frac{60}{18} = \\frac{10}{3} \\\\\n",
    "\\end{aligned}\\right.$$\n",
    "\n",
    "Clearly, $Q_1$ is not a feasible solution (you can't produce a negative quantity), so our candidate maximum is $\\frac{10}{3}\\approx 3.333$. Note that at this point if we didn't have the diagram we wouldn't necessarily know if it is a maximum, so we'd have to check the second order condition. The second derivative of the profit function is given by:\n",
    "\n",
    "$$\\frac{{\\rm d^2}\\Pi}{{\\rm d}Q^2} \\; =\\; -18Q + 18 \\; =\\; 18(1-Q)$$\n",
    "\n",
    "Clearly, given that $Q_2>1$, this derivative is negative at that point, so we know that the profit function has a local maximum at that point. This is what we see in the right hand side diagram: the slope of the profit function, in green, is flat for $Q=3.333\\dots$, and we have found our maximum.\n"
   ]
  },
  {
   "cell_type": "code",
   "execution_count": 5,
   "metadata": {},
   "outputs": [
    {
     "data": {
      "application/vnd.jupyter.widget-view+json": {
       "model_id": "a2f613b37d18459685be0f6469b83ad5",
       "version_major": 2,
       "version_minor": 0
      },
      "text/plain": [
       "VBox(children=(Output(), HBox(children=(IntSlider(value=8, continuous_update=False, description='Maximum $Q$:'…"
      ]
     },
     "metadata": {},
     "output_type": "display_data"
    }
   ],
   "source": [
    "profit_widget()"
   ]
  },
  {
   "cell_type": "markdown",
   "metadata": {},
   "source": [
    "#### Finding the profit-maximising quantity using marginal revenue and cost\n",
    "\n",
    "The other way to maximise profits is to look at what happens to the marginal variables ($mR$ and $mC$) This carries much more economic meaning, and is often the way this is explained in textbooks. To do this, let's go back to the basic profit equation.\n",
    "\n",
    "$$\\Pi \\; = \\; TR \\; - \\; TC$$\n",
    "\n",
    "To maximise profits, we need to take the derivative and set it to zero (this is our first order condition). Because we know that the derivative of a sum is just the sum of the derivatives, we can do this ***without replacing  the equations for $TR$ and $TC$***:\n",
    "\n",
    "$$\\begin{aligned}\n",
    "\\frac{{\\rm d}\\Pi}{{\\rm d}Q} & \\; =\\; \\frac{{\\rm d}TR}{{\\rm d}Q} - \\frac{{\\rm d}TC}{{\\rm d}Q} \\; =\\; 0 \\\\\n",
    "\\frac{{\\rm d}\\Pi}{{\\rm d}Q} & \\; = \\; mR-mC  =\\; 0 \\\\\n",
    "\\end{aligned}$$\n",
    "\n",
    "This directly tells us that profit is maximised when:\n",
    "\n",
    "$$\\begin{aligned}\n",
    "mR-mC & =\\; 0 \\\\\n",
    "mR & =\\; mC \\\\\n",
    "\\end{aligned}$$\n",
    "\n",
    "If we replace the equations for $mR$ and $mC$ that we found in the sections above, we get the following expression:\n",
    "\n",
    "$$-6Q^2 + 10Q + 50 \\quad = \\quad  3Q^2 - 8Q + 10$$\n",
    "\n",
    "Tidy this expression up by grouping terms on the left and you get:\n",
    "\n",
    "$$-9Q^2 + 18Q + 40 = 0$$\n",
    "\n",
    "This is the **same** quadratic equation as we got when we directly took the derivative of the profit function. Unsurprisingly, we will therefore find the same value for the profit-maximising quantity.\n",
    "\n",
    "But let's go back one step and note that the $mR = mC$ first order condition will be true ***regardless of the equations you pick for revenue and cost***. This explains why:\n",
    "- In the left hand side diagram we see that the $mR$ and $mC$ curves cross exactly at the profit maximising quantity of $3.333\\dots$.\n",
    "- Equivalently, in the diagram on the right, we see that at the profit-maximising quantity the slope of the total revenue function is equal to the slope of the total cost function (the two black dotted lines are parallel).\n",
    "\n",
    "This **marginal** approach to finding the maximum profits has several advantages:\n",
    "1. It saves a bit ot time, as you don't need to calculate the profit function then take the first order condition. If you already havd $mC$ and $mR$ (which we did), you can go straight ahead and maximise profits.\n",
    "2. It offers a nice economic intuition as to **why** profits are maximised at that point: essentially, when you are at the profit maximising quantity, the extra revenue generated by producing an extra unit exactly covers the extra cost of producing it. This means that it is not worth producing that extra unit, so you stop your production run at that point. Checking if the revenue from extra production covers the costs of doing so is something that firms can do empirically, without needed to take derivatives and solving first order conditions!\n",
    "3. It simplifies the process of checking the second order condition for a maximum. Let's derive the second order condition from the profit function:\n",
    "\n",
    "$$\\begin{aligned}\n",
    "\\frac{{\\rm d^2}\\Pi}{{\\rm d}Q^2} & \\; =\\; \\frac{{\\rm d^2}TR}{{\\rm d}Q^2} - \\frac{{\\rm d^2}TC}{{\\rm d}Q^2} \\\\\n",
    "\\frac{{\\rm d^2}\\Pi}{{\\rm d}Q^2} & \\; =\\; \\frac{{\\rm d}mR}{{\\rm d}Q} - \\frac{{\\rm d}mC}{{\\rm d}Q}\\\\\n",
    "\\end{aligned}$$\n",
    "\n",
    "Remember that for a **maximum** we need the SOC to be negative, in other words:\n",
    "\n",
    "$$\\begin{aligned}\n",
    "\\frac{{\\rm d}mR}{{\\rm d}Q} - \\frac{{\\rm d}mC}{{\\rm d}Q} &< 0\\\\\n",
    "\\frac{{\\rm d}mR}{{\\rm d}Q}  &< \\frac{{\\rm d}mC}{{\\rm d}Q}\\\\\n",
    "\\end{aligned}$$\n",
    "\n",
    "What this means is that for us to be at a maximum in the profit function, we need to have $mR = mC $ and the slope of the $mR$ curve must be smaller than the slope of the $mC$ curve. If you look at the diagram, we see that the slope of the $mR$ curve is negative, and the slope of the $mC$ curve is positive, so we're fine! In fact, we know that empirically marginal costs tend to increase with quantity wile marginal revenues tend to fall. So this tells us we're pretty much guaranteed a maximum.\n"
   ]
  },
  {
   "cell_type": "code",
   "execution_count": null,
   "metadata": {},
   "outputs": [],
   "source": []
  },
  {
   "cell_type": "markdown",
   "metadata": {},
   "source": [
    "#### Wrapping up...\n",
    "\n",
    "Economists use derivatives all the time to find the maximum (or minimum) of functions we care about. It is important to understand, however, that we have developed a specific way of thinking of derivatives, which are typically called **marginal** values. Crucially, marginal values (costs and revenues in our examples) are more than just a replacement name for the same concept. As we have seen, thinking in terms of variables at the margin allows us to:\n",
    "- Simplify the process of finding the location of the maximum or minimum: we don't need to calculate the profit function and take its derivative (we work directly with the marginal quantities) and we don't need to explicitly take a second derivative to check we have a maximum (we can just compare the slopes of the marginal functions). This is why, for instance, economists constantly talk about optimisation but nearly never check the second order condition!\n",
    "- Get some intuition for how an agent might go about finding a maximum in practice (or something very close) without ever actually doing the maths. In our example, the firm just needs to check if the revenue from a bit more production covers the costs of that production, and stops when the two are equal. It's the same thing with you when you go shopping: you don't solve a big maximisation problem in your head, instead you compare the satisfaction you might get from various options.\n",
    "\n",
    "So while you can absolutely find the maximum profit the 'maths' way (this was the first way we did it) and get the correct result, doing it with marginal values is usually more informative from the point of view of economics."
   ]
  },
  {
   "cell_type": "code",
   "execution_count": null,
   "metadata": {},
   "outputs": [],
   "source": []
  }
 ],
 "metadata": {
  "kernelspec": {
   "display_name": "Python 3 (ipykernel)",
   "language": "python",
   "name": "python3"
  },
  "language_info": {
   "codemirror_mode": {
    "name": "ipython",
    "version": 3
   },
   "file_extension": ".py",
   "mimetype": "text/x-python",
   "name": "python",
   "nbconvert_exporter": "python",
   "pygments_lexer": "ipython3",
   "version": "3.11.4"
  },
  "widgets": {
   "application/vnd.jupyter.widget-state+json": {
    "state": {
     "00ae0d1cc71e4795b55bbff264f99729": {
      "model_module": "@jupyter-widgets/controls",
      "model_module_version": "2.0.0",
      "model_name": "FloatSliderModel",
      "state": {
       "behavior": "drag-tap",
       "continuous_update": false,
       "description": "$b_d$:",
       "layout": "IPY_MODEL_55a8183e62e84ab7ac3f6323cc490a31",
       "max": 50,
       "min": -50,
       "step": 0.1,
       "style": "IPY_MODEL_04d6bab582b14792aeb7dbd39198dba1",
       "value": 5
      }
     },
     "011ff07acb144ae689f7c44d701357db": {
      "model_module": "@jupyter-widgets/base",
      "model_module_version": "2.0.0",
      "model_name": "LayoutModel",
      "state": {}
     },
     "0441d45b63c7494cba7341da7f1fcaa3": {
      "model_module": "@jupyter-widgets/base",
      "model_module_version": "2.0.0",
      "model_name": "LayoutModel",
      "state": {}
     },
     "04b7e26076f74fd691b10e29703a365e": {
      "model_module": "@jupyter-widgets/controls",
      "model_module_version": "2.0.0",
      "model_name": "FloatSliderModel",
      "state": {
       "behavior": "drag-tap",
       "continuous_update": false,
       "description": "$b_d$:",
       "layout": "IPY_MODEL_3548c57d2341471ba0a119b3d3b65d89",
       "max": 50,
       "min": -50,
       "step": 0.1,
       "style": "IPY_MODEL_c07888387bda439895d2888fb200b29f",
       "value": 5
      }
     },
     "04d6bab582b14792aeb7dbd39198dba1": {
      "model_module": "@jupyter-widgets/controls",
      "model_module_version": "2.0.0",
      "model_name": "SliderStyleModel",
      "state": {
       "description_width": ""
      }
     },
     "0567527d19cf40dd959ea6ac16fca9a5": {
      "model_module": "@jupyter-widgets/controls",
      "model_module_version": "2.0.0",
      "model_name": "SliderStyleModel",
      "state": {
       "description_width": ""
      }
     },
     "05a1f9e3fec745c6a983c9136fc617cb": {
      "model_module": "@jupyter-widgets/controls",
      "model_module_version": "2.0.0",
      "model_name": "CheckboxStyleModel",
      "state": {
       "description_width": ""
      }
     },
     "071bc661720948b18c57e3b576e90dbc": {
      "model_module": "@jupyter-widgets/controls",
      "model_module_version": "2.0.0",
      "model_name": "FloatSliderModel",
      "state": {
       "behavior": "drag-tap",
       "continuous_update": false,
       "description": "$a_s$:",
       "layout": "IPY_MODEL_cf758b91e7524074a132e1c12cdd52b5",
       "max": 10,
       "step": 0.1,
       "style": "IPY_MODEL_2aa58d2243a140c6a954f2cb0f44841a",
       "value": 1
      }
     },
     "0864b52b2a854a279ec261718a882f91": {
      "model_module": "@jupyter-widgets/base",
      "model_module_version": "2.0.0",
      "model_name": "LayoutModel",
      "state": {}
     },
     "08b11a6b6ac54e2aa3179a6cca2dec11": {
      "model_module": "@jupyter-widgets/output",
      "model_module_version": "1.0.0",
      "model_name": "OutputModel",
      "state": {
       "layout": "IPY_MODEL_efdb7ad4e2da4ed893fbe5eca8c1a47e"
      }
     },
     "09378412f7ea4ae09df1639d9b34bc6c": {
      "model_module": "@jupyter-widgets/base",
      "model_module_version": "2.0.0",
      "model_name": "LayoutModel",
      "state": {}
     },
     "09de3bef9fa840688736084bddb4abd1": {
      "model_module": "@jupyter-widgets/controls",
      "model_module_version": "2.0.0",
      "model_name": "FloatSliderModel",
      "state": {
       "behavior": "drag-tap",
       "continuous_update": false,
       "description": "$b_d$:",
       "layout": "IPY_MODEL_8f3e194a855947bfb703116f2c36f8bc",
       "max": 50,
       "min": -50,
       "step": 0.1,
       "style": "IPY_MODEL_e82168319b0f438bbb37f4e9ff90895f",
       "value": 5
      }
     },
     "09ecf47f14364b7cbf955d9465853423": {
      "model_module": "@jupyter-widgets/controls",
      "model_module_version": "2.0.0",
      "model_name": "SliderStyleModel",
      "state": {
       "description_width": ""
      }
     },
     "0a958f52fbf04c049305548958525332": {
      "model_module": "@jupyter-widgets/base",
      "model_module_version": "2.0.0",
      "model_name": "LayoutModel",
      "state": {}
     },
     "0b40f54d11e04313955959afde6e466c": {
      "model_module": "@jupyter-widgets/controls",
      "model_module_version": "2.0.0",
      "model_name": "VBoxModel",
      "state": {
       "children": [
        "IPY_MODEL_e5fd7a33ffd4435896cab5f0120caf35",
        "IPY_MODEL_509ff1899b474ccb86183cf7f8e59419",
        "IPY_MODEL_bb371b4d906747cdbf265cd16aff0262",
        "IPY_MODEL_652b371a26774171a9f3b292cc73b632"
       ],
       "layout": "IPY_MODEL_af8315c508fa4cdfbf5e093cfd874848"
      }
     },
     "0c8ddfeaf68d420a8a6082844979003d": {
      "model_module": "@jupyter-widgets/controls",
      "model_module_version": "2.0.0",
      "model_name": "SliderStyleModel",
      "state": {
       "description_width": ""
      }
     },
     "0e3f43b96fed4efc8c44c2fae4dbf45c": {
      "model_module": "@jupyter-widgets/controls",
      "model_module_version": "2.0.0",
      "model_name": "FloatSliderModel",
      "state": {
       "behavior": "drag-tap",
       "continuous_update": false,
       "description": "$c_s$:",
       "layout": "IPY_MODEL_3d149c372ea54abc88b23739362371c5",
       "min": -100,
       "step": 0.1,
       "style": "IPY_MODEL_09ecf47f14364b7cbf955d9465853423",
       "value": 10
      }
     },
     "0e8b58c72480451e842a28d4c214e44a": {
      "model_module": "@jupyter-widgets/controls",
      "model_module_version": "2.0.0",
      "model_name": "SliderStyleModel",
      "state": {
       "description_width": ""
      }
     },
     "1205f9531f354a2fbcc0ef66c1ac0942": {
      "model_module": "@jupyter-widgets/controls",
      "model_module_version": "2.0.0",
      "model_name": "CheckboxStyleModel",
      "state": {
       "description_width": ""
      }
     },
     "1272b012c8ed4989b136943ccec6e956": {
      "model_module": "@jupyter-widgets/controls",
      "model_module_version": "2.0.0",
      "model_name": "FloatSliderModel",
      "state": {
       "behavior": "drag-tap",
       "continuous_update": false,
       "description": "$a_d$:",
       "layout": "IPY_MODEL_b8d424d4063e4ed9be7660ed3b4db7e0",
       "max": 10,
       "step": 0.1,
       "style": "IPY_MODEL_adb8e534845647ed8dfc48f13244f2ee",
       "value": 2
      }
     },
     "158879aaea3d4fd4b2736b20e3b15cab": {
      "model_module": "@jupyter-widgets/controls",
      "model_module_version": "2.0.0",
      "model_name": "HBoxModel",
      "state": {
       "children": [
        "IPY_MODEL_fd89e087b35d43e0807f20b68b74257c",
        "IPY_MODEL_04b7e26076f74fd691b10e29703a365e",
        "IPY_MODEL_feab1e6fe63944e6b1e0874e1bc0f84d"
       ],
       "layout": "IPY_MODEL_d437b698e665418a8b4bdb964ba34843"
      }
     },
     "178f266054254f19a7edf82ab9d2bd42": {
      "model_module": "@jupyter-widgets/controls",
      "model_module_version": "2.0.0",
      "model_name": "FloatSliderModel",
      "state": {
       "behavior": "drag-tap",
       "continuous_update": false,
       "description": "$c_d$:",
       "layout": "IPY_MODEL_09378412f7ea4ae09df1639d9b34bc6c",
       "min": -100,
       "step": 0.1,
       "style": "IPY_MODEL_f1163487fc4e40b7883bfa8ad5144129",
       "value": 50
      }
     },
     "1bd0f2f7ffd8401a8a0a1bd6cfd3148a": {
      "model_module": "@jupyter-widgets/base",
      "model_module_version": "2.0.0",
      "model_name": "LayoutModel",
      "state": {}
     },
     "1ce37d19b8f54bd78be8e8b7f90cc9c8": {
      "model_module": "@jupyter-widgets/controls",
      "model_module_version": "2.0.0",
      "model_name": "CheckboxModel",
      "state": {
       "description": "Show costs",
       "disabled": false,
       "layout": "IPY_MODEL_1bd0f2f7ffd8401a8a0a1bd6cfd3148a",
       "style": "IPY_MODEL_795900d9d93343bdb06eb2740430815f",
       "value": true
      }
     },
     "1efa653af1e649aaa9df8aaf2745befc": {
      "model_module": "@jupyter-widgets/controls",
      "model_module_version": "2.0.0",
      "model_name": "FloatSliderModel",
      "state": {
       "behavior": "drag-tap",
       "continuous_update": false,
       "description": "$b_s$:",
       "layout": "IPY_MODEL_c8776e89ba4b48f1919fd4f20f6bd108",
       "max": 50,
       "min": -50,
       "step": 0.1,
       "style": "IPY_MODEL_1f08cfb2a5c84f1b94c7bfca18c2d877",
       "value": -4
      }
     },
     "1f08cfb2a5c84f1b94c7bfca18c2d877": {
      "model_module": "@jupyter-widgets/controls",
      "model_module_version": "2.0.0",
      "model_name": "SliderStyleModel",
      "state": {
       "description_width": ""
      }
     },
     "219c1d53da6142a8b1ab3237d1d1e517": {
      "model_module": "@jupyter-widgets/controls",
      "model_module_version": "2.0.0",
      "model_name": "IntSliderModel",
      "state": {
       "behavior": "drag-tap",
       "continuous_update": false,
       "description": "Maximum $Q$:",
       "layout": "IPY_MODEL_aec12c0ae6a34d438c58f1e56691ea81",
       "max": 50,
       "min": 5,
       "style": "IPY_MODEL_caa8362a74e040e3848706a1fa5143a6",
       "value": 8
      }
     },
     "21a610c3a94e4c88a50ee527ce7e26f4": {
      "model_module": "@jupyter-widgets/controls",
      "model_module_version": "2.0.0",
      "model_name": "FloatSliderModel",
      "state": {
       "behavior": "drag-tap",
       "continuous_update": false,
       "description": "$b_s$:",
       "layout": "IPY_MODEL_cc77e773df5146ae8a558f8305ae9c3b",
       "max": 50,
       "min": -50,
       "step": 0.1,
       "style": "IPY_MODEL_7aa11c11507c4291a96151d8aba13679",
       "value": -4
      }
     },
     "2333d785fb7a45a2bd769b0ac36dd77b": {
      "model_module": "@jupyter-widgets/controls",
      "model_module_version": "2.0.0",
      "model_name": "ToggleButtonModel",
      "state": {
       "description": "Click to show code",
       "layout": "IPY_MODEL_88da915316d24ec6866ead7c7982372f",
       "style": "IPY_MODEL_d5e88e76d7c7484988253679eda4626e",
       "tooltip": null
      }
     },
     "23b08aaf9eee4f2f9a671c141e4f79ef": {
      "model_module": "@jupyter-widgets/base",
      "model_module_version": "2.0.0",
      "model_name": "LayoutModel",
      "state": {}
     },
     "26bf0638af6c4c3187f5db75d9638af1": {
      "model_module": "@jupyter-widgets/controls",
      "model_module_version": "2.0.0",
      "model_name": "CheckboxModel",
      "state": {
       "description": "Show revenue",
       "disabled": false,
       "layout": "IPY_MODEL_2c4d1aeab5e344c79088dd2f342fb714",
       "style": "IPY_MODEL_5b81fcd59ca6445188069351a1332ae1",
       "value": false
      }
     },
     "27397de4538e465b91a3ca338beedf8a": {
      "model_module": "@jupyter-widgets/controls",
      "model_module_version": "2.0.0",
      "model_name": "FloatSliderModel",
      "state": {
       "behavior": "drag-tap",
       "continuous_update": false,
       "description": "$a_d$:",
       "layout": "IPY_MODEL_a3c9681a63ec42eea48112b62f138e3d",
       "max": 10,
       "step": 0.1,
       "style": "IPY_MODEL_ae883794dbf94c61bd9bc798f82c7912",
       "value": 2
      }
     },
     "27d17b4981fd432a8d4f91134eb00d51": {
      "model_module": "@jupyter-widgets/controls",
      "model_module_version": "2.0.0",
      "model_name": "SliderStyleModel",
      "state": {
       "description_width": ""
      }
     },
     "2aa58d2243a140c6a954f2cb0f44841a": {
      "model_module": "@jupyter-widgets/controls",
      "model_module_version": "2.0.0",
      "model_name": "SliderStyleModel",
      "state": {
       "description_width": ""
      }
     },
     "2c4d1aeab5e344c79088dd2f342fb714": {
      "model_module": "@jupyter-widgets/base",
      "model_module_version": "2.0.0",
      "model_name": "LayoutModel",
      "state": {}
     },
     "2dfd756b0963486180f162bf273b93d6": {
      "model_module": "@jupyter-widgets/controls",
      "model_module_version": "2.0.0",
      "model_name": "ToggleButtonModel",
      "state": {
       "description": "Click to show code",
       "layout": "IPY_MODEL_92275c9e75d948818125b80c86d56aa1",
       "style": "IPY_MODEL_45354a0ffb6c4f96a8021dd34144c422",
       "tooltip": null
      }
     },
     "2ed0d75b7eea41bfa5542e492d4fd7a1": {
      "model_module": "@jupyter-widgets/controls",
      "model_module_version": "2.0.0",
      "model_name": "FloatSliderModel",
      "state": {
       "behavior": "drag-tap",
       "continuous_update": false,
       "description": "$a_d$:",
       "layout": "IPY_MODEL_f0ad81d4eaf24ff1be18f407324762bb",
       "max": 10,
       "step": 0.1,
       "style": "IPY_MODEL_792361b9fc094821a502eb30f50db755",
       "value": 2
      }
     },
     "301f7b5837134fe1954a3c3c402cf170": {
      "model_module": "@jupyter-widgets/controls",
      "model_module_version": "2.0.0",
      "model_name": "FloatSliderModel",
      "state": {
       "behavior": "drag-tap",
       "continuous_update": false,
       "description": "$c_s$:",
       "layout": "IPY_MODEL_b276e29429b64aec9ad5657c1ffd6a4c",
       "min": -100,
       "step": 0.1,
       "style": "IPY_MODEL_54c7ea447c294c5eb59eab9c30c12761",
       "value": 10
      }
     },
     "30bdc94568d2462db453d38491373783": {
      "model_module": "@jupyter-widgets/controls",
      "model_module_version": "2.0.0",
      "model_name": "SliderStyleModel",
      "state": {
       "description_width": ""
      }
     },
     "31e33761161d4186a7d8bbd1b193f265": {
      "model_module": "@jupyter-widgets/controls",
      "model_module_version": "2.0.0",
      "model_name": "SliderStyleModel",
      "state": {
       "description_width": ""
      }
     },
     "31ef7fefbe22412fb8395e19342697df": {
      "model_module": "@jupyter-widgets/base",
      "model_module_version": "2.0.0",
      "model_name": "LayoutModel",
      "state": {}
     },
     "3270a1fffdfb4f598ff4acf5b2ebce0a": {
      "model_module": "@jupyter-widgets/base",
      "model_module_version": "2.0.0",
      "model_name": "LayoutModel",
      "state": {}
     },
     "32a894c79a584f2abd363bd68bbe4535": {
      "model_module": "@jupyter-widgets/controls",
      "model_module_version": "2.0.0",
      "model_name": "CheckboxModel",
      "state": {
       "description": "Show costs",
       "disabled": false,
       "layout": "IPY_MODEL_c63048fd636b4d7fb89fc5431f5b3962",
       "style": "IPY_MODEL_ab84bdf183874f73a2ee51a2fa539a9c",
       "value": true
      }
     },
     "3324f9ae290a41778e0a09133e36d301": {
      "model_module": "@jupyter-widgets/controls",
      "model_module_version": "2.0.0",
      "model_name": "SliderStyleModel",
      "state": {
       "description_width": ""
      }
     },
     "333ee306dd464782966d6bb7f02753dc": {
      "model_module": "@jupyter-widgets/controls",
      "model_module_version": "2.0.0",
      "model_name": "SliderStyleModel",
      "state": {
       "description_width": ""
      }
     },
     "33c46f7d423d4c558923ab4034bafd94": {
      "model_module": "@jupyter-widgets/base",
      "model_module_version": "2.0.0",
      "model_name": "LayoutModel",
      "state": {}
     },
     "34cfde17db4a48a4ba8d3bde553e6043": {
      "model_module": "@jupyter-widgets/base",
      "model_module_version": "2.0.0",
      "model_name": "LayoutModel",
      "state": {}
     },
     "3548c57d2341471ba0a119b3d3b65d89": {
      "model_module": "@jupyter-widgets/base",
      "model_module_version": "2.0.0",
      "model_name": "LayoutModel",
      "state": {}
     },
     "36c2ac4398584ff2bc9ac414f8cb036c": {
      "model_module": "@jupyter-widgets/base",
      "model_module_version": "2.0.0",
      "model_name": "LayoutModel",
      "state": {}
     },
     "36e88a5857314d1cbce4de6bc552d0c7": {
      "model_module": "@jupyter-widgets/base",
      "model_module_version": "2.0.0",
      "model_name": "LayoutModel",
      "state": {}
     },
     "36f32dc6a7f54782838358c794a2a6cc": {
      "model_module": "@jupyter-widgets/base",
      "model_module_version": "2.0.0",
      "model_name": "LayoutModel",
      "state": {}
     },
     "37431e2a66fd4436beb1b6751773c7ad": {
      "model_module": "@jupyter-widgets/controls",
      "model_module_version": "2.0.0",
      "model_name": "FloatSliderModel",
      "state": {
       "behavior": "drag-tap",
       "continuous_update": false,
       "description": "$c_d$:",
       "layout": "IPY_MODEL_0441d45b63c7494cba7341da7f1fcaa3",
       "min": -100,
       "step": 0.1,
       "style": "IPY_MODEL_27d17b4981fd432a8d4f91134eb00d51",
       "value": 50
      }
     },
     "3b9c49cf0e9b4eb890c00d92267d909d": {
      "model_module": "@jupyter-widgets/controls",
      "model_module_version": "2.0.0",
      "model_name": "SliderStyleModel",
      "state": {
       "description_width": ""
      }
     },
     "3bc24d5e41a3489ea111d9cbea2ad0b2": {
      "model_module": "@jupyter-widgets/controls",
      "model_module_version": "2.0.0",
      "model_name": "FloatSliderModel",
      "state": {
       "behavior": "drag-tap",
       "continuous_update": false,
       "description": "$b_s$:",
       "layout": "IPY_MODEL_d36c57ec8517417d8e739481aec981ce",
       "max": 50,
       "min": -50,
       "step": 0.1,
       "style": "IPY_MODEL_51113062e4d54d6792b1098ff86fafe1",
       "value": -4
      }
     },
     "3c442caa473240d7930ddfa0ab3383a7": {
      "model_module": "@jupyter-widgets/controls",
      "model_module_version": "2.0.0",
      "model_name": "FloatSliderModel",
      "state": {
       "behavior": "drag-tap",
       "continuous_update": false,
       "description": "$a_s$:",
       "layout": "IPY_MODEL_36f32dc6a7f54782838358c794a2a6cc",
       "max": 10,
       "step": 0.1,
       "style": "IPY_MODEL_84e59f4a1ca14f66bfc7ab4f339ad284",
       "value": 1
      }
     },
     "3d149c372ea54abc88b23739362371c5": {
      "model_module": "@jupyter-widgets/base",
      "model_module_version": "2.0.0",
      "model_name": "LayoutModel",
      "state": {}
     },
     "3ef309e915564e6388b5cb2d3ba92b8f": {
      "model_module": "@jupyter-widgets/base",
      "model_module_version": "2.0.0",
      "model_name": "LayoutModel",
      "state": {}
     },
     "404206c2ba0a4bb6b5aa257d1401a82c": {
      "model_module": "@jupyter-widgets/controls",
      "model_module_version": "2.0.0",
      "model_name": "CheckboxStyleModel",
      "state": {
       "description_width": ""
      }
     },
     "4099e7ca68fe42468e045c50258a80ab": {
      "model_module": "@jupyter-widgets/base",
      "model_module_version": "2.0.0",
      "model_name": "LayoutModel",
      "state": {}
     },
     "42024bfb090745a2a4cfefa0b3623cd1": {
      "model_module": "@jupyter-widgets/base",
      "model_module_version": "2.0.0",
      "model_name": "LayoutModel",
      "state": {}
     },
     "4255ccac01474d55a17fae51c8515043": {
      "model_module": "@jupyter-widgets/base",
      "model_module_version": "2.0.0",
      "model_name": "LayoutModel",
      "state": {}
     },
     "45354a0ffb6c4f96a8021dd34144c422": {
      "model_module": "@jupyter-widgets/controls",
      "model_module_version": "2.0.0",
      "model_name": "ToggleButtonStyleModel",
      "state": {
       "description_width": "",
       "font_family": null,
       "font_size": null,
       "font_style": null,
       "font_variant": null,
       "font_weight": null,
       "text_color": null,
       "text_decoration": null
      }
     },
     "457082cd6b0c4dd3a166b362dde2a373": {
      "model_module": "@jupyter-widgets/base",
      "model_module_version": "2.0.0",
      "model_name": "LayoutModel",
      "state": {}
     },
     "45a0151ed00240a28a75f0c4fb4b39ce": {
      "model_module": "@jupyter-widgets/base",
      "model_module_version": "2.0.0",
      "model_name": "LayoutModel",
      "state": {}
     },
     "46bbe815059143268a8576a5d3ca7424": {
      "model_module": "@jupyter-widgets/controls",
      "model_module_version": "2.0.0",
      "model_name": "FloatSliderModel",
      "state": {
       "behavior": "drag-tap",
       "continuous_update": false,
       "description": "$c_s$:",
       "layout": "IPY_MODEL_d9240f836ef44283b641bd0e305448b8",
       "min": -100,
       "step": 0.1,
       "style": "IPY_MODEL_687df87174cf4f9981d52f2e6d6cb0e1",
       "value": 10
      }
     },
     "475c1cf421a94246916b2e81279c47e0": {
      "model_module": "@jupyter-widgets/base",
      "model_module_version": "2.0.0",
      "model_name": "LayoutModel",
      "state": {}
     },
     "47b1fd5455e8482aa485a3ea0c41a527": {
      "model_module": "@jupyter-widgets/controls",
      "model_module_version": "2.0.0",
      "model_name": "FloatSliderModel",
      "state": {
       "behavior": "drag-tap",
       "continuous_update": false,
       "description": "$b_s$:",
       "layout": "IPY_MODEL_6ab4772c48bb4fb99fb5c5845f8cbfb3",
       "max": 50,
       "min": -50,
       "step": 0.1,
       "style": "IPY_MODEL_bf6b329b542d45b18b4ddea0439f8d54",
       "value": -4
      }
     },
     "4818102fbbc346409277a52209ef77d3": {
      "model_module": "@jupyter-widgets/controls",
      "model_module_version": "2.0.0",
      "model_name": "FloatSliderModel",
      "state": {
       "behavior": "drag-tap",
       "continuous_update": false,
       "description": "$d_s$:",
       "layout": "IPY_MODEL_45a0151ed00240a28a75f0c4fb4b39ce",
       "min": -100,
       "step": 0.1,
       "style": "IPY_MODEL_5fb4f4713365447fbe5e60f42cdd92cf"
      }
     },
     "4a26ece701044e78bb74b0cd24a2c870": {
      "model_module": "@jupyter-widgets/controls",
      "model_module_version": "2.0.0",
      "model_name": "FloatSliderModel",
      "state": {
       "behavior": "drag-tap",
       "continuous_update": false,
       "description": "$c_s$:",
       "layout": "IPY_MODEL_d8c9427c12fb437da8137ab74687c7a6",
       "min": -100,
       "step": 0.1,
       "style": "IPY_MODEL_b633f30291fd4560969816374a68084b",
       "value": 10
      }
     },
     "4aac4b6f20ff4ad8a5d407a70ddb2f5a": {
      "model_module": "@jupyter-widgets/controls",
      "model_module_version": "2.0.0",
      "model_name": "FloatSliderModel",
      "state": {
       "behavior": "drag-tap",
       "continuous_update": false,
       "description": "$b_s$:",
       "layout": "IPY_MODEL_4f2e827307594f2d9f2c59d30f1ddce4",
       "max": 50,
       "min": -50,
       "step": 0.1,
       "style": "IPY_MODEL_3b9c49cf0e9b4eb890c00d92267d909d",
       "value": -4
      }
     },
     "4b3ab68598a54ef29b32777ec9707ce9": {
      "model_module": "@jupyter-widgets/base",
      "model_module_version": "2.0.0",
      "model_name": "LayoutModel",
      "state": {}
     },
     "4bbd64fab0fa40998752b33601b63d68": {
      "model_module": "@jupyter-widgets/controls",
      "model_module_version": "2.0.0",
      "model_name": "HBoxModel",
      "state": {
       "children": [
        "IPY_MODEL_5a7a12d77eff4331b0c16b695074430c",
        "IPY_MODEL_3bc24d5e41a3489ea111d9cbea2ad0b2",
        "IPY_MODEL_301f7b5837134fe1954a3c3c402cf170",
        "IPY_MODEL_8bf7e520c1594f9f976262330ece6bbd"
       ],
       "layout": "IPY_MODEL_b09f6e11e16b4f688fd1982e7686bcae"
      }
     },
     "4da6496abaf04a4b9b9758820d8292fd": {
      "model_module": "@jupyter-widgets/controls",
      "model_module_version": "2.0.0",
      "model_name": "SliderStyleModel",
      "state": {
       "description_width": ""
      }
     },
     "4db2a79e7c1748558de3095d4dbbf94d": {
      "model_module": "@jupyter-widgets/controls",
      "model_module_version": "2.0.0",
      "model_name": "FloatSliderModel",
      "state": {
       "behavior": "drag-tap",
       "continuous_update": false,
       "description": "$b_s$:",
       "layout": "IPY_MODEL_503ce95185584d5a84ee84962930d5a5",
       "max": 50,
       "min": -50,
       "step": 0.1,
       "style": "IPY_MODEL_6718cf03b3f241269dd887f704a73ef7",
       "value": -4
      }
     },
     "4ef07d6a53814d4c99c83a04a5cf7b0d": {
      "model_module": "@jupyter-widgets/controls",
      "model_module_version": "2.0.0",
      "model_name": "FloatSliderModel",
      "state": {
       "behavior": "drag-tap",
       "continuous_update": false,
       "description": "$d_s$:",
       "layout": "IPY_MODEL_7de448650f0e44cfb45f29eb57c3f9cc",
       "min": -100,
       "step": 0.1,
       "style": "IPY_MODEL_9241313b5ee546568a0421f56a7d1567"
      }
     },
     "4f2e827307594f2d9f2c59d30f1ddce4": {
      "model_module": "@jupyter-widgets/base",
      "model_module_version": "2.0.0",
      "model_name": "LayoutModel",
      "state": {}
     },
     "502ce1b9557c4306b5dde4c490dcdf50": {
      "model_module": "@jupyter-widgets/controls",
      "model_module_version": "2.0.0",
      "model_name": "CheckboxModel",
      "state": {
       "description": "Show revenue",
       "disabled": false,
       "layout": "IPY_MODEL_4b3ab68598a54ef29b32777ec9707ce9",
       "style": "IPY_MODEL_71c79d6f8aa94c69b7f68abf5ccdca63",
       "value": true
      }
     },
     "503ce95185584d5a84ee84962930d5a5": {
      "model_module": "@jupyter-widgets/base",
      "model_module_version": "2.0.0",
      "model_name": "LayoutModel",
      "state": {}
     },
     "507aa33c71fa4fb89fe6e9cc4430e1a9": {
      "model_module": "@jupyter-widgets/controls",
      "model_module_version": "2.0.0",
      "model_name": "FloatSliderModel",
      "state": {
       "behavior": "drag-tap",
       "continuous_update": false,
       "description": "$a_s$:",
       "layout": "IPY_MODEL_7b25984a55ac418f819470d104e610d1",
       "max": 10,
       "step": 0.1,
       "style": "IPY_MODEL_e4f00d21f30240dcb9acb3dcbecb8dc6",
       "value": 1
      }
     },
     "509ff1899b474ccb86183cf7f8e59419": {
      "model_module": "@jupyter-widgets/controls",
      "model_module_version": "2.0.0",
      "model_name": "HBoxModel",
      "state": {
       "children": [
        "IPY_MODEL_56dbcf8dc64b4757930eeb489b902f0c",
        "IPY_MODEL_ed78e51e59494a86b9c2bc5f182e0fcc",
        "IPY_MODEL_1ce37d19b8f54bd78be8e8b7f90cc9c8"
       ],
       "layout": "IPY_MODEL_f12598e6237841d58846654618757b1b"
      }
     },
     "51113062e4d54d6792b1098ff86fafe1": {
      "model_module": "@jupyter-widgets/controls",
      "model_module_version": "2.0.0",
      "model_name": "SliderStyleModel",
      "state": {
       "description_width": ""
      }
     },
     "51a2388748ee4296b484d6bd2e738435": {
      "model_module": "@jupyter-widgets/controls",
      "model_module_version": "2.0.0",
      "model_name": "SliderStyleModel",
      "state": {
       "description_width": ""
      }
     },
     "523e16e0d4f644149af2335fb5d51268": {
      "model_module": "@jupyter-widgets/base",
      "model_module_version": "2.0.0",
      "model_name": "LayoutModel",
      "state": {}
     },
     "545fc6a8966f4914842c6456e32e1210": {
      "model_module": "@jupyter-widgets/base",
      "model_module_version": "2.0.0",
      "model_name": "LayoutModel",
      "state": {}
     },
     "54c7ea447c294c5eb59eab9c30c12761": {
      "model_module": "@jupyter-widgets/controls",
      "model_module_version": "2.0.0",
      "model_name": "SliderStyleModel",
      "state": {
       "description_width": ""
      }
     },
     "55a8183e62e84ab7ac3f6323cc490a31": {
      "model_module": "@jupyter-widgets/base",
      "model_module_version": "2.0.0",
      "model_name": "LayoutModel",
      "state": {}
     },
     "565ed2dee7f8449abd23f5692f92f3a7": {
      "model_module": "@jupyter-widgets/base",
      "model_module_version": "2.0.0",
      "model_name": "LayoutModel",
      "state": {}
     },
     "56dbcf8dc64b4757930eeb489b902f0c": {
      "model_module": "@jupyter-widgets/controls",
      "model_module_version": "2.0.0",
      "model_name": "IntSliderModel",
      "state": {
       "behavior": "drag-tap",
       "continuous_update": false,
       "description": "Maximum $Q$:",
       "layout": "IPY_MODEL_6ee7a1e17e68421993b0a67c01b2ff92",
       "max": 50,
       "min": 5,
       "style": "IPY_MODEL_cdef766c962c44199c0ec202e5ec07c8",
       "value": 8
      }
     },
     "5939fe80e1b0406f90c72102382e3029": {
      "model_module": "@jupyter-widgets/controls",
      "model_module_version": "2.0.0",
      "model_name": "HBoxModel",
      "state": {
       "children": [
        "IPY_MODEL_9cc885fb043640d8bbfa988f5df2323b",
        "IPY_MODEL_65ae67eb383a43b684010ab2ffc28c17",
        "IPY_MODEL_b307b15950a441b5961ed8be3aa9cf3f"
       ],
       "layout": "IPY_MODEL_011ff07acb144ae689f7c44d701357db"
      }
     },
     "5a6e9b41678645499c78fb562c23a0cc": {
      "model_module": "@jupyter-widgets/base",
      "model_module_version": "2.0.0",
      "model_name": "LayoutModel",
      "state": {}
     },
     "5a7a12d77eff4331b0c16b695074430c": {
      "model_module": "@jupyter-widgets/controls",
      "model_module_version": "2.0.0",
      "model_name": "FloatSliderModel",
      "state": {
       "behavior": "drag-tap",
       "continuous_update": false,
       "description": "$a_s$:",
       "layout": "IPY_MODEL_b9a83bcde9844c1e824005832cbd4258",
       "max": 10,
       "step": 0.1,
       "style": "IPY_MODEL_0567527d19cf40dd959ea6ac16fca9a5",
       "value": 1
      }
     },
     "5b81fcd59ca6445188069351a1332ae1": {
      "model_module": "@jupyter-widgets/controls",
      "model_module_version": "2.0.0",
      "model_name": "CheckboxStyleModel",
      "state": {
       "description_width": ""
      }
     },
     "5bb78aa7846140b4a65d4042902b21ce": {
      "model_module": "@jupyter-widgets/controls",
      "model_module_version": "2.0.0",
      "model_name": "HBoxModel",
      "state": {
       "children": [
        "IPY_MODEL_afaa6e7bdf8947b69431d086bfd6b115",
        "IPY_MODEL_4aac4b6f20ff4ad8a5d407a70ddb2f5a",
        "IPY_MODEL_4a26ece701044e78bb74b0cd24a2c870",
        "IPY_MODEL_c1df4cd68ce74e388ae793f3258a01c2"
       ],
       "layout": "IPY_MODEL_daca22d3855643a589829102104e5eb7"
      }
     },
     "5bf7ea95b6734bcfab83d908635b85cb": {
      "model_module": "@jupyter-widgets/controls",
      "model_module_version": "2.0.0",
      "model_name": "IntSliderModel",
      "state": {
       "behavior": "drag-tap",
       "continuous_update": false,
       "description": "Maximum $Q$:",
       "layout": "IPY_MODEL_8de5b1ff20354afd9b0abd74e3de0952",
       "max": 50,
       "min": 5,
       "style": "IPY_MODEL_c77d0b32e7a74b938adc250b650a11b7",
       "value": 8
      }
     },
     "5d8757950e52489e9c267fd409531c6a": {
      "model_module": "@jupyter-widgets/controls",
      "model_module_version": "2.0.0",
      "model_name": "SliderStyleModel",
      "state": {
       "description_width": ""
      }
     },
     "5e631509f40f4baf9cacda0e3b8cc9cf": {
      "model_module": "@jupyter-widgets/controls",
      "model_module_version": "2.0.0",
      "model_name": "HBoxModel",
      "state": {
       "children": [
        "IPY_MODEL_ebae2cf04d834135bddd50e8338b665f",
        "IPY_MODEL_9542b2194c8b4c15bcf758b40f64caa5",
        "IPY_MODEL_7d50a73a753f468dac24f39aa9ce6f82"
       ],
       "layout": "IPY_MODEL_42024bfb090745a2a4cfefa0b3623cd1"
      }
     },
     "5f3f863b608847c2940f0dcaae6ba623": {
      "model_module": "@jupyter-widgets/controls",
      "model_module_version": "2.0.0",
      "model_name": "SliderStyleModel",
      "state": {
       "description_width": ""
      }
     },
     "5fb4f4713365447fbe5e60f42cdd92cf": {
      "model_module": "@jupyter-widgets/controls",
      "model_module_version": "2.0.0",
      "model_name": "SliderStyleModel",
      "state": {
       "description_width": ""
      }
     },
     "5fd572c62d4646c38953106d52d04122": {
      "model_module": "@jupyter-widgets/controls",
      "model_module_version": "2.0.0",
      "model_name": "CheckboxModel",
      "state": {
       "description": "Show revenue",
       "disabled": false,
       "layout": "IPY_MODEL_36e88a5857314d1cbce4de6bc552d0c7",
       "style": "IPY_MODEL_7c90fb08909844c786654bc42b86624e",
       "value": false
      }
     },
     "6041ef7dccc14ec68afe865a5dad5a7d": {
      "model_module": "@jupyter-widgets/base",
      "model_module_version": "2.0.0",
      "model_name": "LayoutModel",
      "state": {}
     },
     "60c49e59f40849dca176cc0a75500a8e": {
      "model_module": "@jupyter-widgets/base",
      "model_module_version": "2.0.0",
      "model_name": "LayoutModel",
      "state": {}
     },
     "61403ea6f71a4edfa3a842ccb064d3a9": {
      "model_module": "@jupyter-widgets/base",
      "model_module_version": "2.0.0",
      "model_name": "LayoutModel",
      "state": {}
     },
     "618bc02052f645eb85e5bcc8bb1d1a19": {
      "model_module": "@jupyter-widgets/controls",
      "model_module_version": "2.0.0",
      "model_name": "SliderStyleModel",
      "state": {
       "description_width": ""
      }
     },
     "63ac2cf3c2bc4b0694760e1ec96f32a6": {
      "model_module": "@jupyter-widgets/controls",
      "model_module_version": "2.0.0",
      "model_name": "FloatSliderModel",
      "state": {
       "behavior": "drag-tap",
       "continuous_update": false,
       "description": "$a_d$:",
       "layout": "IPY_MODEL_c0e315ce2a73460f98bec1c751d0510c",
       "max": 10,
       "step": 0.1,
       "style": "IPY_MODEL_e20b8ddf4253438a9f4df6950dfc079d",
       "value": 2
      }
     },
     "64876178eaba442aa8dfef4f3fa94bd6": {
      "model_module": "@jupyter-widgets/controls",
      "model_module_version": "2.0.0",
      "model_name": "HBoxModel",
      "state": {
       "children": [
        "IPY_MODEL_5bf7ea95b6734bcfab83d908635b85cb",
        "IPY_MODEL_26bf0638af6c4c3187f5db75d9638af1",
        "IPY_MODEL_32a894c79a584f2abd363bd68bbe4535"
       ],
       "layout": "IPY_MODEL_4099e7ca68fe42468e045c50258a80ab"
      }
     },
     "652b371a26774171a9f3b292cc73b632": {
      "model_module": "@jupyter-widgets/controls",
      "model_module_version": "2.0.0",
      "model_name": "HBoxModel",
      "state": {
       "children": [
        "IPY_MODEL_ed4f4332e37c4e79ba239687d1a090cd",
        "IPY_MODEL_21a610c3a94e4c88a50ee527ce7e26f4",
        "IPY_MODEL_ac648f5f1609482da068af8a44338437",
        "IPY_MODEL_4818102fbbc346409277a52209ef77d3"
       ],
       "layout": "IPY_MODEL_bec1f2b5fcbc406fb6c203241da1b56a"
      }
     },
     "65ae67eb383a43b684010ab2ffc28c17": {
      "model_module": "@jupyter-widgets/controls",
      "model_module_version": "2.0.0",
      "model_name": "CheckboxModel",
      "state": {
       "description": "Show revenue",
       "disabled": false,
       "layout": "IPY_MODEL_fabf24b57c75401f9afa31c1e509842c",
       "style": "IPY_MODEL_f5b3652ef7634acf86864886051abb9a",
       "value": true
      }
     },
     "6634e58801a743ef80492ac154ee132b": {
      "model_module": "@jupyter-widgets/controls",
      "model_module_version": "2.0.0",
      "model_name": "FloatSliderModel",
      "state": {
       "behavior": "drag-tap",
       "continuous_update": false,
       "description": "$b_d$:",
       "layout": "IPY_MODEL_33c46f7d423d4c558923ab4034bafd94",
       "max": 50,
       "min": -50,
       "step": 0.1,
       "style": "IPY_MODEL_0e8b58c72480451e842a28d4c214e44a",
       "value": 5
      }
     },
     "6718cf03b3f241269dd887f704a73ef7": {
      "model_module": "@jupyter-widgets/controls",
      "model_module_version": "2.0.0",
      "model_name": "SliderStyleModel",
      "state": {
       "description_width": ""
      }
     },
     "687df87174cf4f9981d52f2e6d6cb0e1": {
      "model_module": "@jupyter-widgets/controls",
      "model_module_version": "2.0.0",
      "model_name": "SliderStyleModel",
      "state": {
       "description_width": ""
      }
     },
     "6982630f8cd94995a6c45e3c5926af4e": {
      "model_module": "@jupyter-widgets/controls",
      "model_module_version": "2.0.0",
      "model_name": "HBoxModel",
      "state": {
       "children": [
        "IPY_MODEL_27397de4538e465b91a3ca338beedf8a",
        "IPY_MODEL_da294c53778d4a70b3aca1ba492e51a1",
        "IPY_MODEL_37431e2a66fd4436beb1b6751773c7ad"
       ],
       "layout": "IPY_MODEL_9a34a15f7ee34a48a4c66f9cae60789c"
      }
     },
     "6a0124a4cafd4e42b296a205d7e82a12": {
      "model_module": "@jupyter-widgets/controls",
      "model_module_version": "2.0.0",
      "model_name": "FloatSliderModel",
      "state": {
       "behavior": "drag-tap",
       "continuous_update": false,
       "description": "$c_d$:",
       "layout": "IPY_MODEL_36c2ac4398584ff2bc9ac414f8cb036c",
       "min": -100,
       "step": 0.1,
       "style": "IPY_MODEL_5f3f863b608847c2940f0dcaae6ba623",
       "value": 50
      }
     },
     "6ab4772c48bb4fb99fb5c5845f8cbfb3": {
      "model_module": "@jupyter-widgets/base",
      "model_module_version": "2.0.0",
      "model_name": "LayoutModel",
      "state": {}
     },
     "6bc4917a88b3432b901356bf81fec877": {
      "model_module": "@jupyter-widgets/controls",
      "model_module_version": "2.0.0",
      "model_name": "VBoxModel",
      "state": {
       "children": [
        "IPY_MODEL_8171a7a837ae44e1ad23bbda11b4db8c",
        "IPY_MODEL_64876178eaba442aa8dfef4f3fa94bd6",
        "IPY_MODEL_bd191aa512bf4bdfaf668ab0c81dfe5d",
        "IPY_MODEL_cf749397b5864e52888d167ba333c122"
       ],
       "layout": "IPY_MODEL_9e33166b09aa44bc82db4fcbd9d1574e"
      }
     },
     "6cbac7e5819b43bbbbeb933d48e759b2": {
      "model_module": "@jupyter-widgets/base",
      "model_module_version": "2.0.0",
      "model_name": "LayoutModel",
      "state": {}
     },
     "6e35d20a581a48b3a17df9fcd334788c": {
      "model_module": "@jupyter-widgets/controls",
      "model_module_version": "2.0.0",
      "model_name": "SliderStyleModel",
      "state": {
       "description_width": ""
      }
     },
     "6ee7a1e17e68421993b0a67c01b2ff92": {
      "model_module": "@jupyter-widgets/base",
      "model_module_version": "2.0.0",
      "model_name": "LayoutModel",
      "state": {}
     },
     "6f1b836023ce41fabf99358548fc60ec": {
      "model_module": "@jupyter-widgets/controls",
      "model_module_version": "2.0.0",
      "model_name": "HBoxModel",
      "state": {
       "children": [
        "IPY_MODEL_219c1d53da6142a8b1ab3237d1d1e517",
        "IPY_MODEL_502ce1b9557c4306b5dde4c490dcdf50",
        "IPY_MODEL_f65d0501245c4b21b6660e8c124d9855"
       ],
       "layout": "IPY_MODEL_7496083c95e84e20a30d1f7ba363cb76"
      }
     },
     "71c79d6f8aa94c69b7f68abf5ccdca63": {
      "model_module": "@jupyter-widgets/controls",
      "model_module_version": "2.0.0",
      "model_name": "CheckboxStyleModel",
      "state": {
       "description_width": ""
      }
     },
     "73393e7883b94e40b3a18757751d9beb": {
      "model_module": "@jupyter-widgets/controls",
      "model_module_version": "2.0.0",
      "model_name": "IntSliderModel",
      "state": {
       "behavior": "drag-tap",
       "continuous_update": false,
       "description": "Maximum $Q$:",
       "layout": "IPY_MODEL_f434dbc1f06f46c289f8efb87a10fad3",
       "max": 50,
       "min": 5,
       "style": "IPY_MODEL_6e35d20a581a48b3a17df9fcd334788c",
       "value": 8
      }
     },
     "73441d5d67eb47a1b29803f00882270e": {
      "model_module": "@jupyter-widgets/controls",
      "model_module_version": "2.0.0",
      "model_name": "VBoxModel",
      "state": {
       "children": [
        "IPY_MODEL_fcbd18a4d1a74d119671af886db8f159",
        "IPY_MODEL_b4c9da9293e949b883872cd1e971083e",
        "IPY_MODEL_a8868183eb0f4fa49338f66621110231",
        "IPY_MODEL_777d0e674e694e81a0db8782cb04071a"
       ],
       "layout": "IPY_MODEL_475c1cf421a94246916b2e81279c47e0"
      }
     },
     "7496083c95e84e20a30d1f7ba363cb76": {
      "model_module": "@jupyter-widgets/base",
      "model_module_version": "2.0.0",
      "model_name": "LayoutModel",
      "state": {}
     },
     "777d0e674e694e81a0db8782cb04071a": {
      "model_module": "@jupyter-widgets/controls",
      "model_module_version": "2.0.0",
      "model_name": "HBoxModel",
      "state": {
       "children": [
        "IPY_MODEL_071bc661720948b18c57e3b576e90dbc",
        "IPY_MODEL_1efa653af1e649aaa9df8aaf2745befc",
        "IPY_MODEL_46bbe815059143268a8576a5d3ca7424",
        "IPY_MODEL_4ef07d6a53814d4c99c83a04a5cf7b0d"
       ],
       "layout": "IPY_MODEL_d89794d2f049438c8a0f558a25c5a2ef"
      }
     },
     "7857cdbece6347a5abc5a3fac4874f2a": {
      "model_module": "@jupyter-widgets/base",
      "model_module_version": "2.0.0",
      "model_name": "LayoutModel",
      "state": {}
     },
     "792361b9fc094821a502eb30f50db755": {
      "model_module": "@jupyter-widgets/controls",
      "model_module_version": "2.0.0",
      "model_name": "SliderStyleModel",
      "state": {
       "description_width": ""
      }
     },
     "795900d9d93343bdb06eb2740430815f": {
      "model_module": "@jupyter-widgets/controls",
      "model_module_version": "2.0.0",
      "model_name": "CheckboxStyleModel",
      "state": {
       "description_width": ""
      }
     },
     "79e6306c90844ccca5fd54c9722ed522": {
      "model_module": "@jupyter-widgets/base",
      "model_module_version": "2.0.0",
      "model_name": "LayoutModel",
      "state": {}
     },
     "7a5c44725a48451eae8ede7f40dfe071": {
      "model_module": "@jupyter-widgets/controls",
      "model_module_version": "2.0.0",
      "model_name": "SliderStyleModel",
      "state": {
       "description_width": ""
      }
     },
     "7aa11c11507c4291a96151d8aba13679": {
      "model_module": "@jupyter-widgets/controls",
      "model_module_version": "2.0.0",
      "model_name": "SliderStyleModel",
      "state": {
       "description_width": ""
      }
     },
     "7b25984a55ac418f819470d104e610d1": {
      "model_module": "@jupyter-widgets/base",
      "model_module_version": "2.0.0",
      "model_name": "LayoutModel",
      "state": {}
     },
     "7be6c3e70991457f8ff980603da1ce74": {
      "model_module": "@jupyter-widgets/controls",
      "model_module_version": "2.0.0",
      "model_name": "FloatSliderModel",
      "state": {
       "behavior": "drag-tap",
       "continuous_update": false,
       "description": "$d_s$:",
       "layout": "IPY_MODEL_6cbac7e5819b43bbbbeb933d48e759b2",
       "min": -100,
       "step": 0.1,
       "style": "IPY_MODEL_5d8757950e52489e9c267fd409531c6a"
      }
     },
     "7c90fb08909844c786654bc42b86624e": {
      "model_module": "@jupyter-widgets/controls",
      "model_module_version": "2.0.0",
      "model_name": "CheckboxStyleModel",
      "state": {
       "description_width": ""
      }
     },
     "7d50a73a753f468dac24f39aa9ce6f82": {
      "model_module": "@jupyter-widgets/controls",
      "model_module_version": "2.0.0",
      "model_name": "CheckboxModel",
      "state": {
       "description": "Show costs",
       "disabled": false,
       "layout": "IPY_MODEL_86ae7433dc644ea48c4ab819c4bd80b4",
       "style": "IPY_MODEL_bef7171a637d4ed0899fa687d6489ec1",
       "value": true
      }
     },
     "7de448650f0e44cfb45f29eb57c3f9cc": {
      "model_module": "@jupyter-widgets/base",
      "model_module_version": "2.0.0",
      "model_name": "LayoutModel",
      "state": {}
     },
     "7fe342f0d08240298cae3179d0bf83f6": {
      "model_module": "@jupyter-widgets/controls",
      "model_module_version": "2.0.0",
      "model_name": "FloatSliderModel",
      "state": {
       "behavior": "drag-tap",
       "continuous_update": false,
       "description": "$c_d$:",
       "layout": "IPY_MODEL_0a958f52fbf04c049305548958525332",
       "min": -100,
       "step": 0.1,
       "style": "IPY_MODEL_cc10a9c7dae544bf82e77ab8df23b465",
       "value": 50
      }
     },
     "8171a7a837ae44e1ad23bbda11b4db8c": {
      "model_module": "@jupyter-widgets/output",
      "model_module_version": "1.0.0",
      "model_name": "OutputModel",
      "state": {
       "layout": "IPY_MODEL_9ec547a87ed14948904e6bd1173f780f",
       "outputs": [
        {
         "data": {
          "image/png": "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",
          "text/plain": "<Figure size 2000x1000 with 2 Axes>"
         },
         "metadata": {},
         "output_type": "display_data"
        }
       ]
      }
     },
     "83490569a720473ca52ee75791f978e3": {
      "model_module": "@jupyter-widgets/base",
      "model_module_version": "2.0.0",
      "model_name": "LayoutModel",
      "state": {}
     },
     "84e59f4a1ca14f66bfc7ab4f339ad284": {
      "model_module": "@jupyter-widgets/controls",
      "model_module_version": "2.0.0",
      "model_name": "SliderStyleModel",
      "state": {
       "description_width": ""
      }
     },
     "85480712d2a242688ac6c628aa9857d4": {
      "model_module": "@jupyter-widgets/base",
      "model_module_version": "2.0.0",
      "model_name": "LayoutModel",
      "state": {}
     },
     "858301e3f0b34a99a91d34f68467b8a8": {
      "model_module": "@jupyter-widgets/base",
      "model_module_version": "2.0.0",
      "model_name": "LayoutModel",
      "state": {}
     },
     "86ae7433dc644ea48c4ab819c4bd80b4": {
      "model_module": "@jupyter-widgets/base",
      "model_module_version": "2.0.0",
      "model_name": "LayoutModel",
      "state": {}
     },
     "8787eeab70054ffe97b27a7367e81417": {
      "model_module": "@jupyter-widgets/controls",
      "model_module_version": "2.0.0",
      "model_name": "FloatSliderModel",
      "state": {
       "behavior": "drag-tap",
       "continuous_update": false,
       "description": "$a_d$:",
       "layout": "IPY_MODEL_61403ea6f71a4edfa3a842ccb064d3a9",
       "max": 10,
       "step": 0.1,
       "style": "IPY_MODEL_30bdc94568d2462db453d38491373783",
       "value": 2
      }
     },
     "87da4f06e9df4553aece4f52af8293f8": {
      "model_module": "@jupyter-widgets/base",
      "model_module_version": "2.0.0",
      "model_name": "LayoutModel",
      "state": {}
     },
     "88da915316d24ec6866ead7c7982372f": {
      "model_module": "@jupyter-widgets/base",
      "model_module_version": "2.0.0",
      "model_name": "LayoutModel",
      "state": {}
     },
     "8bf7e520c1594f9f976262330ece6bbd": {
      "model_module": "@jupyter-widgets/controls",
      "model_module_version": "2.0.0",
      "model_name": "FloatSliderModel",
      "state": {
       "behavior": "drag-tap",
       "continuous_update": false,
       "description": "$d_s$:",
       "layout": "IPY_MODEL_23b08aaf9eee4f2f9a671c141e4f79ef",
       "min": -100,
       "step": 0.1,
       "style": "IPY_MODEL_4da6496abaf04a4b9b9758820d8292fd"
      }
     },
     "8c9148cfa38f46a5a0ac289415331341": {
      "model_module": "@jupyter-widgets/base",
      "model_module_version": "2.0.0",
      "model_name": "LayoutModel",
      "state": {}
     },
     "8de5b1ff20354afd9b0abd74e3de0952": {
      "model_module": "@jupyter-widgets/base",
      "model_module_version": "2.0.0",
      "model_name": "LayoutModel",
      "state": {}
     },
     "8f3e194a855947bfb703116f2c36f8bc": {
      "model_module": "@jupyter-widgets/base",
      "model_module_version": "2.0.0",
      "model_name": "LayoutModel",
      "state": {}
     },
     "92275c9e75d948818125b80c86d56aa1": {
      "model_module": "@jupyter-widgets/base",
      "model_module_version": "2.0.0",
      "model_name": "LayoutModel",
      "state": {}
     },
     "9241313b5ee546568a0421f56a7d1567": {
      "model_module": "@jupyter-widgets/controls",
      "model_module_version": "2.0.0",
      "model_name": "SliderStyleModel",
      "state": {
       "description_width": ""
      }
     },
     "9542b2194c8b4c15bcf758b40f64caa5": {
      "model_module": "@jupyter-widgets/controls",
      "model_module_version": "2.0.0",
      "model_name": "CheckboxModel",
      "state": {
       "description": "Show revenue",
       "disabled": false,
       "layout": "IPY_MODEL_fa562e4010164b8bb1724f35bf2af43b",
       "style": "IPY_MODEL_05a1f9e3fec745c6a983c9136fc617cb",
       "value": true
      }
     },
     "9a34a15f7ee34a48a4c66f9cae60789c": {
      "model_module": "@jupyter-widgets/base",
      "model_module_version": "2.0.0",
      "model_name": "LayoutModel",
      "state": {}
     },
     "9bbb3b365d094ceda0b6f6e1e155e8de": {
      "model_module": "@jupyter-widgets/controls",
      "model_module_version": "2.0.0",
      "model_name": "VBoxModel",
      "state": {
       "children": [
        "IPY_MODEL_d3a394132c2d469ba55ab5ecbb6655c9",
        "IPY_MODEL_6f1b836023ce41fabf99358548fc60ec",
        "IPY_MODEL_6982630f8cd94995a6c45e3c5926af4e",
        "IPY_MODEL_5bb78aa7846140b4a65d4042902b21ce"
       ],
       "layout": "IPY_MODEL_34cfde17db4a48a4ba8d3bde553e6043"
      }
     },
     "9be65e1e57a94568826c25a9248932e0": {
      "model_module": "@jupyter-widgets/controls",
      "model_module_version": "2.0.0",
      "model_name": "HBoxModel",
      "state": {
       "children": [
        "IPY_MODEL_3c442caa473240d7930ddfa0ab3383a7",
        "IPY_MODEL_4db2a79e7c1748558de3095d4dbbf94d",
        "IPY_MODEL_0e3f43b96fed4efc8c44c2fae4dbf45c",
        "IPY_MODEL_9cbc167b28a04258b40820bfaa675113"
       ],
       "layout": "IPY_MODEL_b31a4259da5a4aaf9f7d7d58c9a17338"
      }
     },
     "9cbc167b28a04258b40820bfaa675113": {
      "model_module": "@jupyter-widgets/controls",
      "model_module_version": "2.0.0",
      "model_name": "FloatSliderModel",
      "state": {
       "behavior": "drag-tap",
       "continuous_update": false,
       "description": "$d_s$:",
       "layout": "IPY_MODEL_0864b52b2a854a279ec261718a882f91",
       "min": -100,
       "step": 0.1,
       "style": "IPY_MODEL_51a2388748ee4296b484d6bd2e738435"
      }
     },
     "9cc885fb043640d8bbfa988f5df2323b": {
      "model_module": "@jupyter-widgets/controls",
      "model_module_version": "2.0.0",
      "model_name": "IntSliderModel",
      "state": {
       "behavior": "drag-tap",
       "continuous_update": false,
       "description": "Maximum $Q$:",
       "layout": "IPY_MODEL_8c9148cfa38f46a5a0ac289415331341",
       "max": 50,
       "min": 5,
       "style": "IPY_MODEL_cb55a58ee61b48c68b493181ce17ba02",
       "value": 8
      }
     },
     "9e33166b09aa44bc82db4fcbd9d1574e": {
      "model_module": "@jupyter-widgets/base",
      "model_module_version": "2.0.0",
      "model_name": "LayoutModel",
      "state": {}
     },
     "9e7edf2b11294d419883fa1469ae9104": {
      "model_module": "@jupyter-widgets/controls",
      "model_module_version": "2.0.0",
      "model_name": "HBoxModel",
      "state": {
       "children": [
        "IPY_MODEL_8787eeab70054ffe97b27a7367e81417",
        "IPY_MODEL_dd89f8e31234488a9131a460f9d7d63f",
        "IPY_MODEL_178f266054254f19a7edf82ab9d2bd42"
       ],
       "layout": "IPY_MODEL_b19f55f9463245b1883cc4a118fbaabb"
      }
     },
     "9ec547a87ed14948904e6bd1173f780f": {
      "model_module": "@jupyter-widgets/base",
      "model_module_version": "2.0.0",
      "model_name": "LayoutModel",
      "state": {}
     },
     "a2f613b37d18459685be0f6469b83ad5": {
      "model_module": "@jupyter-widgets/controls",
      "model_module_version": "2.0.0",
      "model_name": "VBoxModel",
      "state": {
       "children": [
        "IPY_MODEL_cee74e213c424711b8aa85915f6cc8e7",
        "IPY_MODEL_5e631509f40f4baf9cacda0e3b8cc9cf",
        "IPY_MODEL_158879aaea3d4fd4b2736b20e3b15cab",
        "IPY_MODEL_9be65e1e57a94568826c25a9248932e0"
       ],
       "layout": "IPY_MODEL_bd3a178928e44c0a99761a695d3d5175"
      }
     },
     "a3c9681a63ec42eea48112b62f138e3d": {
      "model_module": "@jupyter-widgets/base",
      "model_module_version": "2.0.0",
      "model_name": "LayoutModel",
      "state": {}
     },
     "a41972013387466d9a30cb4f515a7346": {
      "model_module": "@jupyter-widgets/base",
      "model_module_version": "2.0.0",
      "model_name": "LayoutModel",
      "state": {}
     },
     "a8868183eb0f4fa49338f66621110231": {
      "model_module": "@jupyter-widgets/controls",
      "model_module_version": "2.0.0",
      "model_name": "HBoxModel",
      "state": {
       "children": [
        "IPY_MODEL_63ac2cf3c2bc4b0694760e1ec96f32a6",
        "IPY_MODEL_09de3bef9fa840688736084bddb4abd1",
        "IPY_MODEL_7fe342f0d08240298cae3179d0bf83f6"
       ],
       "layout": "IPY_MODEL_565ed2dee7f8449abd23f5692f92f3a7"
      }
     },
     "a8cfbee459fe42bda45cdbb59773b92b": {
      "model_module": "@jupyter-widgets/base",
      "model_module_version": "2.0.0",
      "model_name": "LayoutModel",
      "state": {}
     },
     "ab84bdf183874f73a2ee51a2fa539a9c": {
      "model_module": "@jupyter-widgets/controls",
      "model_module_version": "2.0.0",
      "model_name": "CheckboxStyleModel",
      "state": {
       "description_width": ""
      }
     },
     "ac648f5f1609482da068af8a44338437": {
      "model_module": "@jupyter-widgets/controls",
      "model_module_version": "2.0.0",
      "model_name": "FloatSliderModel",
      "state": {
       "behavior": "drag-tap",
       "continuous_update": false,
       "description": "$c_s$:",
       "layout": "IPY_MODEL_e8a60f53f35e4cbda0d1a558aec0f1a1",
       "min": -100,
       "step": 0.1,
       "style": "IPY_MODEL_bb0d72befb0643178989c326bd6164f5",
       "value": 10
      }
     },
     "adb8e534845647ed8dfc48f13244f2ee": {
      "model_module": "@jupyter-widgets/controls",
      "model_module_version": "2.0.0",
      "model_name": "SliderStyleModel",
      "state": {
       "description_width": ""
      }
     },
     "ae883794dbf94c61bd9bc798f82c7912": {
      "model_module": "@jupyter-widgets/controls",
      "model_module_version": "2.0.0",
      "model_name": "SliderStyleModel",
      "state": {
       "description_width": ""
      }
     },
     "aec12c0ae6a34d438c58f1e56691ea81": {
      "model_module": "@jupyter-widgets/base",
      "model_module_version": "2.0.0",
      "model_name": "LayoutModel",
      "state": {}
     },
     "af8315c508fa4cdfbf5e093cfd874848": {
      "model_module": "@jupyter-widgets/base",
      "model_module_version": "2.0.0",
      "model_name": "LayoutModel",
      "state": {}
     },
     "afaa6e7bdf8947b69431d086bfd6b115": {
      "model_module": "@jupyter-widgets/controls",
      "model_module_version": "2.0.0",
      "model_name": "FloatSliderModel",
      "state": {
       "behavior": "drag-tap",
       "continuous_update": false,
       "description": "$a_s$:",
       "layout": "IPY_MODEL_cc3b7d13d71c4b649d53f74a0318f5c4",
       "max": 10,
       "step": 0.1,
       "style": "IPY_MODEL_0c8ddfeaf68d420a8a6082844979003d",
       "value": 1
      }
     },
     "b09f6e11e16b4f688fd1982e7686bcae": {
      "model_module": "@jupyter-widgets/base",
      "model_module_version": "2.0.0",
      "model_name": "LayoutModel",
      "state": {}
     },
     "b19f55f9463245b1883cc4a118fbaabb": {
      "model_module": "@jupyter-widgets/base",
      "model_module_version": "2.0.0",
      "model_name": "LayoutModel",
      "state": {}
     },
     "b276e29429b64aec9ad5657c1ffd6a4c": {
      "model_module": "@jupyter-widgets/base",
      "model_module_version": "2.0.0",
      "model_name": "LayoutModel",
      "state": {}
     },
     "b307b15950a441b5961ed8be3aa9cf3f": {
      "model_module": "@jupyter-widgets/controls",
      "model_module_version": "2.0.0",
      "model_name": "CheckboxModel",
      "state": {
       "description": "Show costs",
       "disabled": false,
       "layout": "IPY_MODEL_4255ccac01474d55a17fae51c8515043",
       "style": "IPY_MODEL_404206c2ba0a4bb6b5aa257d1401a82c",
       "value": false
      }
     },
     "b31a4259da5a4aaf9f7d7d58c9a17338": {
      "model_module": "@jupyter-widgets/base",
      "model_module_version": "2.0.0",
      "model_name": "LayoutModel",
      "state": {}
     },
     "b46fb46719c04f1c92231c44f086bf17": {
      "model_module": "@jupyter-widgets/controls",
      "model_module_version": "2.0.0",
      "model_name": "CheckboxStyleModel",
      "state": {
       "description_width": ""
      }
     },
     "b4c9da9293e949b883872cd1e971083e": {
      "model_module": "@jupyter-widgets/controls",
      "model_module_version": "2.0.0",
      "model_name": "HBoxModel",
      "state": {
       "children": [
        "IPY_MODEL_73393e7883b94e40b3a18757751d9beb",
        "IPY_MODEL_5fd572c62d4646c38953106d52d04122",
        "IPY_MODEL_bd211bea61ac4afdab5203757388c785"
       ],
       "layout": "IPY_MODEL_a8cfbee459fe42bda45cdbb59773b92b"
      }
     },
     "b633f30291fd4560969816374a68084b": {
      "model_module": "@jupyter-widgets/controls",
      "model_module_version": "2.0.0",
      "model_name": "SliderStyleModel",
      "state": {
       "description_width": ""
      }
     },
     "b8d424d4063e4ed9be7660ed3b4db7e0": {
      "model_module": "@jupyter-widgets/base",
      "model_module_version": "2.0.0",
      "model_name": "LayoutModel",
      "state": {}
     },
     "b9a83bcde9844c1e824005832cbd4258": {
      "model_module": "@jupyter-widgets/base",
      "model_module_version": "2.0.0",
      "model_name": "LayoutModel",
      "state": {}
     },
     "bb0d72befb0643178989c326bd6164f5": {
      "model_module": "@jupyter-widgets/controls",
      "model_module_version": "2.0.0",
      "model_name": "SliderStyleModel",
      "state": {
       "description_width": ""
      }
     },
     "bb371b4d906747cdbf265cd16aff0262": {
      "model_module": "@jupyter-widgets/controls",
      "model_module_version": "2.0.0",
      "model_name": "HBoxModel",
      "state": {
       "children": [
        "IPY_MODEL_1272b012c8ed4989b136943ccec6e956",
        "IPY_MODEL_6634e58801a743ef80492ac154ee132b",
        "IPY_MODEL_6a0124a4cafd4e42b296a205d7e82a12"
       ],
       "layout": "IPY_MODEL_60c49e59f40849dca176cc0a75500a8e"
      }
     },
     "bca377f5682646408669b09c6d9d0f58": {
      "model_module": "@jupyter-widgets/base",
      "model_module_version": "2.0.0",
      "model_name": "LayoutModel",
      "state": {}
     },
     "bd191aa512bf4bdfaf668ab0c81dfe5d": {
      "model_module": "@jupyter-widgets/controls",
      "model_module_version": "2.0.0",
      "model_name": "HBoxModel",
      "state": {
       "children": [
        "IPY_MODEL_2ed0d75b7eea41bfa5542e492d4fd7a1",
        "IPY_MODEL_00ae0d1cc71e4795b55bbff264f99729",
        "IPY_MODEL_fac98a53cdbf40bea368dca12b021826"
       ],
       "layout": "IPY_MODEL_858301e3f0b34a99a91d34f68467b8a8"
      }
     },
     "bd211bea61ac4afdab5203757388c785": {
      "model_module": "@jupyter-widgets/controls",
      "model_module_version": "2.0.0",
      "model_name": "CheckboxModel",
      "state": {
       "description": "Show costs",
       "disabled": false,
       "layout": "IPY_MODEL_85480712d2a242688ac6c628aa9857d4",
       "style": "IPY_MODEL_d86c5379660d4f6fac4fbc09edc01236",
       "value": true
      }
     },
     "bd3a178928e44c0a99761a695d3d5175": {
      "model_module": "@jupyter-widgets/base",
      "model_module_version": "2.0.0",
      "model_name": "LayoutModel",
      "state": {}
     },
     "bec1f2b5fcbc406fb6c203241da1b56a": {
      "model_module": "@jupyter-widgets/base",
      "model_module_version": "2.0.0",
      "model_name": "LayoutModel",
      "state": {}
     },
     "bef7171a637d4ed0899fa687d6489ec1": {
      "model_module": "@jupyter-widgets/controls",
      "model_module_version": "2.0.0",
      "model_name": "CheckboxStyleModel",
      "state": {
       "description_width": ""
      }
     },
     "bf6b329b542d45b18b4ddea0439f8d54": {
      "model_module": "@jupyter-widgets/controls",
      "model_module_version": "2.0.0",
      "model_name": "SliderStyleModel",
      "state": {
       "description_width": ""
      }
     },
     "c07888387bda439895d2888fb200b29f": {
      "model_module": "@jupyter-widgets/controls",
      "model_module_version": "2.0.0",
      "model_name": "SliderStyleModel",
      "state": {
       "description_width": ""
      }
     },
     "c0e315ce2a73460f98bec1c751d0510c": {
      "model_module": "@jupyter-widgets/base",
      "model_module_version": "2.0.0",
      "model_name": "LayoutModel",
      "state": {}
     },
     "c1df4cd68ce74e388ae793f3258a01c2": {
      "model_module": "@jupyter-widgets/controls",
      "model_module_version": "2.0.0",
      "model_name": "FloatSliderModel",
      "state": {
       "behavior": "drag-tap",
       "continuous_update": false,
       "description": "$d_s$:",
       "layout": "IPY_MODEL_5a6e9b41678645499c78fb562c23a0cc",
       "min": -100,
       "step": 0.1,
       "style": "IPY_MODEL_333ee306dd464782966d6bb7f02753dc"
      }
     },
     "c2f5ac97737e4951a0defa255834d3d4": {
      "model_module": "@jupyter-widgets/controls",
      "model_module_version": "2.0.0",
      "model_name": "FloatSliderModel",
      "state": {
       "behavior": "drag-tap",
       "continuous_update": false,
       "description": "$c_s$:",
       "layout": "IPY_MODEL_79e6306c90844ccca5fd54c9722ed522",
       "min": -100,
       "step": 0.1,
       "style": "IPY_MODEL_f385afba179e4faf957a5d93e7d06e31",
       "value": 10
      }
     },
     "c63048fd636b4d7fb89fc5431f5b3962": {
      "model_module": "@jupyter-widgets/base",
      "model_module_version": "2.0.0",
      "model_name": "LayoutModel",
      "state": {}
     },
     "c77d0b32e7a74b938adc250b650a11b7": {
      "model_module": "@jupyter-widgets/controls",
      "model_module_version": "2.0.0",
      "model_name": "SliderStyleModel",
      "state": {
       "description_width": ""
      }
     },
     "c8776e89ba4b48f1919fd4f20f6bd108": {
      "model_module": "@jupyter-widgets/base",
      "model_module_version": "2.0.0",
      "model_name": "LayoutModel",
      "state": {}
     },
     "caa8362a74e040e3848706a1fa5143a6": {
      "model_module": "@jupyter-widgets/controls",
      "model_module_version": "2.0.0",
      "model_name": "SliderStyleModel",
      "state": {
       "description_width": ""
      }
     },
     "cb55a58ee61b48c68b493181ce17ba02": {
      "model_module": "@jupyter-widgets/controls",
      "model_module_version": "2.0.0",
      "model_name": "SliderStyleModel",
      "state": {
       "description_width": ""
      }
     },
     "cc10a9c7dae544bf82e77ab8df23b465": {
      "model_module": "@jupyter-widgets/controls",
      "model_module_version": "2.0.0",
      "model_name": "SliderStyleModel",
      "state": {
       "description_width": ""
      }
     },
     "cc3b7d13d71c4b649d53f74a0318f5c4": {
      "model_module": "@jupyter-widgets/base",
      "model_module_version": "2.0.0",
      "model_name": "LayoutModel",
      "state": {}
     },
     "cc77e773df5146ae8a558f8305ae9c3b": {
      "model_module": "@jupyter-widgets/base",
      "model_module_version": "2.0.0",
      "model_name": "LayoutModel",
      "state": {}
     },
     "ccc5dbe9cdc848578e81ee50a5fcd4f1": {
      "model_module": "@jupyter-widgets/controls",
      "model_module_version": "2.0.0",
      "model_name": "VBoxModel",
      "state": {
       "children": [
        "IPY_MODEL_08b11a6b6ac54e2aa3179a6cca2dec11",
        "IPY_MODEL_5939fe80e1b0406f90c72102382e3029",
        "IPY_MODEL_9e7edf2b11294d419883fa1469ae9104",
        "IPY_MODEL_4bbd64fab0fa40998752b33601b63d68"
       ],
       "layout": "IPY_MODEL_bca377f5682646408669b09c6d9d0f58"
      }
     },
     "cd2db30512a14a0aafaaf52b570f5b67": {
      "model_module": "@jupyter-widgets/base",
      "model_module_version": "2.0.0",
      "model_name": "LayoutModel",
      "state": {}
     },
     "cdef766c962c44199c0ec202e5ec07c8": {
      "model_module": "@jupyter-widgets/controls",
      "model_module_version": "2.0.0",
      "model_name": "SliderStyleModel",
      "state": {
       "description_width": ""
      }
     },
     "cee74e213c424711b8aa85915f6cc8e7": {
      "model_module": "@jupyter-widgets/output",
      "model_module_version": "1.0.0",
      "model_name": "OutputModel",
      "state": {
       "layout": "IPY_MODEL_457082cd6b0c4dd3a166b362dde2a373",
       "outputs": [
        {
         "data": {
          "image/png": "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",
          "text/plain": "<Figure size 2000x1000 with 2 Axes>"
         },
         "metadata": {},
         "output_type": "display_data"
        }
       ]
      }
     },
     "cf749397b5864e52888d167ba333c122": {
      "model_module": "@jupyter-widgets/controls",
      "model_module_version": "2.0.0",
      "model_name": "HBoxModel",
      "state": {
       "children": [
        "IPY_MODEL_507aa33c71fa4fb89fe6e9cc4430e1a9",
        "IPY_MODEL_47b1fd5455e8482aa485a3ea0c41a527",
        "IPY_MODEL_c2f5ac97737e4951a0defa255834d3d4",
        "IPY_MODEL_7be6c3e70991457f8ff980603da1ce74"
       ],
       "layout": "IPY_MODEL_87da4f06e9df4553aece4f52af8293f8"
      }
     },
     "cf758b91e7524074a132e1c12cdd52b5": {
      "model_module": "@jupyter-widgets/base",
      "model_module_version": "2.0.0",
      "model_name": "LayoutModel",
      "state": {}
     },
     "d36c57ec8517417d8e739481aec981ce": {
      "model_module": "@jupyter-widgets/base",
      "model_module_version": "2.0.0",
      "model_name": "LayoutModel",
      "state": {}
     },
     "d3a394132c2d469ba55ab5ecbb6655c9": {
      "model_module": "@jupyter-widgets/output",
      "model_module_version": "1.0.0",
      "model_name": "OutputModel",
      "state": {
       "layout": "IPY_MODEL_7857cdbece6347a5abc5a3fac4874f2a",
       "outputs": [
        {
         "data": {
          "image/png": "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",
          "text/plain": "<Figure size 2000x1000 with 2 Axes>"
         },
         "metadata": {},
         "output_type": "display_data"
        }
       ]
      }
     },
     "d437b698e665418a8b4bdb964ba34843": {
      "model_module": "@jupyter-widgets/base",
      "model_module_version": "2.0.0",
      "model_name": "LayoutModel",
      "state": {}
     },
     "d5e88e76d7c7484988253679eda4626e": {
      "model_module": "@jupyter-widgets/controls",
      "model_module_version": "2.0.0",
      "model_name": "ToggleButtonStyleModel",
      "state": {
       "description_width": "",
       "font_family": null,
       "font_size": null,
       "font_style": null,
       "font_variant": null,
       "font_weight": null,
       "text_color": null,
       "text_decoration": null
      }
     },
     "d86c5379660d4f6fac4fbc09edc01236": {
      "model_module": "@jupyter-widgets/controls",
      "model_module_version": "2.0.0",
      "model_name": "CheckboxStyleModel",
      "state": {
       "description_width": ""
      }
     },
     "d89794d2f049438c8a0f558a25c5a2ef": {
      "model_module": "@jupyter-widgets/base",
      "model_module_version": "2.0.0",
      "model_name": "LayoutModel",
      "state": {}
     },
     "d8c9427c12fb437da8137ab74687c7a6": {
      "model_module": "@jupyter-widgets/base",
      "model_module_version": "2.0.0",
      "model_name": "LayoutModel",
      "state": {}
     },
     "d9240f836ef44283b641bd0e305448b8": {
      "model_module": "@jupyter-widgets/base",
      "model_module_version": "2.0.0",
      "model_name": "LayoutModel",
      "state": {}
     },
     "da294c53778d4a70b3aca1ba492e51a1": {
      "model_module": "@jupyter-widgets/controls",
      "model_module_version": "2.0.0",
      "model_name": "FloatSliderModel",
      "state": {
       "behavior": "drag-tap",
       "continuous_update": false,
       "description": "$b_d$:",
       "layout": "IPY_MODEL_f3431f8d777b4ac289a1c1f5e00e80c3",
       "max": 50,
       "min": -50,
       "step": 0.1,
       "style": "IPY_MODEL_3324f9ae290a41778e0a09133e36d301",
       "value": 5
      }
     },
     "daca22d3855643a589829102104e5eb7": {
      "model_module": "@jupyter-widgets/base",
      "model_module_version": "2.0.0",
      "model_name": "LayoutModel",
      "state": {}
     },
     "dd89f8e31234488a9131a460f9d7d63f": {
      "model_module": "@jupyter-widgets/controls",
      "model_module_version": "2.0.0",
      "model_name": "FloatSliderModel",
      "state": {
       "behavior": "drag-tap",
       "continuous_update": false,
       "description": "$b_d$:",
       "layout": "IPY_MODEL_6041ef7dccc14ec68afe865a5dad5a7d",
       "max": 50,
       "min": -50,
       "step": 0.1,
       "style": "IPY_MODEL_fbb68313900743f59a97083c627523fb",
       "value": 5
      }
     },
     "e20b8ddf4253438a9f4df6950dfc079d": {
      "model_module": "@jupyter-widgets/controls",
      "model_module_version": "2.0.0",
      "model_name": "SliderStyleModel",
      "state": {
       "description_width": ""
      }
     },
     "e4f00d21f30240dcb9acb3dcbecb8dc6": {
      "model_module": "@jupyter-widgets/controls",
      "model_module_version": "2.0.0",
      "model_name": "SliderStyleModel",
      "state": {
       "description_width": ""
      }
     },
     "e5fd7a33ffd4435896cab5f0120caf35": {
      "model_module": "@jupyter-widgets/output",
      "model_module_version": "1.0.0",
      "model_name": "OutputModel",
      "state": {
       "layout": "IPY_MODEL_83490569a720473ca52ee75791f978e3"
      }
     },
     "e63f191af94b434b9435ccbb34e66b6a": {
      "model_module": "@jupyter-widgets/base",
      "model_module_version": "2.0.0",
      "model_name": "LayoutModel",
      "state": {}
     },
     "e82168319b0f438bbb37f4e9ff90895f": {
      "model_module": "@jupyter-widgets/controls",
      "model_module_version": "2.0.0",
      "model_name": "SliderStyleModel",
      "state": {
       "description_width": ""
      }
     },
     "e8a60f53f35e4cbda0d1a558aec0f1a1": {
      "model_module": "@jupyter-widgets/base",
      "model_module_version": "2.0.0",
      "model_name": "LayoutModel",
      "state": {}
     },
     "ebae2cf04d834135bddd50e8338b665f": {
      "model_module": "@jupyter-widgets/controls",
      "model_module_version": "2.0.0",
      "model_name": "IntSliderModel",
      "state": {
       "behavior": "drag-tap",
       "continuous_update": false,
       "description": "Maximum $Q$:",
       "layout": "IPY_MODEL_a41972013387466d9a30cb4f515a7346",
       "max": 50,
       "min": 5,
       "style": "IPY_MODEL_f5b8efbfcf5b43bea2fd4fbebd3cf357",
       "value": 8
      }
     },
     "ed4f4332e37c4e79ba239687d1a090cd": {
      "model_module": "@jupyter-widgets/controls",
      "model_module_version": "2.0.0",
      "model_name": "FloatSliderModel",
      "state": {
       "behavior": "drag-tap",
       "continuous_update": false,
       "description": "$a_s$:",
       "layout": "IPY_MODEL_3ef309e915564e6388b5cb2d3ba92b8f",
       "max": 10,
       "step": 0.1,
       "style": "IPY_MODEL_31e33761161d4186a7d8bbd1b193f265",
       "value": 1
      }
     },
     "ed78e51e59494a86b9c2bc5f182e0fcc": {
      "model_module": "@jupyter-widgets/controls",
      "model_module_version": "2.0.0",
      "model_name": "CheckboxModel",
      "state": {
       "description": "Show revenue",
       "disabled": false,
       "layout": "IPY_MODEL_3270a1fffdfb4f598ff4acf5b2ebce0a",
       "style": "IPY_MODEL_1205f9531f354a2fbcc0ef66c1ac0942",
       "value": true
      }
     },
     "ee811d42e8964d3a8168154c3a2910bd": {
      "model_module": "@jupyter-widgets/controls",
      "model_module_version": "2.0.0",
      "model_name": "SliderStyleModel",
      "state": {
       "description_width": ""
      }
     },
     "efdb7ad4e2da4ed893fbe5eca8c1a47e": {
      "model_module": "@jupyter-widgets/base",
      "model_module_version": "2.0.0",
      "model_name": "LayoutModel",
      "state": {}
     },
     "f0ad81d4eaf24ff1be18f407324762bb": {
      "model_module": "@jupyter-widgets/base",
      "model_module_version": "2.0.0",
      "model_name": "LayoutModel",
      "state": {}
     },
     "f1163487fc4e40b7883bfa8ad5144129": {
      "model_module": "@jupyter-widgets/controls",
      "model_module_version": "2.0.0",
      "model_name": "SliderStyleModel",
      "state": {
       "description_width": ""
      }
     },
     "f12598e6237841d58846654618757b1b": {
      "model_module": "@jupyter-widgets/base",
      "model_module_version": "2.0.0",
      "model_name": "LayoutModel",
      "state": {}
     },
     "f3431f8d777b4ac289a1c1f5e00e80c3": {
      "model_module": "@jupyter-widgets/base",
      "model_module_version": "2.0.0",
      "model_name": "LayoutModel",
      "state": {}
     },
     "f385afba179e4faf957a5d93e7d06e31": {
      "model_module": "@jupyter-widgets/controls",
      "model_module_version": "2.0.0",
      "model_name": "SliderStyleModel",
      "state": {
       "description_width": ""
      }
     },
     "f434dbc1f06f46c289f8efb87a10fad3": {
      "model_module": "@jupyter-widgets/base",
      "model_module_version": "2.0.0",
      "model_name": "LayoutModel",
      "state": {}
     },
     "f5b3652ef7634acf86864886051abb9a": {
      "model_module": "@jupyter-widgets/controls",
      "model_module_version": "2.0.0",
      "model_name": "CheckboxStyleModel",
      "state": {
       "description_width": ""
      }
     },
     "f5b8efbfcf5b43bea2fd4fbebd3cf357": {
      "model_module": "@jupyter-widgets/controls",
      "model_module_version": "2.0.0",
      "model_name": "SliderStyleModel",
      "state": {
       "description_width": ""
      }
     },
     "f65d0501245c4b21b6660e8c124d9855": {
      "model_module": "@jupyter-widgets/controls",
      "model_module_version": "2.0.0",
      "model_name": "CheckboxModel",
      "state": {
       "description": "Show costs",
       "disabled": false,
       "layout": "IPY_MODEL_31ef7fefbe22412fb8395e19342697df",
       "style": "IPY_MODEL_b46fb46719c04f1c92231c44f086bf17",
       "value": false
      }
     },
     "fa562e4010164b8bb1724f35bf2af43b": {
      "model_module": "@jupyter-widgets/base",
      "model_module_version": "2.0.0",
      "model_name": "LayoutModel",
      "state": {}
     },
     "fabf24b57c75401f9afa31c1e509842c": {
      "model_module": "@jupyter-widgets/base",
      "model_module_version": "2.0.0",
      "model_name": "LayoutModel",
      "state": {}
     },
     "fac98a53cdbf40bea368dca12b021826": {
      "model_module": "@jupyter-widgets/controls",
      "model_module_version": "2.0.0",
      "model_name": "FloatSliderModel",
      "state": {
       "behavior": "drag-tap",
       "continuous_update": false,
       "description": "$c_d$:",
       "layout": "IPY_MODEL_e63f191af94b434b9435ccbb34e66b6a",
       "min": -100,
       "step": 0.1,
       "style": "IPY_MODEL_618bc02052f645eb85e5bcc8bb1d1a19",
       "value": 50
      }
     },
     "fbb68313900743f59a97083c627523fb": {
      "model_module": "@jupyter-widgets/controls",
      "model_module_version": "2.0.0",
      "model_name": "SliderStyleModel",
      "state": {
       "description_width": ""
      }
     },
     "fcbd18a4d1a74d119671af886db8f159": {
      "model_module": "@jupyter-widgets/output",
      "model_module_version": "1.0.0",
      "model_name": "OutputModel",
      "state": {
       "layout": "IPY_MODEL_523e16e0d4f644149af2335fb5d51268"
      }
     },
     "fd89e087b35d43e0807f20b68b74257c": {
      "model_module": "@jupyter-widgets/controls",
      "model_module_version": "2.0.0",
      "model_name": "FloatSliderModel",
      "state": {
       "behavior": "drag-tap",
       "continuous_update": false,
       "description": "$a_d$:",
       "layout": "IPY_MODEL_cd2db30512a14a0aafaaf52b570f5b67",
       "max": 10,
       "step": 0.1,
       "style": "IPY_MODEL_ee811d42e8964d3a8168154c3a2910bd",
       "value": 2
      }
     },
     "feab1e6fe63944e6b1e0874e1bc0f84d": {
      "model_module": "@jupyter-widgets/controls",
      "model_module_version": "2.0.0",
      "model_name": "FloatSliderModel",
      "state": {
       "behavior": "drag-tap",
       "continuous_update": false,
       "description": "$c_d$:",
       "layout": "IPY_MODEL_545fc6a8966f4914842c6456e32e1210",
       "min": -100,
       "step": 0.1,
       "style": "IPY_MODEL_7a5c44725a48451eae8ede7f40dfe071",
       "value": 50
      }
     }
    },
    "version_major": 2,
    "version_minor": 0
   }
  }
 },
 "nbformat": 4,
 "nbformat_minor": 4
}
