{
 "cells": [
  {
   "cell_type": "code",
   "execution_count": 1,
   "metadata": {},
   "outputs": [],
   "source": [
    "import ipywidgets as widgets\n",
    "import matplotlib.pyplot as plt\n",
    "import numpy as np\n",
    "from matplotlib import rcParams\n",
    "from IPython.display import display, HTML\n",
    "\n",
    "javascript_functions = {False: \"hide()\", True: \"show()\"}\n",
    "button_descriptions  = {False: \"Click to show code\", True: \"Click to hide code\"}\n",
    "\n",
    "def toggle_code(state):\n",
    "    \"\"\"\n",
    "    Toggles the JavaScript show()/hide() function on the div.input element.\n",
    "    \"\"\"\n",
    "\n",
    "    output_string = \"<script>$(\\\"div.input\\\").{}</script>\"\n",
    "    output_args   = (javascript_functions[state],)\n",
    "    output        = output_string.format(*output_args)\n",
    "\n",
    "    display(HTML(output))\n",
    "    \n",
    "def button_action(value):\n",
    "    \"\"\"\n",
    "    Calls the toggle_code function and updates the button description.\n",
    "    \"\"\"\n",
    "    state = value.new\n",
    "\n",
    "    toggle_code(state)\n",
    "\n",
    "    value.owner.description = button_descriptions[state]\n",
    "\n",
    "def Elasticities_widget(Qmax_init = 15, Pmax_init = 30, Qval_init = 5, a_d_init = 2,\n",
    "    b_d_init = 25, a_s_init = 2, b_s_init = -3, Dflag_init = True, Sflag_init = False):\n",
    "        \n",
    "    # Declare widgets for interactive input\n",
    "    Qmax_slider = widgets.IntSlider(min=5,\n",
    "                                 max=1000,\n",
    "                                 step=1,\n",
    "                                 description=r'Maximum $Q$:',\n",
    "                                 value = Qmax_init,\n",
    "                                 continuous_update =True)\n",
    "    Pmax_slider = widgets.IntSlider(min=5,\n",
    "                                 max=1000,\n",
    "                                 step=1,\n",
    "                                 description=r'Maximum $P$:',\n",
    "                                 value = Pmax_init,\n",
    "                                 continuous_update =True)\n",
    "    Qval_slider = widgets.FloatSlider(min=0.001,\n",
    "                                 max=15,\n",
    "                                 description='Pick a Quantity:',\n",
    "                                 value = Qval_init,\n",
    "                                 continuous_update = True)\n",
    "    a_d_slider = widgets.FloatSlider(min=0.001,\n",
    "                                 max=100,\n",
    "                                 description= r'$a_d$:',\n",
    "                                 value = a_d_init,\n",
    "                                 continuous_update =True)\n",
    "    b_d_slider = widgets.FloatSlider(min=0,\n",
    "                                 max=1000,\n",
    "                                 description= r'$b_d$:',\n",
    "                                 value=b_d_init,\n",
    "                                 continuous_update =True)\n",
    "    a_s_slider = widgets.FloatSlider(min=0.001,\n",
    "                                 max=100,\n",
    "                                 description= r'$a_s$:',\n",
    "                                 value = a_s_init,\n",
    "                                 continuous_update =True)\n",
    "    b_s_slider = widgets.FloatSlider(min=-1000,\n",
    "                                 max=1000,\n",
    "                                 description= r'$b_s$:',\n",
    "                                 value = b_s_init,\n",
    "                                 continuous_update =True)\n",
    "    Dflag_check = widgets.Checkbox(value = Dflag_init,\n",
    "                                   description='Include Demand',\n",
    "                                   disabled=False,\n",
    "                                   indent=True) \n",
    "    Sflag_check = widgets.Checkbox(value = Sflag_init,\n",
    "                                   description='Include Supply',\n",
    "                                   disabled=False,\n",
    "                                   indent=True)\n",
    "    \n",
    "    # Link widgets as required\n",
    "    widgets.jslink((Qmax_slider,'value'),(Qval_slider,'max'))\n",
    "    widgets.jslink((b_d_slider,'value'),(b_s_slider,'max'))\n",
    "\n",
    "    def elasticity_plot(Qmax, Pmax, Qval, a_d, b_d, a_s, b_s, Dflag, Sflag):\n",
    "\n",
    "        # create a quantity vector, calculate supply/demand vectors\n",
    "        Q = np.arange(0,Qmax)\n",
    "        P_s = a_s*Q + b_s\n",
    "        P_d = -a_d*Q + b_d\n",
    "\n",
    "        # Calculate equilibrium quantity/price\n",
    "        Qeq = (b_d-b_s)/(a_s + a_d)\n",
    "        Peq = a_s*Qeq + b_s\n",
    "\n",
    "        # Calculate prices for selected value\n",
    "        Pval_s = a_s*Qval + b_s\n",
    "        Pval_d = -a_d*Qval + b_d\n",
    "\n",
    "        # Create figure, plot supply/demand\n",
    "        fig, ax = plt.subplots(figsize=(20,10))\n",
    "        if Sflag is True:\n",
    "            ax.plot(Q, P_s,'r', linewidth=2, alpha=0.6,\n",
    "                    label=r'Inverse Supply $\\quad P_s = a_s Q + b_s$')\n",
    "        if Dflag is True:\n",
    "            ax.plot(Q, P_d,'b', linewidth=2, alpha=0.6,\n",
    "                    label=r'Inverse Demand $\\quad P_d = -a_d Q + b_d$')\n",
    "\n",
    "        # Add markers for the price/quantity points, with dotted lines\n",
    "        mrkrSize = 2*rcParams['lines.markersize'] ** 2\n",
    "        if Sflag is True and Dflag is True:\n",
    "            ax.scatter(Qeq, Peq, s=mrkrSize, c='k', label='Equilibrium')       \n",
    "            ax.scatter(Qval, Pval_s, s=mrkrSize, c='k', alpha=0.6, \n",
    "                       label='Selection')\n",
    "            ax.scatter(Qval, Pval_d, s=mrkrSize, c='k', alpha=0.6)\n",
    "\n",
    "            ax.plot([Qeq,Qeq],[0,Peq],'k--',linewidth=1)\n",
    "            ax.plot([0,Qeq],[Peq,Peq],'k--',linewidth=1)\n",
    "            ax.plot([0,Qval],[Pval_d,Pval_d],'k--',linewidth=1)\n",
    "            ax.plot([Qval,Qval],[0,max(Pval_s,Pval_d)],'k--',linewidth=1)\n",
    "            ax.plot([0,Qval],[Pval_s,Pval_s],'k--',linewidth=1)\n",
    "            ax.annotate(r'$Q^*$',[Qeq,0], xytext = [Qeq+0.15,0.25], \n",
    "                        xycoords ='data', fontsize = 25, clip_on = True)\n",
    "            ax.annotate(r'$P^*$',[0,Peq], xytext = [0.15,Peq+0.25], \n",
    "                        xycoords ='data', fontsize = 25, clip_on = True)\n",
    "            ax.annotate(r'$Q$',[Qval,0], xytext = [Qval+0.15,0.25], \n",
    "                        xycoords ='data', fontsize = 25, clip_on = True)\n",
    "            ax.annotate(r'$P_s$',[0,Pval_s], xytext = [0.15,Pval_s+0.25], \n",
    "                        xycoords ='data', fontsize = 25, clip_on = True)\n",
    "            ax.annotate(r'$P_d$',[0,Pval_d], xytext = [0.15,Pval_d+0.25], \n",
    "                        xycoords ='data', fontsize = 25, clip_on = True)\n",
    "\n",
    "        elif Sflag is True and Dflag is False:\n",
    "            ax.scatter(Qval, Pval_s, s=mrkrSize, c='k', alpha=0.6, \n",
    "                       label='Selection')\n",
    "            ax.plot([0,Qval],[Pval_s,Pval_s],'k--',linewidth=1)\n",
    "            ax.plot([Qval,Qval],[0,Pval_s],'k--',linewidth=1)    \n",
    "            ax.annotate(r'$Q$',[Qval,0], xytext = [Qval+0.15,0.25], \n",
    "                        xycoords ='data', fontsize = 25, clip_on = True)\n",
    "            ax.annotate(r'$P_s$',[0,Pval_s], xytext = [0.15,Pval_s+0.25], \n",
    "                        xycoords ='data', fontsize = 25, clip_on = True)\n",
    "\n",
    "        elif Sflag is False and Dflag is True:\n",
    "            ax.scatter(Qval, Pval_d, s=mrkrSize, c='k', alpha=0.6, \n",
    "                       label='Selection')\n",
    "            ax.plot([0,Qval],[Pval_d,Pval_d],'k--',linewidth=1)\n",
    "            ax.plot([Qval,Qval],[0,Pval_d],'k--',linewidth=1)\n",
    "            ax.annotate(r'$Q$',[Qval,0], xytext = [Qval+0.15,0.25], \n",
    "                        xycoords ='data', fontsize = 25, clip_on = True)\n",
    "            ax.annotate(r'$P_d$',[0,Pval_d], xytext = [0.15,Pval_d+0.25], \n",
    "                        xycoords ='data', fontsize = 25, clip_on = True)\n",
    "\n",
    "        # Add elasticity annotations\n",
    "        if Sflag is True:\n",
    "            EsStr = r'$E_p^S = {:.2f}$'.format(Pval_s/(Qval*a_s))\n",
    "            ax.annotate(EsStr,[Qval,Pval_s],\n",
    "                        xytext = [Qval+0.25,Pval_s-1], \n",
    "                        xycoords ='data',\n",
    "                        fontsize = 25,\n",
    "                        clip_on = True)\n",
    "        if Dflag is True:\n",
    "            EdStr = r'$E_p^D = {:.2f}$'.format(-Pval_d/(Qval*a_d))\n",
    "            ax.annotate(EdStr,[Qval,Pval_d],\n",
    "                        xytext = [Qval+0.25,Pval_d],\n",
    "                        xycoords ='data',\n",
    "                        fontsize = 25,\n",
    "                        clip_on = True)\n",
    "\n",
    "        # Add legend and format axes to look nice\n",
    "        if Sflag is True or Dflag is True:\n",
    "            ax.legend(loc='upper center', frameon=False,prop={'size':20})\n",
    "        ax.autoscale(enable=True, axis='both', tight=True)\n",
    "        ax.set_ylim(top = Pmax, bottom = 0)\n",
    "        ax.set_xlim(right = Qmax, left = 0)\n",
    "        ax.spines['top'].set_visible(False)\n",
    "        ax.spines['right'].set_visible(False)\n",
    "        ax.set_xlabel(r'$Q$', fontdict = {'fontsize': 25},position=(1, 0))\n",
    "        ax.set_ylabel(r'$P$', fontdict = {'fontsize': 25},position=(0, 1), rotation=0)\n",
    "        ax.plot(1, 0, \">k\", transform=ax.get_yaxis_transform(), clip_on=False)\n",
    "        ax.plot(0, 1, \"^k\", transform=ax.get_xaxis_transform(), clip_on=False)\n",
    "        plt.tick_params(labelsize=20)\n",
    "        plt.tight_layout()\n",
    "    \n",
    "    out = widgets.interactive_output(elasticity_plot, {'Qmax': Qmax_slider,\n",
    "                                                       'Pmax': Pmax_slider,\n",
    "                                                       'Qval': Qval_slider, \n",
    "                                                       'a_d': a_d_slider,\n",
    "                                                       'b_d': b_d_slider,\n",
    "                                                       'a_s': a_s_slider, \n",
    "                                                       'b_s': b_s_slider, \n",
    "                                                       'Dflag': Dflag_check,\n",
    "                                                       'Sflag': Sflag_check})\n",
    "\n",
    "    output = widgets.VBox([out,\n",
    "                  widgets.HBox([Qval_slider,\n",
    "                               Qmax_slider,\n",
    "                               Pmax_slider]),\n",
    "                  widgets.HBox([Dflag_check, \n",
    "                                a_d_slider, \n",
    "                                b_d_slider]),\n",
    "                  widgets.HBox([Sflag_check, \n",
    "                                a_s_slider, \n",
    "                                b_s_slider])])\n",
    "    display(output)\n"
   ]
  },
  {
   "cell_type": "code",
   "execution_count": 2,
   "metadata": {},
   "outputs": [
    {
     "data": {
      "text/html": [
       "<script>$(\"div.input\").hide()</script>"
      ],
      "text/plain": [
       "<IPython.core.display.HTML object>"
      ]
     },
     "metadata": {},
     "output_type": "display_data"
    },
    {
     "data": {
      "application/vnd.jupyter.widget-view+json": {
       "model_id": "7c2227e937aa4b1bba4c384cbdd918bf",
       "version_major": 2,
       "version_minor": 0
      },
      "text/plain": [
       "ToggleButton(value=False, description='Click to show code')"
      ]
     },
     "metadata": {},
     "output_type": "display_data"
    }
   ],
   "source": [
    "state = False\n",
    "toggle_code(state)\n",
    "\n",
    "button = widgets.ToggleButton(state, description = button_descriptions[state])\n",
    "button.observe(button_action, \"value\")\n",
    "\n",
    "display(button)"
   ]
  },
  {
   "cell_type": "markdown",
   "metadata": {},
   "source": [
    "### Elasticities: An application of linear functions in economics"
   ]
  },
  {
   "cell_type": "code",
   "execution_count": 3,
   "metadata": {
    "scrolled": false
   },
   "outputs": [
    {
     "data": {
      "application/vnd.jupyter.widget-view+json": {
       "model_id": "4386aef56f77412fa8011c2751e3ef84",
       "version_major": 2,
       "version_minor": 0
      },
      "text/plain": [
       "VBox(children=(Output(), HBox(children=(FloatSlider(value=5.0, description='Pick a Quantity:', max=15.0, min=0…"
      ]
     },
     "metadata": {},
     "output_type": "display_data"
    }
   ],
   "source": [
    "Elasticities_widget()"
   ]
  },
  {
   "cell_type": "markdown",
   "metadata": {},
   "source": [
    "Blah Blah Example of an 'inelastic' market. Note that the elasticities *still change* on the curves if you check the quantities"
   ]
  },
  {
   "cell_type": "code",
   "execution_count": 4,
   "metadata": {},
   "outputs": [
    {
     "data": {
      "application/vnd.jupyter.widget-view+json": {
       "model_id": "60618e395f594a9ab519f82782352c77",
       "version_major": 2,
       "version_minor": 0
      },
      "text/plain": [
       "VBox(children=(Output(), HBox(children=(FloatSlider(value=3.3, description='Pick a Quantity:', max=15.0, min=0…"
      ]
     },
     "metadata": {},
     "output_type": "display_data"
    }
   ],
   "source": [
    "Elasticities_widget(Qmax_init = 15, Pmax_init = 30, Qval_init = 3.3, a_d_init = 75,\n",
    "    b_d_init = 275, a_s_init = 50, b_s_init = -150, Dflag_init = True, Sflag_init = True)"
   ]
  },
  {
   "cell_type": "markdown",
   "metadata": {},
   "source": [
    "Blah Blah Elastic this time"
   ]
  },
  {
   "cell_type": "code",
   "execution_count": 5,
   "metadata": {},
   "outputs": [
    {
     "data": {
      "application/vnd.jupyter.widget-view+json": {
       "model_id": "dc9d6c5625f6422eb4093ccd9c8894dc",
       "version_major": 2,
       "version_minor": 0
      },
      "text/plain": [
       "VBox(children=(Output(), HBox(children=(FloatSlider(value=6.0, description='Pick a Quantity:', max=15.0, min=0…"
      ]
     },
     "metadata": {},
     "output_type": "display_data"
    }
   ],
   "source": [
    "Elasticities_widget(Qmax_init = 15, Pmax_init = 30, Qval_init = 6, a_d_init = 0.5,\n",
    "    b_d_init = 22, a_s_init = 0.75, b_s_init = 10, Dflag_init = True, Sflag_init = True)"
   ]
  },
  {
   "cell_type": "code",
   "execution_count": null,
   "metadata": {},
   "outputs": [],
   "source": []
  }
 ],
 "metadata": {
  "kernelspec": {
   "display_name": "Python 3",
   "language": "python",
   "name": "python3"
  },
  "language_info": {
   "codemirror_mode": {
    "name": "ipython",
    "version": 3
   },
   "file_extension": ".py",
   "mimetype": "text/x-python",
   "name": "python",
   "nbconvert_exporter": "python",
   "pygments_lexer": "ipython3",
   "version": "3.7.6"
  }
 },
 "nbformat": 4,
 "nbformat_minor": 4
}
