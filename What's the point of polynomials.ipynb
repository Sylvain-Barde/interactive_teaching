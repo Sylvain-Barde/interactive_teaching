{
 "cells": [
  {
   "cell_type": "markdown",
   "metadata": {},
   "source": [
    "Click the button below if you want to see the code behind the widgets. If you do click  and want to go back to the 'no-code' view, scroll down until you find the 'hide code' button."
   ]
  },
  {
   "cell_type": "code",
   "execution_count": 1,
   "metadata": {},
   "outputs": [],
   "source": [
    "\"\"\"\n",
    "MIT License\n",
    "\n",
    "Copyright (c) 2020 Sylvain Barde - University of Kent\n",
    "\n",
    "Permission is hereby granted, free of charge, to any person obtaining a copy\n",
    "of this software and associated documentation files (the \"Software\"), to deal\n",
    "in the Software without restriction, including without limitation the rights\n",
    "to use, copy, modify, merge, publish, distribute, sublicense, and/or sell\n",
    "copies of the Software, and to permit persons to whom the Software is\n",
    "furnished to do so, subject to the following conditions:\n",
    "\n",
    "The above copyright notice and this permission notice shall be included in all\n",
    "copies or substantial portions of the Software.\n",
    "\n",
    "THE SOFTWARE IS PROVIDED \"AS IS\", WITHOUT WARRANTY OF ANY KIND, EXPRESS OR\n",
    "IMPLIED, INCLUDING BUT NOT LIMITED TO THE WARRANTIES OF MERCHANTABILITY,\n",
    "FITNESS FOR A PARTICULAR PURPOSE AND NONINFRINGEMENT. IN NO EVENT SHALL THE\n",
    "AUTHORS OR COPYRIGHT HOLDERS BE LIABLE FOR ANY CLAIM, DAMAGES OR OTHER\n",
    "LIABILITY, WHETHER IN AN ACTION OF CONTRACT, TORT OR OTHERWISE, ARISING FROM,\n",
    "OUT OF OR IN CONNECTION WITH THE SOFTWARE OR THE USE OR OTHER DEALINGS IN THE\n",
    "SOFTWARE.\n",
    "\"\"\"\n",
    "\n",
    "import ipywidgets as widgets\n",
    "import matplotlib.pyplot as plt\n",
    "import numpy as np\n",
    "from matplotlib import rcParams\n",
    "from IPython.display import display, HTML\n",
    "\n",
    "javascript_functions = {False: \"hide()\", True: \"show()\"}\n",
    "button_descriptions  = {False: \"Click to show code\", True: \"Click to hide code\"}\n",
    "\n",
    "def toggle_code(state):\n",
    "    \"\"\"\n",
    "    Toggles the JavaScript show()/hide() function on the div.input element.\n",
    "    \"\"\"\n",
    "\n",
    "    output_string = \"<script>$(\\\"div.input\\\").{}</script>\"\n",
    "    output_args   = (javascript_functions[state],)\n",
    "    output        = output_string.format(*output_args)\n",
    "\n",
    "    display(HTML(output))\n",
    "    \n",
    "def button_action(value):\n",
    "    \"\"\"\n",
    "    Calls the toggle_code function and updates the button description.\n",
    "    \"\"\"\n",
    "    state = value.new\n",
    "\n",
    "    toggle_code(state)\n",
    "\n",
    "    value.owner.description = button_descriptions[state]\n",
    "\n",
    "def taylor_widget(xMin_init = -6, xMax_init = 6, yMin_init = -1.5, yMax_init = 1.5, \n",
    "                  func_init = 'Sine', numTerms_init = 6):\n",
    "\n",
    "    # Declare widgets for interactive input\n",
    "    xMin_slider = widgets.FloatSlider(min=-1000,\n",
    "                                 max=1000,\n",
    "                                 description=r'Min $x$:',\n",
    "                                 value = xMin_init,\n",
    "                                 continuous_update =False)\n",
    "    xMax_slider = widgets.FloatSlider(min=-1000,\n",
    "                                 max=1000,\n",
    "                                 description=r'Max $x$:',\n",
    "                                 value = xMax_init,\n",
    "                                 continuous_update =False)\n",
    "    yMin_slider = widgets.FloatSlider(min=-1000,\n",
    "                                 max=1000,\n",
    "                                 description=r'Min $y$:',\n",
    "                                 value = yMin_init,\n",
    "                                 continuous_update =False)\n",
    "    yMax_slider = widgets.FloatSlider(min=-1000,\n",
    "                                 max=1000,\n",
    "                                 description=r'Max $y$:',\n",
    "                                 value = yMax_init,\n",
    "                                 continuous_update =False)\n",
    "    func_list = widgets.Dropdown(options=['Exponential', 'Logarithm', 'Sine'],\n",
    "                                value = func_init,\n",
    "                                description=r'Pick function:',\n",
    "                                disabled=False)\n",
    "    numTerms_slider = widgets.IntSlider(min=1,\n",
    "                                 max=24,\n",
    "                                 description=r'N° of terms:',\n",
    "                                 value = numTerms_init,\n",
    "                                 continuous_update =False)\n",
    "    \n",
    "    # Link widgets as required\n",
    "    widgets.jslink((xMin_slider,'value'),(xMax_slider,'min'))\n",
    "    widgets.jslink((xMax_slider,'value'),(xMin_slider,'max'))\n",
    "    widgets.jslink((yMin_slider,'value'),(yMax_slider,'min'))\n",
    "    widgets.jslink((yMax_slider,'value'),(yMin_slider,'max'))\n",
    "\n",
    "    def taylor_plot(xMin, xMax, yMin, yMax, func, numTerms):\n",
    "\n",
    "        # Prepare dicts of log functions and color codes\n",
    "        labels = {'Exponential':'e^x',\n",
    "                  'Logarithm':'ln(x)',\n",
    "                  'Sine':'sin(x)'}\n",
    "        \n",
    "        funcDict = {'Exponential': lambda x: np.exp(x),\n",
    "                   'Logarithm': lambda x: np.log(x.clip(1e-6)),\n",
    "                   'Sine': lambda x: np.sin(x)}\n",
    "\n",
    "        taylorDict = {'Exponential': lambda x,n: (x**n)/np.math.factorial(n),\n",
    "                   'Logarithm': lambda x,n: ((-1)**(n+1))*((x-1)**n)/n if n > 0 else 0,\n",
    "                   'Sine': lambda x,n: ((-1)**n)*(x**(2*n+1))/np.math.factorial(2*n+1)}\n",
    "\n",
    "        colors = ['b','r','g','m','c','y',\n",
    "                  'b--','r--','g--','m--','c--','y--',\n",
    "                  'b:','r:','g:','m:','c:','y:',\n",
    "                  'b-.','r-.','g-.','m-.','c-.','y-.']\n",
    "\n",
    "        # Create an 'x' vector\n",
    "        x = np.arange(xMin,xMax,(xMax-xMin)/500)\n",
    "\n",
    "        # Create figure, calculate and plot Taylor function for each term added\n",
    "        fig, ax = plt.subplots(figsize=(20,10))\n",
    "\n",
    "        yTaylor = np.zeros(len(x))\n",
    "        for n in range(numTerms):         \n",
    "            taylorTerm = np.asarray(\n",
    "                            np.clip(taylorDict[func](x,n), -1000, 1000), \n",
    "                            dtype = np.double)\n",
    "            yTaylor += taylorTerm\n",
    "            ax.plot(x, yTaylor,colors[n], linewidth=2, alpha=0.6, \n",
    "                    label='Term {:d}'.format(n))\n",
    "\n",
    "        y = funcDict[func](x)\n",
    "        ax.plot(x, y,'k', linewidth=2, label=r'$\\quad y = {:s}$'.format(labels[func]))\n",
    "\n",
    "        # Add legend and format axes to look nice\n",
    "        ax.legend(loc='lower center', frameon=False,prop={'size':20},ncol=6,\n",
    "                   bbox_to_anchor=(0.5, -0.25))\n",
    "\n",
    "        ax.autoscale(enable=True, axis='both', tight=True)\n",
    "        ax.set_ylim(top = yMax, bottom = yMin)\n",
    "        ax.set_xlim(right = xMax, left = xMin)\n",
    "        \n",
    "        if yMin > 0:\n",
    "            ax.spines['bottom'].set_position(('data',yMin))\n",
    "        elif yMax < 0:\n",
    "            ax.spines['bottom'].set_position(('data',yMax))\n",
    "        else:       \n",
    "            ax.spines['bottom'].set_position('zero')\n",
    "        ax.spines['top'].set_visible(False)\n",
    "        if xMin > 0:\n",
    "            ax.spines['left'].set_position(('data',xMin))\n",
    "        elif xMax < 0:\n",
    "            ax.spines['left'].set_position(('data',xMax))\n",
    "        else:\n",
    "            ax.spines['left'].set_position('zero')\n",
    "        ax.spines['right'].set_visible(False)\n",
    "        ax.set_xlabel(r'$x$', fontdict = {'fontsize': 25},position=(1, 0))\n",
    "        ax.set_ylabel(r'$y$', fontdict = {'fontsize': 25},position=(0, 1), rotation=0)\n",
    "        ax.plot(1, 0, \">k\", transform=ax.get_yaxis_transform(), clip_on=False)\n",
    "        ax.plot(0, 1, \"^k\", transform=ax.get_xaxis_transform(), clip_on=False)\n",
    "        plt.tick_params(labelsize=20)\n",
    "        plt.tight_layout()\n",
    "    \n",
    "    out = widgets.interactive_output(taylor_plot, {'xMin': xMin_slider,\n",
    "                                                'xMax': xMax_slider,\n",
    "                                                'yMin': yMin_slider,\n",
    "                                                'yMax': yMax_slider,\n",
    "                                                'func': func_list, \n",
    "                                                'numTerms': numTerms_slider})\n",
    "\n",
    "    output = widgets.VBox([out,\n",
    "                  widgets.HBox([xMin_slider,\n",
    "                               xMax_slider,\n",
    "                               yMin_slider,\n",
    "                               yMax_slider]),\n",
    "                  widgets.HBox([func_list, \n",
    "                                numTerms_slider])])\n",
    "    display(output)    \n",
    "    "
   ]
  },
  {
   "cell_type": "code",
   "execution_count": 2,
   "metadata": {},
   "outputs": [
    {
     "data": {
      "text/html": [
       "<script>$(\"div.input\").hide()</script>"
      ],
      "text/plain": [
       "<IPython.core.display.HTML object>"
      ]
     },
     "metadata": {},
     "output_type": "display_data"
    },
    {
     "data": {
      "application/vnd.jupyter.widget-view+json": {
       "model_id": "3d8165d94cb74f31a4389af490c660ed",
       "version_major": 2,
       "version_minor": 0
      },
      "text/plain": [
       "ToggleButton(value=False, description='Click to show code')"
      ]
     },
     "metadata": {},
     "output_type": "display_data"
    }
   ],
   "source": [
    "state = False\n",
    "toggle_code(state)\n",
    "\n",
    "button = widgets.ToggleButton(state, description = button_descriptions[state])\n",
    "button.observe(button_action, \"value\")\n",
    "\n",
    "display(button)"
   ]
  },
  {
   "cell_type": "markdown",
   "metadata": {},
   "source": [
    "### Deep(er) dive: what's the point of polynomials?\n",
    "\n",
    "\n",
    "If you think back to the maths you did during your school days, you probably remember working a lot with polynomials: finding their roots, finding their turning points (locations where they switch from being upwards sloping to downward sloping, or the other way round), etc. One thing you may well have been wondering at the time, and perhaps still to this day, was: what is the point of this?? Polynomials are an important part of mathematics, so much so that they form the bread and butter of what you do in secondary school, but my experience is that while you get taught **how** to work with them, often you don't get taught **why** they are such important functions, at least not at school. So the purpose of this deeper dive is to give you some insight into the importance of polynomials.\n",
    "\n",
    "#### Wait, what's a polynomial?\n",
    "\n",
    "Before we jump in, I might need to clarify my concepts so that everyone is on the same page. A polynomial is a function $y=f(x)$ of a single variable $x$ that has the following structure:\n",
    "\n",
    "$$y = a + bx + cx^2 + dx^3 + ex^4 + ... $$\n",
    "\n",
    "Where $a,b,c,d,e,\\dots$ are parameters. So a polynomial is the sum of several terms, each of which contains $x$ raised to a different power. Each of these individual terms is called a ***mono*mial**, and the sum of all the terms is the ***poly*nomial**. This comes from the greek prefixes **mono-** and **poly-**, which respectively mean *single* and *many*.\n",
    "\n",
    "Just to be clear, the notation used above is meant to show the general case. In practice a polynomial can have a finite number of terms, and can have any powers of $x$ you want. So this means that linear functions $y=ax +b$ are polynomials, quadratic equations $y = a^2 + bx + cx$ are also polynomials, but so is $y = 10 - 4x^2 + 6x^5$, or any such sum of powers of $x$.\n",
    "\n",
    "#### Taylor polynomials as approximations of functions\n",
    "\n",
    "Now that this is out of the way, we can look at what you can do with polynomials. The concept that I want to illustrate for you in a very visual way is the idea that polynomials can be used to provide approximations to functions. Don't worry about the functions that I am using as examples. They are just there to provide good illustrations and nice diagrams, and in any case, logarithms and exponentials are something we haven't yet looked at.\n",
    "\n",
    "Instead, focus on the core idea: The three functions used here (the sine, the exponential and the logarithm) all have different shapes, yet in each case they can be approximated by a **suitable** polynomial. What we mean by suitable is that the parameters ($a$, $b$, $c$, $d$, etc. in the equation above) have to take specific values. The key trick which involves more advanced maths, of course, is how to pick those 'correct' values.\n",
    "\n",
    "I'm not going to go into detail about the method you use for selecting the parameter values, as that would definitely be too deep a dive. Instead, I want to outline the key theoretical idea, which has to do with the concept of an *analytical* function. A function is said to be *analytical* when it can be written as a polynomial. Obviously this means that polynomial functions qualify! But more interestingly, many other functions, like the ones in our diagrams, also have this property.\n",
    "\n",
    "I'm going to put below the polynomial that each of the three functions is equal to, but as I said don't worry about where the numbers come from. Instead, there are two things I want you to note.\n",
    "1. A minor thing (for clarity): some of these expressions contain an exclamation mark, this is called the factorial function. It's actually very easy to understand, it's just a compact way of writing the product of successive integers. For instance $3! = 1\\times 2 \\times 3$, or as another example $5! = 1\\times 2 \\times 3 \\times 4 \\times 5$.\n",
    "2. A major thing: In all cases, the polynomials are *infinite* in length, so they are actually a series which converges towards the value of the function in a given interval. The specific series linked to each function is called its Taylor series, named after English mathematician Brook Taylor, who came up with the systematic method for finding them in 1715. He was not the first to work with these ideas, mathematicians in 14th century India had already discovered much of these properties of polynomial series. Taylor did prove the theorem, however, so got the credit. (In another twist, the series below are also often called *Maclaurin* series, after the Scottish mathematician who worked on them as special cases of the more general Taylor theorem... Ideas in maths rarely have a clean attribution!)\n",
    "\n",
    "For the sine function, the Taylor series is:\n",
    "\n",
    "$$\\sin(x) = x - \\frac{x^3}{3!} + \\frac{x^5}{5!} - \\frac{x^7}{7!} + \\frac{x^9}{9!} - \\dots$$\n",
    "\n",
    "For the exponential, it is:\n",
    "\n",
    "$$e^x = 1 + x + \\frac{x^2}{2!} + \\frac{x^3}{3!} + \\frac{x^4}{4!} + \\frac{x^5}{5!} + \\dots$$\n",
    "\n",
    "and finally, for the natural logarithm we have:\n",
    "\n",
    "$$\\ln x = x - \\frac{(x-1)^2}{2} + \\frac{(x-1)^3}{3} - \\frac{(x-1)^4}{4} + \\frac{(x-1)^5}{5} - \\dots$$\n",
    "\n",
    "So the first important idea is that lots of important mathematical functions have this important property that can be written using an infinite series. In practice, obviously, you can't actually calculate these infinite sums! This is where the second idea comes in. If you stop the series after a certain number of terms, what you have is:\n",
    "1. A finite polynomial that you can actually calculate and \n",
    "2. A function that *approximates* the initial function (around $x=0$ for the sine and exponential, around $x=1$ for the logarithm). So the full, infinite series is called the Taylor **series**, while the finite polynomial is called the Taylor **polynomial**. As you will see from the diagrams below, the more terms you include, the better the approximation.\n",
    "\n",
    "\n",
    "### Taylor polynomials for the sine function\n",
    "\n",
    "The first example, below, is what you get for the sine function. As you can see, the polynomial made up of the first 6 terms works pretty well between -4 to 4. You can include up to 24 terms if you want, as well as change the bounds of the diagram so feel free to play around and see how extra terms extend the range of this approximation.\n"
   ]
  },
  {
   "cell_type": "code",
   "execution_count": 7,
   "metadata": {
    "scrolled": false
   },
   "outputs": [
    {
     "data": {
      "application/vnd.jupyter.widget-view+json": {
       "model_id": "1f50699b2a79402ab6a7f79da8537eae",
       "version_major": 2,
       "version_minor": 0
      },
      "text/plain": [
       "VBox(children=(Output(), HBox(children=(FloatSlider(value=-6.0, continuous_update=False, description='Min $x$:…"
      ]
     },
     "metadata": {},
     "output_type": "display_data"
    }
   ],
   "source": [
    "taylor_widget()"
   ]
  },
  {
   "cell_type": "markdown",
   "metadata": {},
   "source": [
    "### Taylor polynomials for the exponential function\n",
    "\n",
    "Here is the same idea, but this time for the exponential function. I've put 12 terms initially, so that you can see how the approximation behaves differently for positive and negative $x$. For negative $x$, you get a very pretty herringbone pattern, where each successive term improves the approximation a bit then diverges alternatively up or down. You can add more terms if you want to see the pattern continue."
   ]
  },
  {
   "cell_type": "code",
   "execution_count": 3,
   "metadata": {
    "scrolled": false
   },
   "outputs": [
    {
     "data": {
      "application/vnd.jupyter.widget-view+json": {
       "model_id": "e60c648161cc4bae8c7e880926a4b955",
       "version_major": 2,
       "version_minor": 0
      },
      "text/plain": [
       "VBox(children=(Output(), HBox(children=(FloatSlider(value=-6.0, continuous_update=False, description='Min $x$:…"
      ]
     },
     "metadata": {},
     "output_type": "display_data"
    }
   ],
   "source": [
    "taylor_widget(xMin_init = -6, xMax_init = 6, yMin_init = -2, yMax_init = 6, func_init = 'Exponential', numTerms_init = 12)"
   ]
  },
  {
   "cell_type": "markdown",
   "metadata": {},
   "source": [
    "The second plot focuses on the right hand side of the exponential, so that you can see that on this side of the function each extra term you add to the polynomial makes you converge closer to the true value of the function."
   ]
  },
  {
   "cell_type": "code",
   "execution_count": 4,
   "metadata": {},
   "outputs": [
    {
     "data": {
      "application/vnd.jupyter.widget-view+json": {
       "model_id": "1c8d09a2bd9b4bf3b276f3f1381b2e6e",
       "version_major": 2,
       "version_minor": 0
      },
      "text/plain": [
       "VBox(children=(Output(), HBox(children=(FloatSlider(value=0.0, continuous_update=False, description='Min $x$:'…"
      ]
     },
     "metadata": {},
     "output_type": "display_data"
    }
   ],
   "source": [
    "taylor_widget(xMin_init = 0, xMax_init = 2.5, yMin_init = 0, yMax_init = 12, func_init = 'Exponential', numTerms_init = 12)"
   ]
  },
  {
   "cell_type": "markdown",
   "metadata": {},
   "source": [
    "### Taylor polynomials for the logarithm function\n",
    "\n",
    "Moving on to the logarithm, we get something similar to the exponential, but also very different. There is up/down alternative divergence on one side and convergence on the other, but this time, the diverging up/diverging down pattern happens for positive $x$ (it was negative $x$ for the exponential), and the convergence happens on the left, as $x$ approaches 0. You can also see that for $x>2$ you never seem to gain any improvement if you add more terms. This is because the Taylor series for the logarithm only 'works' for a given interval, in this case for values of $x$ between 0 and 2!\n",
    "\n",
    "This is not really a problem, however. We haven't yet seen logarithms, but one of the properties of that function is that:\n",
    "\n",
    "$$\\ln x = -\\ln \\frac{1}{n}$$\n",
    "\n",
    "So suppose I wanted to use the Taylor polynomial to get an approximation of $\\ln 3$. Clearly, I can't directly use the approximation for $x=3$, as we've just said it doesn't work there. I can, however, find the approximate value for $x=\\frac{1}{3}$ and just flip the sign! "
   ]
  },
  {
   "cell_type": "code",
   "execution_count": 5,
   "metadata": {},
   "outputs": [
    {
     "data": {
      "application/vnd.jupyter.widget-view+json": {
       "model_id": "3cbedef3463c4cfabd9cd84576c6add4",
       "version_major": 2,
       "version_minor": 0
      },
      "text/plain": [
       "VBox(children=(Output(), HBox(children=(FloatSlider(value=-2.0, continuous_update=False, description='Min $x$:…"
      ]
     },
     "metadata": {},
     "output_type": "display_data"
    }
   ],
   "source": [
    "taylor_widget(xMin_init = -2, xMax_init = 6, yMin_init = -4, yMax_init = 4, func_init = 'Logarithm', numTerms_init = 18)"
   ]
  },
  {
   "cell_type": "markdown",
   "metadata": {},
   "source": [
    "For the left side of the logarithm (between $x=0$ and $x=1$), every extra term in the polynomial brings us closer to the true value, similar to what we saw for the exponential. The convergence does slow down very quickly, but it is there nonetheless."
   ]
  },
  {
   "cell_type": "code",
   "execution_count": 6,
   "metadata": {},
   "outputs": [
    {
     "data": {
      "application/vnd.jupyter.widget-view+json": {
       "model_id": "f7ad1f97c4a148538a393959c25d5dd1",
       "version_major": 2,
       "version_minor": 0
      },
      "text/plain": [
       "VBox(children=(Output(), HBox(children=(FloatSlider(value=-1.0, continuous_update=False, description='Min $x$:…"
      ]
     },
     "metadata": {},
     "output_type": "display_data"
    }
   ],
   "source": [
    "taylor_widget(xMin_init = -1, xMax_init = 1, yMin_init = -6, yMax_init = 0.5, func_init = 'Logarithm', numTerms_init = 24)"
   ]
  },
  {
   "cell_type": "markdown",
   "metadata": {},
   "source": [
    "#### Wrapping up: estimating unknown functions\n",
    "\n",
    "The point of these diagrams is to show you that the reason why you can often use polynomials to approximate functions is that a lot of functions have this underlying property (being *analytical*) which means that they can, in theory, be written as a polynomial! This theoretical link between polynomials and functions is what makes them so useful... \n",
    "\n",
    "In applied setting, where you might have some $(x,y)$ data for an unknown function, for which you don't have an equation, you can still fit a polynomial to that data and get an approximation of the (unknown) function. \n",
    "\n",
    "In economics in particular, this happens all the time. In practice, we don't know what demand functions, supply functions, cost functions etc. look like, but they are useful tools in our models for making predictions. What we do have is (a) lots of data  and (b) statistical techniques that allow us to estimate the best parameters to fir the data. So we can estimate the parameters of polynomial functions to get approximations of what happens in real life. A lot of what you will be doing in econometrics is exactly this! The final note I need to make is to say that we rarely use polynomials above degree 3 (so $x^3$), relying mainly on linear or quadratic relationships. Hence why this module focuses so much on those."
   ]
  }
 ],
 "metadata": {
  "kernelspec": {
   "display_name": "Python 3",
   "language": "python",
   "name": "python3"
  },
  "language_info": {
   "codemirror_mode": {
    "name": "ipython",
    "version": 3
   },
   "file_extension": ".py",
   "mimetype": "text/x-python",
   "name": "python",
   "nbconvert_exporter": "python",
   "pygments_lexer": "ipython3",
   "version": "3.8.3"
  }
 },
 "nbformat": 4,
 "nbformat_minor": 4
}
